{
 "cells": [
  {
   "cell_type": "code",
   "execution_count": 5,
   "metadata": {},
   "outputs": [],
   "source": [
    "import sys\n",
    "sys.path.append('..')\n",
    "from mp_api.client import MPRester\n",
    "from emmet.core.symmetry import CrystalSystem\n",
    "import numpy as np\n",
    "import pandas as pd\n",
    "from configs.silica import allegro\n",
    "import tqdm\n",
    "from matplotlib import pyplot as plt\n",
    "from pymatgen.analysis.local_env import CrystalNN\n",
    "from pymatgen.core.structure import Structure\n",
    "from pymatgen.symmetry.analyzer import SpacegroupAnalyzer\n",
    "import ase\n",
    "from symphony.data import input_pipeline, input_pipeline_tf, fragments\n",
    "from symphony import datatypes\n",
    "import jax.random\n",
    "import jax.numpy as jnp\n",
    "import jraph\n",
    "import tensorflow as tf\n",
    "import itertools\n",
    "import ml_collections\n",
    "import os\n",
    "import yaml\n",
    "import re\n",
    "import matscipy\n",
    "\n",
    "sys.path.append('../configs/silica/allegro.py')\n",
    "import configs.silica.allegro as allegro"
   ]
  },
  {
   "cell_type": "code",
   "execution_count": 2,
   "metadata": {},
   "outputs": [
    {
     "data": {
      "application/vnd.jupyter.widget-view+json": {
       "model_id": "ffe3017b40c6448ba2f9c99db9afc1fa",
       "version_major": 2,
       "version_minor": 0
      },
      "text/plain": [
       "Retrieving SummaryDoc documents:   0%|          | 0/343 [00:00<?, ?it/s]"
      ]
     },
     "metadata": {},
     "output_type": "display_data"
    }
   ],
   "source": [
    "# query and download data\n",
    "with MPRester(\"NA4RS6zGonPp3S3TQTSBPkzevjE3jAPt\") as mpr:\n",
    "    docs = mpr.materials.summary.search(elements=[\"Si\", \"O\"], num_elements=(2, 2))"
   ]
  },
  {
   "cell_type": "code",
   "execution_count": 21,
   "metadata": {},
   "outputs": [
    {
     "data": {
      "text/plain": [
       "Lattice\n",
       "    abc : 19.08788596382031 19.08788596382031 19.08788596382031\n",
       " angles : 90.0 90.0 90.0\n",
       " volume : 6954.621442373826\n",
       "      A : 19.08788596382031 0.0 1.1687959224041117e-15\n",
       "      B : 3.069566175286419e-15 19.08788596382031 1.1687959224041117e-15\n",
       "      C : 0.0 0.0 19.08788596382031\n",
       "    pbc : True True True"
      ]
     },
     "execution_count": 21,
     "metadata": {},
     "output_type": "execute_result"
    }
   ],
   "source": [
    "SpacegroupAnalyzer(cubic[0].structure, symprec=0.1).get_conventional_standard_structure().lattice\n",
    "# docs[0].structure.lattice"
   ]
  },
  {
   "cell_type": "code",
   "execution_count": 22,
   "metadata": {},
   "outputs": [
    {
     "name": "stderr",
     "output_type": "stream",
     "text": [
      "spglib: No point group was found (line 405, /project/src/pointgroup.c).\n",
      "spglib: Attempt 0 tolerance = 1.000000e-01 failed(line 800, /project/src/spacegroup.c).\n",
      "spglib: No point group was found (line 405, /project/src/pointgroup.c).\n",
      "spglib: Attempt 1 tolerance = 9.500000e-02 failed(line 800, /project/src/spacegroup.c).\n",
      "spglib: No point group was found (line 405, /project/src/pointgroup.c).\n",
      "spglib: Attempt 2 tolerance = 9.025000e-02 failed(line 800, /project/src/spacegroup.c).\n",
      "spglib: No point group was found (line 405, /project/src/pointgroup.c).\n",
      "spglib: Attempt 3 tolerance = 8.573750e-02 failed(line 800, /project/src/spacegroup.c).\n"
     ]
    }
   ],
   "source": [
    "cubic = []\n",
    "for d in docs:\n",
    "    sga = SpacegroupAnalyzer(d.structure, symprec=0.1)\n",
    "    if sga.get_crystal_system() == 'cubic':\n",
    "        cubic.append(sga.get_conventional_standard_structure())"
   ]
  },
  {
   "cell_type": "code",
   "execution_count": 23,
   "metadata": {},
   "outputs": [],
   "source": [
    "lattices = [ s.lattice for s in cubic]"
   ]
  },
  {
   "cell_type": "code",
   "execution_count": 24,
   "metadata": {},
   "outputs": [
    {
     "data": {
      "text/plain": [
       "[Lattice\n",
       "     abc : 19.08788596382031 19.08788596382031 19.08788596382031\n",
       "  angles : 90.0 90.0 90.0\n",
       "  volume : 6954.621442373826\n",
       "       A : 19.08788596382031 0.0 1.1687959224041117e-15\n",
       "       B : 3.069566175286419e-15 19.08788596382031 1.1687959224041117e-15\n",
       "       C : 0.0 0.0 19.08788596382031\n",
       "     pbc : True True True,\n",
       " Lattice\n",
       "     abc : 3.807044 3.807044 3.807044\n",
       "  angles : 90.0 90.0 90.0\n",
       "  volume : 55.17771207397914\n",
       "       A : 3.807044 0.0 2.331142124406568e-16\n",
       "       B : 6.12219368471554e-16 3.807044 2.331142124406568e-16\n",
       "       C : 0.0 0.0 3.807044\n",
       "     pbc : True True True,\n",
       " Lattice\n",
       "     abc : 14.8938297 14.8938297 14.8938297\n",
       "  angles : 90.0 90.0 90.0\n",
       "  volume : 3303.8410967013933\n",
       "       A : 14.8938297 0.0 9.119840434575392e-16\n",
       "       B : 2.395110488099658e-15 14.8938297 9.119840434575392e-16\n",
       "       C : 0.0 0.0 14.8938297\n",
       "     pbc : True True True,\n",
       " Lattice\n",
       "     abc : 15.552478 15.552478 15.552478\n",
       "  angles : 90.0 90.0 90.0\n",
       "  volume : 3761.8267212537953\n",
       "       A : 15.552478 0.0 9.523146200754816e-16\n",
       "       B : 2.5010292130397596e-15 15.552478 9.523146200754816e-16\n",
       "       C : 0.0 0.0 15.552478\n",
       "     pbc : True True True,\n",
       " Lattice\n",
       "     abc : 20.015576 20.015576 20.015576\n",
       "  angles : 90.0 90.0 90.0\n",
       "  volume : 8018.70576048548\n",
       "       A : 20.015576 0.0 1.225600554074529e-15\n",
       "       B : 3.218750111192409e-15 20.015576 1.225600554074529e-15\n",
       "       C : 0.0 0.0 20.015576\n",
       "     pbc : True True True,\n",
       " Lattice\n",
       "     abc : 10.795491 10.795491 10.795491\n",
       "  angles : 90.0 90.0 90.0\n",
       "  volume : 1258.1348693553516\n",
       "       A : 10.795491 0.0 6.61033174918703e-16\n",
       "       B : 1.736047359148028e-15 10.795491 6.61033174918703e-16\n",
       "       C : 0.0 0.0 10.795491\n",
       "     pbc : True True True,\n",
       " Lattice\n",
       "     abc : 13.58000242 13.58000242 13.58000242\n",
       "  angles : 90.0 90.0 90.0\n",
       "  volume : 2504.376050863302\n",
       "       A : 13.58000242 0.0 8.315353248033155e-16\n",
       "       B : 2.183830947426553e-15 13.58000242 8.315353248033155e-16\n",
       "       C : 0.0 0.0 13.58000242\n",
       "     pbc : True True True,\n",
       " Lattice\n",
       "     abc : 16.648896 16.648896 16.648896\n",
       "  angles : 90.0 90.0 90.0\n",
       "  volume : 4614.836524958514\n",
       "       A : 16.648896 0.0 1.0194508597868587e-15\n",
       "       B : 2.6773466749710754e-15 16.648896 1.0194508597868587e-15\n",
       "       C : 0.0 0.0 16.648896\n",
       "     pbc : True True True,\n",
       " Lattice\n",
       "     abc : 13.191978 13.191978 13.191978\n",
       "  angles : 90.0 90.0 90.0\n",
       "  volume : 2295.777288002131\n",
       "       A : 13.191978 0.0 8.077756816061152e-16\n",
       "       B : 2.1214318615835897e-15 13.191978 8.077756816061152e-16\n",
       "       C : 0.0 0.0 13.191978\n",
       "     pbc : True True True,\n",
       " Lattice\n",
       "     abc : 11.897679399999996 11.897679399999996 11.897679399999996\n",
       "  angles : 90.0 90.0 90.0\n",
       "  volume : 1684.173331740583\n",
       "       A : 11.897679399999996 0.0 7.285227497245699e-16\n",
       "       B : 1.9132927721731125e-15 11.897679399999996 7.285227497245699e-16\n",
       "       C : 0.0 0.0 11.897679399999996\n",
       "     pbc : True True True,\n",
       " Lattice\n",
       "     abc : 4.487931 4.487931 4.487931\n",
       "  angles : 90.0 90.0 90.0\n",
       "  volume : 90.39377291229376\n",
       "       A : 4.487931 0.0 2.74806516697209e-16\n",
       "       B : 7.217143491285916e-16 4.487931 2.74806516697209e-16\n",
       "       C : 0.0 0.0 4.487931\n",
       "     pbc : True True True,\n",
       " Lattice\n",
       "     abc : 17.946108 17.946108 17.946108\n",
       "  angles : 90.0 90.0 90.0\n",
       "  volume : 5779.773654252751\n",
       "       A : 17.946108 0.0 1.0988821859676353e-15\n",
       "       B : 2.885954274834308e-15 17.946108 1.0988821859676353e-15\n",
       "       C : 0.0 0.0 17.946108\n",
       "     pbc : True True True,\n",
       " Lattice\n",
       "     abc : 20.942316 20.942316 20.942316\n",
       "  angles : 90.0 90.0 90.0\n",
       "  volume : 9184.89350502266\n",
       "       A : 20.942316 0.0 1.2823470128066201e-15\n",
       "       B : 3.367781269628542e-15 20.942316 1.2823470128066201e-15\n",
       "       C : 0.0 0.0 20.942316\n",
       "     pbc : True True True,\n",
       " Lattice\n",
       "     abc : 24.563348 24.563348 24.563348\n",
       "  angles : 90.0 90.0 90.0\n",
       "  volume : 14820.494118442712\n",
       "       A : 24.563348 0.0 1.504071275227127e-15\n",
       "       B : 3.950087627068931e-15 24.563348 1.504071275227127e-15\n",
       "       C : 0.0 0.0 24.563348\n",
       "     pbc : True True True,\n",
       " Lattice\n",
       "     abc : 8.93923869 8.93923869 8.93923869\n",
       "  angles : 90.0 90.0 90.0\n",
       "  volume : 714.3344596364926\n",
       "       A : 8.93923869 0.0 5.473705024261339e-16\n",
       "       B : 1.4375392208254704e-15 8.93923869 5.473705024261339e-16\n",
       "       C : 0.0 0.0 8.93923869\n",
       "     pbc : True True True,\n",
       " Lattice\n",
       "     abc : 8.91698266 8.91698266 8.91698266\n",
       "  angles : 90.0 90.0 90.0\n",
       "  volume : 709.0122949605577\n",
       "       A : 8.91698266 0.0 5.460077136310726e-16\n",
       "       B : 1.4339601782319822e-15 8.91698266 5.460077136310726e-16\n",
       "       C : 0.0 0.0 8.91698266\n",
       "     pbc : True True True,\n",
       " Lattice\n",
       "     abc : 15.292466 15.292466 15.292466\n",
       "  angles : 90.0 90.0 90.0\n",
       "  volume : 3576.2887027294214\n",
       "       A : 15.292466 0.0 9.363934768984864e-16\n",
       "       B : 2.4592160944009872e-15 15.292466 9.363934768984864e-16\n",
       "       C : 0.0 0.0 15.292466\n",
       "     pbc : True True True,\n",
       " Lattice\n",
       "     abc : 10.76382 10.76382 10.76382\n",
       "  angles : 90.0 90.0 90.0\n",
       "  volume : 1247.0942583944152\n",
       "       A : 10.76382 0.0 6.590938854799132e-16\n",
       "       B : 1.7309542739042374e-15 10.76382 6.590938854799132e-16\n",
       "       C : 0.0 0.0 10.76382\n",
       "     pbc : True True True,\n",
       " Lattice\n",
       "     abc : 12.646489 12.646489 12.646489\n",
       "  angles : 90.0 90.0 90.0\n",
       "  volume : 2022.5995757784617\n",
       "       A : 12.646489 0.0 7.743741137151106e-16\n",
       "       B : 2.0337105399786435e-15 12.646489 7.743741137151106e-16\n",
       "       C : 0.0 0.0 12.646489\n",
       "     pbc : True True True,\n",
       " Lattice\n",
       "     abc : 7.081751960000001 7.081751960000001 7.081751960000001\n",
       "  angles : 90.0 90.0 90.0\n",
       "  volume : 355.1584355418975\n",
       "       A : 7.081751960000001 0.0 4.336322435084748e-16\n",
       "       B : 1.1388325726267914e-15 7.081751960000001 4.336322435084748e-16\n",
       "       C : 0.0 0.0 7.081751960000001\n",
       "     pbc : True True True,\n",
       " Lattice\n",
       "     abc : 8.793326 8.793326 8.793326\n",
       "  angles : 90.0 90.0 90.0\n",
       "  volume : 679.9226719388113\n",
       "       A : 8.793326 0.0 5.384359269879599e-16\n",
       "       B : 1.4140746706590458e-15 8.793326 5.384359269879599e-16\n",
       "       C : 0.0 0.0 8.793326\n",
       "     pbc : True True True,\n",
       " Lattice\n",
       "     abc : 11.566592 11.566592 11.566592\n",
       "  angles : 90.0 90.0 90.0\n",
       "  volume : 1547.4486613608635\n",
       "       A : 11.566592 0.0 7.082494934921691e-16\n",
       "       B : 1.8600498574768583e-15 11.566592 7.082494934921691e-16\n",
       "       C : 0.0 0.0 11.566592\n",
       "     pbc : True True True,\n",
       " Lattice\n",
       "     abc : 10.179758 10.179758 10.179758\n",
       "  angles : 90.0 90.0 90.0\n",
       "  volume : 1054.9025966661304\n",
       "       A : 10.179758 0.0 6.233304025397331e-16\n",
       "       B : 1.6370299408026935e-15 10.179758 6.233304025397331e-16\n",
       "       C : 0.0 0.0 10.179758\n",
       "     pbc : True True True,\n",
       " Lattice\n",
       "     abc : 22.008082 22.008082 22.008082\n",
       "  angles : 90.0 90.0 90.0\n",
       "  volume : 10659.739375563693\n",
       "       A : 22.008082 0.0 1.347606358833624e-15\n",
       "       B : 3.539169514014069e-15 22.008082 1.347606358833624e-15\n",
       "       C : 0.0 0.0 22.008082\n",
       "     pbc : True True True,\n",
       " Lattice\n",
       "     abc : 14.284006159999999 14.284006159999999 14.284006159999999\n",
       "  angles : 90.0 90.0 90.0\n",
       "  volume : 2914.406228829108\n",
       "       A : 14.284006159999999 0.0 8.746431211422537e-16\n",
       "       B : 2.2970433834016595e-15 14.284006159999999 8.746431211422537e-16\n",
       "       C : 0.0 0.0 14.284006159999999\n",
       "     pbc : True True True,\n",
       " Lattice\n",
       "     abc : 13.53296248 13.53296248 13.53296248\n",
       "  angles : 90.0 90.0 90.0\n",
       "  volume : 2478.4412760206155\n",
       "       A : 13.53296248 0.0 8.286549592056614e-16\n",
       "       B : 2.1762663481312102e-15 13.53296248 8.286549592056614e-16\n",
       "       C : 0.0 0.0 13.53296248\n",
       "     pbc : True True True,\n",
       " Lattice\n",
       "     abc : 20.533838 20.533838 20.533838\n",
       "  angles : 90.0 90.0 90.0\n",
       "  volume : 8657.856715374863\n",
       "       A : 20.533838 0.0 1.2573349490455144e-15\n",
       "       B : 3.30209299725908e-15 20.533838 1.2573349490455144e-15\n",
       "       C : 0.0 0.0 20.533838\n",
       "     pbc : True True True,\n",
       " Lattice\n",
       "     abc : 13.083924000000001 13.083924000000001 13.083924000000001\n",
       "  angles : 90.0 90.0 90.0\n",
       "  volume : 2239.824745369952\n",
       "       A : 13.083924000000001 0.0 8.011592823443618e-16\n",
       "       B : 2.1040554531047737e-15 13.083924000000001 8.011592823443618e-16\n",
       "       C : 0.0 0.0 13.083924000000001\n",
       "     pbc : True True True,\n",
       " Lattice\n",
       "     abc : 18.460522 18.460522 18.460522\n",
       "  angles : 90.0 90.0 90.0\n",
       "  volume : 6291.1773994159075\n",
       "       A : 18.460522 0.0 1.1303809588944648e-15\n",
       "       B : 2.968678355305384e-15 18.460522 1.1303809588944648e-15\n",
       "       C : 0.0 0.0 18.460522\n",
       "     pbc : True True True,\n",
       " Lattice\n",
       "     abc : 4.582832 4.582832 4.582832\n",
       "  angles : 90.0 90.0 90.0\n",
       "  volume : 96.25023771499102\n",
       "       A : 4.582832 0.0 2.8061752699150313e-16\n",
       "       B : 7.369755938862879e-16 4.582832 2.8061752699150313e-16\n",
       "       C : 0.0 0.0 4.582832\n",
       "     pbc : True True True,\n",
       " Lattice\n",
       "     abc : 10.13085152449742 10.13085152449742 10.13085152449742\n",
       "  angles : 90.0 90.0 90.0\n",
       "  volume : 1039.771361448821\n",
       "       A : 10.13085152449742 0.0 6.203357446056424e-16\n",
       "       B : 1.629165179705538e-15 10.13085152449742 6.203357446056424e-16\n",
       "       C : 0.0 0.0 10.13085152449742\n",
       "     pbc : True True True,\n",
       " Lattice\n",
       "     abc : 12.089588 12.089588 12.089588\n",
       "  angles : 90.0 90.0 90.0\n",
       "  volume : 1766.9916713849443\n",
       "       A : 12.089588 0.0 7.402737623605125e-16\n",
       "       B : 1.9441540288058866e-15 12.089588 7.402737623605125e-16\n",
       "       C : 0.0 0.0 12.089588\n",
       "     pbc : True True True,\n",
       " Lattice\n",
       "     abc : 9.88295788 9.88295788 9.88295788\n",
       "  angles : 90.0 90.0 90.0\n",
       "  volume : 965.2967263922578\n",
       "       A : 9.88295788 0.0 6.051566366925056e-16\n",
       "       B : 1.5893008412628192e-15 9.88295788 6.051566366925056e-16\n",
       "       C : 0.0 0.0 9.88295788\n",
       "     pbc : True True True,\n",
       " Lattice\n",
       "     abc : 21.652474 21.652474 21.652474\n",
       "  angles : 90.0 90.0 90.0\n",
       "  volume : 10151.321380948051\n",
       "       A : 21.652474 0.0 1.3258316488860645e-15\n",
       "       B : 3.481983386093448e-15 21.652474 1.3258316488860645e-15\n",
       "       C : 0.0 0.0 21.652474\n",
       "     pbc : True True True,\n",
       " Lattice\n",
       "     abc : 10.43603892 10.43603892 10.43603892\n",
       "  angles : 90.0 90.0 90.0\n",
       "  volume : 1136.598478246233\n",
       "       A : 10.43603892 0.0 6.3902308295776e-16\n",
       "       B : 1.6782430560158902e-15 10.43603892 6.3902308295776e-16\n",
       "       C : 0.0 0.0 10.43603892\n",
       "     pbc : True True True,\n",
       " Lattice\n",
       "     abc : 13.774841000000004 13.774841000000004 13.774841000000004\n",
       "  angles : 90.0 90.0 90.0\n",
       "  volume : 2613.7243493716105\n",
       "       A : 13.774841000000004 0.0 8.434657469706865e-16\n",
       "       B : 2.2151633807794372e-15 13.774841000000004 8.434657469706865e-16\n",
       "       C : 0.0 0.0 13.774841000000004\n",
       "     pbc : True True True,\n",
       " Lattice\n",
       "     abc : 8.447060520197686 8.447060520197686 8.447060520197686\n",
       "  angles : 90.0 90.0 90.0\n",
       "  volume : 602.7216853925744\n",
       "       A : 8.447060520197686 0.0 5.172332814132036e-16\n",
       "       B : 1.3583909345719209e-15 8.447060520197686 5.172332814132036e-16\n",
       "       C : 0.0 0.0 8.447060520197686\n",
       "     pbc : True True True,\n",
       " Lattice\n",
       "     abc : 17.47279938289584 17.47279938289584 17.47279938289584\n",
       "  angles : 90.0 90.0 90.0\n",
       "  volume : 5334.423256273005\n",
       "       A : 17.47279938289584 0.0 1.0699003918203618e-15\n",
       "       B : 2.8098404440890753e-15 17.47279938289584 1.0699003918203618e-15\n",
       "       C : 0.0 0.0 17.47279938289584\n",
       "     pbc : True True True,\n",
       " Lattice\n",
       "     abc : 7.398732679999999 7.398732679999999 7.398732679999999\n",
       "  angles : 90.0 90.0 90.0\n",
       "  volume : 405.01584032378406\n",
       "       A : 7.398732679999999 0.0 4.530417147154459e-16\n",
       "       B : 1.189806960161072e-15 7.398732679999999 4.530417147154459e-16\n",
       "       C : 0.0 0.0 7.398732679999999\n",
       "     pbc : True True True,\n",
       " Lattice\n",
       "     abc : 9.357244 9.357244 9.357244\n",
       "  angles : 90.0 90.0 90.0\n",
       "  volume : 819.3017130889175\n",
       "       A : 9.357244 0.0 5.7296594567203875e-16\n",
       "       B : 1.5047596014950806e-15 9.357244 5.7296594567203875e-16\n",
       "       C : 0.0 0.0 9.357244\n",
       "     pbc : True True True]"
      ]
     },
     "execution_count": 24,
     "metadata": {},
     "output_type": "execute_result"
    }
   ],
   "source": [
    "lattices"
   ]
  },
  {
   "cell_type": "code",
   "execution_count": 60,
   "metadata": {},
   "outputs": [],
   "source": [
    "struct = docs[1].structure\n",
    "mol = ase.Atoms(\n",
    "    positions=struct.cart_coords,\n",
    "    numbers=struct.atomic_numbers,\n",
    "    cell=struct.lattice.matrix,\n",
    "    pbc=True,\n",
    ")"
   ]
  },
  {
   "cell_type": "code",
   "execution_count": 61,
   "metadata": {},
   "outputs": [],
   "source": [
    "senders, receivers = matscipy.neighbours.neighbour_list('ij', mol, cutoff=5.0,)"
   ]
  },
  {
   "cell_type": "code",
   "execution_count": 62,
   "metadata": {},
   "outputs": [
    {
     "data": {
      "text/plain": [
       "Cell([8.519192, 14.198571, 16.049878])"
      ]
     },
     "execution_count": 62,
     "metadata": {},
     "output_type": "execute_result"
    }
   ],
   "source": [
    "mol.cell"
   ]
  },
  {
   "cell_type": "code",
   "execution_count": 63,
   "metadata": {},
   "outputs": [],
   "source": [
    "i = 19"
   ]
  },
  {
   "cell_type": "code",
   "execution_count": 64,
   "metadata": {},
   "outputs": [
    {
     "data": {
      "text/plain": [
       "array([-6.07086141, -1.58244494,  0.98742059])"
      ]
     },
     "execution_count": 64,
     "metadata": {},
     "output_type": "execute_result"
    }
   ],
   "source": [
    "(mol.positions[receivers] - mol.positions[senders])[i]"
   ]
  },
  {
   "cell_type": "code",
   "execution_count": 66,
   "metadata": {},
   "outputs": [
    {
     "data": {
      "text/plain": [
       "array([ 2.44833059, -1.58244494,  0.98742059])"
      ]
     },
     "execution_count": 66,
     "metadata": {},
     "output_type": "execute_result"
    }
   ],
   "source": [
    "input_pipeline.get_relative_positions(mol.positions, senders, receivers, mol.cell, True)[i]"
   ]
  },
  {
   "cell_type": "markdown",
   "metadata": {},
   "source": [
    "some statistics"
   ]
  },
  {
   "cell_type": "code",
   "execution_count": 4,
   "metadata": {},
   "outputs": [],
   "source": [
    "splits = ['train'] * 250 + ['val'] * 50 + ['test'] * 50"
   ]
  },
  {
   "cell_type": "code",
   "execution_count": 14,
   "metadata": {},
   "outputs": [
    {
     "name": "stderr",
     "output_type": "stream",
     "text": [
      "0it [00:00, ?it/s]/home/songk/miniforge3/envs/silica-dev/lib/python3.10/site-packages/pymatgen/analysis/local_env.py:4135: UserWarning: No oxidation states specified on sites! For better results, set the site oxidation states in the structure.\n",
      "  warnings.warn(\n",
      "/home/songk/miniforge3/envs/silica-dev/lib/python3.10/site-packages/pymatgen/analysis/local_env.py:3928: UserWarning: CrystalNN: cannot locate an appropriate radius, covalent or atomic radii will be used, this can lead to non-optimal results.\n",
      "  warnings.warn(\n",
      "343it [26:32,  4.64s/it]\n"
     ]
    }
   ],
   "source": [
    "num_atoms = {'train': [], 'val': [], 'test': []}\n",
    "bond_distances = {'train': [], 'val': [], 'test': []}  # not actually bonds :P\n",
    "nn = CrystalNN()\n",
    "for ndx, item in tqdm.tqdm(enumerate(docs)):\n",
    "    struct = item.structure\n",
    "    cell = struct.lattice.matrix\n",
    "    num_atoms[splits[ndx]].append(item.nsites)\n",
    "    for i in range(item.nsites):\n",
    "        nn_info = nn.get_nn_info(struct, i)\n",
    "        for neighbor in nn_info:\n",
    "            bond_distances[splits[ndx]].append(neighbor['site'].nn_distance)\n",
    "            # vec = struct[i].frac_coords\n",
    "            # n_vec = neighbor['site'].frac_coords + neighbor['site'].image\n",
    "            # bond_angles.append(np.arccos(np.dot(vec, n_vec) / np.linalg.norm(vec) / np.linalg.norm(n_vec)))\n",
    "\n",
    "num_atoms = {k: np.asarray(v) for k, v in num_atoms.items()}\n",
    "bond_distances = {k: np.asarray(v) for k, v in bond_distances.items()}"
   ]
  },
  {
   "cell_type": "code",
   "execution_count": 28,
   "metadata": {},
   "outputs": [
    {
     "data": {
      "image/png": "[encoded data removed]",
      "text/plain": [
       "<Figure size 640x480 with 1 Axes>"
      ]
     },
     "metadata": {},
     "output_type": "display_data"
    }
   ],
   "source": [
    "for split in ['train', 'val', 'test']:\n",
    "    plt.hist(num_atoms[split], label=split, bins=20,)\n",
    "plt.legend()\n",
    "plt.title('Number of atoms per structure')\n",
    "plt.show()"
   ]
  },
  {
   "cell_type": "code",
   "execution_count": 27,
   "metadata": {},
   "outputs": [
    {
     "data": {
      "image/png": "[encoded data removed]",
      "text/plain": [
       "<Figure size 640x480 with 1 Axes>"
      ]
     },
     "metadata": {},
     "output_type": "display_data"
    }
   ],
   "source": [
    "for split in ['train', 'val', 'test']:\n",
    "    plt.hist(x=bond_distances[split], label=split, bins=20)\n",
    "plt.legend()\n",
    "plt.show()"
   ]
  },
  {
   "cell_type": "markdown",
   "metadata": {},
   "source": [
    "structure matcher"
   ]
  },
  {
   "cell_type": "code",
   "execution_count": 4,
   "metadata": {},
   "outputs": [],
   "source": [
    "from pymatgen.analysis.structure_matcher import StructureMatcher\n",
    "from pymatgen.core import Structure\n",
    "import os\n",
    "import rdkit.Chem as Chem\n",
    "from analyses import metrics"
   ]
  },
  {
   "cell_type": "code",
   "execution_count": 5,
   "metadata": {},
   "outputs": [],
   "source": [
    "db_dir = \"/home/songk/spherical-harmonic-net/conditional_generation/analysed_workdirs/test/silica-allegro-200k-train-steps-all-dec29/fait=1.0/pit=1.0/step=best/molecules/\"\n",
    "i = 4\n",
    "molecules = []\n",
    "with ase.db.connect(os.path.join(db_dir, f\"generated_molecules_init=mol_{i}.db\")) as db:\n",
    "    for row in db.select():\n",
    "        molecules.append(row.toatoms())"
   ]
  },
  {
   "cell_type": "code",
   "execution_count": 58,
   "metadata": {},
   "outputs": [],
   "source": [
    "for i in range(len(molecules)):\n",
    "    ase.io.write(f\"example_out_{i}.xyz\", molecules[i])"
   ]
  },
  {
   "cell_type": "code",
   "execution_count": 6,
   "metadata": {},
   "outputs": [
    {
     "data": {
      "application/vnd.jupyter.widget-view+json": {
       "model_id": "43cbb2376e5b47c8b01861968e990fbe",
       "version_major": 2,
       "version_minor": 0
      },
      "text/plain": [
       "Retrieving SummaryDoc documents:   0%|          | 0/343 [00:00<?, ?it/s]"
      ]
     },
     "metadata": {},
     "output_type": "display_data"
    },
    {
     "name": "stderr",
     "output_type": "stream",
     "text": [
      "[libprotobuf ERROR external/com_google_protobuf/src/google/protobuf/text_format.cc:337] Error parsing text-format tensorflow.data.experimental.DistributedSnapshotMetadata: 1:1: Invalid control characters encountered in text.\n",
      "[libprotobuf ERROR external/com_google_protobuf/src/google/protobuf/text_format.cc:337] Error parsing text-format tensorflow.data.experimental.DistributedSnapshotMetadata: 1:3: Expected identifier, got: 14253332890173845436\n",
      "[libprotobuf ERROR external/com_google_protobuf/src/google/protobuf/text_format.cc:337] Error parsing text-format tensorflow.data.experimental.DistributedSnapshotMetadata: 1:1: Invalid control characters encountered in text.\n",
      "[libprotobuf ERROR external/com_google_protobuf/src/google/protobuf/text_format.cc:337] Error parsing text-format tensorflow.data.experimental.DistributedSnapshotMetadata: 1:3: Expected identifier, got: 14253332890173845436\n",
      "[libprotobuf ERROR external/com_google_protobuf/src/google/protobuf/text_format.cc:337] Error parsing text-format tensorflow.data.experimental.DistributedSnapshotMetadata: 1:1: Invalid control characters encountered in text.\n",
      "[libprotobuf ERROR external/com_google_protobuf/src/google/protobuf/text_format.cc:337] Error parsing text-format tensorflow.data.experimental.DistributedSnapshotMetadata: 1:3: Expected identifier, got: 12107602734333841768\n",
      "[libprotobuf ERROR external/com_google_protobuf/src/google/protobuf/text_format.cc:337] Error parsing text-format tensorflow.data.experimental.DistributedSnapshotMetadata: 1:1: Invalid control characters encountered in text.\n",
      "[libprotobuf ERROR external/com_google_protobuf/src/google/protobuf/text_format.cc:337] Error parsing text-format tensorflow.data.experimental.DistributedSnapshotMetadata: 1:3: Expected identifier, got: 6336715732035909091\n",
      "[libprotobuf ERROR external/com_google_protobuf/src/google/protobuf/text_format.cc:337] Error parsing text-format tensorflow.data.experimental.DistributedSnapshotMetadata: 1:1: Invalid control characters encountered in text.\n",
      "[libprotobuf ERROR external/com_google_protobuf/src/google/protobuf/text_format.cc:337] Error parsing text-format tensorflow.data.experimental.DistributedSnapshotMetadata: 1:3: Expected identifier, got: 10390930435578851394\n",
      "[libprotobuf ERROR external/com_google_protobuf/src/google/protobuf/text_format.cc:337] Error parsing text-format tensorflow.data.experimental.DistributedSnapshotMetadata: 1:1: Invalid control characters encountered in text.\n",
      "[libprotobuf ERROR external/com_google_protobuf/src/google/protobuf/text_format.cc:337] Error parsing text-format tensorflow.data.experimental.DistributedSnapshotMetadata: 1:3: Expected identifier, got: 7430093620166160715\n",
      "[libprotobuf ERROR external/com_google_protobuf/src/google/protobuf/text_format.cc:337] Error parsing text-format tensorflow.data.experimental.DistributedSnapshotMetadata: 1:1: Invalid control characters encountered in text.\n",
      "[libprotobuf ERROR external/com_google_protobuf/src/google/protobuf/text_format.cc:337] Error parsing text-format tensorflow.data.experimental.DistributedSnapshotMetadata: 1:3: Expected identifier, got: 15898380060150159424\n"
     ]
    }
   ],
   "source": [
    "beta_species = 1.0\n",
    "beta_position = 1.0\n",
    "step = \"best\"\n",
    "num_seeds_per_chunk = 1\n",
    "max_num_atoms = 200  # ?\n",
    "visualize = False\n",
    "num_mols = 5\n",
    "config = allegro.get_config()\n",
    "\n",
    "molecules = input_pipeline_tf.get_raw_silica_datasets(config)\n",
    "mols_by_split = {\"train\": [], \"test\": []}\n",
    "\n",
    "# Root directory of the dataset.\n",
    "filenames = sorted(os.listdir(config.root_dir))\n",
    "filenames = [\n",
    "    os.path.join(config.root_dir, f)\n",
    "    for f in filenames\n",
    "    if f.startswith(\"fragments_\")\n",
    "]\n",
    "if len(filenames) == 0:\n",
    "    raise ValueError(f\"No files found in {config.root_dir}.\")\n",
    "\n",
    "# Partition the filenames into train, val, and test.\n",
    "def filter_by_molecule_number(\n",
    "    filenames, start: int, end: int\n",
    "):\n",
    "    def filter_file(filename: str, start: int, end: int) -> bool:\n",
    "        filename = os.path.basename(filename)\n",
    "        _, file_start, file_end = [int(val) for val in re.findall(r\"\\d+\", filename)]\n",
    "        return start <= file_start and file_end <= end\n",
    "\n",
    "    return [f for f in filenames if filter_file(f, start, end)]\n",
    "\n",
    "# Number of molecules for training can be smaller than the chunk size.\n",
    "chunk_size = int(filenames[0].split(\"_\")[-1])\n",
    "train_on_split_smaller_than_chunk = config.get(\"train_on_split_smaller_than_chunk\")\n",
    "if train_on_split_smaller_than_chunk:\n",
    "    train_molecules = (0, chunk_size)\n",
    "else:\n",
    "    train_molecules = config.train_molecules\n",
    "files_by_split = {\n",
    "    \"train\": filter_by_molecule_number(filenames, *train_molecules),\n",
    "    \"test\": filter_by_molecule_number(filenames, *config.test_molecules),\n",
    "}\n",
    "\n",
    "element_spec = tf.data.Dataset.load(filenames[0]).element_spec\n",
    "for split, files in files_by_split.items():\n",
    "    dataset_split = tf.data.Dataset.from_tensor_slices(files)\n",
    "    dataset_split = dataset_split.interleave(\n",
    "        lambda x: tf.data.Dataset.load(x, element_spec=element_spec),\n",
    "        num_parallel_calls=tf.data.AUTOTUNE,\n",
    "        deterministic=True,\n",
    "    )\n",
    "    dataset_split = dataset_split.map(\n",
    "        input_pipeline_tf._convert_to_graphstuple,\n",
    "        num_parallel_calls=tf.data.AUTOTUNE,\n",
    "        deterministic=True,\n",
    "    )\n",
    "    mols_by_split[split] = list(dataset_split.as_numpy_iterator())\n",
    "\n",
    "# mols_by_split['train'] = mols_by_split['train'][:num_mols]\n",
    "# mols_by_split['test'] = mols_by_split['test'][-num_mols:]"
   ]
  },
  {
   "cell_type": "code",
   "execution_count": 20,
   "metadata": {},
   "outputs": [],
   "source": [
    "ase_mols_by_split = {'train': [], 'test': []}\n",
    "for split, mols in mols_by_split.items():\n",
    "    for mol in mols:\n",
    "        ase_mols_by_split[split].append(\n",
    "            ase.Atoms(\n",
    "                positions=mol.nodes.positions,\n",
    "                numbers=get_atomic_numbers(\n",
    "                    mol.nodes.species\n",
    "                ),\n",
    "                cell=np.squeeze(mol.globals.cell, axis=0),\n",
    "                pbc=True\n",
    "            )\n",
    "        )\n",
    "import pickle\n",
    "with open('ase_mols_by_split.pkl', 'wb') as f:\n",
    "    pickle.dump(ase_mols_by_split, f)"
   ]
  },
  {
   "cell_type": "code",
   "execution_count": 7,
   "metadata": {},
   "outputs": [],
   "source": [
    "def ase_to_structure(mol):\n",
    "    return Structure(mol.get_cell(), mol.get_atomic_numbers(), mol.get_positions())\n",
    "\n",
    "def structure_to_ase(struct):\n",
    "    return ase.Atoms(positions=struct.cart_coords, numbers=struct.atomic_numbers, cell=struct.lattice.matrix)\n",
    "\n",
    "def ase_to_rdkit(mol):\n",
    "    ase.io.write('/tmp/test.xyz', mol)\n",
    "    return Chem.MolFromXYZFile(\"/tmp/test.xyz\")\n",
    "\n",
    "def graphstuple_to_ase(graph):\n",
    "    return ase.Atoms(positions=graph.nodes.positions, numbers=np.vectorize(lambda x: 14 if x else 8)(graph.nodes.species))"
   ]
  },
  {
   "cell_type": "code",
   "execution_count": 53,
   "metadata": {},
   "outputs": [],
   "source": [
    "for i in range(10):\n",
    "    ase.io.write(f\"example_{i}.xyz\", graphstuple_to_ase(mols_by_split['train'][i]))"
   ]
  },
  {
   "cell_type": "code",
   "execution_count": 8,
   "metadata": {},
   "outputs": [
    {
     "name": "stderr",
     "output_type": "stream",
     "text": [
      "WARNING:posebusters.modules.distance_geometry:Molecule has no bonds.\n"
     ]
    },
    {
     "data": {
      "text/html": [
       "<div>\n",
       "<style scoped>\n",
       "    .dataframe tbody tr th:only-of-type {\n",
       "        vertical-align: middle;\n",
       "    }\n",
       "\n",
       "    .dataframe tbody tr th {\n",
       "        vertical-align: top;\n",
       "    }\n",
       "\n",
       "    .dataframe thead th {\n",
       "        text-align: right;\n",
       "    }\n",
       "</style>\n",
       "<table border=\"1\" class=\"dataframe\">\n",
       "  <thead>\n",
       "    <tr style=\"text-align: right;\">\n",
       "      <th></th>\n",
       "      <th></th>\n",
       "      <th>mol_pred_loaded</th>\n",
       "      <th>sanitization</th>\n",
       "      <th>all_atoms_connected</th>\n",
       "      <th>bond_lengths</th>\n",
       "      <th>bond_angles</th>\n",
       "      <th>internal_steric_clash</th>\n",
       "      <th>aromatic_ring_flatness</th>\n",
       "      <th>double_bond_flatness</th>\n",
       "      <th>internal_energy</th>\n",
       "    </tr>\n",
       "    <tr>\n",
       "      <th>file</th>\n",
       "      <th>molecule</th>\n",
       "      <th></th>\n",
       "      <th></th>\n",
       "      <th></th>\n",
       "      <th></th>\n",
       "      <th></th>\n",
       "      <th></th>\n",
       "      <th></th>\n",
       "      <th></th>\n",
       "      <th></th>\n",
       "    </tr>\n",
       "  </thead>\n",
       "  <tbody>\n",
       "    <tr>\n",
       "      <th>&lt;rdkit.Chem.rdchem.Mol object at 0x7fea486a98c0&gt;</th>\n",
       "      <th>mol_at_pos_0</th>\n",
       "      <td>True</td>\n",
       "      <td>True</td>\n",
       "      <td>False</td>\n",
       "      <td>True</td>\n",
       "      <td>True</td>\n",
       "      <td>False</td>\n",
       "      <td>True</td>\n",
       "      <td>True</td>\n",
       "      <td>False</td>\n",
       "    </tr>\n",
       "  </tbody>\n",
       "</table>\n",
       "</div>"
      ],
      "text/plain": [
       "                                                               mol_pred_loaded  \\\n",
       "file                                             molecule                        \n",
       "<rdkit.Chem.rdchem.Mol object at 0x7fea486a98c0> mol_at_pos_0             True   \n",
       "\n",
       "                                                               sanitization  \\\n",
       "file                                             molecule                     \n",
       "<rdkit.Chem.rdchem.Mol object at 0x7fea486a98c0> mol_at_pos_0          True   \n",
       "\n",
       "                                                               all_atoms_connected  \\\n",
       "file                                             molecule                            \n",
       "<rdkit.Chem.rdchem.Mol object at 0x7fea486a98c0> mol_at_pos_0                False   \n",
       "\n",
       "                                                               bond_lengths  \\\n",
       "file                                             molecule                     \n",
       "<rdkit.Chem.rdchem.Mol object at 0x7fea486a98c0> mol_at_pos_0          True   \n",
       "\n",
       "                                                               bond_angles  \\\n",
       "file                                             molecule                    \n",
       "<rdkit.Chem.rdchem.Mol object at 0x7fea486a98c0> mol_at_pos_0         True   \n",
       "\n",
       "                                                               internal_steric_clash  \\\n",
       "file                                             molecule                              \n",
       "<rdkit.Chem.rdchem.Mol object at 0x7fea486a98c0> mol_at_pos_0                  False   \n",
       "\n",
       "                                                               aromatic_ring_flatness  \\\n",
       "file                                             molecule                               \n",
       "<rdkit.Chem.rdchem.Mol object at 0x7fea486a98c0> mol_at_pos_0                    True   \n",
       "\n",
       "                                                               double_bond_flatness  \\\n",
       "file                                             molecule                             \n",
       "<rdkit.Chem.rdchem.Mol object at 0x7fea486a98c0> mol_at_pos_0                  True   \n",
       "\n",
       "                                                               internal_energy  \n",
       "file                                             molecule                       \n",
       "<rdkit.Chem.rdchem.Mol object at 0x7fea486a98c0> mol_at_pos_0            False  "
      ]
     },
     "execution_count": 8,
     "metadata": {},
     "output_type": "execute_result"
    }
   ],
   "source": [
    "rdkit_mol = ase_to_rdkit(structure_to_ase(structures[0]))\n",
    "metrics.get_posebusters_results([rdkit_mol])  # what's the steric clash check? is there a cutoff?"
   ]
  },
  {
   "cell_type": "code",
   "execution_count": 11,
   "metadata": {},
   "outputs": [
    {
     "data": {
      "image/png": "[encoded data removed]",
      "text/plain": [
       "<rdkit.Chem.rdchem.Mol at 0x7fea486a98c0>"
      ]
     },
     "execution_count": 11,
     "metadata": {},
     "output_type": "execute_result"
    }
   ],
   "source": [
    "rdkit_mol"
   ]
  },
  {
   "cell_type": "code",
   "execution_count": 22,
   "metadata": {},
   "outputs": [
    {
     "data": {
      "text/plain": [
       "False"
      ]
     },
     "execution_count": 22,
     "metadata": {},
     "output_type": "execute_result"
    }
   ],
   "source": [
    "# CDVAE (https://arxiv.org/pdf/2110.06197.pdf) uses this for similarity to original structure\n",
    "for struct in structures:\n",
    "    if StructureMatcher().fit(ase_to_structure(ase.Atoms(symbols=\"CO2\")), struct):\n",
    "        print(struct)\n",
    "        break"
   ]
  },
  {
   "cell_type": "code",
   "execution_count": null,
   "metadata": {},
   "outputs": [],
   "source": []
  }
 ],
 "metadata": {
  "kernelspec": {
   "display_name": "sh-net",
   "language": "python",
   "name": "python3"
  },
  "language_info": {
   "codemirror_mode": {
    "name": "ipython",
    "version": 3
   },
   "file_extension": ".py",
   "mimetype": "text/x-python",
   "name": "python",
   "nbconvert_exporter": "python",
   "pygments_lexer": "ipython3",
   "version": "3.10.13"
  }
 },
 "nbformat": 4,
 "nbformat_minor": 2
}
