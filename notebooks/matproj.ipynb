{
 "cells": [
  {
   "cell_type": "code",
   "execution_count": 1,
   "metadata": {},
   "outputs": [],
   "source": [
    "import sys\n",
    "sys.path.append('..')\n",
    "from mp_api.client import MPRester\n",
    "import numpy as np\n",
    "from configs.silica import allegro\n",
    "import tqdm\n",
    "from matplotlib import pyplot as plt\n",
    "from pymatgen.analysis.local_env import CrystalNN\n",
    "import ase\n",
    "from symphony.data import input_pipeline, input_pipeline_tf, fragments\n",
    "from symphony import datatypes\n",
    "import jax.random\n",
    "import jax.numpy as jnp\n",
    "import tensorflow as tf\n",
    "import itertools\n",
    "import ml_collections\n",
    "import os\n",
    "import yaml\n",
    "import re\n",
    "\n",
    "sys.path.append('../configs/silica/allegro.py')\n",
    "import configs.silica.allegro as allegro"
   ]
  },
  {
   "cell_type": "code",
   "execution_count": 16,
   "metadata": {},
   "outputs": [
    {
     "data": {
      "application/vnd.jupyter.widget-view+json": {
       "model_id": "dcebaec08f484352948b0c113a68a9c7",
       "version_major": 2,
       "version_minor": 0
      },
      "text/plain": [
       "Retrieving SummaryDoc documents:   0%|          | 0/343 [00:00<?, ?it/s]"
      ]
     },
     "metadata": {},
     "output_type": "display_data"
    }
   ],
   "source": [
    "# query and download data\n",
    "with MPRester(\"NA4RS6zGonPp3S3TQTSBPkzevjE3jAPt\") as mpr:\n",
    "    docs = mpr.materials.summary.search(elements=[\"Si\", \"O\"], num_elements=(2, 2))"
   ]
  },
  {
   "cell_type": "code",
   "execution_count": 17,
   "metadata": {},
   "outputs": [],
   "source": [
    "structures = [d.structure for d in docs]"
   ]
  },
  {
   "cell_type": "code",
   "execution_count": 4,
   "metadata": {},
   "outputs": [],
   "source": [
    "from pymatgen.analysis.local_env import CrystalNN"
   ]
  },
  {
   "cell_type": "code",
   "execution_count": 18,
   "metadata": {},
   "outputs": [
    {
     "name": "stdout",
     "output_type": "stream",
     "text": [
      "150\n"
     ]
    }
   ],
   "source": [
    "for i in range(343):\n",
    "    if str(docs[i].material_id) == \"mp-600029\":\n",
    "        print(i)\n",
    "        break"
   ]
  },
  {
   "cell_type": "code",
   "execution_count": null,
   "metadata": {},
   "outputs": [],
   "source": []
  },
  {
   "cell_type": "code",
   "execution_count": 19,
   "metadata": {},
   "outputs": [
    {
     "name": "stderr",
     "output_type": "stream",
     "text": [
      "/home/songk/anaconda3/envs/sh-net/lib/python3.10/site-packages/pymatgen/analysis/local_env.py:4135: UserWarning: No oxidation states specified on sites! For better results, set the site oxidation states in the structure.\n",
      "  warnings.warn(\n",
      "/home/songk/anaconda3/envs/sh-net/lib/python3.10/site-packages/pymatgen/analysis/local_env.py:3928: UserWarning: CrystalNN: cannot locate an appropriate radius, covalent or atomic radii will be used, this can lead to non-optimal results.\n",
      "  warnings.warn(\n"
     ]
    },
    {
     "data": {
      "text/plain": [
       "array([43, 35, 38, 27])"
      ]
     },
     "execution_count": 19,
     "metadata": {},
     "output_type": "execute_result"
    }
   ],
   "source": [
    "rec, send = input_pipeline.crystalnn(structures[150], (0.5, 1.0))\n",
    "rec[send == 3]"
   ]
  },
  {
   "cell_type": "code",
   "execution_count": 32,
   "metadata": {},
   "outputs": [
    {
     "data": {
      "text/plain": [
       "[{'site': PeriodicNeighbor: O (4.573, 0.0, 0.0) [0.5, 0.0, 0.0],\n",
       "  'image': (0, 0, 0),\n",
       "  'weight': 1,\n",
       "  'site_index': 8},\n",
       " {'site': PeriodicNeighbor: O (4.573, 0.0, 2.609) [0.5, 0.0, 0.5],\n",
       "  'image': (0, 0, 0),\n",
       "  'weight': 1,\n",
       "  'site_index': 13},\n",
       " {'site': PeriodicNeighbor: O (5.883, 1.884, 1.304) [0.7622, 0.2378, 0.25],\n",
       "  'image': (0, 0, 0),\n",
       "  'weight': 1,\n",
       "  'site_index': 6},\n",
       " {'site': PeriodicNeighbor: O (3.262, 1.884, 1.304) [0.4756, 0.2378, 0.25],\n",
       "  'image': (0, 0, 0),\n",
       "  'weight': 1,\n",
       "  'site_index': 11}]"
      ]
     },
     "execution_count": 32,
     "metadata": {},
     "output_type": "execute_result"
    }
   ],
   "source": [
    "cnn = CrystalNN()\n",
    "cnn.get_nn_info(structures[0], 5)"
   ]
  },
  {
   "cell_type": "markdown",
   "metadata": {},
   "source": [
    "some statistics"
   ]
  },
  {
   "cell_type": "code",
   "execution_count": 15,
   "metadata": {},
   "outputs": [
    {
     "name": "stderr",
     "output_type": "stream",
     "text": [
      "100%|██████████| 343/343 [01:51<00:00,  3.08it/s]\n"
     ]
    }
   ],
   "source": [
    "num_atoms = []\n",
    "num_neighbors_cutoff_3 = []\n",
    "num_neighbors_cutoff_5 = []\n",
    "min_distances = []\n",
    "for item in tqdm.tqdm(docs):\n",
    "    num_atoms.append(item.nsites)\n",
    "    ct_25 = 0\n",
    "    ct_3 = 0\n",
    "    for i in range(num_atoms[-1]):\n",
    "        min_dist = 1e10\n",
    "        for j in range(i+1, num_atoms[-1]):\n",
    "            dist = np.sqrt(np.sum((item.structure.cart_coords[i] - item.structure.cart_coords[j]) ** 2))\n",
    "            min_dist = min(min_dist, dist)\n",
    "            if dist < 5:\n",
    "                ct_25 += 1\n",
    "            if dist < 3:\n",
    "                ct_3 += 1\n",
    "        min_distances.append(min_dist)\n",
    "    num_neighbors_cutoff_5.append(ct_25 / num_atoms[-1])\n",
    "    num_neighbors_cutoff_3.append(ct_3 / num_atoms[-1])\n",
    "\n",
    "num_atoms = np.asarray(num_atoms)\n",
    "num_neighbors_cutoff_5 = np.asarray(num_neighbors_cutoff_5)\n",
    "num_neighbors_cutoff_3 = np.asarray(num_neighbors_cutoff_3)\n",
    "min_distances = np.asarray(min_distances)"
   ]
  },
  {
   "cell_type": "code",
   "execution_count": 5,
   "metadata": {},
   "outputs": [
    {
     "data": {
      "text/plain": [
       "62.73837209302326"
      ]
     },
     "execution_count": 5,
     "metadata": {},
     "output_type": "execute_result"
    }
   ],
   "source": [
    "np.average(num_atoms)"
   ]
  },
  {
   "cell_type": "code",
   "execution_count": 10,
   "metadata": {},
   "outputs": [
    {
     "data": {
      "text/plain": [
       "(array([    0.,     0.,     0.,     0.,     0.,     0.,     0.,     0.,\n",
       "            0.,     0., 21573.,     0.,     0.,     0.,     0.,     0.,\n",
       "            0.,     0.,     0.,     0.]),\n",
       " array([-0.5 , -0.45, -0.4 , -0.35, -0.3 , -0.25, -0.2 , -0.15, -0.1 ,\n",
       "        -0.05,  0.  ,  0.05,  0.1 ,  0.15,  0.2 ,  0.25,  0.3 ,  0.35,\n",
       "         0.4 ,  0.45,  0.5 ]),\n",
       " <BarContainer object of 20 artists>)"
      ]
     },
     "execution_count": 10,
     "metadata": {},
     "output_type": "execute_result"
    },
    {
     "data": {
      "image/png": "[encoded data removed]",
      "text/plain": [
       "<Figure size 640x480 with 1 Axes>"
      ]
     },
     "metadata": {},
     "output_type": "display_data"
    }
   ],
   "source": [
    "plt.hist(min_distances, bins=20)"
   ]
  },
  {
   "cell_type": "code",
   "execution_count": 11,
   "metadata": {},
   "outputs": [
    {
     "data": {
      "image/png": "[encoded data removed]",
      "text/plain": [
       "<Figure size 640x480 with 1 Axes>"
      ]
     },
     "metadata": {},
     "output_type": "display_data"
    }
   ],
   "source": [
    "plt.hist(num_atoms, bins=20)\n",
    "plt.show()"
   ]
  },
  {
   "cell_type": "code",
   "execution_count": 16,
   "metadata": {},
   "outputs": [
    {
     "data": {
      "image/png": "[encoded data removed]",
      "text/plain": [
       "<Figure size 640x480 with 1 Axes>"
      ]
     },
     "metadata": {},
     "output_type": "display_data"
    }
   ],
   "source": [
    "plt.hist(num_neighbors_cutoff_5, bins=20)\n",
    "plt.show()"
   ]
  },
  {
   "cell_type": "code",
   "execution_count": 13,
   "metadata": {},
   "outputs": [
    {
     "data": {
      "image/png": "[encoded data removed]",
      "text/plain": [
       "<Figure size 640x480 with 1 Axes>"
      ]
     },
     "metadata": {},
     "output_type": "display_data"
    }
   ],
   "source": [
    "plt.hist(num_neighbors_cutoff_3, bins=20)\n",
    "plt.show()"
   ]
  },
  {
   "cell_type": "code",
   "execution_count": 30,
   "metadata": {},
   "outputs": [
    {
     "data": {
      "text/plain": [
       "\u001b[4m\u001b[1mMPDataDoc<SummaryDoc>\u001b[0;0m\u001b[0;0m(\n",
       "\u001b[1mbuilder_meta\u001b[0;0m=EmmetMeta(emmet_version='0.38.6', pymatgen_version='2022.10.22', pull_request=825, database_version='2022.10.28', build_date=datetime.datetime(2022, 10, 28, 0, 53, 47, 823000)),\n",
       "\u001b[1mnsites\u001b[0;0m=144,\n",
       "\u001b[1melements\u001b[0;0m=[Element O, Element Si],\n",
       "\u001b[1mnelements\u001b[0;0m=2,\n",
       "\u001b[1mcomposition\u001b[0;0m=Comp: Si48 O96,\n",
       "\u001b[1mcomposition_reduced\u001b[0;0m=Comp: Si1 O2,\n",
       "\u001b[1mformula_pretty\u001b[0;0m='SiO2',\n",
       "\u001b[1mformula_anonymous\u001b[0;0m='AB2',\n",
       "\u001b[1mchemsys\u001b[0;0m='O-Si',\n",
       "\u001b[1mvolume\u001b[0;0m=2537.830345237013,\n",
       "\u001b[1mdensity\u001b[0;0m=1.8870732340619993,\n",
       "\u001b[1mdensity_atomic\u001b[0;0m=17.6238218419237,\n",
       "\u001b[1msymmetry\u001b[0;0m=SymmetryData(crystal_system=<CrystalSystem.cubic: 'Cubic'>, symbol='Fm-3c', number=226, point_group='m-3m', symprec=0.1, version='1.16.2'),\n",
       "\u001b[1mproperty_name\u001b[0;0m='summary',\n",
       "\u001b[1mmaterial_id\u001b[0;0m=MPID(mp-558931),\n",
       "\u001b[1mdeprecated\u001b[0;0m=False,\n",
       "\u001b[1mdeprecation_reasons\u001b[0;0m=None,\n",
       "\u001b[1mlast_updated\u001b[0;0m=datetime.datetime(2022, 10, 28, 0, 53, 47, 824000),\n",
       "\u001b[1morigins\u001b[0;0m=[],\n",
       "\u001b[1mwarnings\u001b[0;0m=[],\n",
       "\u001b[1mstructure\u001b[0;0m=Structure Summary\n",
       "Lattice\n",
       "    abc : 15.31061119486541 15.31061119486541 15.31061119486541\n",
       " angles : 59.99999999999999 59.99999999999999 59.99999999999999\n",
       " volume : 2537.830345237013\n",
       "      A : 0.0 10.826237 10.826237\n",
       "      B : 10.826237 0.0 10.826237\n",
       "      C : 10.826237 10.826237 0.0\n",
       "    pbc : True True True\n",
       "PeriodicSite: Si (12.3565, 8.8600, 3.8713) [0.0173, 0.3403, 0.8011]\n",
       "PeriodicSite: Si (6.9549, 12.7925, 12.3565) [0.8403, 0.3011, 0.3413]\n",
       "PeriodicSite: Si (8.8600, 17.7812, 9.2960) [0.8413, 0.0173, 0.8011]\n",
       "PeriodicSite: Si (3.8713, 9.2960, 12.7925) [0.8413, 0.3403, 0.0173]\n",
       "PeriodicSite: Si (8.8600, 3.8713, 12.3565) [0.3403, 0.8011, 0.0173]\n",
       "PeriodicSite: Si (3.8713, 12.3565, 8.8600) [0.8011, 0.0173, 0.3403]\n",
       "PeriodicSite: Si (12.7925, 17.7812, 12.3565) [0.8011, 0.3403, 0.8413]\n",
       "PeriodicSite: Si (12.3565, 12.7925, 17.7812) [0.8413, 0.8011, 0.3403]\n",
       "PeriodicSite: Si (12.3565, 6.9549, 12.7925) [0.3413, 0.8403, 0.3011]\n",
       "PeriodicSite: Si (12.7925, 3.8713, 9.2960) [0.0173, 0.8413, 0.3403]\n",
       "PeriodicSite: Si (8.8600, 12.3565, 14.6975) [0.8403, 0.5173, 0.3011]\n",
       "PeriodicSite: Si (12.3565, 14.6975, 8.8600) [0.5173, 0.3011, 0.8403]\n",
       "PeriodicSite: Si (14.6975, 8.8600, 12.3565) [0.3011, 0.8403, 0.5173]\n",
       "PeriodicSite: Si (12.3565, 14.6975, 12.7925) [0.6989, 0.4827, 0.6587]\n",
       "PeriodicSite: Si (8.8600, 9.2960, 6.9549) [0.3413, 0.3011, 0.5173]\n",
       "PeriodicSite: Si (12.3565, 8.8600, 17.7812) [0.6597, 0.9827, 0.1587]\n",
       "PeriodicSite: Si (17.7812, 9.2960, 8.8600) [0.0173, 0.8011, 0.8413]\n",
       "PeriodicSite: Si (14.6975, 8.8600, 9.2960) [0.1597, 0.6989, 0.6587]\n",
       "PeriodicSite: Si (9.2960, 8.8600, 17.7812) [0.8011, 0.8413, 0.0173]\n",
       "PeriodicSite: Si (9.2960, 12.7925, 3.8713) [0.3403, 0.0173, 0.8413]\n",
       "PeriodicSite: Si (12.7925, 17.7812, 9.2960) [0.6597, 0.1989, 0.9827]\n",
       "PeriodicSite: Si (9.2960, 6.9549, 8.8600) [0.3011, 0.5173, 0.3413]\n",
       "PeriodicSite: Si (12.7925, 9.2960, 6.9549) [0.1597, 0.4827, 0.6989]\n",
       "PeriodicSite: Si (9.2960, 14.6975, 12.7925) [0.8403, 0.3413, 0.5173]\n",
       "PeriodicSite: Si (6.9549, 8.8600, 9.2960) [0.5173, 0.3413, 0.3011]\n",
       "PeriodicSite: Si (17.7812, 12.3565, 12.7925) [0.3403, 0.8413, 0.8011]\n",
       "PeriodicSite: Si (14.6975, 12.7925, 9.2960) [0.3413, 0.5173, 0.8403]\n",
       "PeriodicSite: Si (14.6975, 12.7925, 12.3565) [0.4827, 0.6587, 0.6989]\n",
       "PeriodicSite: Si (12.7925, 12.3565, 14.6975) [0.6587, 0.6989, 0.4827]\n",
       "PeriodicSite: Si (12.7925, 12.3565, 6.9549) [0.3011, 0.3413, 0.8403]\n",
       "PeriodicSite: Si (3.8713, 9.2960, 8.8600) [0.6597, 0.1587, 0.1989]\n",
       "PeriodicSite: Si (8.8600, 17.7812, 12.3565) [0.9827, 0.1587, 0.6597]\n",
       "PeriodicSite: Si (12.7925, 3.8713, 12.3565) [0.1587, 0.9827, 0.1989]\n",
       "PeriodicSite: Si (8.8600, 3.8713, 9.2960) [0.1989, 0.6597, 0.1587]\n",
       "PeriodicSite: Si (17.7812, 9.2960, 12.7925) [0.1989, 0.9827, 0.6597]\n",
       "PeriodicSite: Si (9.2960, 8.8600, 3.8713) [0.1587, 0.1989, 0.6597]\n",
       "PeriodicSite: Si (8.8600, 9.2960, 14.6975) [0.6989, 0.6587, 0.1597]\n",
       "PeriodicSite: Si (9.2960, 6.9549, 12.7925) [0.4827, 0.6989, 0.1597]\n",
       "PeriodicSite: Si (9.2960, 14.6975, 8.8600) [0.6587, 0.1597, 0.6989]\n",
       "PeriodicSite: Si (12.7925, 9.2960, 14.6975) [0.5173, 0.8403, 0.3413]\n",
       "PeriodicSite: Si (12.3565, 6.9549, 8.8600) [0.1597, 0.6587, 0.4827]\n",
       "PeriodicSite: Si (12.3565, 12.7925, 3.8713) [0.1989, 0.1587, 0.9827]\n",
       "PeriodicSite: Si (6.9549, 8.8600, 12.3565) [0.6587, 0.4827, 0.1597]\n",
       "PeriodicSite: Si (6.9549, 12.7925, 9.2960) [0.6989, 0.1597, 0.4827]\n",
       "PeriodicSite: Si (8.8600, 12.3565, 6.9549) [0.4827, 0.1597, 0.6587]\n",
       "PeriodicSite: Si (17.7812, 12.3565, 8.8600) [0.1587, 0.6597, 0.9827]\n",
       "PeriodicSite: Si (3.8713, 12.3565, 12.7925) [0.9827, 0.1989, 0.1587]\n",
       "PeriodicSite: Si (9.2960, 12.7925, 17.7812) [0.9827, 0.6597, 0.1989]\n",
       "PeriodicSite: O (7.5834, 9.5465, 13.7079) [0.7237, 0.5424, 0.1580]\n",
       "PeriodicSite: O (9.5122, 10.8262, 6.8917) [0.3790, 0.2576, 0.6210]\n",
       "PeriodicSite: O (7.9446, 9.5465, 3.2428) [0.2237, 0.0758, 0.6580]\n",
       "PeriodicSite: O (13.7079, 20.3728, 14.0690) [0.9576, 0.3420, 0.9242]\n",
       "PeriodicSite: O (12.1403, 10.8262, 14.7608) [0.6210, 0.7424, 0.3790]\n",
       "PeriodicSite: O (7.9446, 7.5834, 12.1059) [0.5424, 0.5758, 0.1580]\n",
       "PeriodicSite: O (17.7179, 10.8262, 9.5122) [0.1210, 0.7576, 0.8790]\n",
       "PeriodicSite: O (10.8262, 14.7608, 9.5122) [0.6210, 0.2576, 0.7424]\n",
       "PeriodicSite: O (1.2797, 3.2428, 2.8816) [0.2237, 0.0424, 0.0758]\n",
       "PeriodicSite: O (7.5834, 12.1059, 7.9446) [0.5758, 0.1580, 0.5424]\n",
       "PeriodicSite: O (12.1059, 13.7079, 7.5834) [0.4242, 0.2763, 0.8420]\n",
       "PeriodicSite: O (14.0690, 12.1059, 13.7079) [0.5424, 0.7237, 0.5758]\n",
       "PeriodicSite: O (8.7636, 5.4131, 8.7636) [0.2500, 0.5595, 0.2500]\n",
       "PeriodicSite: O (12.8889, 16.2394, 12.8889) [0.7500, 0.4405, 0.7500]\n",
       "PeriodicSite: O (12.1403, 10.8262, 6.8917) [0.2576, 0.3790, 0.7424]\n",
       "PeriodicSite: O (18.7708, 12.1059, 14.0690) [0.3420, 0.9576, 0.7763]\n",
       "PeriodicSite: O (13.7079, 7.5834, 9.5465) [0.1580, 0.7237, 0.5424]\n",
       "PeriodicSite: O (12.8889, 16.2394, 8.7636) [0.5595, 0.2500, 0.9405]\n",
       "PeriodicSite: O (12.8889, 12.8889, 5.4131) [0.2500, 0.2500, 0.9405]\n",
       "PeriodicSite: O (3.2428, 2.8816, 1.2797) [0.0424, 0.0758, 0.2237]\n",
       "PeriodicSite: O (13.7079, 14.0690, 12.1059) [0.5758, 0.5424, 0.7237]\n",
       "PeriodicSite: O (7.9446, 7.5834, 9.5465) [0.4242, 0.4576, 0.2763]\n",
       "PeriodicSite: O (9.5122, 10.8262, 14.7608) [0.7424, 0.6210, 0.2576]\n",
       "PeriodicSite: O (10.8262, 12.1403, 17.7179) [0.8790, 0.7576, 0.2424]\n",
       "PeriodicSite: O (9.5465, 7.5834, 2.8816) [0.0424, 0.2237, 0.6580]\n",
       "PeriodicSite: O (7.9446, 14.0690, 9.5465) [0.7237, 0.1580, 0.5758]\n",
       "PeriodicSite: O (14.0690, 18.7708, 12.1059) [0.7763, 0.3420, 0.9576]\n",
       "PeriodicSite: O (5.4131, 12.8889, 8.7636) [0.7500, 0.0595, 0.4405]\n",
       "PeriodicSite: O (14.0690, 9.5465, 7.9446) [0.1580, 0.5758, 0.7237]\n",
       "PeriodicSite: O (20.3728, 18.4097, 18.7708) [0.7763, 0.9576, 0.9242]\n",
       "PeriodicSite: O (10.8262, 6.8917, 9.5122) [0.2576, 0.6210, 0.3790]\n",
       "PeriodicSite: O (5.4131, 12.8889, 12.8889) [0.9405, 0.2500, 0.2500]\n",
       "PeriodicSite: O (18.4097, 18.7708, 20.3728) [0.9576, 0.9242, 0.7763]\n",
       "PeriodicSite: O (16.2394, 8.7636, 8.7636) [0.0595, 0.7500, 0.7500]\n",
       "PeriodicSite: O (5.4131, 8.7636, 12.8889) [0.7500, 0.4405, 0.0595]\n",
       "PeriodicSite: O (8.7636, 8.7636, 5.4131) [0.2500, 0.2500, 0.5595]\n",
       "PeriodicSite: O (14.0690, 13.7079, 20.3728) [0.9242, 0.9576, 0.3420]\n",
       "PeriodicSite: O (14.7608, 9.5122, 10.8262) [0.2576, 0.7424, 0.6210]\n",
       "PeriodicSite: O (5.4131, 8.7636, 8.7636) [0.5595, 0.2500, 0.2500]\n",
       "PeriodicSite: O (12.1059, 13.7079, 14.0690) [0.7237, 0.5758, 0.5424]\n",
       "PeriodicSite: O (14.0690, 12.1059, 7.9446) [0.2763, 0.4576, 0.8420]\n",
       "PeriodicSite: O (12.1059, 7.9446, 14.0690) [0.4576, 0.8420, 0.2763]\n",
       "PeriodicSite: O (9.5122, 17.7179, 10.8262) [0.8790, 0.1210, 0.7576]\n",
       "PeriodicSite: O (10.8262, 12.1403, 3.9345) [0.2424, 0.1210, 0.8790]\n",
       "PeriodicSite: O (8.7636, 8.7636, 16.2394) [0.7500, 0.7500, 0.0595]\n",
       "PeriodicSite: O (9.5465, 13.7079, 14.0690) [0.8420, 0.4576, 0.4242]\n",
       "PeriodicSite: O (20.3728, 14.0690, 13.7079) [0.3420, 0.9242, 0.9576]\n",
       "PeriodicSite: O (18.7708, 20.3728, 18.4097) [0.9242, 0.7763, 0.9576]\n",
       "PeriodicSite: O (3.2428, 7.9446, 9.5465) [0.6580, 0.2237, 0.0758]\n",
       "PeriodicSite: O (3.9345, 10.8262, 12.1403) [0.8790, 0.2424, 0.1210]\n",
       "PeriodicSite: O (12.8889, 8.7636, 5.4131) [0.0595, 0.4405, 0.7500]\n",
       "PeriodicSite: O (14.7608, 12.1403, 10.8262) [0.3790, 0.6210, 0.7424]\n",
       "PeriodicSite: O (8.7636, 16.2394, 12.8889) [0.9405, 0.2500, 0.5595]\n",
       "PeriodicSite: O (9.5465, 13.7079, 7.5834) [0.5424, 0.1580, 0.7237]\n",
       "PeriodicSite: O (1.2797, 7.5834, 7.9446) [0.6580, 0.0758, 0.0424]\n",
       "PeriodicSite: O (12.1059, 18.4097, 13.7079) [0.9242, 0.3420, 0.7763]\n",
       "PeriodicSite: O (2.8816, 1.2797, 3.2428) [0.0758, 0.2237, 0.0424]\n",
       "PeriodicSite: O (9.5122, 3.9345, 10.8262) [0.2424, 0.7576, 0.1210]\n",
       "PeriodicSite: O (12.8889, 8.7636, 16.2394) [0.5595, 0.9405, 0.2500]\n",
       "PeriodicSite: O (13.7079, 14.0690, 9.5465) [0.4576, 0.4242, 0.8420]\n",
       "PeriodicSite: O (7.5834, 9.5465, 7.9446) [0.4576, 0.2763, 0.4242]\n",
       "PeriodicSite: O (16.2394, 8.7636, 12.8889) [0.2500, 0.9405, 0.5595]\n",
       "PeriodicSite: O (18.4097, 13.7079, 12.1059) [0.3420, 0.7763, 0.9242]\n",
       "PeriodicSite: O (12.8889, 5.4131, 8.7636) [0.0595, 0.7500, 0.4405]\n",
       "PeriodicSite: O (6.8917, 9.5122, 10.8262) [0.6210, 0.3790, 0.2576]\n",
       "PeriodicSite: O (9.5465, 7.9446, 7.5834) [0.2763, 0.4242, 0.4576]\n",
       "PeriodicSite: O (9.5465, 3.2428, 7.9446) [0.0758, 0.6580, 0.2237]\n",
       "PeriodicSite: O (12.1059, 14.0690, 18.7708) [0.9576, 0.7763, 0.3420]\n",
       "PeriodicSite: O (12.8889, 12.8889, 16.2394) [0.7500, 0.7500, 0.4405]\n",
       "PeriodicSite: O (12.8889, 5.4131, 12.8889) [0.2500, 0.9405, 0.2500]\n",
       "PeriodicSite: O (7.5834, 7.9446, 1.2797) [0.0758, 0.0424, 0.6580]\n",
       "PeriodicSite: O (9.5465, 7.9446, 14.0690) [0.5758, 0.7237, 0.1580]\n",
       "PeriodicSite: O (8.7636, 5.4131, 12.8889) [0.4405, 0.7500, 0.0595]\n",
       "PeriodicSite: O (10.8262, 9.5122, 3.9345) [0.1210, 0.2424, 0.7576]\n",
       "PeriodicSite: O (12.1403, 3.9345, 10.8262) [0.1210, 0.8790, 0.2424]\n",
       "PeriodicSite: O (2.8816, 9.5465, 7.5834) [0.6580, 0.0424, 0.2237]\n",
       "PeriodicSite: O (13.7079, 7.5834, 12.1059) [0.2763, 0.8420, 0.4242]\n",
       "PeriodicSite: O (12.1059, 7.9446, 7.5834) [0.1580, 0.5424, 0.5758]\n",
       "PeriodicSite: O (10.8262, 9.5122, 17.7179) [0.7576, 0.8790, 0.1210]\n",
       "PeriodicSite: O (8.7636, 12.8889, 16.2394) [0.9405, 0.5595, 0.2500]\n",
       "PeriodicSite: O (6.8917, 12.1403, 10.8262) [0.7424, 0.2576, 0.3790]\n",
       "PeriodicSite: O (7.5834, 12.1059, 13.7079) [0.8420, 0.4242, 0.2763]\n",
       "PeriodicSite: O (7.9446, 14.0690, 12.1059) [0.8420, 0.2763, 0.4576]\n",
       "PeriodicSite: O (13.7079, 12.1059, 18.4097) [0.7763, 0.9242, 0.3420]\n",
       "PeriodicSite: O (12.1403, 17.7179, 10.8262) [0.7576, 0.2424, 0.8790]\n",
       "PeriodicSite: O (8.7636, 16.2394, 8.7636) [0.7500, 0.0595, 0.7500]\n",
       "PeriodicSite: O (16.2394, 12.8889, 8.7636) [0.2500, 0.5595, 0.9405]\n",
       "PeriodicSite: O (10.8262, 6.8917, 12.1403) [0.3790, 0.7424, 0.2576]\n",
       "PeriodicSite: O (14.0690, 9.5465, 13.7079) [0.4242, 0.8420, 0.4576]\n",
       "PeriodicSite: O (10.8262, 14.7608, 12.1403) [0.7424, 0.3790, 0.6210]\n",
       "PeriodicSite: O (16.2394, 12.8889, 12.8889) [0.4405, 0.7500, 0.7500]\n",
       "PeriodicSite: O (8.7636, 12.8889, 5.4131) [0.4405, 0.0595, 0.7500]\n",
       "PeriodicSite: O (17.7179, 10.8262, 12.1403) [0.2424, 0.8790, 0.7576]\n",
       "PeriodicSite: O (7.9446, 1.2797, 7.5834) [0.0424, 0.6580, 0.0758]\n",
       "PeriodicSite: O (7.5834, 2.8816, 9.5465) [0.2237, 0.6580, 0.0424]\n",
       "PeriodicSite: O (3.9345, 10.8262, 9.5122) [0.7576, 0.1210, 0.2424],\n",
       "\u001b[1mtask_ids\u001b[0;0m=[MPID(mp-558931), MPID(mp-863989), MPID(mp-746861), MPID(mp-848430), MPID(mp-1252757), MPID(mp-1172471), MPID(mp-1261989), MPID(mp-724018)],\n",
       "\u001b[1muncorrected_energy_per_atom\u001b[0;0m=-7.653374208958334,\n",
       "\u001b[1menergy_per_atom\u001b[0;0m=-8.111374208958333,\n",
       "\u001b[1mformation_energy_per_atom\u001b[0;0m=-3.0051423914583335,\n",
       "\u001b[1menergy_above_hull\u001b[0;0m=0.2628896977083315,\n",
       "\u001b[1mis_stable\u001b[0;0m=False,\n",
       "\u001b[1mequilibrium_reaction_energy_per_atom\u001b[0;0m=None,\n",
       "\u001b[1mdecomposes_to\u001b[0;0m=[DecompositionProduct(material_id=MPID(mp-546794), formula='Si2 O4', amount=0.9999999999999998)],\n",
       "\u001b[1mxas\u001b[0;0m=[XASSearchData(edge=<Edge.K: 'K'>, absorbing_element=Element O, spectrum_type=<Type.XAFS: 'XAFS'>), XASSearchData(edge=<Edge.K: 'K'>, absorbing_element=Element O, spectrum_type=<Type.XANES: 'XANES'>), XASSearchData(edge=<Edge.K: 'K'>, absorbing_element=Element Si, spectrum_type=<Type.XAFS: 'XAFS'>), XASSearchData(edge=<Edge.K: 'K'>, absorbing_element=Element Si, spectrum_type=<Type.XANES: 'XANES'>), XASSearchData(edge=<Edge.K: 'K'>, absorbing_element=Element Si, spectrum_type=<Type.EXAFS: 'EXAFS'>), XASSearchData(edge=<Edge.K: 'K'>, absorbing_element=Element O, spectrum_type=<Type.EXAFS: 'EXAFS'>)],\n",
       "\u001b[1mgrain_boundaries\u001b[0;0m=None,\n",
       "\u001b[1mband_gap\u001b[0;0m=4.5368,\n",
       "\u001b[1mcbm\u001b[0;0m=3.5602,\n",
       "\u001b[1mvbm\u001b[0;0m=-0.9766,\n",
       "\u001b[1mefermi\u001b[0;0m=3.55603839,\n",
       "\u001b[1mis_gap_direct\u001b[0;0m=True,\n",
       "\u001b[1mis_metal\u001b[0;0m=False,\n",
       "\u001b[1mes_source_calc_id\u001b[0;0m=MPID(mp-746861),\n",
       "\u001b[1mbandstructure\u001b[0;0m=BandstructureData(setyawan_curtarolo=BandStructureSummaryData(task_id=MPID(mp-746861), band_gap=4.5368, cbm={'band_index': {'1': [384]}, 'kpoint_index': [0, 22, 23], 'kpoint': <pymatgen.electronic_structure.bandstructure.Kpoint object at 0x111763df0>, 'energy': 3.5602, 'projections': {}}, vbm={'band_index': {'1': [383]}, 'kpoint_index': [0, 22, 23], 'kpoint': <pymatgen.electronic_structure.bandstructure.Kpoint object at 0x111763a30>, 'energy': -0.9766, 'projections': {}}, efermi=3.55603839, is_gap_direct=True, is_metal=False, magnetic_ordering='NM', nbands=728.0, equivalent_labels={'setyawan_curtarolo': {'latimer_munro': {'\\\\Gamma': 'Γ', 'K': 'q', 'L': 'a', 'U': 'q_{1}', 'W': 'r', 'X': 'd'}, 'hinuma': {'\\\\Gamma': 'GAMMA', 'K': 'K', 'L': 'L', 'U': 'U', 'W': 'W', 'X': 'X'}}, 'latimer_munro': {'setyawan_curtarolo': {'d': 'X', 'q': 'K', 'r': 'W', 'Γ': '\\\\Gamma', 'q_{1}': 'U', 'a': 'L'}, 'hinuma': {'d': 'X', 'q': 'K', 'r': 'W', 'Γ': 'GAMMA', 'q_{1}': 'U', 'a': 'L'}}, 'hinuma': {'setyawan_curtarolo': {'GAMMA': '\\\\Gamma', 'X': 'X', 'L': 'L', 'W': 'W', 'K': 'K', 'U': 'U', 'W_2': 'W^{*}'}, 'latimer_munro': {'GAMMA': 'Γ', 'X': 'd', 'L': 'a', 'W': 'r', 'K': 'q', 'U': 'q_{1}', 'W_2': 'r^{*}'}}}, direct_gap=4.5368), hinuma=None, latimer_munro=None),\n",
       "\u001b[1mdos\u001b[0;0m=DosData(total={'1': DosSummaryData(task_id=MPID(mp-848430), band_gap=4.65, cbm=3.7134, vbm=-0.9366, efermi=-0.90680763, spin_polarization=None)}, elemental={Element Si: {'total': {'1': DosSummaryData(task_id=MPID(mp-848430), band_gap=4.65, cbm=3.7134, vbm=-0.9366, efermi=-0.90680763, spin_polarization=None)}, 's': {'1': DosSummaryData(task_id=MPID(mp-848430), band_gap=4.65, cbm=3.7134, vbm=-0.9366, efermi=-0.90680763, spin_polarization=None)}, 'p': {'1': DosSummaryData(task_id=MPID(mp-848430), band_gap=4.65, cbm=3.7134, vbm=-0.9366, efermi=-0.90680763, spin_polarization=None)}, 'd': {'1': DosSummaryData(task_id=MPID(mp-848430), band_gap=35.7693, cbm=13.6096, vbm=-22.1597, efermi=-0.90680763, spin_polarization=None)}}, Element O: {'total': {'1': DosSummaryData(task_id=MPID(mp-848430), band_gap=4.65, cbm=3.7134, vbm=-0.9366, efermi=-0.90680763, spin_polarization=None)}, 's': {'1': DosSummaryData(task_id=MPID(mp-848430), band_gap=4.65, cbm=3.7134, vbm=-0.9366, efermi=-0.90680763, spin_polarization=None)}, 'p': {'1': DosSummaryData(task_id=MPID(mp-848430), band_gap=4.65, cbm=3.7134, vbm=-0.9366, efermi=-0.90680763, spin_polarization=None)}, 'd': {'1': DosSummaryData(task_id=MPID(mp-848430), band_gap=35.7693, cbm=13.6096, vbm=-22.1597, efermi=-0.90680763, spin_polarization=None)}}}, orbital={'s': {'1': DosSummaryData(task_id=MPID(mp-848430), band_gap=4.65, cbm=3.7134, vbm=-0.9366, efermi=-0.90680763, spin_polarization=None)}, 'p': {'1': DosSummaryData(task_id=MPID(mp-848430), band_gap=4.65, cbm=3.7134, vbm=-0.9366, efermi=-0.90680763, spin_polarization=None)}, 'd': {'1': DosSummaryData(task_id=MPID(mp-848430), band_gap=35.7693, cbm=13.6096, vbm=-22.1597, efermi=-0.90680763, spin_polarization=None)}}, magnetic_ordering='NM'),\n",
       "\u001b[1mdos_energy_up\u001b[0;0m=None,\n",
       "\u001b[1mdos_energy_down\u001b[0;0m=None,\n",
       "\u001b[1mis_magnetic\u001b[0;0m=False,\n",
       "\u001b[1mordering\u001b[0;0m='NM',\n",
       "\u001b[1mtotal_magnetization\u001b[0;0m=0.0084632,\n",
       "\u001b[1mtotal_magnetization_normalized_vol\u001b[0;0m=3.334817087313851e-06,\n",
       "\u001b[1mtotal_magnetization_normalized_formula_units\u001b[0;0m=0.00017631666666666668,\n",
       "\u001b[1mnum_magnetic_sites\u001b[0;0m=0,\n",
       "\u001b[1mnum_unique_magnetic_sites\u001b[0;0m=0,\n",
       "\u001b[1mtypes_of_magnetic_species\u001b[0;0m=[],\n",
       "\u001b[1mk_voigt\u001b[0;0m=None,\n",
       "\u001b[1mk_reuss\u001b[0;0m=None,\n",
       "\u001b[1mk_vrh\u001b[0;0m=None,\n",
       "\u001b[1mg_voigt\u001b[0;0m=None,\n",
       "\u001b[1mg_reuss\u001b[0;0m=None,\n",
       "\u001b[1mg_vrh\u001b[0;0m=None,\n",
       "\u001b[1muniversal_anisotropy\u001b[0;0m=None,\n",
       "\u001b[1mhomogeneous_poisson\u001b[0;0m=None,\n",
       "\u001b[1me_total\u001b[0;0m=None,\n",
       "\u001b[1me_ionic\u001b[0;0m=None,\n",
       "\u001b[1me_electronic\u001b[0;0m=None,\n",
       "\u001b[1mn\u001b[0;0m=None,\n",
       "\u001b[1me_ij_max\u001b[0;0m=None,\n",
       "\u001b[1mweighted_surface_energy_EV_PER_ANG2\u001b[0;0m=None,\n",
       "\u001b[1mweighted_surface_energy\u001b[0;0m=None,\n",
       "\u001b[1mweighted_work_function\u001b[0;0m=None,\n",
       "\u001b[1msurface_anisotropy\u001b[0;0m=None,\n",
       "\u001b[1mshape_factor\u001b[0;0m=None,\n",
       "\u001b[1mhas_reconstructed\u001b[0;0m=None,\n",
       "\u001b[1mpossible_species\u001b[0;0m=['Si4+', 'O2-'],\n",
       "\u001b[1mhas_props\u001b[0;0m=[<HasProps.magnetism: 'magnetism'>, <HasProps.materials: 'materials'>, <HasProps.oxi_states: 'oxi_states'>, <HasProps.provenance: 'provenance'>, <HasProps.dos: 'dos'>, <HasProps.electronic_structure: 'electronic_structure'>, <HasProps.thermo: 'thermo'>, <HasProps.bandstructure: 'bandstructure'>, <HasProps.xas: 'xas'>],\n",
       "\u001b[1mtheoretical\u001b[0;0m=True,\n",
       "\u001b[1mdatabase_IDs\u001b[0;0m={'icsd': ['icsd-170505']},\n",
       "\u001b[1mfields_not_requested\u001b[0;0m=[]\n",
       ")"
      ]
     },
     "execution_count": 30,
     "metadata": {},
     "output_type": "execute_result"
    }
   ],
   "source": [
    "docs[5]"
   ]
  },
  {
   "cell_type": "markdown",
   "metadata": {},
   "source": [
    "structure matcher"
   ]
  },
  {
   "cell_type": "code",
   "execution_count": 4,
   "metadata": {},
   "outputs": [],
   "source": [
    "from pymatgen.analysis.structure_matcher import StructureMatcher\n",
    "from pymatgen.core import Structure\n",
    "import os\n",
    "import rdkit.Chem as Chem\n",
    "from analyses import metrics"
   ]
  },
  {
   "cell_type": "code",
   "execution_count": 5,
   "metadata": {},
   "outputs": [],
   "source": [
    "db_dir = \"/home/songk/spherical-harmonic-net/conditional_generation/analysed_workdirs/test/silica-allegro-200k-train-steps-all-dec29/fait=1.0/pit=1.0/step=best/molecules/\"\n",
    "i = 4\n",
    "molecules = []\n",
    "with ase.db.connect(os.path.join(db_dir, f\"generated_molecules_init=mol_{i}.db\")) as db:\n",
    "    for row in db.select():\n",
    "        molecules.append(row.toatoms())"
   ]
  },
  {
   "cell_type": "code",
   "execution_count": 58,
   "metadata": {},
   "outputs": [],
   "source": [
    "for i in range(len(molecules)):\n",
    "    ase.io.write(f\"example_out_{i}.xyz\", molecules[i])"
   ]
  },
  {
   "cell_type": "code",
   "execution_count": 6,
   "metadata": {},
   "outputs": [
    {
     "data": {
      "application/vnd.jupyter.widget-view+json": {
       "model_id": "43cbb2376e5b47c8b01861968e990fbe",
       "version_major": 2,
       "version_minor": 0
      },
      "text/plain": [
       "Retrieving SummaryDoc documents:   0%|          | 0/343 [00:00<?, ?it/s]"
      ]
     },
     "metadata": {},
     "output_type": "display_data"
    },
    {
     "name": "stderr",
     "output_type": "stream",
     "text": [
      "[libprotobuf ERROR external/com_google_protobuf/src/google/protobuf/text_format.cc:337] Error parsing text-format tensorflow.data.experimental.DistributedSnapshotMetadata: 1:1: Invalid control characters encountered in text.\n",
      "[libprotobuf ERROR external/com_google_protobuf/src/google/protobuf/text_format.cc:337] Error parsing text-format tensorflow.data.experimental.DistributedSnapshotMetadata: 1:3: Expected identifier, got: 14253332890173845436\n",
      "[libprotobuf ERROR external/com_google_protobuf/src/google/protobuf/text_format.cc:337] Error parsing text-format tensorflow.data.experimental.DistributedSnapshotMetadata: 1:1: Invalid control characters encountered in text.\n",
      "[libprotobuf ERROR external/com_google_protobuf/src/google/protobuf/text_format.cc:337] Error parsing text-format tensorflow.data.experimental.DistributedSnapshotMetadata: 1:3: Expected identifier, got: 14253332890173845436\n",
      "[libprotobuf ERROR external/com_google_protobuf/src/google/protobuf/text_format.cc:337] Error parsing text-format tensorflow.data.experimental.DistributedSnapshotMetadata: 1:1: Invalid control characters encountered in text.\n",
      "[libprotobuf ERROR external/com_google_protobuf/src/google/protobuf/text_format.cc:337] Error parsing text-format tensorflow.data.experimental.DistributedSnapshotMetadata: 1:3: Expected identifier, got: 12107602734333841768\n",
      "[libprotobuf ERROR external/com_google_protobuf/src/google/protobuf/text_format.cc:337] Error parsing text-format tensorflow.data.experimental.DistributedSnapshotMetadata: 1:1: Invalid control characters encountered in text.\n",
      "[libprotobuf ERROR external/com_google_protobuf/src/google/protobuf/text_format.cc:337] Error parsing text-format tensorflow.data.experimental.DistributedSnapshotMetadata: 1:3: Expected identifier, got: 6336715732035909091\n",
      "[libprotobuf ERROR external/com_google_protobuf/src/google/protobuf/text_format.cc:337] Error parsing text-format tensorflow.data.experimental.DistributedSnapshotMetadata: 1:1: Invalid control characters encountered in text.\n",
      "[libprotobuf ERROR external/com_google_protobuf/src/google/protobuf/text_format.cc:337] Error parsing text-format tensorflow.data.experimental.DistributedSnapshotMetadata: 1:3: Expected identifier, got: 10390930435578851394\n",
      "[libprotobuf ERROR external/com_google_protobuf/src/google/protobuf/text_format.cc:337] Error parsing text-format tensorflow.data.experimental.DistributedSnapshotMetadata: 1:1: Invalid control characters encountered in text.\n",
      "[libprotobuf ERROR external/com_google_protobuf/src/google/protobuf/text_format.cc:337] Error parsing text-format tensorflow.data.experimental.DistributedSnapshotMetadata: 1:3: Expected identifier, got: 7430093620166160715\n",
      "[libprotobuf ERROR external/com_google_protobuf/src/google/protobuf/text_format.cc:337] Error parsing text-format tensorflow.data.experimental.DistributedSnapshotMetadata: 1:1: Invalid control characters encountered in text.\n",
      "[libprotobuf ERROR external/com_google_protobuf/src/google/protobuf/text_format.cc:337] Error parsing text-format tensorflow.data.experimental.DistributedSnapshotMetadata: 1:3: Expected identifier, got: 15898380060150159424\n"
     ]
    }
   ],
   "source": [
    "beta_species = 1.0\n",
    "beta_position = 1.0\n",
    "step = \"best\"\n",
    "num_seeds_per_chunk = 1\n",
    "max_num_atoms = 200  # ?\n",
    "visualize = False\n",
    "num_mols = 5\n",
    "config = allegro.get_config()\n",
    "\n",
    "molecules = input_pipeline_tf.get_raw_silica_datasets(config)\n",
    "mols_by_split = {\"train\": [], \"test\": []}\n",
    "\n",
    "# Root directory of the dataset.\n",
    "filenames = sorted(os.listdir(config.root_dir))\n",
    "filenames = [\n",
    "    os.path.join(config.root_dir, f)\n",
    "    for f in filenames\n",
    "    if f.startswith(\"fragments_\")\n",
    "]\n",
    "if len(filenames) == 0:\n",
    "    raise ValueError(f\"No files found in {config.root_dir}.\")\n",
    "\n",
    "# Partition the filenames into train, val, and test.\n",
    "def filter_by_molecule_number(\n",
    "    filenames, start: int, end: int\n",
    "):\n",
    "    def filter_file(filename: str, start: int, end: int) -> bool:\n",
    "        filename = os.path.basename(filename)\n",
    "        _, file_start, file_end = [int(val) for val in re.findall(r\"\\d+\", filename)]\n",
    "        return start <= file_start and file_end <= end\n",
    "\n",
    "    return [f for f in filenames if filter_file(f, start, end)]\n",
    "\n",
    "# Number of molecules for training can be smaller than the chunk size.\n",
    "chunk_size = int(filenames[0].split(\"_\")[-1])\n",
    "train_on_split_smaller_than_chunk = config.get(\"train_on_split_smaller_than_chunk\")\n",
    "if train_on_split_smaller_than_chunk:\n",
    "    train_molecules = (0, chunk_size)\n",
    "else:\n",
    "    train_molecules = config.train_molecules\n",
    "files_by_split = {\n",
    "    \"train\": filter_by_molecule_number(filenames, *train_molecules),\n",
    "    \"test\": filter_by_molecule_number(filenames, *config.test_molecules),\n",
    "}\n",
    "\n",
    "element_spec = tf.data.Dataset.load(filenames[0]).element_spec\n",
    "for split, files in files_by_split.items():\n",
    "    dataset_split = tf.data.Dataset.from_tensor_slices(files)\n",
    "    dataset_split = dataset_split.interleave(\n",
    "        lambda x: tf.data.Dataset.load(x, element_spec=element_spec),\n",
    "        num_parallel_calls=tf.data.AUTOTUNE,\n",
    "        deterministic=True,\n",
    "    )\n",
    "    dataset_split = dataset_split.map(\n",
    "        input_pipeline_tf._convert_to_graphstuple,\n",
    "        num_parallel_calls=tf.data.AUTOTUNE,\n",
    "        deterministic=True,\n",
    "    )\n",
    "    mols_by_split[split] = list(dataset_split.as_numpy_iterator())\n",
    "\n",
    "# mols_by_split['train'] = mols_by_split['train'][:num_mols]\n",
    "# mols_by_split['test'] = mols_by_split['test'][-num_mols:]"
   ]
  },
  {
   "cell_type": "code",
   "execution_count": 20,
   "metadata": {},
   "outputs": [],
   "source": [
    "ase_mols_by_split = {'train': [], 'test': []}\n",
    "for split, mols in mols_by_split.items():\n",
    "    for mol in mols:\n",
    "        ase_mols_by_split[split].append(\n",
    "            ase.Atoms(\n",
    "                positions=mol.nodes.positions,\n",
    "                numbers=get_atomic_numbers(\n",
    "                    mol.nodes.species\n",
    "                ),\n",
    "                cell=np.squeeze(mol.globals.cell, axis=0),\n",
    "                pbc=True\n",
    "            )\n",
    "        )\n",
    "import pickle\n",
    "with open('ase_mols_by_split.pkl', 'wb') as f:\n",
    "    pickle.dump(ase_mols_by_split, f)"
   ]
  },
  {
   "cell_type": "code",
   "execution_count": 7,
   "metadata": {},
   "outputs": [],
   "source": [
    "def ase_to_structure(mol):\n",
    "    return Structure(mol.get_cell(), mol.get_atomic_numbers(), mol.get_positions())\n",
    "\n",
    "def structure_to_ase(struct):\n",
    "    return ase.Atoms(positions=struct.cart_coords, numbers=struct.atomic_numbers, cell=struct.lattice.matrix)\n",
    "\n",
    "def ase_to_rdkit(mol):\n",
    "    ase.io.write('/tmp/test.xyz', mol)\n",
    "    return Chem.MolFromXYZFile(\"/tmp/test.xyz\")\n",
    "\n",
    "def graphstuple_to_ase(graph):\n",
    "    return ase.Atoms(positions=graph.nodes.positions, numbers=np.vectorize(lambda x: 14 if x else 8)(graph.nodes.species))"
   ]
  },
  {
   "cell_type": "code",
   "execution_count": 53,
   "metadata": {},
   "outputs": [],
   "source": [
    "for i in range(10):\n",
    "    ase.io.write(f\"example_{i}.xyz\", graphstuple_to_ase(mols_by_split['train'][i]))"
   ]
  },
  {
   "cell_type": "code",
   "execution_count": 8,
   "metadata": {},
   "outputs": [
    {
     "name": "stderr",
     "output_type": "stream",
     "text": [
      "WARNING:posebusters.modules.distance_geometry:Molecule has no bonds.\n"
     ]
    },
    {
     "data": {
      "text/html": [
       "<div>\n",
       "<style scoped>\n",
       "    .dataframe tbody tr th:only-of-type {\n",
       "        vertical-align: middle;\n",
       "    }\n",
       "\n",
       "    .dataframe tbody tr th {\n",
       "        vertical-align: top;\n",
       "    }\n",
       "\n",
       "    .dataframe thead th {\n",
       "        text-align: right;\n",
       "    }\n",
       "</style>\n",
       "<table border=\"1\" class=\"dataframe\">\n",
       "  <thead>\n",
       "    <tr style=\"text-align: right;\">\n",
       "      <th></th>\n",
       "      <th></th>\n",
       "      <th>mol_pred_loaded</th>\n",
       "      <th>sanitization</th>\n",
       "      <th>all_atoms_connected</th>\n",
       "      <th>bond_lengths</th>\n",
       "      <th>bond_angles</th>\n",
       "      <th>internal_steric_clash</th>\n",
       "      <th>aromatic_ring_flatness</th>\n",
       "      <th>double_bond_flatness</th>\n",
       "      <th>internal_energy</th>\n",
       "    </tr>\n",
       "    <tr>\n",
       "      <th>file</th>\n",
       "      <th>molecule</th>\n",
       "      <th></th>\n",
       "      <th></th>\n",
       "      <th></th>\n",
       "      <th></th>\n",
       "      <th></th>\n",
       "      <th></th>\n",
       "      <th></th>\n",
       "      <th></th>\n",
       "      <th></th>\n",
       "    </tr>\n",
       "  </thead>\n",
       "  <tbody>\n",
       "    <tr>\n",
       "      <th>&lt;rdkit.Chem.rdchem.Mol object at 0x7fea486a98c0&gt;</th>\n",
       "      <th>mol_at_pos_0</th>\n",
       "      <td>True</td>\n",
       "      <td>True</td>\n",
       "      <td>False</td>\n",
       "      <td>True</td>\n",
       "      <td>True</td>\n",
       "      <td>False</td>\n",
       "      <td>True</td>\n",
       "      <td>True</td>\n",
       "      <td>False</td>\n",
       "    </tr>\n",
       "  </tbody>\n",
       "</table>\n",
       "</div>"
      ],
      "text/plain": [
       "                                                               mol_pred_loaded  \\\n",
       "file                                             molecule                        \n",
       "<rdkit.Chem.rdchem.Mol object at 0x7fea486a98c0> mol_at_pos_0             True   \n",
       "\n",
       "                                                               sanitization  \\\n",
       "file                                             molecule                     \n",
       "<rdkit.Chem.rdchem.Mol object at 0x7fea486a98c0> mol_at_pos_0          True   \n",
       "\n",
       "                                                               all_atoms_connected  \\\n",
       "file                                             molecule                            \n",
       "<rdkit.Chem.rdchem.Mol object at 0x7fea486a98c0> mol_at_pos_0                False   \n",
       "\n",
       "                                                               bond_lengths  \\\n",
       "file                                             molecule                     \n",
       "<rdkit.Chem.rdchem.Mol object at 0x7fea486a98c0> mol_at_pos_0          True   \n",
       "\n",
       "                                                               bond_angles  \\\n",
       "file                                             molecule                    \n",
       "<rdkit.Chem.rdchem.Mol object at 0x7fea486a98c0> mol_at_pos_0         True   \n",
       "\n",
       "                                                               internal_steric_clash  \\\n",
       "file                                             molecule                              \n",
       "<rdkit.Chem.rdchem.Mol object at 0x7fea486a98c0> mol_at_pos_0                  False   \n",
       "\n",
       "                                                               aromatic_ring_flatness  \\\n",
       "file                                             molecule                               \n",
       "<rdkit.Chem.rdchem.Mol object at 0x7fea486a98c0> mol_at_pos_0                    True   \n",
       "\n",
       "                                                               double_bond_flatness  \\\n",
       "file                                             molecule                             \n",
       "<rdkit.Chem.rdchem.Mol object at 0x7fea486a98c0> mol_at_pos_0                  True   \n",
       "\n",
       "                                                               internal_energy  \n",
       "file                                             molecule                       \n",
       "<rdkit.Chem.rdchem.Mol object at 0x7fea486a98c0> mol_at_pos_0            False  "
      ]
     },
     "execution_count": 8,
     "metadata": {},
     "output_type": "execute_result"
    }
   ],
   "source": [
    "rdkit_mol = ase_to_rdkit(structure_to_ase(structures[0]))\n",
    "metrics.get_posebusters_results([rdkit_mol])  # what's the steric clash check? is there a cutoff?"
   ]
  },
  {
   "cell_type": "code",
   "execution_count": 11,
   "metadata": {},
   "outputs": [
    {
     "data": {
      "image/png": "[encoded data removed]",
      "text/plain": [
       "<rdkit.Chem.rdchem.Mol at 0x7fea486a98c0>"
      ]
     },
     "execution_count": 11,
     "metadata": {},
     "output_type": "execute_result"
    }
   ],
   "source": [
    "rdkit_mol"
   ]
  },
  {
   "cell_type": "code",
   "execution_count": 22,
   "metadata": {},
   "outputs": [
    {
     "data": {
      "text/plain": [
       "False"
      ]
     },
     "execution_count": 22,
     "metadata": {},
     "output_type": "execute_result"
    }
   ],
   "source": [
    "# CDVAE (https://arxiv.org/pdf/2110.06197.pdf) uses this for similarity to original structure\n",
    "for struct in structures:\n",
    "    if StructureMatcher().fit(ase_to_structure(ase.Atoms(symbols=\"CO2\")), struct):\n",
    "        print(struct)\n",
    "        break"
   ]
  },
  {
   "cell_type": "code",
   "execution_count": null,
   "metadata": {},
   "outputs": [],
   "source": []
  }
 ],
 "metadata": {
  "kernelspec": {
   "display_name": "sh-net",
   "language": "python",
   "name": "python3"
  },
  "language_info": {
   "codemirror_mode": {
    "name": "ipython",
    "version": 3
   },
   "file_extension": ".py",
   "mimetype": "text/x-python",
   "name": "python",
   "nbconvert_exporter": "python",
   "pygments_lexer": "ipython3",
   "version": "3.10.13"
  }
 },
 "nbformat": 4,
 "nbformat_minor": 2
}
