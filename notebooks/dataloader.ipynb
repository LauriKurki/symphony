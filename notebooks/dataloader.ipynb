{
 "cells": [
  {
   "cell_type": "code",
   "execution_count": 1,
   "metadata": {},
   "outputs": [],
   "source": [
    "import sys\n",
    "\n",
    "sys.path.append(\"..\")\n",
    "\n",
    "import jax\n",
    "import jax.numpy as jnp\n",
    "from input_pipeline import dataloader\n",
    "from qm9 import load_qm9"
   ]
  },
  {
   "cell_type": "code",
   "execution_count": 2,
   "metadata": {},
   "outputs": [],
   "source": [
    "molecules = load_qm9(\"qm9_data\")[:2]\n",
    "atomic_numbers = jnp.array([1, 6, 7, 8, 9])\n",
    "epsilon = 0.1  # Angstroms\n",
    "cutoff = 5.0  # Angstroms\n",
    "\n",
    "loader = dataloader(jax.random.PRNGKey(0), molecules, atomic_numbers, epsilon, cutoff, 10, 20, 10)\n"
   ]
  },
  {
   "cell_type": "code",
   "execution_count": 19,
   "metadata": {},
   "outputs": [
    {
     "data": {
      "image/png": "[encoded data removed]",
      "text/plain": [
       "<Figure size 640x480 with 1 Axes>"
      ]
     },
     "metadata": {},
     "output_type": "display_data"
    }
   ],
   "source": [
    "RADII = jnp.arange(0.75, 2.03, 0.02)\n",
    "target_position = 1.583\n",
    "radius_rbf_variance = (0.015)**2\n",
    "radius_weights = jax.vmap(\n",
    "        lambda radius: jnp.exp(\n",
    "            -((radius - jnp.linalg.norm(target_position)) ** 2)\n",
    "            / (2 * radius_rbf_variance)\n",
    "        )\n",
    "    )(RADII)\n",
    "radius_weights = radius_weights / jnp.sum(radius_weights)\n",
    "\n",
    "import matplotlib.pyplot as plt\n",
    "plt.axvline(target_position, color=\"gray\", linestyle=\"--\")\n",
    "plt.plot(RADII, radius_weights, '.-');"
   ]
  },
  {
   "cell_type": "code",
   "execution_count": 16,
   "metadata": {},
   "outputs": [
    {
     "data": {
      "text/plain": [
       "0.0004"
      ]
     },
     "execution_count": 16,
     "metadata": {},
     "output_type": "execute_result"
    }
   ],
   "source": [
    "0.02**2"
   ]
  },
  {
   "cell_type": "code",
   "execution_count": 4,
   "metadata": {},
   "outputs": [
    {
     "name": "stdout",
     "output_type": "stream",
     "text": [
      "10 graphs\n",
      "10 nodes: [4 2 2 2 0 0 0 0 0 0]\n",
      "16 edges: [12  2  2  0  0  0  0  0  0  0]\n"
     ]
    }
   ],
   "source": [
    "graphs = next(loader)\n",
    "\n",
    "print(f\"{len(graphs.n_node)} graphs\")\n",
    "print(f\"{graphs.n_node.sum()} nodes: {graphs.n_node}\") \n",
    "print(f\"{graphs.n_edge.sum()} edges: {graphs.n_edge}\")"
   ]
  },
  {
   "cell_type": "code",
   "execution_count": 5,
   "metadata": {},
   "outputs": [],
   "source": [
    "shapes = []\n",
    "\n",
    "for _ in range(200):\n",
    "    graphs = next(loader)\n",
    "\n",
    "    shapes.append((len(graphs.n_node), graphs.n_node.sum(), graphs.n_edge.sum()))"
   ]
  },
  {
   "cell_type": "code",
   "execution_count": 6,
   "metadata": {},
   "outputs": [
    {
     "data": {
      "text/plain": [
       "{(10, 3, 2),\n",
       " (10, 4, 2),\n",
       " (10, 4, 6),\n",
       " (10, 6, 4),\n",
       " (10, 6, 6),\n",
       " (10, 6, 8),\n",
       " (10, 6, 12),\n",
       " (10, 6, 20),\n",
       " (10, 8, 2),\n",
       " (10, 8, 6),\n",
       " (10, 8, 8),\n",
       " (10, 8, 12),\n",
       " (10, 8, 16),\n",
       " (10, 8, 20),\n",
       " (10, 10, 8),\n",
       " (10, 10, 12),\n",
       " (10, 10, 16),\n",
       " (10, 10, 20)}"
      ]
     },
     "execution_count": 6,
     "metadata": {},
     "output_type": "execute_result"
    }
   ],
   "source": [
    "set(shapes)"
   ]
  },
  {
   "cell_type": "code",
   "execution_count": null,
   "metadata": {},
   "outputs": [],
   "source": []
  }
 ],
 "metadata": {
  "kernelspec": {
   "display_name": "base3.10",
   "language": "python",
   "name": "python3"
  },
  "language_info": {
   "codemirror_mode": {
    "name": "ipython",
    "version": 3
   },
   "file_extension": ".py",
   "mimetype": "text/x-python",
   "name": "python",
   "nbconvert_exporter": "python",
   "pygments_lexer": "ipython3",
   "version": "3.10.9"
  },
  "orig_nbformat": 4,
  "vscode": {
   "interpreter": {
    "hash": "d56864912356824c4620b99a45bdb852210f1cb60f3cd45427bf8c267e6a01bd"
   }
  }
 },
 "nbformat": 4,
 "nbformat_minor": 2
}
