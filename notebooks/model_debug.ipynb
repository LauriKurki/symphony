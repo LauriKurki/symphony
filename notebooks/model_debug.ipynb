{
 "cells": [
  {
   "cell_type": "code",
   "execution_count": 1,
   "metadata": {},
   "outputs": [],
   "source": [
    "import e3nn_jax as e3nn"
   ]
  },
  {
   "cell_type": "code",
   "execution_count": 2,
   "metadata": {},
   "outputs": [],
   "source": [
    "def _irreps_from_lmax(\n",
    "    lmax: int, num_channels: int\n",
    ") -> e3nn.Irreps:\n",
    "    \"\"\"Convenience function to create irreps from lmax.\"\"\"\n",
    "    irreps = e3nn.s2_irreps(lmax)\n",
    "    return (num_channels * irreps).regroup()"
   ]
  },
  {
   "cell_type": "code",
   "execution_count": 3,
   "metadata": {},
   "outputs": [],
   "source": [
    "irreps = _irreps_from_lmax(5, 64)\n",
    "keep=e3nn.tensor_product(\n",
    "        irreps,\n",
    "        e3nn.Irreps.spherical_harmonics(lmax=5)).regroup()"
   ]
  },
  {
   "cell_type": "code",
   "execution_count": 4,
   "metadata": {},
   "outputs": [
    {
     "data": {
      "text/plain": [
       "384x0e+640x1o+320x1e+832x2e+512x2o+896x3o+640x3e+896x4e+640x4o+768x5o+576x5e+576x6e+384x6o+384x7o+256x7e+256x8e+128x8o+128x9o+64x9e+64x10e"
      ]
     },
     "execution_count": 4,
     "metadata": {},
     "output_type": "execute_result"
    }
   ],
   "source": [
    "keep"
   ]
  },
  {
   "cell_type": "code",
   "execution_count": 5,
   "metadata": {},
   "outputs": [
    {
     "data": {
      "text/plain": [
       "64x0e+64x1o+64x2e+64x3o+64x4e+64x5o"
      ]
     },
     "execution_count": 5,
     "metadata": {},
     "output_type": "execute_result"
    }
   ],
   "source": [
    "irreps.filter(keep=keep)"
   ]
  },
  {
   "cell_type": "code",
   "execution_count": null,
   "metadata": {},
   "outputs": [],
   "source": [
    "\n",
    "irreps.filter(\n",
    "    keep=e3nn.tensor_product(\n",
    "        irreps,\n",
    "        e3nn.Irreps.spherical_harmonics(lmax=5),\n",
    "    ).regroup()\n",
    ")"
   ]
  }
 ],
 "metadata": {
  "kernelspec": {
   "display_name": "sh-net",
   "language": "python",
   "name": "python3"
  },
  "language_info": {
   "codemirror_mode": {
    "name": "ipython",
    "version": 3
   },
   "file_extension": ".py",
   "mimetype": "text/x-python",
   "name": "python",
   "nbconvert_exporter": "python",
   "pygments_lexer": "ipython3",
   "version": "3.10.13"
  }
 },
 "nbformat": 4,
 "nbformat_minor": 2
}
