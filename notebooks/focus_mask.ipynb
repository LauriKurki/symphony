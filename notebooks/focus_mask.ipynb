{
 "cells": [
  {
   "cell_type": "code",
   "execution_count": 1,
   "metadata": {},
   "outputs": [],
   "source": [
    "import jraph\n",
    "import jax\n",
    "import jax.numpy as jnp"
   ]
  },
  {
   "cell_type": "code",
   "execution_count": 38,
   "metadata": {},
   "outputs": [
    {
     "data": {
      "text/plain": [
       "Array([ True, False,  True, False, False,  True], dtype=bool)"
      ]
     },
     "execution_count": 38,
     "metadata": {},
     "output_type": "execute_result"
    }
   ],
   "source": [
    "def focus_mask_for_graph(index):\n",
    "    focus_probs_for_graph = jnp.where(segment_ids == index, focus_probs, 0.)\n",
    "    max_index = jnp.argmax(focus_probs_for_graph)\n",
    "    has_enough_nodes = (n_node[index] >= num_nodes_for_multifocus)\n",
    "    focus_mask_for_graph = jnp.where(segment_ids == index, jnp.logical_or(jnp.arange(num_nodes) == max_index, has_enough_nodes), 1.)\n",
    "    return focus_mask_for_graph\n",
    "\n",
    "\n",
    "n_node = jnp.asarray([1, 2, 3])\n",
    "focus_probs = jnp.asarray([0.1, 0.2, 0.3, 0.4, 0.5, 0.6])\n",
    "num_nodes = n_node.sum()\n",
    "num_graphs = len(n_node)\n",
    "num_nodes_for_multifocus = 4\n",
    "segment_ids = jnp.asarray([0, 1, 1, 2, 2, 2])\n",
    "\n",
    "jnp.all(jax.vmap(focus_mask_for_graph)(jnp.arange(num_graphs)), axis=0)"
   ]
  },
  {
   "cell_type": "code",
   "execution_count": null,
   "metadata": {},
   "outputs": [],
   "source": [
    "h"
   ]
  }
 ],
 "metadata": {
  "kernelspec": {
   "display_name": ".venv",
   "language": "python",
   "name": "python3"
  },
  "language_info": {
   "codemirror_mode": {
    "name": "ipython",
    "version": 3
   },
   "file_extension": ".py",
   "mimetype": "text/x-python",
   "name": "python",
   "nbconvert_exporter": "python",
   "pygments_lexer": "ipython3",
   "version": "3.10.12"
  }
 },
 "nbformat": 4,
 "nbformat_minor": 2
}
