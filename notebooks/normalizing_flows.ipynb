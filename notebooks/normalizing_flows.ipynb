{
 "cells": [
  {
   "cell_type": "code",
   "execution_count": 57,
   "metadata": {},
   "outputs": [],
   "source": [
    "import jax\n",
    "import jax.numpy as jnp\n",
    "import matplotlib.pyplot as plt\n",
    "import distrax\n",
    "import haiku as hk\n",
    "import optax"
   ]
  },
  {
   "cell_type": "code",
   "execution_count": 58,
   "metadata": {},
   "outputs": [],
   "source": [
    "true_dist = distrax.MixtureOfTwo(0.5,\n",
    "                                 distrax.Normal(loc=1., scale=0.1),\n",
    "                                 distrax.Normal(loc=3., scale=0.1)) "
   ]
  },
  {
   "cell_type": "code",
   "execution_count": 59,
   "metadata": {},
   "outputs": [],
   "source": [
    "num_bins = 10\n",
    "rng = jax.random.PRNGKey(1234)\n",
    "num_layers = 4\n",
    "range_min = 0.\n",
    "range_max = 5."
   ]
  },
  {
   "cell_type": "code",
   "execution_count": 60,
   "metadata": {},
   "outputs": [],
   "source": [
    "class RQSpline(hk.Module):\n",
    "\n",
    "    def __init__(self, num_bins, range_min, range_max, num_layers: int):\n",
    "        super().__init__()\n",
    "        self.num_bins = num_bins\n",
    "        self.range_min = range_min\n",
    "        self.range_max = range_max\n",
    "        self.num_layers = num_layers\n",
    "\n",
    "    def create_flow(self, conditioning):\n",
    "        layers = []\n",
    "        for _ in range(self.num_layers):\n",
    "            params = hk.nets.MLP([8, self.num_bins * 3 + 1], activate_final=False)(conditioning)\n",
    "            layer = distrax.RationalQuadraticSpline(params, self.range_min, self.range_max)\n",
    "            layers.append(layer)\n",
    "\n",
    "        flow = distrax.Inverse(distrax.Chain(layers))\n",
    "        return flow\n",
    "\n",
    "    def create_distribution(self, conditioning):\n",
    "        flow = self.create_flow(conditioning)\n",
    "        base_distribution = distrax.Independent(\n",
    "            distrax.Uniform(self.range_min, self.range_max),\n",
    "            reinterpreted_batch_ndims=0)\n",
    "\n",
    "        dist = distrax.Transformed(base_distribution, flow)\n",
    "        return dist\n",
    "\n",
    "    def forward(self, samples, conditioning):\n",
    "        flow = self.create_flow(conditioning)\n",
    "        return flow.forward(samples)\n",
    "    \n",
    "    def log_prob(self, samples, conditioning):\n",
    "        assert conditioning.shape[:-1] == samples.shape[:-1]\n",
    "        dist = self.create_distribution(conditioning)\n",
    "        return dist.log_prob(samples)\n",
    "\n",
    "    def sample(self, conditioning):\n",
    "        dist = self.create_distribution(conditioning)\n",
    "        rng = hk.next_rng_key()\n",
    "        return dist.sample(seed=rng, sample_shape=conditioning.shape[:-1])"
   ]
  },
  {
   "cell_type": "code",
   "execution_count": 61,
   "metadata": {},
   "outputs": [],
   "source": [
    "\n",
    "@hk.without_apply_rng\n",
    "@hk.transform\n",
    "def log_prob_fn(samples, conditioning):\n",
    "    return hk.vmap(RQSpline(num_bins, range_min, range_max, num_layers).log_prob, split_rng=False)(samples, conditioning)\n",
    "\n",
    "\n",
    "@hk.transform\n",
    "def sample_fn(conditioning):\n",
    "    return hk.vmap(RQSpline(num_bins, range_min, range_max, num_layers).sample, split_rng=True)(conditioning)\n",
    "\n",
    "\n",
    "@hk.without_apply_rng\n",
    "@hk.transform\n",
    "def forward_fn(base_samples, conditioning):\n",
    "    return hk.vmap(RQSpline(num_bins, range_min, range_max, num_layers).forward, split_rng=False)(base_samples, conditioning)"
   ]
  },
  {
   "cell_type": "code",
   "execution_count": 62,
   "metadata": {},
   "outputs": [
    {
     "name": "stdout",
     "output_type": "stream",
     "text": [
      "step: 0 loss: 0.83987796\n",
      "step: 1000 loss: -0.010293775\n",
      "step: 2000 loss: 0.0631418\n",
      "step: 3000 loss: 0.114623055\n",
      "step: 4000 loss: 0.10028616\n",
      "step: 5000 loss: -0.33724642\n",
      "step: 6000 loss: 0.0007782645\n",
      "step: 7000 loss: -0.17828219\n",
      "step: 8000 loss: -0.2420404\n",
      "step: 9000 loss: -0.12564795\n",
      "step: 10000 loss: -0.2598433\n",
      "step: 11000 loss: -0.24131542\n",
      "step: 12000 loss: -0.18035294\n",
      "step: 13000 loss: -0.114505\n",
      "step: 14000 loss: -0.39719814\n",
      "step: 15000 loss: -0.44694176\n",
      "step: 16000 loss: -0.3849491\n",
      "step: 17000 loss: -0.24036959\n",
      "step: 18000 loss: -0.15196933\n",
      "step: 19000 loss: -0.03739472\n"
     ]
    }
   ],
   "source": [
    "def loss_fn(params, true_samples, true_conditioning):\n",
    "    loss = -jnp.mean(log_prob_fn.apply(params, true_samples, true_conditioning))\n",
    "    return loss\n",
    "\n",
    "batch_size = 18\n",
    "dummy_samples = jnp.zeros((batch_size, 1))\n",
    "dummy_conditioning = jnp.ones_like(dummy_samples)\n",
    "params = log_prob_fn.init(rng, dummy_samples, dummy_conditioning)\n",
    "tx = optax.adam(1e-4)\n",
    "opt_state = tx.init(params)\n",
    "\n",
    "@jax.jit\n",
    "def train_step(params, opt_state, true_samples, true_conditioning):\n",
    "    grads = jax.grad(loss_fn)(params, true_samples, true_conditioning)\n",
    "    updates, opt_state = tx.update(grads, opt_state)\n",
    "    params = optax.apply_updates(params, updates)\n",
    "    return params, opt_state\n",
    "\n",
    "\n",
    "for step in range(20000):\n",
    "    step_rng, rng = jax.random.split(rng)\n",
    "    true_samples = true_dist.sample(seed=rng, sample_shape=(batch_size, 1))\n",
    "    true_conditioning = jnp.ones_like(true_samples)\n",
    "    params, opt_state = train_step(params, opt_state, true_samples, true_conditioning)\n",
    "    if step % 1000 == 0:\n",
    "        print(\"step:\", step, \"loss:\", loss_fn(params, true_samples, true_conditioning))\n"
   ]
  },
  {
   "cell_type": "code",
   "execution_count": 65,
   "metadata": {},
   "outputs": [
    {
     "data": {
      "image/png": "[encoded data removed]",
      "text/plain": [
       "<Figure size 640x480 with 1 Axes>"
      ]
     },
     "metadata": {},
     "output_type": "display_data"
    }
   ],
   "source": [
    "true_samples = true_dist.sample(seed=rng, sample_shape=(1000, 1))\n",
    "true_conditioning = jnp.ones_like(true_samples)\n",
    "samples = sample_fn.apply(params, rng, true_conditioning)\n",
    "plt.hist(samples.flatten(), bins=100, density=True)\n",
    "plt.hist(true_samples.flatten(), bins=100, density=True)\n",
    "plt.show()"
   ]
  },
  {
   "cell_type": "code",
   "execution_count": 72,
   "metadata": {},
   "outputs": [
    {
     "data": {
      "image/png": "[encoded data removed]",
      "text/plain": [
       "<Figure size 640x480 with 1 Axes>"
      ]
     },
     "metadata": {},
     "output_type": "display_data"
    }
   ],
   "source": [
    "# Visualize flow\n",
    "x = jnp.linspace(range_min, range_max, 1000)[..., None]\n",
    "y = forward_fn.apply(params, x, jnp.ones_like(x))\n",
    "plt.plot(x.flatten(), y.flatten(), label='true');"
   ]
  }
 ],
 "metadata": {
  "kernelspec": {
   "display_name": ".venv",
   "language": "python",
   "name": "python3"
  },
  "language_info": {
   "codemirror_mode": {
    "name": "ipython",
    "version": 3
   },
   "file_extension": ".py",
   "mimetype": "text/x-python",
   "name": "python",
   "nbconvert_exporter": "python",
   "pygments_lexer": "ipython3",
   "version": "3.10.12"
  }
 },
 "nbformat": 4,
 "nbformat_minor": 2
}
