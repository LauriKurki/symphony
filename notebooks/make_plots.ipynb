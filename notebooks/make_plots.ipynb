{
 "cells": [
  {
   "cell_type": "code",
   "execution_count": null,
   "metadata": {},
   "outputs": [],
   "source": [
    "import os\n",
    "import seaborn as sns\n",
    "import matplotlib.pyplot as plt\n",
    "\n",
    "import sys\n",
    "sys.path.append('..')"
   ]
  },
  {
   "cell_type": "code",
   "execution_count": null,
   "metadata": {},
   "outputs": [],
   "source": [
    "%load_ext autoreload"
   ]
  },
  {
   "cell_type": "code",
   "execution_count": null,
   "metadata": {},
   "outputs": [],
   "source": [
    "%autoreload 2\n",
    "import analyses.analysis as analysis\n",
    "import analyses.process_generated_molecules as process_generated_molecules"
   ]
  },
  {
   "cell_type": "code",
   "execution_count": null,
   "metadata": {},
   "outputs": [],
   "source": [
    "BASEDIR = \"../potato_workdirs/tetris/\"\n",
    "BASEDIR = \"../potato_workdirs/platonic_solids/\"\n",
    "BASEDIR = \"../potato_workdirs/qm9_10JUL/\"\n",
    "BASEDIR = \"../potato_workdirs/qm9_global_embedding_exp_with_noise/nequip/interactions=3/l=4/position_channels=5/channels=64/global_embed=False/\"\n",
    "BASEDIR = \"../potato_workdirs/\""
   ]
  },
  {
   "cell_type": "code",
   "execution_count": null,
   "metadata": {},
   "outputs": [],
   "source": [
    "# Get results.\n",
    "basedir = os.path.abspath(BASEDIR)\n",
    "results = analysis.get_results_as_dataframe(basedir)\n",
    "results\n"
   ]
  },
  {
   "cell_type": "code",
   "execution_count": null,
   "metadata": {},
   "outputs": [],
   "source": [
    "sns.set_theme(style=\"darkgrid\")\n",
    "# Set marker sizes depending on max_l.\n",
    "sns.lineplot(\n",
    "    data=results,\n",
    "    x=\"num_params\",\n",
    "    y=\"val_eval_final.position_loss\",\n",
    "    hue=\"max_l\",\n",
    "    style=\"max_l\",\n",
    "    markersize=10,\n",
    "    markers=True,\n",
    "    dashes=True,\n",
    ")\n",
    "# Set legend title as Max L.\n",
    "plt.legend(title=\"Max L\", loc=\"upper right\")\n",
    "# Set axis labels.\n",
    "plt.xlabel(\"Number of Parameters\")\n",
    "plt.ylabel(\"Validation Loss\")\n",
    "plt.title(\"QM9\")\n",
    "plt.show();\n"
   ]
  },
  {
   "attachments": {},
   "cell_type": "markdown",
   "metadata": {},
   "source": [
    "# EDM Analyses"
   ]
  },
  {
   "cell_type": "code",
   "execution_count": null,
   "metadata": {},
   "outputs": [],
   "source": [
    "molecules_basedir = \"/Users/ameyad/Documents/spherical-harmonic-net/analyses/analysed_workdirs/qm9_bessel_embedding\"\n",
    "preprocess = True\n",
    "if preprocess:\n",
    "    process_generated_molecules.process_molecules_dirs(molecules_basedir, relax_structures=False)\n",
    "    \n",
    "edm_analyses_results_orig = analysis.get_edm_analyses_results_as_dataframe(molecules_basedir, extract_hyperparams_from_path=True, read_as_sdf=True)"
   ]
  },
  {
   "cell_type": "code",
   "execution_count": null,
   "metadata": {},
   "outputs": [],
   "source": [
    "0.944685\t* 0.960964"
   ]
  },
  {
   "cell_type": "code",
   "execution_count": null,
   "metadata": {},
   "outputs": [],
   "source": [
    "edm_analyses_results_orig.sort_values(by=\"fraction_atoms_stable\", ascending=False)[edm_analyses_results_orig[\"step\"] == \"best\"]"
   ]
  },
  {
   "cell_type": "code",
   "execution_count": null,
   "metadata": {},
   "outputs": [],
   "source": [
    "edm_analyses_results = edm_analyses_results_orig.loc[edm_analyses_results[\"step\"] != \"best\"]"
   ]
  },
  {
   "cell_type": "code",
   "execution_count": null,
   "metadata": {},
   "outputs": [],
   "source": [
    "edm_analyses_results[\"step\"] = edm_analyses_results[\"step\"].astype(int)\n",
    "\n",
    "sns.set_theme(style=\"darkgrid\")\n",
    "# Set marker sizes depending on max_l.\n",
    "sns.lineplot(\n",
    "    data=edm_analyses_results,\n",
    "    x=\"step\",\n",
    "    y=\"fraction_atoms_stable\",\n",
    "    hue=\"max_l\",\n",
    "    style=\"max_l\",\n",
    "    marker=\"o\",\n",
    ")\n",
    "plt.xscale(\"log\")\n",
    "plt.xticks(ticks=edm_analyses_results[\"step\"].unique(), labels=edm_analyses_results[\"step\"].unique())\n",
    "plt.legend(title=\"Max L\")\n",
    "plt.xlabel(\"Training Step\")\n",
    "plt.ylabel(\"Fraction of Atoms Stable\")\n",
    "plt.title(\"Generated Atom Stability During Training\")\n",
    "# plt.savefig(\"../plots/qm9_atom_stability.pdf\")\n",
    "plt.show();\n",
    "\n",
    "sns.cubehelix_palette(n_colors=5)[:]"
   ]
  },
  {
   "cell_type": "code",
   "execution_count": null,
   "metadata": {},
   "outputs": [],
   "source": [
    "edm_analyses_results[\"step\"] = edm_analyses_results[\"step\"].astype(int)\n",
    "\n",
    "sns.set_theme(style=\"darkgrid\")\n",
    "# Set marker sizes depending on max_l.\n",
    "sns.lineplot(\n",
    "    data=edm_analyses_results,\n",
    "    x=\"step\",\n",
    "    y=\"fraction_molecules_stable\",\n",
    "    hue=\"max_l\",\n",
    "    style=\"max_l\",\n",
    "    marker=\"o\",\n",
    ")\n",
    "plt.xscale(\"log\")\n",
    "plt.xticks(ticks=edm_analyses_results[\"step\"].unique(), labels=edm_analyses_results[\"step\"].unique())\n",
    "plt.legend(title=\"Max L\")\n",
    "plt.xlabel(\"Training Step\")\n",
    "plt.ylabel(\"Fraction of Molecules Stable\")\n",
    "plt.title(\"Generated Molecule Stability During Training\")\n",
    "plt.savefig(\"../plots/qm9_molecule_stability.pdf\")\n",
    "plt.show();"
   ]
  },
  {
   "cell_type": "code",
   "execution_count": null,
   "metadata": {},
   "outputs": [],
   "source": [
    "edm_analyses_results[\"step\"] = edm_analyses_results[\"step\"].astype(int)\n",
    "\n",
    "sns.set_theme(style=\"darkgrid\")\n",
    "# Set marker sizes depending on max_l.\n",
    "sns.lineplot(\n",
    "    data=edm_analyses_results,\n",
    "    x=\"step\",\n",
    "    y=\"fraction_valid\",\n",
    "    hue=\"max_l\",\n",
    "    style=\"max_l\",\n",
    "    marker=\"o\",\n",
    ")\n",
    "plt.xscale(\"log\")\n",
    "plt.xticks(ticks=edm_analyses_results[\"step\"].unique(), labels=edm_analyses_results[\"step\"].unique())\n",
    "plt.legend(title=\"Max L\")\n",
    "plt.xlabel(\"Training Step\")\n",
    "plt.ylabel(\"Fraction of Molecules Valid\")\n",
    "plt.title(\"Generated Molecule Validity During Training\")\n",
    "plt.savefig(\"../plots/qm9_molecule_validity.pdf\")\n",
    "plt.show();"
   ]
  },
  {
   "cell_type": "markdown",
   "metadata": {},
   "source": [
    "# Merged Results"
   ]
  },
  {
   "cell_type": "code",
   "execution_count": null,
   "metadata": {},
   "outputs": [],
   "source": [
    "# Join results and edm_analyses_results on (max_l, position_channels).\n",
    "merged_results = results.merge(edm_analyses_results, on=[\"max_l\", \"config.target_position_predictor.num_channels\", \"model\", \"config.num_channels\", \"config.num_interactions\"], suffixes=('', ''))\n",
    "merged_results"
   ]
  },
  {
   "cell_type": "code",
   "execution_count": null,
   "metadata": {},
   "outputs": [],
   "source": [
    "sns.set_theme(style=\"darkgrid\")\n",
    "# Set marker sizes depending on max_l.\n",
    "sns.lineplot(\n",
    "    data=merged_results,\n",
    "    x=\"num_params\",\n",
    "    y=\"fraction_molecules_stable\",\n",
    "    hue=\"max_l\",\n",
    "    style=\"max_l\",\n",
    "    markersize=10,\n",
    "    markers=True,\n",
    "    dashes=True,\n",
    ")\n",
    "# Set legend title as Max L.\n",
    "plt.legend(title=\"Max L\")\n",
    "# Set axis labels.\n",
    "plt.xlabel(\"Number of Parameters\")\n",
    "plt.ylabel(\"Fraction of Molecules Stable\")\n",
    "plt.title(\"QM9\")\n",
    "plt.show();"
   ]
  },
  {
   "cell_type": "code",
   "execution_count": null,
   "metadata": {},
   "outputs": [],
   "source": [
    "sns.set_theme(style=\"darkgrid\")\n",
    "# Set marker sizes depending on max_l.\n",
    "sns.lineplot(\n",
    "    data=merged_results,\n",
    "    x=\"num_params\",\n",
    "    y=\"fraction_atoms_stable\",\n",
    "    hue=\"max_l\",\n",
    "    style=\"max_l\",\n",
    "    markersize=10,\n",
    "    markers=True,\n",
    "    dashes=True,\n",
    ")\n",
    "# Set legend title as Max L.\n",
    "plt.legend(title=\"Max L\")\n",
    "# Set axis labels.\n",
    "plt.xlabel(\"Number of Parameters\")\n",
    "plt.ylabel(\"Fraction of Atoms Stable\")\n",
    "plt.title(\"QM9\")\n",
    "plt.show();"
   ]
  },
  {
   "cell_type": "code",
   "execution_count": null,
   "metadata": {},
   "outputs": [],
   "source": [
    "sns.set_theme(style=\"darkgrid\")\n",
    "# Set marker sizes depending on max_l.\n",
    "sns.lineplot(\n",
    "    data=merged_results,\n",
    "    x=\"num_params\",\n",
    "    y=\"num_generated\",\n",
    "    hue=\"max_l\",\n",
    "    style=\"max_l\",\n",
    "    markersize=10,\n",
    "    markers=True,\n",
    "    dashes=True,\n",
    ")\n",
    "# Set legend title as Max L.\n",
    "plt.legend(title=\"Max L\")\n",
    "# Set axis labels.\n",
    "plt.xlabel(\"Number of Parameters\")\n",
    "plt.ylabel(\"Number of Molecules Generated\")\n",
    "plt.title(\"QM9\")\n",
    "plt.show();"
   ]
  },
  {
   "cell_type": "code",
   "execution_count": null,
   "metadata": {},
   "outputs": [],
   "source": [
    "sns.set_theme(style=\"darkgrid\")\n",
    "# Set marker sizes depending on max_l.\n",
    "sns.lineplot(\n",
    "    data=merged_results,\n",
    "    x=\"num_params\",\n",
    "    y=\"fraction_valid\",\n",
    "    hue=\"max_l\",\n",
    "    style=\"max_l\",\n",
    "    markersize=10,\n",
    "    markers=True,\n",
    "    dashes=True,\n",
    ")\n",
    "# Set legend title as Max L.\n",
    "plt.legend(title=\"Max L\")\n",
    "# Set axis labels.\n",
    "plt.xlabel(\"Number of Parameters\")\n",
    "plt.ylabel(\"Fraction Valid of All Molecules Generated\")\n",
    "plt.title(\"QM9\")\n",
    "plt.show();"
   ]
  },
  {
   "cell_type": "code",
   "execution_count": null,
   "metadata": {},
   "outputs": [],
   "source": [
    "sns.set_theme(style=\"darkgrid\")\n",
    "sns.lineplot(\n",
    "    data=merged_results,\n",
    "    x=\"num_params\",\n",
    "    y=\"fraction_unique_of_valid\",\n",
    "    hue=\"max_l\",\n",
    "    style=\"max_l\", \n",
    "    markersize=10,\n",
    "    markers=True,\n",
    "    dashes=True,\n",
    ")\n",
    "# Set legend title as Max L.\n",
    "plt.legend(title=\"Max L\")\n",
    "# Set axis labels.\n",
    "plt.xlabel(\"Number of Parameters\")\n",
    "plt.ylabel(\"Fraction Unique of Valid Molecules Generated\")\n",
    "plt.title(\"QM9\")\n",
    "plt.show();"
   ]
  },
  {
   "cell_type": "code",
   "execution_count": null,
   "metadata": {},
   "outputs": [],
   "source": [
    "sns.set_theme(style=\"darkgrid\")\n",
    "# Set marker sizes depending on max_l.\n",
    "sns.lineplot(\n",
    "    data=merged_results,\n",
    "    x=\"num_params\",\n",
    "    y=\"fraction_novel_of_valid_and_unique\",\n",
    "    hue=\"max_l\",\n",
    "    style=\"max_l\",\n",
    "    markersize=10,\n",
    "    markers=True,\n",
    "    dashes=True,\n",
    ")\n",
    "# Set legend title as Max L.\n",
    "plt.legend(title=\"Max L\")\n",
    "# Set axis labels.\n",
    "plt.xlabel(\"Number of Parameters\")\n",
    "plt.ylabel(\"Fraction Novel of Valid and Unique Molecules Generated\")\n",
    "plt.title(\"QM9\")\n",
    "plt.show();"
   ]
  }
 ],
 "metadata": {
  "kernelspec": {
   "display_name": ".venv",
   "language": "python",
   "name": "python3"
  },
  "language_info": {
   "codemirror_mode": {
    "name": "ipython",
    "version": 3
   },
   "file_extension": ".py",
   "mimetype": "text/x-python",
   "name": "python",
   "nbconvert_exporter": "python",
   "pygments_lexer": "ipython3",
   "version": "3.10.12"
  },
  "orig_nbformat": 4
 },
 "nbformat": 4,
 "nbformat_minor": 2
}
