{
 "cells": [
  {
   "cell_type": "code",
   "execution_count": null,
   "metadata": {},
   "outputs": [],
   "source": [
    "# Model directory and sampling hyperparameters.\n",
    "#workdir = \"../potato_workdirs/platonic_solids_by_piece_07JUL/nequip/interactions=2/l=4/position_channels=5/channels=64/piece=3\"\n",
    "workdir = \"../potato_workdirs/platonic_solids_without_extra_irreps_with_noise/nequip/interactions=3/l=4/position_channels=5/channels=64/piece=0\"\n",
    "step = \"20000\"\n",
    "focus_and_atom_type_inverse_temperature = 1.0\n",
    "position_inverse_temperature = 1.0"
   ]
  },
  {
   "cell_type": "code",
   "execution_count": null,
   "metadata": {},
   "outputs": [],
   "source": [
    "\"\"\"Visualize the fragments and corresponding predictions.\"\"\"\n",
    "\n",
    "import chex\n",
    "import jax\n",
    "import e3nn_jax as e3nn\n",
    "import jax.numpy as jnp\n",
    "import ase\n",
    "import numpy as np\n",
    "import jraph\n",
    "import plotly.graph_objects as go\n",
    "import plotly.subplots\n",
    "import matplotlib.pyplot as plt\n",
    "import seaborn as sns\n",
    "import sys\n",
    "\n",
    "sys.path.append(\"..\")\n",
    "\n",
    "from symphony.data import input_pipeline_tf\n",
    "from symphony import models\n",
    "from symphony import datatypes\n",
    "from analyses import analysis"
   ]
  },
  {
   "cell_type": "code",
   "execution_count": null,
   "metadata": {},
   "outputs": [],
   "source": [
    "all_params = {}\n",
    "_, all_params[1], _ = analysis.load_model_at_step(\n",
    "    workdir, 1, run_in_evaluation_mode=True\n",
    ")\n",
    "\n",
    "for _step in range(2000, 100000, 2000):\n",
    "    try:\n",
    "        _, all_params[_step], _ = analysis.load_model_at_step(\n",
    "            workdir, _step, run_in_evaluation_mode=True\n",
    "        )\n",
    "    except FileNotFoundError:\n",
    "        continue\n"
   ]
  },
  {
   "cell_type": "code",
   "execution_count": null,
   "metadata": {},
   "outputs": [],
   "source": [
    "steps = list(all_params.keys())\n",
    "num_params = len(all_params[1])\n",
    "param_norms_by_step = [np.zeros(len(steps)) for param_index in range(num_params)]\n",
    "\n",
    "for step_index, _step in enumerate(steps):\n",
    "    param_norms = jax.tree_map(lambda param, init_param: jnp.linalg.norm(param - init_param) / jnp.linalg.norm(init_param), all_params[_step], all_params[1])\n",
    "    for param_index, param in enumerate(all_params[_step]):\n",
    "        param_norms_by_step[param_index][step_index] = jax.tree_leaves(param_norms)[param_index]\n",
    "\n",
    "for param_index, param in enumerate(all_params[1]):\n",
    "    plt.plot(steps, param_norms_by_step[param_index], label=param)\n",
    "\n",
    "# plt.legend()\n",
    "plt.xlabel(\"Step\")\n",
    "plt.ylabel(\"Relative parameter norm\")\n",
    "plt.show();"
   ]
  },
  {
   "cell_type": "code",
   "execution_count": null,
   "metadata": {},
   "outputs": [],
   "source": [
    "name = analysis.name_from_workdir(workdir)\n",
    "model, params, config = analysis.load_model_at_step(\n",
    "    workdir, step, run_in_evaluation_mode=True\n",
    ")\n",
    "\n",
    "# Load the dataset.\n",
    "# We disable shuffling to visualize step-by-step.\n",
    "config.shuffle_datasets = False\n",
    "rng = jax.random.PRNGKey(config.rng_seed)\n",
    "rng, dataset_rng = jax.random.split(rng)\n",
    "datasets = input_pipeline_tf.get_datasets(dataset_rng, config)\n",
    "\n",
    "# Load the fragments and compute predictions.\n",
    "fragments = next(datasets[\"train\"].take(1).as_numpy_iterator())\n",
    "fragment = jraph.unbatch(jraph.unpad_with_graphs(fragments))[2]\n",
    "\n",
    "# Random initialization of the parameters.\n",
    "# random_params = model.init(jax.random.PRNGKey(0), fragments)\n",
    "# random_params"
   ]
  },
  {
   "cell_type": "code",
   "execution_count": null,
   "metadata": {},
   "outputs": [],
   "source": [
    "fragment.nodes.positions, fragment.nodes.positions[0] + fragment.globals.target_positions"
   ]
  },
  {
   "cell_type": "code",
   "execution_count": null,
   "metadata": {},
   "outputs": [],
   "source": [
    "vmapped_apply = jax.jit(jax.vmap(model.apply, in_axes=(None, None, 0, None, None)))"
   ]
  },
  {
   "cell_type": "code",
   "execution_count": null,
   "metadata": {},
   "outputs": [],
   "source": [
    "if fragment.nodes.positions.shape[0] == 2:\n",
    "    directions = jnp.asarray([[0.0, 0.0, 0.0], [0.0, 0.0, 1.0]])\n",
    "elif fragment.nodes.positions.shape[0] == 3:\n",
    "    directions = jnp.asarray([[0.0, 0.0, 0.0], [0.0, 0.0, 0.0], [2.0, 1.0, 1.0]]) / jnp.sqrt(6)\n",
    "else:\n",
    "    raise ValueError(\"Invalid shape of fragment.nodes.positions.\")\n",
    "\n",
    "num_displacements = 100\n",
    "displacements = jnp.linspace(-0.1, 0.1, num_displacements)\n",
    "batched_displacements = jnp.einsum(\"i,jk->ijk\", displacements, directions)\n",
    "displaced_fragments = jax.tree_map(\n",
    "    lambda x: jnp.repeat(x[None], num_displacements, axis=0), fragment\n",
    ")\n",
    "displaced_fragments = displaced_fragments._replace(\n",
    "    nodes=displaced_fragments.nodes._replace(\n",
    "        positions=displaced_fragments.nodes.positions + batched_displacements\n",
    "    )\n",
    ")"
   ]
  },
  {
   "cell_type": "code",
   "execution_count": null,
   "metadata": {},
   "outputs": [],
   "source": [
    "# config"
   ]
  },
  {
   "cell_type": "code",
   "execution_count": null,
   "metadata": {},
   "outputs": [],
   "source": [
    "displaced_preds = vmapped_apply(\n",
    "    params,\n",
    "    rng,\n",
    "    displaced_fragments,\n",
    "    focus_and_atom_type_inverse_temperature,\n",
    "    position_inverse_temperature,\n",
    ")"
   ]
  },
  {
   "cell_type": "code",
   "execution_count": null,
   "metadata": {},
   "outputs": [],
   "source": [
    "focus_and_target_species_probs = displaced_preds.nodes.focus_and_target_species_probs[:, :, 0]\n",
    "\n",
    "sns.set_style(\"darkgrid\")\n",
    "sns.lineplot(x=displacements, y=focus_and_target_species_probs[:, 0], label=\"Atom 0\")\n",
    "sns.lineplot(x=displacements, y=focus_and_target_species_probs[:, 1], label=\"Atom 1\")\n",
    "sns.lineplot(x=displacements, y=focus_and_target_species_probs[:, 2], label=\"Atom 2\")\n",
    "plt.legend()\n",
    "plt.xlabel(\"Displacements\")\n",
    "plt.ylabel(\"Focus Probabilities\")\n",
    "plt.show();"
   ]
  },
  {
   "cell_type": "code",
   "execution_count": null,
   "metadata": {},
   "outputs": [],
   "source": [
    "focus_and_target_species_logits = displaced_preds.nodes.focus_and_target_species_logits[:, :, 0]\n",
    "\n",
    "sns.set_style(\"darkgrid\")\n",
    "sns.lineplot(x=displacements, y=focus_and_target_species_logits[:, 0], label=\"Atom 0\")\n",
    "sns.lineplot(x=displacements, y=focus_and_target_species_logits[:, 1], label=\"Atom 1\")\n",
    "sns.lineplot(x=displacements, y=focus_and_target_species_logits[:, 2], label=\"Atom 2\")\n",
    "plt.legend()\n",
    "plt.xlabel(\"Displacements\")\n",
    "plt.ylabel(\"Focus Logits\")\n",
    "plt.show();"
   ]
  },
  {
   "cell_type": "code",
   "execution_count": null,
   "metadata": {},
   "outputs": [],
   "source": [
    "focus_indices = displaced_preds.globals.focus_indices.squeeze(axis=-1)\n",
    "\n",
    "sns.set_style(\"darkgrid\")\n",
    "sns.scatterplot(x=displacements, y=focus_indices, label=\"Focus Index\")\n",
    "plt.yticks([0, 1, 2])\n",
    "plt.xlabel(\"Displacements\")\n",
    "plt.ylabel(\"Focus Index\")\n",
    "plt.legend()\n",
    "plt.show();"
   ]
  },
  {
   "cell_type": "code",
   "execution_count": null,
   "metadata": {},
   "outputs": [],
   "source": [
    "jnp.linalg.norm(displaced_preds.globals.position_vectors[0])"
   ]
  },
  {
   "cell_type": "code",
   "execution_count": null,
   "metadata": {},
   "outputs": [],
   "source": [
    "position_probs = displaced_preds.globals.position_probs\n",
    "all_radii = displaced_preds.globals.radial_bins[0].squeeze(axis=0)\n",
    "position_probs /= position_probs.integrate().array.squeeze().sum(axis=-1)[:, None, None]\n",
    "grid_vectors = position_probs.grid_vectors\n",
    "scaled_grid_vectors = jnp.einsum(\"abi,r,zcrab->ziab\", grid_vectors, all_radii, position_probs.grid_values)\n",
    "scaled_signal = e3nn.SphericalSignal(scaled_grid_vectors, position_probs.quadrature)\n",
    "print(scaled_signal.shape)\n",
    "expectation_position = scaled_signal.integrate().array.squeeze(axis=-1)\n",
    "expectation_position += displaced_fragments.nodes.positions[jnp.arange(num_displacements), displaced_preds.globals.focus_indices[:, 0]] \n",
    "\n",
    "print(displaced_fragments.nodes.positions[0])\n",
    "sns.lineplot(x=displacements, y=expectation_position[:, 0], label=\"x\")\n",
    "sns.lineplot(x=displacements, y=expectation_position[:, 1], label=\"y\")\n",
    "sns.lineplot(x=displacements, y=expectation_position[:, 2], label=\"z\")\n",
    "plt.legend()\n",
    "plt.xlabel(\"Displacements\")\n",
    "plt.ylabel(\"Expectation of Target Position\")\n",
    "plt.show();"
   ]
  },
  {
   "cell_type": "code",
   "execution_count": null,
   "metadata": {},
   "outputs": [],
   "source": [
    "position_probs = displaced_preds.globals.position_probs\n",
    "radial_probs = position_probs.integrate().array.squeeze()\n",
    "radial_probs /= radial_probs.sum(axis=-1)[:, None]\n",
    "print(radial_probs.shape, radial_probs[0])\n",
    "radial_argmax = radial_probs.argmax(axis=1)\n",
    "radii = all_radii[radial_argmax]\n",
    "\n",
    "sns.set_style(\"darkgrid\")\n",
    "# sns.scatterplot(x=displacements, y=radii, label=\"Argmax Radius\")\n",
    "plt.imshow(radial_probs.T, cmap='viridis')\n",
    "plt.xticks(np.arange(len(displacements))[::20], displacements[::20])\n",
    "plt.xlabel(\"Displacements\")\n",
    "plt.yticks(np.arange(len(all_radii))[::5], all_radii[::5])\n",
    "plt.ylabel(\"Radius\")\n",
    "# plt.legend()\n",
    "plt.show();"
   ]
  },
  {
   "cell_type": "code",
   "execution_count": null,
   "metadata": {},
   "outputs": [],
   "source": [
    "position_vectors = displaced_preds.globals.position_vectors[:, 0, :]\n",
    "position_vectors += displaced_fragments.nodes.positions[jnp.arange(num_displacements), displaced_preds.globals.focus_indices[:, 0]] \n",
    "\n",
    "sns.set_style(\"darkgrid\")\n",
    "sns.lineplot(x=displacements, y=position_vectors[:, 0], label=\"x\")\n",
    "sns.lineplot(x=displacements, y=position_vectors[:, 1], label=\"y\")\n",
    "sns.lineplot(x=displacements, y=position_vectors[:, 2], label=\"z\")\n",
    "plt.legend()\n",
    "plt.xlabel(\"Displacements\")\n",
    "plt.ylabel(\"Sampled Target Position\")\n",
    "plt.show();"
   ]
  },
  {
   "cell_type": "code",
   "execution_count": null,
   "metadata": {},
   "outputs": [],
   "source": [
    "node_embeddings = displaced_preds.nodes.auxiliary_node_embeddings\n",
    "valid_displacements = jnp.ones_like(displacements, dtype=bool)\n",
    "for mul_irrep, slice in zip(node_embeddings.irreps, node_embeddings.irreps.slices()):\n",
    "    for i in range(mul_irrep.dim):\n",
    "        sns.set_style(\"darkgrid\")\n",
    "        # sns.lineplot(x=displacements, y=node_embeddings.array[:, 0, i], label=\"Atom 0\")\n",
    "        # sns.lineplot(x=displacements, y=node_embeddings.array[:, 1, i], label=\"Atom 1\")\n",
    "        feature = node_embeddings.array[valid_displacements, 2, slice][:, i]\n",
    "        rescaled_feature = (feature - feature.min()) / (feature.max() - feature.min())\n",
    "        sns.lineplot(x=displacements[valid_displacements], y=feature)\n",
    "        # plt.legend()\n",
    "\n",
    "        plt.xlabel(\"Displacements\")\n",
    "        plt.ylabel(\"Node Embedding\")\n",
    "        plt.title(f\"mul_irrep {mul_irrep}\")\n",
    "    plt.show();"
   ]
  },
  {
   "cell_type": "code",
   "execution_count": null,
   "metadata": {},
   "outputs": [],
   "source": [
    "scaled_signal_x = scaled_signal[0][0]\n",
    "scaled_signal_y = scaled_signal[0][1]\n",
    "scaled_signal_z = scaled_signal[0][2]\n",
    "\n",
    "go.Figure([go.Surface(scaled_signal_x.plotly_surface(translation=jnp.asarray([-2, 0, 0])), cmin=-1., cmax=1.),\n",
    "           go.Surface(scaled_signal_y.plotly_surface(), cmin=-1., cmax=1.),\n",
    "           go.Surface(scaled_signal_z.plotly_surface(translation=jnp.asarray([2, 0, 0])), cmin=-1., cmax=1.)])"
   ]
  }
 ],
 "metadata": {
  "kernelspec": {
   "display_name": ".venv",
   "language": "python",
   "name": "python3"
  },
  "language_info": {
   "codemirror_mode": {
    "name": "ipython",
    "version": 3
   },
   "file_extension": ".py",
   "mimetype": "text/x-python",
   "name": "python",
   "nbconvert_exporter": "python",
   "pygments_lexer": "ipython3",
   "version": "3.10.12"
  },
  "orig_nbformat": 4
 },
 "nbformat": 4,
 "nbformat_minor": 2
}
