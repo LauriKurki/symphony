{
 "cells": [
  {
   "cell_type": "code",
   "execution_count": 1,
   "metadata": {},
   "outputs": [
    {
     "name": "stderr",
     "output_type": "stream",
     "text": [
      "/home/songk/anaconda3/envs/test-2/lib/python3.10/site-packages/tqdm/auto.py:21: TqdmWarning: IProgress not found. Please update jupyter and ipywidgets. See https://ipywidgets.readthedocs.io/en/stable/user_install.html\n",
      "  from .autonotebook import tqdm as notebook_tqdm\n"
     ]
    }
   ],
   "source": [
    "import sys\n",
    "\n",
    "sys.path.append('..')\n",
    "from analyses import analysis"
   ]
  },
  {
   "cell_type": "code",
   "execution_count": 14,
   "metadata": {},
   "outputs": [],
   "source": [
    "config, best_state, best_eval_state, metrics_for_best_state = analysis.load_from_workdir('/data/NFS/potato/songk/spherical-harmonic-net/workdirs/silica-nequip-10k-train-steps-jan1')"
   ]
  },
  {
   "cell_type": "code",
   "execution_count": 15,
   "metadata": {},
   "outputs": [
    {
     "data": {
      "text/plain": [
       "{'train_eval': {'total_loss': array(5.543244, dtype=float32),\n",
       "  'focus_and_atom_type_loss': array(2.4282708, dtype=float32),\n",
       "  'position_loss': array(3.114978, dtype=float32)},\n",
       " 'val_eval': {'total_loss': array(6.191361, dtype=float32),\n",
       "  'focus_and_atom_type_loss': array(2.7345476, dtype=float32),\n",
       "  'position_loss': array(3.456813, dtype=float32)},\n",
       " 'test_eval': {'total_loss': array(7.02705, dtype=float32),\n",
       "  'focus_and_atom_type_loss': array(3.2495706, dtype=float32),\n",
       "  'position_loss': array(3.7774804, dtype=float32)}}"
      ]
     },
     "execution_count": 15,
     "metadata": {},
     "output_type": "execute_result"
    }
   ],
   "source": [
    "metrics_for_best_state"
   ]
  },
  {
   "cell_type": "code",
   "execution_count": null,
   "metadata": {},
   "outputs": [],
   "source": []
  }
 ],
 "metadata": {
  "kernelspec": {
   "display_name": ".venv",
   "language": "python",
   "name": "python3"
  },
  "language_info": {
   "codemirror_mode": {
    "name": "ipython",
    "version": 3
   },
   "file_extension": ".py",
   "mimetype": "text/x-python",
   "name": "python",
   "nbconvert_exporter": "python",
   "pygments_lexer": "ipython3",
   "version": "3.10.13"
  },
  "orig_nbformat": 4,
  "vscode": {
   "interpreter": {
    "hash": "c45d96c58491a395ddcd8e473c3845279123da787cb66983d65c138d89f394de"
   }
  }
 },
 "nbformat": 4,
 "nbformat_minor": 2
}
