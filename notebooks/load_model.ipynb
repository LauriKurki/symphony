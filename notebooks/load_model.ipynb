{
 "cells": [
  {
   "cell_type": "code",
   "execution_count": 1,
   "metadata": {},
   "outputs": [],
   "source": [
    "import sys\n",
    "\n",
    "sys.path.append('..')\n",
    "import analysis"
   ]
  },
  {
   "cell_type": "code",
   "execution_count": 4,
   "metadata": {},
   "outputs": [],
   "source": [
    "config, best_state, metrics_for_best_state = analysis.load_from_workdir('../workdirs/mace4')"
   ]
  },
  {
   "cell_type": "code",
   "execution_count": 6,
   "metadata": {},
   "outputs": [
    {
     "data": {
      "text/plain": [
       "{'val': {'total_loss': array(9.157051, dtype=float32),\n",
       "  'focus_loss': array(1.7512374, dtype=float32),\n",
       "  'atom_type_loss': array(1.2907923, dtype=float32),\n",
       "  'position_loss': array(6.6917477, dtype=float32)},\n",
       " 'test': {'total_loss': array(9.152017, dtype=float32),\n",
       "  'focus_loss': array(1.7541531, dtype=float32),\n",
       "  'atom_type_loss': array(1.2820076, dtype=float32),\n",
       "  'position_loss': array(6.6921425, dtype=float32)}}"
      ]
     },
     "execution_count": 6,
     "metadata": {},
     "output_type": "execute_result"
    }
   ],
   "source": [
    "metrics_for_best_state"
   ]
  }
 ],
 "metadata": {
  "kernelspec": {
   "display_name": ".venv",
   "language": "python",
   "name": "python3"
  },
  "language_info": {
   "codemirror_mode": {
    "name": "ipython",
    "version": 3
   },
   "file_extension": ".py",
   "mimetype": "text/x-python",
   "name": "python",
   "nbconvert_exporter": "python",
   "pygments_lexer": "ipython3",
   "version": "3.10.8"
  },
  "orig_nbformat": 4,
  "vscode": {
   "interpreter": {
    "hash": "c45d96c58491a395ddcd8e473c3845279123da787cb66983d65c138d89f394de"
   }
  }
 },
 "nbformat": 4,
 "nbformat_minor": 2
}
