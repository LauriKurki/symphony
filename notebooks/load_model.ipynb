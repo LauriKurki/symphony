{
 "cells": [
  {
   "cell_type": "code",
   "execution_count": 1,
   "metadata": {},
   "outputs": [],
   "source": [
    "import ase\n",
    "import ase.io\n",
    "import jax\n",
    "import jax.numpy as jnp\n",
    "import jraph\n",
    "import ml_collections\n",
    "import matscipy\n",
    "import numpy as np\n",
    "import pandas as pd\n",
    "import sys\n",
    "\n",
    "sys.path.append('..')\n",
    "from analyses import analysis\n",
    "from symphony import train\n",
    "from symphony.data import input_pipeline_tf"
   ]
  },
  {
   "cell_type": "code",
   "execution_count": 14,
   "metadata": {},
   "outputs": [],
   "source": [
    "import os\n",
    "os.environ['CUDA_VISIBLE_DEVICES'] = '2'"
   ]
  },
  {
   "cell_type": "code",
   "execution_count": 15,
   "metadata": {},
   "outputs": [],
   "source": [
    "workdir = '/data/NFS/potato/songk/spherical-harmonic-net/workdirs/silica_shuffled_matscipy_jan24/e3schnet_and_nequip/nn/max_targets_4'\n",
    "rng = jax.random.PRNGKey(0)"
   ]
  },
  {
   "cell_type": "code",
   "execution_count": 16,
   "metadata": {},
   "outputs": [
    {
     "name": "stderr",
     "output_type": "stream",
     "text": [
      "[libprotobuf ERROR external/com_google_protobuf/src/google/protobuf/text_format.cc:337] Error parsing text-format tensorflow.data.experimental.DistributedSnapshotMetadata: 1:1: Invalid control characters encountered in text.\n",
      "[libprotobuf ERROR external/com_google_protobuf/src/google/protobuf/text_format.cc:337] Error parsing text-format tensorflow.data.experimental.DistributedSnapshotMetadata: 1:3: Expected identifier, got: 301582570443555955\n",
      "[libprotobuf ERROR external/com_google_protobuf/src/google/protobuf/text_format.cc:337] Error parsing text-format tensorflow.data.experimental.DistributedSnapshotMetadata: 1:1: Invalid control characters encountered in text.\n",
      "[libprotobuf ERROR external/com_google_protobuf/src/google/protobuf/text_format.cc:337] Error parsing text-format tensorflow.data.experimental.DistributedSnapshotMetadata: 1:3: Expected identifier, got: 301582570443555955\n",
      "[libprotobuf ERROR external/com_google_protobuf/src/google/protobuf/text_format.cc:337] Error parsing text-format tensorflow.data.experimental.DistributedSnapshotMetadata: 1:1: Invalid control characters encountered in text.\n",
      "[libprotobuf ERROR external/com_google_protobuf/src/google/protobuf/text_format.cc:337] Error parsing text-format tensorflow.data.experimental.DistributedSnapshotMetadata: 1:3: Expected identifier, got: 3293811995346663566\n",
      "[libprotobuf ERROR external/com_google_protobuf/src/google/protobuf/text_format.cc:337] Error parsing text-format tensorflow.data.experimental.DistributedSnapshotMetadata: 1:1: Invalid control characters encountered in text.\n",
      "[libprotobuf ERROR external/com_google_protobuf/src/google/protobuf/text_format.cc:337] Error parsing text-format tensorflow.data.experimental.DistributedSnapshotMetadata: 1:3: Expected identifier, got: 3792790739476295684\n",
      "[libprotobuf ERROR external/com_google_protobuf/src/google/protobuf/text_format.cc:337] Error parsing text-format tensorflow.data.experimental.DistributedSnapshotMetadata: 1:1: Invalid control characters encountered in text.\n",
      "[libprotobuf ERROR external/com_google_protobuf/src/google/protobuf/text_format.cc:337] Error parsing text-format tensorflow.data.experimental.DistributedSnapshotMetadata: 1:3: Expected identifier, got: 3300545334066313942\n",
      "[libprotobuf ERROR external/com_google_protobuf/src/google/protobuf/text_format.cc:337] Error parsing text-format tensorflow.data.experimental.DistributedSnapshotMetadata: 1:1: Invalid control characters encountered in text.\n",
      "[libprotobuf ERROR external/com_google_protobuf/src/google/protobuf/text_format.cc:337] Error parsing text-format tensorflow.data.experimental.DistributedSnapshotMetadata: 1:3: Expected identifier, got: 1687611137033970216\n"
     ]
    }
   ],
   "source": [
    "config, best_state, best_eval_state, metrics_for_best_state = analysis.load_from_workdir(workdir)\n",
    "config = ml_collections.FrozenConfigDict(config)\n",
    "datasets = input_pipeline_tf.get_datasets(rng, config)"
   ]
  },
  {
   "cell_type": "code",
   "execution_count": 4,
   "metadata": {},
   "outputs": [
    {
     "ename": "NameError",
     "evalue": "name 'metrics_for_best_state' is not defined",
     "output_type": "error",
     "traceback": [
      "\u001b[0;31m---------------------------------------------------------------------------\u001b[0m",
      "\u001b[0;31mNameError\u001b[0m                                 Traceback (most recent call last)",
      "Cell \u001b[0;32mIn[4], line 1\u001b[0m\n\u001b[0;32m----> 1\u001b[0m \u001b[43mmetrics_for_best_state\u001b[49m\n",
      "\u001b[0;31mNameError\u001b[0m: name 'metrics_for_best_state' is not defined"
     ]
    }
   ],
   "source": [
    "metrics_for_best_state"
   ]
  },
  {
   "cell_type": "code",
   "execution_count": 5,
   "metadata": {},
   "outputs": [
    {
     "name": "stderr",
     "output_type": "stream",
     "text": [
      "[libprotobuf ERROR external/com_google_protobuf/src/google/protobuf/text_format.cc:337] Error parsing text-format tensorflow.data.experimental.DistributedSnapshotMetadata: 1:1: Invalid control characters encountered in text.\n",
      "[libprotobuf ERROR external/com_google_protobuf/src/google/protobuf/text_format.cc:337] Error parsing text-format tensorflow.data.experimental.DistributedSnapshotMetadata: 1:3: Expected identifier, got: 13455037253616018397\n"
     ]
    }
   ],
   "source": [
    "frag_batch = next(datasets['test'].as_numpy_iterator())\n",
    "unbatched_frags = jraph.unbatch(frag_batch)"
   ]
  },
  {
   "cell_type": "code",
   "execution_count": 6,
   "metadata": {},
   "outputs": [],
   "source": [
    "frag = unbatched_frags[2]"
   ]
  },
  {
   "cell_type": "code",
   "execution_count": 7,
   "metadata": {},
   "outputs": [],
   "source": [
    "step_rng, rng = jax.random.split(rng)\n",
    "step_rngs = jax.random.split(step_rng, jax.local_device_count())\n",
    "preds = train.get_predictions(best_eval_state, frag, rng)"
   ]
  },
  {
   "cell_type": "code",
   "execution_count": 16,
   "metadata": {},
   "outputs": [],
   "source": [
    "frag_ase = ase.Atoms(\n",
    "    positions = frag.nodes.positions,\n",
    "    numbers = np.vectorize(lambda x: 14 if x else 8)(frag.nodes.species),\n",
    "    cell = frag.globals.cell[0],\n",
    "    pbc = np.array([1, 1, 1]),\n",
    ")\n",
    "# ase.io.write('frag.cif', frag_ase)"
   ]
  },
  {
   "cell_type": "code",
   "execution_count": 9,
   "metadata": {},
   "outputs": [
    {
     "data": {
      "text/plain": [
       "Array([1, 1, 1, 1, 0, 0, 0, 0, 0, 0, 0, 0, 0, 0, 0, 0, 0, 1, 1, 1, 1, 1,\n",
       "       1, 1, 1, 0, 0, 0, 0, 0, 0, 0, 0, 0, 0, 0, 0, 0, 0, 0, 0, 1, 1, 1,\n",
       "       1], dtype=int32)"
      ]
     },
     "execution_count": 9,
     "metadata": {},
     "output_type": "execute_result"
    }
   ],
   "source": [
    "frag.nodes.species"
   ]
  },
  {
   "cell_type": "code",
   "execution_count": 10,
   "metadata": {},
   "outputs": [
    {
     "data": {
      "text/plain": [
       "(Array([False], dtype=bool), Array([False], dtype=bool))"
      ]
     },
     "execution_count": 10,
     "metadata": {},
     "output_type": "execute_result"
    }
   ],
   "source": [
    "frag.globals.stop, preds.globals.stop"
   ]
  },
  {
   "cell_type": "code",
   "execution_count": 11,
   "metadata": {},
   "outputs": [
    {
     "data": {
      "text/plain": [
       "Array([[0.16666667, 0.        ],\n",
       "       [0.16666667, 0.        ],\n",
       "       [0.        , 0.        ],\n",
       "       [0.        , 0.        ],\n",
       "       [0.        , 0.        ],\n",
       "       [0.        , 0.        ],\n",
       "       [0.        , 0.        ],\n",
       "       [0.        , 0.        ],\n",
       "       [0.        , 0.        ],\n",
       "       [0.        , 0.        ],\n",
       "       [0.        , 0.        ],\n",
       "       [0.        , 0.        ],\n",
       "       [0.        , 0.        ],\n",
       "       [0.        , 0.        ],\n",
       "       [0.        , 0.        ],\n",
       "       [0.        , 0.        ],\n",
       "       [0.        , 0.        ],\n",
       "       [0.        , 0.        ],\n",
       "       [0.        , 0.        ],\n",
       "       [0.16666667, 0.        ],\n",
       "       [0.        , 0.        ],\n",
       "       [0.        , 0.        ],\n",
       "       [0.        , 0.        ],\n",
       "       [0.        , 0.        ],\n",
       "       [0.        , 0.        ],\n",
       "       [0.        , 0.        ],\n",
       "       [0.        , 0.        ],\n",
       "       [0.        , 0.        ],\n",
       "       [0.        , 0.        ],\n",
       "       [0.        , 0.        ],\n",
       "       [0.        , 0.        ],\n",
       "       [0.        , 0.        ],\n",
       "       [0.        , 0.        ],\n",
       "       [0.        , 0.        ],\n",
       "       [0.        , 0.        ],\n",
       "       [0.        , 0.        ],\n",
       "       [0.        , 0.        ],\n",
       "       [0.        , 0.        ],\n",
       "       [0.        , 0.        ],\n",
       "       [0.        , 0.        ],\n",
       "       [0.        , 0.        ],\n",
       "       [0.5       , 0.        ],\n",
       "       [0.        , 0.        ],\n",
       "       [0.        , 0.        ],\n",
       "       [0.        , 0.        ]], dtype=float32)"
      ]
     },
     "execution_count": 11,
     "metadata": {},
     "output_type": "execute_result"
    }
   ],
   "source": [
    "frag.nodes.focus_and_target_species_probs"
   ]
  },
  {
   "cell_type": "code",
   "execution_count": 12,
   "metadata": {},
   "outputs": [
    {
     "data": {
      "text/plain": [
       "Array([[0.03672149, 0.        ],\n",
       "       [0.06271943, 0.        ],\n",
       "       [0.04040426, 0.        ],\n",
       "       [0.04044089, 0.        ],\n",
       "       [0.        , 0.0083559 ],\n",
       "       [0.        , 0.        ],\n",
       "       [0.        , 0.00835029],\n",
       "       [0.        , 0.        ],\n",
       "       [0.        , 0.00817594],\n",
       "       [0.        , 0.        ],\n",
       "       [0.        , 0.00528534],\n",
       "       [0.        , 0.        ],\n",
       "       [0.        , 0.        ],\n",
       "       [0.        , 0.        ],\n",
       "       [0.        , 0.        ],\n",
       "       [0.        , 0.        ],\n",
       "       [0.        , 0.        ],\n",
       "       [0.        , 0.        ],\n",
       "       [0.01566604, 0.        ],\n",
       "       [0.15435658, 0.        ],\n",
       "       [0.        , 0.        ],\n",
       "       [0.00270433, 0.        ],\n",
       "       [0.07377874, 0.        ],\n",
       "       [0.        , 0.        ],\n",
       "       [0.12360542, 0.        ],\n",
       "       [0.        , 0.0083559 ],\n",
       "       [0.        , 0.        ],\n",
       "       [0.        , 0.        ],\n",
       "       [0.        , 0.0109337 ],\n",
       "       [0.        , 0.        ],\n",
       "       [0.        , 0.00431075],\n",
       "       [0.        , 0.0109337 ],\n",
       "       [0.        , 0.        ],\n",
       "       [0.        , 0.00817998],\n",
       "       [0.        , 0.        ],\n",
       "       [0.        , 0.        ],\n",
       "       [0.        , 0.        ],\n",
       "       [0.        , 0.        ],\n",
       "       [0.        , 0.        ],\n",
       "       [0.        , 0.        ],\n",
       "       [0.        , 0.00431075],\n",
       "       [0.3621588 , 0.        ],\n",
       "       [0.        , 0.        ],\n",
       "       [0.00438264, 0.        ],\n",
       "       [0.00568399, 0.        ]], dtype=float32)"
      ]
     },
     "execution_count": 12,
     "metadata": {},
     "output_type": "execute_result"
    }
   ],
   "source": [
    "jnp.where(preds.nodes.focus_and_target_species_probs > 1e-4, preds.nodes.focus_and_target_species_probs, 0\n",
    "          )"
   ]
  },
  {
   "cell_type": "code",
   "execution_count": 27,
   "metadata": {},
   "outputs": [
    {
     "data": {
      "text/plain": [
       "SphericalSignal(shape=(1, 64, 90, 179), res_beta=90, res_alpha=179, quadrature=gausslegendre, p_val=1, p_arg=-1)\n",
       "[[[[6.2527385e-04 6.2495726e-04 6.2463735e-04 ... 6.2619464e-04\n",
       "    6.2589196e-04 6.2558753e-04]\n",
       "   [6.2910124e-04 6.2823074e-04 6.2734587e-04 ... 6.3162314e-04\n",
       "    6.3079904e-04 6.2996102e-04]\n",
       "   [6.3355546e-04 6.3195633e-04 6.3033239e-04 ... 6.3814461e-04\n",
       "    6.3665112e-04 6.3512230e-04]\n",
       "   ...\n",
       "   [1.5002221e-06 1.4944644e-06 1.4883542e-06 ... 1.5153288e-06\n",
       "    1.5106567e-06 1.5056227e-06]\n",
       "   [1.4512889e-06 1.4476504e-06 1.4438946e-06 ... 1.4614500e-06\n",
       "    1.4581894e-06 1.4548031e-06]\n",
       "   [1.4274348e-06 1.4258403e-06 1.4242394e-06 ... 1.4321499e-06\n",
       "    1.4305912e-06 1.4290175e-06]]\n",
       "\n",
       "  [[1.3411281e-03 1.3389493e-03 1.3367612e-03 ... 1.3475294e-03\n",
       "    1.3454158e-03 1.3432864e-03]\n",
       "   [1.3555518e-03 1.3503365e-03 1.3450797e-03 ... 1.3708989e-03\n",
       "    1.3658409e-03 1.3607288e-03]\n",
       "   [1.3667569e-03 1.3583003e-03 1.3497930e-03 ... 1.3916803e-03\n",
       "    1.3834587e-03 1.3751494e-03]\n",
       "   ...\n",
       "   [8.1300834e-07 8.1093611e-07 8.0837418e-07 ... 8.1624017e-07\n",
       "    8.1566122e-07 8.1458381e-07]\n",
       "   [7.4244139e-07 7.4116656e-07 7.3964418e-07 ... 7.4476742e-07\n",
       "    7.4424196e-07 7.4346730e-07]\n",
       "   [6.7006476e-07 6.6953970e-07 6.6893716e-07 ... 6.7116349e-07\n",
       "    6.7087683e-07 6.7051093e-07]]\n",
       "\n",
       "  [[2.4881342e-03 2.4842268e-03 2.4802666e-03 ... 2.4993760e-03\n",
       "    2.4957105e-03 2.4919671e-03]\n",
       "   [2.5358053e-03 2.5265431e-03 2.5171011e-03 ... 2.5623320e-03\n",
       "    2.5537009e-03 2.5448683e-03]\n",
       "   [2.5652244e-03 2.5504176e-03 2.5353001e-03 ... 2.6075570e-03\n",
       "    2.5938121e-03 2.5797011e-03]\n",
       "   ...\n",
       "   [2.2915536e-05 2.2986233e-05 2.2992152e-05 ... 2.2326962e-05\n",
       "    2.2583987e-05 2.2780941e-05]\n",
       "   [1.4854309e-05 1.4878553e-05 1.4879021e-05 ... 1.4641654e-05\n",
       "    1.4735410e-05 1.4806476e-05]\n",
       "   [9.0216654e-06 9.0260983e-06 9.0253398e-06 ... 8.9775685e-06\n",
       "    8.9973410e-06 9.0120775e-06]]\n",
       "\n",
       "  ...\n",
       "\n",
       "  [[7.7926571e-04 7.7861646e-04 7.7800266e-04 ... 7.8141200e-04\n",
       "    7.8066264e-04 7.7994971e-04]\n",
       "   [7.4456265e-04 7.4304669e-04 7.4158842e-04 ... 7.4943394e-04\n",
       "    7.4775703e-04 7.4613706e-04]\n",
       "   [7.2202791e-04 7.1954716e-04 7.1712269e-04 ... 7.2975771e-04\n",
       "    7.2713522e-04 7.2456087e-04]\n",
       "   ...\n",
       "   [1.6566114e-06 1.6536976e-06 1.6494009e-06 ... 1.6569496e-06\n",
       "    1.6582428e-06 1.6581289e-06]\n",
       "   [1.4269666e-06 1.4255874e-06 1.4235034e-06 ... 1.4268470e-06\n",
       "    1.4275981e-06 1.4276364e-06]\n",
       "   [1.1980632e-06 1.1976131e-06 1.1969257e-06 ... 1.1979946e-06\n",
       "    1.1982552e-06 1.1982779e-06]]\n",
       "\n",
       "  [[2.8213218e-03 2.8194387e-03 2.8178287e-03 ... 2.8285040e-03\n",
       "    2.8258485e-03 2.8234590e-03]\n",
       "   [2.5255315e-03 2.5213270e-03 2.5176243e-03 ... 2.5410464e-03\n",
       "    2.5353921e-03 2.5302251e-03]\n",
       "   [2.2644030e-03 2.2580090e-03 2.2522174e-03 ... 2.2871108e-03\n",
       "    2.2789591e-03 2.2713954e-03]\n",
       "   ...\n",
       "   [4.9909187e-07 4.9801633e-07 4.9685121e-07 ... 5.0174617e-07\n",
       "    5.0095917e-07 5.0007327e-07]\n",
       "   [4.7800671e-07 4.7743367e-07 4.7681658e-07 ... 4.7944576e-07\n",
       "    4.7901347e-07 4.7853405e-07]\n",
       "   [4.6045011e-07 4.6024732e-07 4.6003055e-07 ... 4.6096770e-07\n",
       "    4.6081033e-07 4.6063815e-07]]\n",
       "\n",
       "  [[1.7037748e-03 1.7027303e-03 1.7018439e-03 ... 1.7078433e-03\n",
       "    1.7063309e-03 1.7049792e-03]\n",
       "   [1.5330120e-03 1.5306324e-03 1.5285055e-03 ... 1.5416429e-03\n",
       "    1.5385175e-03 1.5356488e-03]\n",
       "   [1.4020081e-03 1.3981536e-03 1.3945567e-03 ... 1.4150083e-03\n",
       "    1.4104369e-03 1.4061055e-03]\n",
       "   ...\n",
       "   [1.2427651e-06 1.2430354e-06 1.2426489e-06 ... 1.2380640e-06\n",
       "    1.2402691e-06 1.2418410e-06]\n",
       "   [1.1147151e-06 1.1147640e-06 1.1144600e-06 ... 1.1124722e-06\n",
       "    1.1135654e-06 1.1143134e-06]\n",
       "   [9.8912881e-07 9.8909470e-07 9.8893247e-07 ... 9.8846851e-07\n",
       "    9.8881549e-07 9.8903627e-07]]]]"
      ]
     },
     "execution_count": 27,
     "metadata": {},
     "output_type": "execute_result"
    }
   ],
   "source": [
    "preds.globals.position_probs"
   ]
  },
  {
   "cell_type": "code",
   "execution_count": 21,
   "metadata": {},
   "outputs": [
    {
     "data": {
      "text/plain": [
       "array([14, 14, 14, 14,  8,  8,  8,  8,  8,  8,  8,  8,  8,  8,  8,  8,  8,\n",
       "       14, 14, 14, 14, 14, 14, 14, 14,  8,  8,  8,  8,  8,  8,  8,  8,  8,\n",
       "        8,  8,  8,  8,  8,  8,  8, 14, 14, 14, 14])"
      ]
     },
     "execution_count": 21,
     "metadata": {},
     "output_type": "execute_result"
    }
   ],
   "source": [
    "frag_ase.numbers"
   ]
  },
  {
   "cell_type": "code",
   "execution_count": null,
   "metadata": {},
   "outputs": [],
   "source": []
  }
 ],
 "metadata": {
  "kernelspec": {
   "display_name": ".venv",
   "language": "python",
   "name": "python3"
  },
  "language_info": {
   "codemirror_mode": {
    "name": "ipython",
    "version": 3
   },
   "file_extension": ".py",
   "mimetype": "text/x-python",
   "name": "python",
   "nbconvert_exporter": "python",
   "pygments_lexer": "ipython3",
   "version": "3.10.13"
  },
  "orig_nbformat": 4,
  "vscode": {
   "interpreter": {
    "hash": "c45d96c58491a395ddcd8e473c3845279123da787cb66983d65c138d89f394de"
   }
  }
 },
 "nbformat": 4,
 "nbformat_minor": 2
}
