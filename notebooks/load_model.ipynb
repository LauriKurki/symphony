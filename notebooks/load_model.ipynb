{
 "cells": [
  {
   "cell_type": "code",
   "execution_count": 1,
   "metadata": {},
   "outputs": [],
   "source": [
    "import ase\n",
    "import ase.io\n",
    "import jax\n",
    "import jax.numpy as jnp\n",
    "import jraph\n",
    "import ml_collections\n",
    "import numpy as np\n",
    "import sys\n",
    "\n",
    "sys.path.append('..')\n",
    "from analyses import analysis\n",
    "from symphony import train\n",
    "from symphony.data import input_pipeline_tf"
   ]
  },
  {
   "cell_type": "code",
   "execution_count": 2,
   "metadata": {},
   "outputs": [],
   "source": [
    "workdir = '/data/NFS/potato/songk/spherical-harmonic-net/workdirs/silica-mini-nequip-jan3'\n",
    "rng = jax.random.PRNGKey(0)"
   ]
  },
  {
   "cell_type": "code",
   "execution_count": 3,
   "metadata": {},
   "outputs": [
    {
     "name": "stderr",
     "output_type": "stream",
     "text": [
      "[libprotobuf ERROR external/com_google_protobuf/src/google/protobuf/text_format.cc:337] Error parsing text-format tensorflow.data.experimental.DistributedSnapshotMetadata: 1:1: Invalid control characters encountered in text.\n",
      "[libprotobuf ERROR external/com_google_protobuf/src/google/protobuf/text_format.cc:337] Error parsing text-format tensorflow.data.experimental.DistributedSnapshotMetadata: 1:3: Expected identifier, got: 13366359693578855492\n",
      "[libprotobuf ERROR external/com_google_protobuf/src/google/protobuf/text_format.cc:337] Error parsing text-format tensorflow.data.experimental.DistributedSnapshotMetadata: 1:1: Invalid control characters encountered in text.\n",
      "[libprotobuf ERROR external/com_google_protobuf/src/google/protobuf/text_format.cc:337] Error parsing text-format tensorflow.data.experimental.DistributedSnapshotMetadata: 1:3: Expected identifier, got: 13366359693578855492\n",
      "[libprotobuf ERROR external/com_google_protobuf/src/google/protobuf/text_format.cc:337] Error parsing text-format tensorflow.data.experimental.DistributedSnapshotMetadata: 1:1: Invalid control characters encountered in text.\n",
      "[libprotobuf ERROR external/com_google_protobuf/src/google/protobuf/text_format.cc:337] Error parsing text-format tensorflow.data.experimental.DistributedSnapshotMetadata: 1:3: Expected identifier, got: 17912488874565519832\n",
      "[libprotobuf ERROR external/com_google_protobuf/src/google/protobuf/text_format.cc:337] Error parsing text-format tensorflow.data.experimental.DistributedSnapshotMetadata: 1:1: Invalid control characters encountered in text.\n",
      "[libprotobuf ERROR external/com_google_protobuf/src/google/protobuf/text_format.cc:337] Error parsing text-format tensorflow.data.experimental.DistributedSnapshotMetadata: 1:3: Expected identifier, got: 4109456964082306101\n",
      "[libprotobuf ERROR external/com_google_protobuf/src/google/protobuf/text_format.cc:337] Error parsing text-format tensorflow.data.experimental.DistributedSnapshotMetadata: 1:1: Invalid control characters encountered in text.\n",
      "[libprotobuf ERROR external/com_google_protobuf/src/google/protobuf/text_format.cc:337] Error parsing text-format tensorflow.data.experimental.DistributedSnapshotMetadata: 1:3: Expected identifier, got: 7849944931596020849\n",
      "[libprotobuf ERROR external/com_google_protobuf/src/google/protobuf/text_format.cc:337] Error parsing text-format tensorflow.data.experimental.DistributedSnapshotMetadata: 1:1: Invalid control characters encountered in text.\n",
      "[libprotobuf ERROR external/com_google_protobuf/src/google/protobuf/text_format.cc:337] Error parsing text-format tensorflow.data.experimental.DistributedSnapshotMetadata: 1:3: Expected identifier, got: 1404832700302212808\n"
     ]
    }
   ],
   "source": [
    "config, best_state, best_eval_state, metrics_for_best_state = analysis.load_from_workdir(workdir)\n",
    "config = ml_collections.FrozenConfigDict(config)\n",
    "datasets = input_pipeline_tf.get_datasets(rng, config)"
   ]
  },
  {
   "cell_type": "code",
   "execution_count": 4,
   "metadata": {},
   "outputs": [
    {
     "data": {
      "text/plain": [
       "{'train_eval': {'total_loss': array(6.242568, dtype=float32),\n",
       "  'focus_and_atom_type_loss': array(2.9846961, dtype=float32),\n",
       "  'position_loss': array(3.2578752, dtype=float32)},\n",
       " 'val_eval': {'total_loss': array(6.3228116, dtype=float32),\n",
       "  'focus_and_atom_type_loss': array(3.1943715, dtype=float32),\n",
       "  'position_loss': array(3.128445, dtype=float32)},\n",
       " 'test_eval': {'total_loss': array(6.6307435, dtype=float32),\n",
       "  'focus_and_atom_type_loss': array(3.2746031, dtype=float32),\n",
       "  'position_loss': array(3.3561542, dtype=float32)}}"
      ]
     },
     "execution_count": 4,
     "metadata": {},
     "output_type": "execute_result"
    }
   ],
   "source": [
    "metrics_for_best_state"
   ]
  },
  {
   "cell_type": "code",
   "execution_count": 5,
   "metadata": {},
   "outputs": [
    {
     "name": "stderr",
     "output_type": "stream",
     "text": [
      "[libprotobuf ERROR external/com_google_protobuf/src/google/protobuf/text_format.cc:337] Error parsing text-format tensorflow.data.experimental.DistributedSnapshotMetadata: 1:1: Invalid control characters encountered in text.\n",
      "[libprotobuf ERROR external/com_google_protobuf/src/google/protobuf/text_format.cc:337] Error parsing text-format tensorflow.data.experimental.DistributedSnapshotMetadata: 1:3: Expected identifier, got: 13366359693578855492\n",
      "[libprotobuf ERROR external/com_google_protobuf/src/google/protobuf/text_format.cc:337] Error parsing text-format tensorflow.data.experimental.DistributedSnapshotMetadata: 1:1: Invalid control characters encountered in text.\n",
      "[libprotobuf ERROR external/com_google_protobuf/src/google/protobuf/text_format.cc:337] Error parsing text-format tensorflow.data.experimental.DistributedSnapshotMetadata: 1:3: Expected identifier, got: 17912488874565519832\n",
      "[libprotobuf ERROR external/com_google_protobuf/src/google/protobuf/text_format.cc:337] Error parsing text-format tensorflow.data.experimental.DistributedSnapshotMetadata: 1:1: Invalid control characters encountered in text.\n",
      "[libprotobuf ERROR external/com_google_protobuf/src/google/protobuf/text_format.cc:337] Error parsing text-format tensorflow.data.experimental.DistributedSnapshotMetadata: 1:3: Expected identifier, got: 4109456964082306101\n",
      "[libprotobuf ERROR external/com_google_protobuf/src/google/protobuf/text_format.cc:337] Error parsing text-format tensorflow.data.experimental.DistributedSnapshotMetadata: 1:1: Invalid control characters encountered in text.\n",
      "[libprotobuf ERROR external/com_google_protobuf/src/google/protobuf/text_format.cc:337] Error parsing text-format tensorflow.data.experimental.DistributedSnapshotMetadata: 1:3: Expected identifier, got: 7849944931596020849\n",
      "[libprotobuf ERROR external/com_google_protobuf/src/google/protobuf/text_format.cc:337] Error parsing text-format tensorflow.data.experimental.DistributedSnapshotMetadata: 1:1: Invalid control characters encountered in text.\n",
      "[libprotobuf ERROR external/com_google_protobuf/src/google/protobuf/text_format.cc:337] Error parsing text-format tensorflow.data.experimental.DistributedSnapshotMetadata: 1:3: Expected identifier, got: 1404832700302212808\n"
     ]
    }
   ],
   "source": [
    "frag_batch = next(datasets['train'].as_numpy_iterator())\n",
    "unbatched_frags = jraph.unbatch(frag_batch)"
   ]
  },
  {
   "cell_type": "code",
   "execution_count": 6,
   "metadata": {},
   "outputs": [],
   "source": [
    "frag = unbatched_frags[1]"
   ]
  },
  {
   "cell_type": "code",
   "execution_count": 9,
   "metadata": {},
   "outputs": [],
   "source": [
    "step_rng, rng = jax.random.split(rng)\n",
    "step_rngs = jax.random.split(step_rng, jax.local_device_count())\n",
    "preds = train.get_predictions(best_eval_state, frag, rng)"
   ]
  },
  {
   "cell_type": "code",
   "execution_count": 7,
   "metadata": {},
   "outputs": [],
   "source": [
    "frag_ase = ase.Atoms(\n",
    "    positions = frag.nodes.positions,\n",
    "    numbers = np.vectorize(lambda x: 14 if x else 8)(frag.nodes.species),\n",
    "    cell = frag.globals.cell[0],\n",
    "    pbc = np.array([1, 1, 1]),\n",
    ")\n",
    "# ase.io.write('frag.cif', frag_ase)"
   ]
  },
  {
   "cell_type": "code",
   "execution_count": 8,
   "metadata": {},
   "outputs": [
    {
     "data": {
      "text/plain": [
       "Array([[0.6666667 , 0.        ],\n",
       "       [0.        , 0.        ],\n",
       "       [0.        , 0.        ],\n",
       "       [0.        , 0.        ],\n",
       "       [0.        , 0.        ],\n",
       "       [0.        , 0.        ],\n",
       "       [0.        , 0.        ],\n",
       "       [0.        , 0.        ],\n",
       "       [0.        , 0.        ],\n",
       "       [0.        , 0.        ],\n",
       "       [0.        , 0.        ],\n",
       "       [0.        , 0.        ],\n",
       "       [0.        , 0.        ],\n",
       "       [0.        , 0.        ],\n",
       "       [0.        , 0.        ],\n",
       "       [0.        , 0.        ],\n",
       "       [0.        , 0.        ],\n",
       "       [0.        , 0.        ],\n",
       "       [0.        , 0.        ],\n",
       "       [0.        , 0.        ],\n",
       "       [0.        , 0.        ],\n",
       "       [0.        , 0.        ],\n",
       "       [0.        , 0.        ],\n",
       "       [0.        , 0.        ],\n",
       "       [0.        , 0.        ],\n",
       "       [0.        , 0.        ],\n",
       "       [0.        , 0.        ],\n",
       "       [0.        , 0.        ],\n",
       "       [0.        , 0.        ],\n",
       "       [0.        , 0.        ],\n",
       "       [0.        , 0.        ],\n",
       "       [0.        , 0.        ],\n",
       "       [0.        , 0.        ],\n",
       "       [0.        , 0.        ],\n",
       "       [0.        , 0.        ],\n",
       "       [0.        , 0.        ],\n",
       "       [0.        , 0.        ],\n",
       "       [0.        , 0.        ],\n",
       "       [0.        , 0.        ],\n",
       "       [0.        , 0.        ],\n",
       "       [0.        , 0.        ],\n",
       "       [0.        , 0.        ],\n",
       "       [0.        , 0.        ],\n",
       "       [0.        , 0.        ],\n",
       "       [0.        , 0.        ],\n",
       "       [0.        , 0.        ],\n",
       "       [0.        , 0.        ],\n",
       "       [0.        , 0.        ],\n",
       "       [0.        , 0.        ],\n",
       "       [0.        , 0.        ],\n",
       "       [0.        , 0.        ],\n",
       "       [0.        , 0.        ],\n",
       "       [0.        , 0.        ],\n",
       "       [0.        , 0.        ],\n",
       "       [0.        , 0.        ],\n",
       "       [0.        , 0.33333334],\n",
       "       [0.        , 0.        ],\n",
       "       [0.        , 0.        ],\n",
       "       [0.        , 0.        ],\n",
       "       [0.        , 0.        ],\n",
       "       [0.        , 0.        ],\n",
       "       [0.        , 0.        ],\n",
       "       [0.        , 0.        ],\n",
       "       [0.        , 0.        ],\n",
       "       [0.        , 0.        ],\n",
       "       [0.        , 0.        ],\n",
       "       [0.        , 0.        ],\n",
       "       [0.        , 0.        ],\n",
       "       [0.        , 0.        ]], dtype=float32)"
      ]
     },
     "execution_count": 8,
     "metadata": {},
     "output_type": "execute_result"
    }
   ],
   "source": [
    "frag.nodes.focus_and_target_species_probs"
   ]
  },
  {
   "cell_type": "code",
   "execution_count": 50,
   "metadata": {},
   "outputs": [
    {
     "data": {
      "text/plain": [
       "Array([29], dtype=int32)"
      ]
     },
     "execution_count": 50,
     "metadata": {},
     "output_type": "execute_result"
    }
   ],
   "source": [
    "frag.receivers[frag.senders == 3]"
   ]
  },
  {
   "cell_type": "code",
   "execution_count": 51,
   "metadata": {},
   "outputs": [
    {
     "data": {
      "text/plain": [
       "Array(1, dtype=int32)"
      ]
     },
     "execution_count": 51,
     "metadata": {},
     "output_type": "execute_result"
    }
   ],
   "source": [
    "frag.nodes.species[3]"
   ]
  },
  {
   "cell_type": "code",
   "execution_count": 12,
   "metadata": {},
   "outputs": [
    {
     "data": {
      "text/plain": [
       "Array([[2.25300685e-01, 7.47848753e-06],\n",
       "       [1.64458600e-10, 4.10926230e-13],\n",
       "       [6.42328551e-12, 1.28326228e-14],\n",
       "       [6.27623945e-02, 2.07922153e-06],\n",
       "       [2.62741387e-01, 1.24207861e-06],\n",
       "       [7.31344149e-02, 3.62813967e-06],\n",
       "       [8.13686114e-04, 8.96174527e-07],\n",
       "       [2.77690440e-02, 5.45509392e-05],\n",
       "       [8.64883259e-05, 5.09033489e-05],\n",
       "       [8.55976978e-05, 7.03540863e-05],\n",
       "       [1.25342041e-07, 1.58928509e-10],\n",
       "       [5.06151707e-07, 2.35612030e-10],\n",
       "       [1.17482744e-08, 1.01320142e-11],\n",
       "       [9.16255694e-09, 1.24159225e-11],\n",
       "       [3.79054001e-07, 1.05017128e-09],\n",
       "       [8.95798507e-07, 1.68308070e-08],\n",
       "       [5.76642663e-07, 2.79035306e-09],\n",
       "       [3.17346377e-07, 5.73704195e-09],\n",
       "       [9.50147587e-05, 6.50118163e-04],\n",
       "       [3.20274616e-04, 1.19150837e-03],\n",
       "       [6.53811439e-05, 2.46945373e-03],\n",
       "       [7.59533359e-05, 2.17542704e-03],\n",
       "       [2.97963183e-04, 1.20822375e-03],\n",
       "       [4.85993311e-04, 3.14384699e-04],\n",
       "       [2.12003748e-09, 1.65398459e-11],\n",
       "       [3.60970454e-09, 1.62267838e-10],\n",
       "       [3.32788517e-08, 9.59051796e-11],\n",
       "       [1.37922929e-09, 1.62236197e-11],\n",
       "       [9.83555459e-10, 1.55608217e-11],\n",
       "       [2.03327363e-06, 1.15424925e-07],\n",
       "       [2.49686418e-05, 4.01475154e-06],\n",
       "       [7.75550689e-07, 2.24897107e-07],\n",
       "       [1.29060368e-07, 3.02655928e-10],\n",
       "       [5.85213536e-04, 3.93896014e-04],\n",
       "       [5.44426264e-04, 1.76369969e-04],\n",
       "       [2.82688252e-05, 2.09081918e-03],\n",
       "       [1.76353336e-04, 9.00080311e-04],\n",
       "       [4.37582312e-05, 4.50932275e-05],\n",
       "       [1.65020538e-05, 1.28695348e-04],\n",
       "       [5.35089697e-04, 2.32611521e-04],\n",
       "       [1.60590076e-04, 1.57315852e-04],\n",
       "       [2.17028457e-08, 4.62306582e-10],\n",
       "       [8.30185018e-05, 7.14583974e-03],\n",
       "       [1.60093259e-04, 3.41744861e-03],\n",
       "       [9.40072714e-05, 4.71951254e-03],\n",
       "       [4.66010963e-09, 4.38099806e-10],\n",
       "       [9.95159244e-09, 1.90108790e-10],\n",
       "       [1.13709735e-08, 6.82699600e-12],\n",
       "       [3.54545790e-07, 1.25070865e-09],\n",
       "       [1.44574685e-07, 3.53250762e-09],\n",
       "       [4.02917948e-07, 1.37032785e-08],\n",
       "       [5.28045872e-04, 2.57633481e-04],\n",
       "       [1.51328568e-05, 3.30595649e-04],\n",
       "       [1.61881197e-09, 2.82810372e-11],\n",
       "       [1.22036450e-04, 1.80648593e-03],\n",
       "       [1.83945778e-03, 4.93234582e-03],\n",
       "       [8.87144706e-05, 4.82375867e-07],\n",
       "       [2.86271572e-01, 3.75771124e-05],\n",
       "       [1.00820638e-04, 3.34153374e-05],\n",
       "       [1.44741192e-04, 4.33242240e-05],\n",
       "       [7.11368742e-08, 7.72798438e-14],\n",
       "       [1.92308500e-02, 2.35378611e-05],\n",
       "       [1.93224412e-11, 1.13093806e-14],\n",
       "       [2.83470122e-12, 3.91857093e-14],\n",
       "       [1.30308654e-05, 5.70201593e-08],\n",
       "       [5.91628341e-05, 3.04918444e-07],\n",
       "       [7.81309893e-07, 2.62221587e-08],\n",
       "       [1.41426844e-05, 1.56987639e-07],\n",
       "       [1.49969437e-09, 9.46841618e-14]], dtype=float32)"
      ]
     },
     "execution_count": 12,
     "metadata": {},
     "output_type": "execute_result"
    }
   ],
   "source": [
    "preds.nodes.focus_and_target_species_probs  # what's going on here"
   ]
  },
  {
   "cell_type": "code",
   "execution_count": null,
   "metadata": {},
   "outputs": [],
   "source": []
  }
 ],
 "metadata": {
  "kernelspec": {
   "display_name": ".venv",
   "language": "python",
   "name": "python3"
  },
  "language_info": {
   "codemirror_mode": {
    "name": "ipython",
    "version": 3
   },
   "file_extension": ".py",
   "mimetype": "text/x-python",
   "name": "python",
   "nbconvert_exporter": "python",
   "pygments_lexer": "ipython3",
   "version": "3.10.13"
  },
  "orig_nbformat": 4,
  "vscode": {
   "interpreter": {
    "hash": "c45d96c58491a395ddcd8e473c3845279123da787cb66983d65c138d89f394de"
   }
  }
 },
 "nbformat": 4,
 "nbformat_minor": 2
}
