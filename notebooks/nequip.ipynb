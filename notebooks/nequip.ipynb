{
 "cells": [
  {
   "cell_type": "code",
   "execution_count": 1,
   "metadata": {},
   "outputs": [],
   "source": [
    "import sys\n",
    "sys.path.append(\"..\")\n",
    "\n",
    "import tempfile\n",
    "import ml_collections\n",
    "\n",
    "import train\n",
    "import configs.nequip as nequip"
   ]
  },
  {
   "cell_type": "code",
   "execution_count": 2,
   "metadata": {},
   "outputs": [],
   "source": [
    "config = nequip.get_config()\n",
    "workdir = tempfile.mkdtemp()\n",
    "\n",
    "config = ml_collections.ConfigDict(config)\n",
    "config.num_train_steps = 100\n",
    "config.num_eval_steps = 10\n",
    "config.num_eval_steps_at_end_of_training = 10\n",
    "config = ml_collections.FrozenConfigDict(config)"
   ]
  },
  {
   "cell_type": "code",
   "execution_count": 3,
   "metadata": {},
   "outputs": [
    {
     "name": "stdout",
     "output_type": "stream",
     "text": [
      "WARNING:tensorflow:From /Users/ameyad/Documents/spherical-harmonic-net/.venv/lib/python3.10/site-packages/tensorflow/python/autograph/pyct/static_analysis/liveness.py:83: Analyzer.lamba_check (from tensorflow.python.autograph.pyct.static_analysis.liveness) is deprecated and will be removed after 2023-09-23.\n",
      "Instructions for updating:\n",
      "Lambda fuctions will be no more assumed to be used in the statement where they are used, or at least in the same block. https://github.com/tensorflow/tensorflow/issues/56089\n"
     ]
    },
    {
     "name": "stderr",
     "output_type": "stream",
     "text": [
      "WARNING:tensorflow:From /Users/ameyad/Documents/spherical-harmonic-net/.venv/lib/python3.10/site-packages/tensorflow/python/autograph/pyct/static_analysis/liveness.py:83: Analyzer.lamba_check (from tensorflow.python.autograph.pyct.static_analysis.liveness) is deprecated and will be removed after 2023-09-23.\n",
      "Instructions for updating:\n",
      "Lambda fuctions will be no more assumed to be used in the statement where they are used, or at least in the same block. https://github.com/tensorflow/tensorflow/issues/56089\n",
      "2023-03-22 13:46:24.308327: W tensorflow/tsl/platform/profile_utils/cpu_utils.cc:128] Failed to get CPU frequency: 0 Hz\n",
      "/Users/ameyad/Documents/spherical-harmonic-net/notebooks/../train.py:325: FutureWarning: jax.tree_leaves is deprecated, and will be removed in a future release. Use jax.tree_util.tree_leaves instead.\n",
      "  jax.debug.print(\"grad_sum={grad_sum}\", grad_sum=sum(jax.tree_leaves(jax.tree_map(lambda x: jnp.abs(x).sum(), grads))))\n"
     ]
    },
    {
     "name": "stdout",
     "output_type": "stream",
     "text": [
      "grad_sum=109.09207153320312\n",
      "grad_sum=118.6122817993164\n",
      "grad_sum=125.151611328125\n",
      "grad_sum=90.66560363769531\n",
      "grad_sum=119.9968490600586\n",
      "grad_sum=93.47425842285156\n",
      "grad_sum=100.39645385742188\n",
      "grad_sum=100.2004165649414\n",
      "grad_sum=84.77884674072266\n",
      "grad_sum=97.83473205566406\n",
      "grad_sum=71.00433349609375\n",
      "grad_sum=91.54553985595703\n",
      "grad_sum=71.24971008300781\n",
      "grad_sum=65.15457916259766\n",
      "grad_sum=62.0380859375\n",
      "grad_sum=70.35663604736328\n",
      "grad_sum=84.23382568359375\n",
      "grad_sum=63.09404373168945\n",
      "grad_sum=72.07238006591797\n",
      "grad_sum=55.997764587402344\n",
      "grad_sum=48.68866729736328\n",
      "grad_sum=45.087162017822266\n",
      "grad_sum=54.27432632446289\n",
      "grad_sum=61.081573486328125\n",
      "grad_sum=50.112144470214844\n",
      "grad_sum=47.97414016723633\n",
      "grad_sum=61.146995544433594\n",
      "grad_sum=44.689937591552734\n",
      "grad_sum=57.11805725097656\n",
      "grad_sum=51.87287521362305\n",
      "grad_sum=39.59966278076172\n",
      "grad_sum=66.13611602783203\n",
      "grad_sum=65.30258178710938\n",
      "grad_sum=45.49951171875\n",
      "grad_sum=47.31376266479492\n",
      "grad_sum=52.586082458496094\n",
      "grad_sum=46.076080322265625\n",
      "grad_sum=47.795536041259766\n",
      "grad_sum=34.623138427734375\n",
      "grad_sum=41.41691207885742\n",
      "grad_sum=40.6968994140625\n",
      "grad_sum=101.14888000488281\n",
      "grad_sum=53.475276947021484\n",
      "grad_sum=79.78809356689453\n",
      "grad_sum=45.89643478393555\n",
      "grad_sum=68.203125\n",
      "grad_sum=59.619964599609375\n",
      "grad_sum=41.06214904785156\n",
      "grad_sum=55.27813720703125\n",
      "grad_sum=42.208736419677734\n",
      "grad_sum=46.41069030761719\n",
      "grad_sum=46.940513610839844\n",
      "grad_sum=45.40851593017578\n",
      "grad_sum=35.18781661987305\n",
      "grad_sum=52.2542839050293\n",
      "grad_sum=40.72233963012695\n",
      "grad_sum=52.136375427246094\n",
      "grad_sum=48.94970703125\n",
      "grad_sum=84.08667755126953\n",
      "grad_sum=50.939903259277344\n",
      "grad_sum=41.05577087402344\n",
      "grad_sum=45.45730972290039\n",
      "grad_sum=46.205848693847656\n",
      "grad_sum=36.62746047973633\n",
      "grad_sum=44.13483428955078\n",
      "grad_sum=44.62236404418945\n",
      "grad_sum=49.57206344604492\n",
      "grad_sum=66.70878601074219\n",
      "grad_sum=37.96833801269531\n",
      "grad_sum=30.660627365112305\n",
      "grad_sum=55.842491149902344\n",
      "grad_sum=40.31574630737305\n",
      "grad_sum=70.31907653808594\n",
      "grad_sum=44.9141845703125\n",
      "grad_sum=42.78352737426758\n",
      "grad_sum=37.252281188964844\n",
      "grad_sum=44.85102081298828\n",
      "grad_sum=50.67274856567383\n",
      "grad_sum=44.19960403442383\n",
      "grad_sum=34.349246978759766\n",
      "grad_sum=38.31162643432617\n",
      "grad_sum=68.2441635131836\n",
      "grad_sum=42.612545013427734\n",
      "grad_sum=38.60429382324219\n",
      "grad_sum=63.49746322631836\n",
      "grad_sum=40.68254089355469\n",
      "grad_sum=36.51176071166992\n",
      "grad_sum=42.525550842285156\n",
      "grad_sum=41.1236572265625\n",
      "grad_sum=37.14744567871094\n",
      "grad_sum=70.43685913085938\n",
      "grad_sum=58.66925048828125\n",
      "grad_sum=45.41255187988281\n",
      "grad_sum=37.79059600830078\n",
      "grad_sum=43.89971923828125\n",
      "grad_sum=34.5784797668457\n",
      "grad_sum=69.10865783691406\n",
      "grad_sum=46.06105422973633\n",
      "grad_sum=47.435577392578125\n",
      "grad_sum=37.154335021972656\n"
     ]
    }
   ],
   "source": [
    "best_state, metrics = train.train_and_evaluate(config, workdir)"
   ]
  }
 ],
 "metadata": {
  "kernelspec": {
   "display_name": ".venv",
   "language": "python",
   "name": "python3"
  },
  "language_info": {
   "codemirror_mode": {
    "name": "ipython",
    "version": 3
   },
   "file_extension": ".py",
   "mimetype": "text/x-python",
   "name": "python",
   "nbconvert_exporter": "python",
   "pygments_lexer": "ipython3",
   "version": "3.10.12"
  },
  "orig_nbformat": 4
 },
 "nbformat": 4,
 "nbformat_minor": 2
}
