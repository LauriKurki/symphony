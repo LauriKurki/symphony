{
 "cells": [
  {
   "attachments": {},
   "cell_type": "markdown",
   "metadata": {},
   "source": [
    "# Gumbel on the Sphere\n",
    "\n",
    "Implementing the Gumbel-Softmax trick for distributions defined on the sphere!"
   ]
  },
  {
   "cell_type": "code",
   "execution_count": null,
   "metadata": {},
   "outputs": [],
   "source": [
    "from typing import Tuple, Optional, Callable, Union, List\n",
    "\n",
    "import functools\n",
    "\n",
    "import chex\n",
    "import e3nn_jax as e3nn\n",
    "import jax\n",
    "import jax.numpy as jnp\n",
    "import plotly.graph_objects as go\n",
    "import optax"
   ]
  },
  {
   "cell_type": "code",
   "execution_count": null,
   "metadata": {},
   "outputs": [],
   "source": [
    "def debug_print(*args):\n",
    "    print(*args)\n",
    "\n",
    "\n",
    "def debug_print(*args):\n",
    "    pass"
   ]
  },
  {
   "cell_type": "code",
   "execution_count": null,
   "metadata": {},
   "outputs": [],
   "source": [
    "def softmax_on_sphere(logits: e3nn.SphericalSignal) -> e3nn.SphericalSignal:\n",
    "    \"\"\"Applies softmax on the sphere.\"\"\"\n",
    "    dist = logits.apply(jnp.exp)\n",
    "    return dist / dist.integrate()\n",
    "\n",
    "\n",
    "def coeffs_to_distribution(\n",
    "    logits_coeffs: e3nn.IrrepsArray, grid_resolution: Tuple[int, int]\n",
    ") -> e3nn.SphericalSignal:\n",
    "    \"\"\"Converts coefficients to a valid probability distribution.\"\"\"\n",
    "    unnormalized_logits = e3nn.to_s2grid(\n",
    "        logits_coeffs, *grid_resolution, quadrature=\"gausslegendre\", p_val=1, p_arg=-1\n",
    "    )\n",
    "    unnormalized_logits.grid_values -= unnormalized_logits.grid_values.max()\n",
    "    return softmax_on_sphere(unnormalized_logits)\n",
    "\n",
    "\n",
    "def coeffs_to_logits(\n",
    "    logits_coeffs: e3nn.IrrepsArray, grid_resolution: Tuple[int, int]\n",
    ") -> e3nn.SphericalSignal:\n",
    "    \"\"\"Converts coefficients to the logits of a valid probability distribution.\"\"\"\n",
    "    return coeffs_to_distribution(logits_coeffs, grid_resolution).apply(jnp.log)\n",
    "\n",
    "\n",
    "#@functools.partial(jax.jit, static_argnames=[\"num_samples\", \"hard_sampling\", \"grid_resolution\"])\n",
    "def gumbel_softmax_on_sphere(\n",
    "    rng: chex.PRNGKey,\n",
    "    logits_coeffs: e3nn.IrrepsArray,\n",
    "    gumbel_temperature: float,\n",
    "    num_samples: int,\n",
    "    hard_sampling: bool,\n",
    "    grid_resolution: Tuple[int, int],\n",
    ") -> e3nn.SphericalSignal:\n",
    "    \"\"\"Samples indices and 3D vectors from logits of a distribution defined on a sphere in a differentiable manner using the Gumbel-Softmax trick.\"\"\"\n",
    "    logits = coeffs_to_logits(logits_coeffs, grid_resolution)\n",
    "\n",
    "    def single_sample_from_logits(gumbel_rng: chex.PRNGKey) -> jnp.ndarray:\n",
    "        \"\"\"Returns a single sample from the logits.\"\"\"\n",
    "        gumbel_rng, sample_rng = jax.random.split(gumbel_rng)\n",
    "        gumbels = jax.random.gumbel(gumbel_rng, logits.shape)\n",
    "        gumbels = e3nn.SphericalSignal(gumbels, logits.quadrature)\n",
    "        debug_print(\"shapes:\", logits.grid_values.shape, gumbels.shape)\n",
    "        noisy_logits = (logits + gumbels) / gumbel_temperature\n",
    "        debug_print(\"noisy\", noisy_logits)\n",
    "        soft_samples = softmax_on_sphere(noisy_logits)\n",
    "        if not hard_sampling:\n",
    "            return soft_samples\n",
    "\n",
    "        debug_print(\"soft\", soft_samples)\n",
    "        # We return the hard samples, but we want to propagate the gradient of the soft samples.\n",
    "        # TODO: Replace with actual argmax not sample.\n",
    "        argmax_indices_2D = soft_samples.sample(sample_rng)\n",
    "        # Maybe return the sampled vectors on the sphere as well?\n",
    "        sampled_vectors = soft_samples.grid_vectors[argmax_indices_2D]\n",
    "        debug_print(\"2d argmax\", argmax_indices_2D)\n",
    "        hard_samples = jnp.zeros_like(soft_samples.grid_values).at[argmax_indices_2D].set(1.)\n",
    "        hard_samples = e3nn.SphericalSignal(hard_samples, logits.quadrature)\n",
    "        hard_samples = hard_samples / hard_samples.integrate()\n",
    "        debug_print(\"hard\", hard_samples)\n",
    "        hard_samples = jax.lax.stop_gradient(hard_samples - soft_samples) + soft_samples\n",
    "        return hard_samples\n",
    "\n",
    "    gumbel_rngs = jax.random.split(rng, num=num_samples)\n",
    "    return jax.vmap(single_sample_from_logits)(gumbel_rngs)"
   ]
  },
  {
   "cell_type": "code",
   "execution_count": null,
   "metadata": {},
   "outputs": [],
   "source": [
    "logits_coeffs = e3nn.IrrepsArray(\"1o\", jnp.asarray([10.0, 0.0, 0.0]))\n",
    "grid_resolution = (50, 39)\n",
    "\n",
    "go.Figure([go.Surface(coeffs_to_distribution(logits_coeffs, grid_resolution).plotly_surface())])"
   ]
  },
  {
   "cell_type": "code",
   "execution_count": null,
   "metadata": {},
   "outputs": [],
   "source": [
    "rng = jax.random.PRNGKey(0)\n",
    "gumbel_temperature = 0.5\n",
    "\n",
    "samples = gumbel_softmax_on_sphere(\n",
    "    rng,\n",
    "    logits_coeffs,\n",
    "    gumbel_temperature,\n",
    "    num_samples=1000,\n",
    "    hard_sampling=True,\n",
    "    grid_resolution=grid_resolution,\n",
    ")\n",
    "\n",
    "empirical_distribution = samples.grid_values.mean(axis=0)\n",
    "empirical_distribution = e3nn.SphericalSignal(empirical_distribution, samples.quadrature)\n",
    "go.Figure([go.Surface(empirical_distribution.plotly_surface())])"
   ]
  },
  {
   "attachments": {},
   "cell_type": "markdown",
   "metadata": {},
   "source": [
    "# Optimization\n",
    "\n",
    "We can optimize coefficients to make our samples minimize some loss.\n",
    "For example, if we want to minimize some function on the sphere!"
   ]
  },
  {
   "cell_type": "code",
   "execution_count": null,
   "metadata": {},
   "outputs": [],
   "source": [
    "def cost(value: jnp.ndarray, position: jnp.ndarray) -> float:\n",
    "    \"\"\"The function we want to minimize over the sphere.\"\"\"\n",
    "    x, y, z = position\n",
    "    return value * (x ** 2 - y ** 2 + 3 * z)\n",
    "\n",
    "\n",
    "def loss(coeffs: e3nn.IrrepsArray) -> float:\n",
    "    \"\"\"The loss function we want to minimize.\"\"\"\n",
    "    samples = gumbel_softmax_on_sphere(\n",
    "        rng,\n",
    "        coeffs,\n",
    "        gumbel_temperature,\n",
    "        num_samples=1000,\n",
    "        hard_sampling=True,\n",
    "        grid_resolution=grid_resolution,\n",
    "    )\n",
    "    mean_cost = jax.vmap(jax.vmap(cost))(samples.grid_values.transpose((1, 2, 0)), samples.grid_vectors).mean()\n",
    "    return e3nn.IrrepsArray(\"0e\", jnp.asarray([mean_cost]))"
   ]
  },
  {
   "cell_type": "code",
   "execution_count": null,
   "metadata": {},
   "outputs": [],
   "source": [
    "# Optimize loss using Adam.\n",
    "loss_fn = jax.jit(loss)\n",
    "grad_fn = jax.jit(e3nn.grad(loss))\n",
    "\n",
    "tx = optax.adam(1e-2)\n",
    "opt_state = tx.init(logits_coeffs)\n",
    "for step in range(1000):\n",
    "    loss_value, grads = loss_fn(logits_coeffs), grad_fn(logits_coeffs)\n",
    "    updates, opt_state = tx.update(grads, opt_state)\n",
    "    logits_coeffs = optax.apply_updates(logits_coeffs, updates)\n",
    "\n",
    "    if step % 100 == 0:\n",
    "        print(f\"Step {step}, loss {loss_value}\")"
   ]
  },
  {
   "cell_type": "code",
   "execution_count": null,
   "metadata": {},
   "outputs": [],
   "source": [
    "go.Figure([go.Surface(coeffs_to_distribution(logits_coeffs, grid_resolution).plotly_surface())])"
   ]
  }
 ],
 "metadata": {
  "kernelspec": {
   "display_name": ".venv",
   "language": "python",
   "name": "python3"
  },
  "language_info": {
   "codemirror_mode": {
    "name": "ipython",
    "version": 3
   },
   "file_extension": ".py",
   "mimetype": "text/x-python",
   "name": "python",
   "nbconvert_exporter": "python",
   "pygments_lexer": "ipython3",
   "version": "3.10.10"
  },
  "orig_nbformat": 4
 },
 "nbformat": 4,
 "nbformat_minor": 2
}
