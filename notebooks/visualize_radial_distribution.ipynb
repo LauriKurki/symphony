{
 "cells": [
  {
   "cell_type": "code",
   "execution_count": null,
   "metadata": {},
   "outputs": [],
   "source": [
    "import jax\n",
    "import jax.numpy as jnp\n",
    "import matplotlib.pyplot as plt\n",
    "import seaborn as sns\n",
    "import numpy as np\n",
    "import jraph\n",
    "\n",
    "import sys\n",
    "sys.path.append('../')"
   ]
  },
  {
   "cell_type": "code",
   "execution_count": null,
   "metadata": {},
   "outputs": [],
   "source": [
    "%load_ext autoreload"
   ]
  },
  {
   "cell_type": "code",
   "execution_count": null,
   "metadata": {},
   "outputs": [],
   "source": [
    "%autoreload 2\n",
    "from analyses import analysis\n",
    "from symphony import models\n",
    "from symphony.data import input_pipeline_tf"
   ]
  },
  {
   "cell_type": "code",
   "execution_count": null,
   "metadata": {},
   "outputs": [],
   "source": [
    "workdir = '/Users/ameyad/Documents/spherical-harmonic-net/potato_workdirs/platonic_solids_by_piece_radial_diffconditioning_smallerembed_noradial/e3schnet_and_mace/interactions=1/l=2/lfocus=2/position_channels=2/channels=32/apply_gate=True/square_logits=True/piece=0'\n",
    "step = '1000'"
   ]
  },
  {
   "cell_type": "code",
   "execution_count": null,
   "metadata": {},
   "outputs": [],
   "source": [
    "name = analysis.name_from_workdir(workdir)\n",
    "model, params, config = analysis.load_model_at_step(\n",
    "    workdir, step, run_in_evaluation_mode=False\n",
    ")\n",
    "\n",
    "# Load the dataset.\n",
    "# We disable shuffling to visualize step-by-step.\n",
    "config.shuffle_datasets = False\n",
    "rng = jax.random.PRNGKey(config.rng_seed)\n",
    "rng, dataset_rng = jax.random.split(rng)\n",
    "datasets = input_pipeline_tf.get_datasets(dataset_rng, config)\n",
    "\n",
    "# Load the fragments and compute predictions.\n",
    "fragments = next(datasets[\"train\"].take(1).as_numpy_iterator())\n",
    "fragments = jraph.unpad_with_graphs(fragments)\n",
    "apply_rng, rng = jax.random.split(rng)\n",
    "preds = jax.jit(model.apply)(\n",
    "    params,\n",
    "    apply_rng,\n",
    "    fragments,\n",
    "    focus_and_atom_type_inverse_temperature=1.0,\n",
    "    position_inverse_temperature=1.0,\n",
    ")"
   ]
  },
  {
   "cell_type": "code",
   "execution_count": null,
   "metadata": {},
   "outputs": [],
   "source": [
    "preds.nodes.embeddings_for_positions[1].filter(drop=\"0e\")"
   ]
  },
  {
   "cell_type": "code",
   "execution_count": null,
   "metadata": {},
   "outputs": [],
   "source": [
    "config.target_position_predictor"
   ]
  },
  {
   "cell_type": "code",
   "execution_count": null,
   "metadata": {},
   "outputs": [],
   "source": [
    "radii = jnp.linspace(\n",
    "    config.target_position_predictor.radius_predictor_config.min_radius,\n",
    "    config.target_position_predictor.radius_predictor_config.max_radius,\n",
    "    config.target_position_predictor.radius_predictor_config.num_radii,\n",
    ")\n",
    "print(radii)\n",
    "sns.set_style(\"darkgrid\")\n",
    "for index, (fragment, pred) in enumerate(zip(jraph.unbatch(fragments), jraph.unbatch(preds))):\n",
    "    counts, edges = pred.globals.radii_pdf\n",
    "    counts = counts.squeeze(axis=0)\n",
    "    edges = edges.squeeze(axis=0)\n",
    "    plt.stairs(counts, edges, fill=True)\n",
    "    if pred.globals.radii is not None:\n",
    "        radii = pred.globals.radii[0]\n",
    "        plt.axvline(radii, color='r', linestyle='--', linewidth=2, label='Predicted radius')\n",
    "    true_radii = jnp.linalg.norm(\n",
    "        fragment.globals.target_positions,\n",
    "        axis=-1,\n",
    "    )\n",
    "    plt.axvline(true_radii, color='g', linestyle='--', label='True radius')\n",
    "    plt.xlabel('r')\n",
    "    plt.ylabel('p(r)')\n",
    "    plt.title(f'Radial PDF for Fragment {index}')\n",
    "    plt.legend()\n",
    "    plt.show()"
   ]
  }
 ],
 "metadata": {
  "kernelspec": {
   "display_name": ".venv",
   "language": "python",
   "name": "python3"
  },
  "language_info": {
   "codemirror_mode": {
    "name": "ipython",
    "version": 3
   },
   "file_extension": ".py",
   "mimetype": "text/x-python",
   "name": "python",
   "nbconvert_exporter": "python",
   "pygments_lexer": "ipython3",
   "version": "3.10.12"
  }
 },
 "nbformat": 4,
 "nbformat_minor": 2
}
