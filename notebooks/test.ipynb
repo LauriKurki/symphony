{
 "cells": [
  {
   "cell_type": "code",
   "execution_count": 1,
   "metadata": {},
   "outputs": [
    {
     "name": "stderr",
     "output_type": "stream",
     "text": [
      "/Users/ameyad/Documents/spherical-harmonic-net/.venv/lib/python3.10/site-packages/flax/struct.py:136: FutureWarning: jax.tree_util.register_keypaths is deprecated, and will be removed in a future release. Please use `register_pytree_with_keys()` instead.\n",
      "  jax.tree_util.register_keypaths(data_clz, keypaths)\n",
      "/Users/ameyad/Documents/spherical-harmonic-net/.venv/lib/python3.10/site-packages/flax/struct.py:136: FutureWarning: jax.tree_util.register_keypaths is deprecated, and will be removed in a future release. Please use `register_pytree_with_keys()` instead.\n",
      "  jax.tree_util.register_keypaths(data_clz, keypaths)\n"
     ]
    }
   ],
   "source": [
    "import jraph\n",
    "import jax\n",
    "import jax.numpy as jnp\n",
    "import e3nn_jax as e3nn\n",
    "import numpy as np\n",
    "\n",
    "\n",
    "import sys\n",
    "sys.path.append('..')\n"
   ]
  },
  {
   "cell_type": "code",
   "execution_count": 15,
   "metadata": {},
   "outputs": [
    {
     "data": {
      "text/plain": [
       "Array(2, dtype=int32, weak_type=True)"
      ]
     },
     "execution_count": 15,
     "metadata": {},
     "output_type": "execute_result"
    }
   ],
   "source": [
    "def f(x, msg: str):\n",
    "    return (x + 1)\n",
    "\n",
    "jax.jit(f, static_argnames=(\"msg\",))(1, \"hello\")\n"
   ]
  },
  {
   "cell_type": "code",
   "execution_count": 9,
   "metadata": {},
   "outputs": [
    {
     "name": "stderr",
     "output_type": "stream",
     "text": [
      "/Users/ameyad/Documents/spherical-harmonic-net/.venv/lib/python3.10/site-packages/e3nn_jax/_src/basic.py:555: UserWarning: e3nn.normal: the key (random seed) is not provided, use the hash of the irreps as key!\n",
      "  warnings.warn(\n"
     ]
    },
    {
     "name": "stdout",
     "output_type": "stream",
     "text": [
      "4x0e+1x0e+1x1o+1x2e+1x3o+1x4e\n",
      "[[[[ 0.178965   -0.8160956   0.7827804   0.7025114   0.18371503\n",
      "     0.30572075 -0.58640146 -1.0551178  -0.18641537 -1.8394815\n",
      "    -1.6997705   0.12492011 -1.1149572  -0.45623064  2.0284507\n",
      "     0.62625724  0.19440839 -0.88461185  0.07666336  0.19841796\n",
      "    -0.41691393  0.95379716  1.4429971   1.163871   -0.16326699\n",
      "     0.5577532   0.50488    -0.26682705 -0.8007012 ]\n",
      "   [ 0.24812463 -0.7968878  -0.78703904  0.26025212 -0.2962588\n",
      "    -1.5016868   1.7713156  -1.3583281   1.5215381   1.5868151\n",
      "    -0.71454453  0.53214806 -1.0575016   1.0768367   0.39943078\n",
      "     1.799385    0.30608553  1.5122793   2.3733823   0.01290947\n",
      "     0.68991685 -1.2643776  -1.054789   -0.802186   -0.89324105\n",
      "    -0.03816885 -1.6905568   0.5869649   0.42957944]\n",
      "   [ 0.78078157  0.18377762 -1.5986038  -0.9588251   0.6763224\n",
      "    -0.16578607 -0.0114271  -0.31424648  0.37393025 -0.14874277\n",
      "    -0.2690466  -0.9938431  -0.08279011  0.62625223  0.02151301\n",
      "     0.8201572   0.61040366  1.4928881   1.3179044   0.31290105\n",
      "     0.5332083   1.9832299  -0.0663358  -0.15630779 -0.51058584\n",
      "     0.42943755  0.86272365 -1.6618758   0.47168106]\n",
      "   [ 0.5645832  -0.83321834  0.13837987 -0.68913937  1.8930875\n",
      "     0.14760639 -0.33278638  0.74887073 -1.2393421   1.4390548\n",
      "     1.966784   -0.7236327  -0.21870294 -0.8798287  -0.3593619\n",
      "     0.7279561   0.02031391 -0.33824635 -1.308855   -0.19897158\n",
      "     0.4676761   0.32323524  1.22437    -0.9207751  -0.50908315\n",
      "     0.5479023  -0.46168146 -0.2328551   0.06759948]]]]\n",
      "1x0e+1x1o+1x2e+1x3o+1x4e\n",
      "[[[[ 0.15672189  0.17305051 -0.33192733 -0.5972401  -0.23619358\n",
      "    -2.3306754  -2.1536574   0.15827733 -1.4126825  -0.56328756\n",
      "     2.5044374   0.77321184  0.24002735 -1.0921906   0.09465282\n",
      "     0.24497779 -0.42011252  0.96111476  1.4540678   1.1728003\n",
      "    -0.16451958  0.56203234  0.5087535  -0.26887417 -0.80684423]\n",
      "   [ 0.22754504 -0.86137956  1.0160407  -0.77914786  0.8787026\n",
      "     0.9164007  -0.4126562   0.3073205  -0.6107171   1.1226695\n",
      "     0.41643152  1.8759711   0.31911325  1.5766455   2.474399\n",
      "     0.01345893  0.5432168  -0.9955275  -0.8305046  -0.63161373\n",
      "    -0.70330733 -0.03005284 -1.3310864   0.46215603  0.3382361 ]\n",
      "   [ 0.93689555 -0.16706273 -0.01151509 -0.31666636  0.11610272\n",
      "    -0.04618359 -0.08353709 -0.30858132 -0.02570575  0.32040006\n",
      "     0.01100638  0.41960475  0.3122917   0.76378405  0.6742597\n",
      "     0.16008489  0.65259236  2.4272702  -0.08118823 -0.19130473\n",
      "    -0.62490475  0.52558756  1.0558854  -2.0339658   0.5772893 ]\n",
      "   [ 0.6180198   0.08256257 -0.18614167  0.41887546 -1.2230859\n",
      "     1.4201791   1.9409862  -0.71414095 -0.21583426 -0.5429027\n",
      "    -0.22174607  0.449189    0.0125348  -0.20871663 -0.80763566\n",
      "    -0.12277643  0.75041956  0.5186539   1.9645888  -1.4774492\n",
      "    -0.81686014  0.8791482  -0.74080074 -0.37363255  0.10846817]]]]\n"
     ]
    }
   ],
   "source": [
    "num_graphs = 1\n",
    "num_radii = 4\n",
    "num_channels = 1\n",
    "lmax = 4\n",
    "\n",
    "irreps = e3nn.Irreps(f\"{lmax}x0e\") + e3nn.s2_irreps(lmax, p_val=1, p_arg=-1)\n",
    "position_coeffs = e3nn.normal(\n",
    "    irreps,\n",
    "    leading_shape=(\n",
    "        num_graphs,\n",
    "        num_channels,\n",
    "        num_radii,\n",
    "    )\n",
    ")\n",
    "print(position_coeffs)\n",
    "gated_position_coeffs = e3nn.gate(position_coeffs)\n",
    "print(gated_position_coeffs)"
   ]
  },
  {
   "cell_type": "code",
   "execution_count": null,
   "metadata": {},
   "outputs": [],
   "source": [
    "log_radius_weights = e3nn.IrrepsArray(\"0e\", jnp.asarray([1.]))\n",
    "log_angular_coeffs = e3nn.IrrepsArray(\"0e + 1o\", jnp.arange(4).astype(float))\n",
    "x = e3nn.concatenate([log_radius_weights, log_angular_coeffs], axis=0)\n",
    "x, x.simplify(), e3nn.sum(x)"
   ]
  },
  {
   "cell_type": "code",
   "execution_count": null,
   "metadata": {},
   "outputs": [],
   "source": [
    "log_radius_weights = e3nn.IrrepsArray(\"0e\", jnp.arange(64).reshape((64, 1)))\n",
    "log_angular_coeffs = e3nn.IrrepsArray(\"0e + 1o\", jnp.arange(4))\n",
    "log_angular_coeffs = e3nn.IrrepsArray(log_angular_coeffs.irreps, jnp.tile(log_angular_coeffs.array, (64, 1)))\n",
    "print(log_angular_coeffs.shape)\n",
    "e3nn.concatenate([log_radius_weights, log_angular_coeffs], axis=1)"
   ]
  },
  {
   "cell_type": "code",
   "execution_count": null,
   "metadata": {},
   "outputs": [],
   "source": [
    "coeffs = e3nn.IrrepsArray(\"0e + 1o\", jnp.asarray([1.0, 1.0, 2.0, 3.0]))\n",
    "coeffs_on_grid = e3nn.to_s2grid(coeffs, res_beta=30, res_alpha=59, quadrature=\"soft\").grid_values\n",
    "\n",
    "scaled_coeffs = coeffs * 2.0\n",
    "scaled_coeffs_on_grid = e3nn.to_s2grid(scaled_coeffs, res_beta=30, res_alpha=59, quadrature=\"soft\").grid_values\n",
    "\n",
    "scaled_coeffs_on_grid / coeffs_on_grid"
   ]
  },
  {
   "cell_type": "code",
   "execution_count": null,
   "metadata": {},
   "outputs": [],
   "source": [
    "%load_ext autoreload"
   ]
  },
  {
   "cell_type": "code",
   "execution_count": null,
   "metadata": {},
   "outputs": [],
   "source": [
    "%autoreload 2\n",
    "import train\n",
    "import models\n",
    "import datatypes\n",
    "import analyses.generate_plots as generate_plots\n",
    "import input_pipeline_tf\n",
    "import configs.mace as mace\n",
    "import analyses.analysis as analysis"
   ]
  },
  {
   "cell_type": "code",
   "execution_count": null,
   "metadata": {},
   "outputs": [],
   "source": [
    "config = mace.get_config()\n",
    "print(config.train_molecules)\n",
    "config.train_molecules = (0, 2976)\n",
    "datasets = input_pipeline_tf.get_datasets(None, config)\n",
    "for step, _ in enumerate(datasets['train']):\n",
    "    if step % 50000 == 0:\n",
    "        print(step)\n",
    "print(step)\n",
    "    "
   ]
  },
  {
   "cell_type": "code",
   "execution_count": null,
   "metadata": {},
   "outputs": [],
   "source": [
    "basedir = \"../potato_workdirs/extras/sample_complexity\"\n",
    "results = analysis.get_results_as_dataframe(generate_plots.ALL_MODELS, generate_plots.ALL_METRICS, basedir)\n",
    "results['val'][results['val']['model'] == 'mace'].sort_values(by='max_l')"
   ]
  },
  {
   "cell_type": "code",
   "execution_count": null,
   "metadata": {},
   "outputs": [],
   "source": [
    "results['val'].to_clipboard()"
   ]
  },
  {
   "cell_type": "code",
   "execution_count": null,
   "metadata": {},
   "outputs": [],
   "source": [
    "def eval():\n",
    "    for x in datasets[\"val\"].take(10).as_numpy_iterator():\n",
    "        mask = jraph.get_graph_padding_mask(x)\n",
    "        print(x.n_node[mask].sum())\n",
    "\n",
    "eval()\n"
   ]
  },
  {
   "cell_type": "code",
   "execution_count": null,
   "metadata": {},
   "outputs": [],
   "source": [
    "import tensorflow as tf\n",
    "\n",
    "ds = tf.data.Dataset.range(10)"
   ]
  },
  {
   "cell_type": "code",
   "execution_count": null,
   "metadata": {},
   "outputs": [],
   "source": [
    "for x in ds.take(3).as_numpy_iterator():\n",
    "    print(x)"
   ]
  },
  {
   "cell_type": "code",
   "execution_count": null,
   "metadata": {},
   "outputs": [],
   "source": [
    "config = mace.get_config()\n",
    "datasets = input_pipeline_tf.get_raw_qm9_datasets(config)\n",
    "for x in datasets[\"val\"].take(10).as_numpy_iterator():\n",
    "    print(x['target_positions'].sum())"
   ]
  },
  {
   "cell_type": "code",
   "execution_count": null,
   "metadata": {},
   "outputs": [],
   "source": [
    "ds = datasets['val'].map(\n",
    "    input_pipeline_tf._convert_to_graphstuple,\n",
    "    num_parallel_calls=tf.data.AUTOTUNE,\n",
    "    deterministic=True,\n",
    ")\n",
    "\n",
    "ds_b = jraph.dynamically_batch(graphs_tuple_iterator=iter(ds),\n",
    "                                n_node=config.max_n_nodes,\n",
    "                                n_edge=config.max_n_edges,\n",
    "                                n_graph=config.max_n_graphs)"
   ]
  },
  {
   "cell_type": "code",
   "execution_count": null,
   "metadata": {},
   "outputs": [],
   "source": [
    "for step, x in enumerate(ds_b):\n",
    "    mask = jraph.get_graph_padding_mask(x)\n",
    "    print(x.n_node[mask].sum())\n",
    "    if step == 10:\n",
    "        break"
   ]
  },
  {
   "cell_type": "code",
   "execution_count": null,
   "metadata": {},
   "outputs": [],
   "source": [
    "import functools\n",
    "\n",
    "example_graph = next(ds.as_numpy_iterator())\n",
    "example_padded_graph = jraph.pad_with_graphs(\n",
    "    example_graph, n_node=config.max_n_nodes, n_edge=config.max_n_edges, n_graph=config.max_n_graphs\n",
    ")\n",
    "padded_graphs_spec = input_pipeline_tf._specs_from_graphs_tuple(example_padded_graph)\n",
    "\n",
    "# Batch and pad each split separately.\n",
    "batching_fn = functools.partial(\n",
    "    jraph.dynamically_batch,\n",
    "    graphs_tuple_iterator=iter(ds),\n",
    "    n_node=config.max_n_nodes,\n",
    "    n_edge=config.max_n_edges,\n",
    "    n_graph=config.max_n_graphs,\n",
    ")\n",
    "ds_tf = tf.data.Dataset.from_generator(\n",
    "    batching_fn, output_signature=padded_graphs_spec\n",
    ")\n",
    "ds_tf = ds_tf.take(100).cache()"
   ]
  },
  {
   "cell_type": "code",
   "execution_count": null,
   "metadata": {},
   "outputs": [],
   "source": [
    "for step, x in enumerate(ds_tf.as_numpy_iterator()):\n",
    "    mask = jraph.get_graph_padding_mask(x)\n",
    "    print(x.n_node[mask].sum())\n",
    "    if step == 10:\n",
    "        break"
   ]
  },
  {
   "cell_type": "code",
   "execution_count": null,
   "metadata": {},
   "outputs": [],
   "source": [
    "# Mimic what we do in train.py.\n",
    "config = mace.get_config()\n",
    "\n",
    "config.max_n_graphs = 32\n",
    "rng = jax.random.PRNGKey(0)\n",
    "rng, dataset_rng = jax.random.split(rng)\n",
    "\n",
    "# Obtain graphs.\n",
    "datasets = input_pipeline_tf.get_datasets(dataset_rng, config)\n",
    "train_iter = datasets[\"train\"].as_numpy_iterator()\n",
    "init_graphs = next(train_iter)\n",
    "\n",
    "# Set up dummy variables to obtain the structure.\n",
    "rng, init_rng = jax.random.split(rng)\n",
    "net = train.create_model(config, run_in_evaluation_mode=False)\n",
    "params = jax.jit(net.init)(init_rng, init_graphs)\n",
    "\n",
    "#ds = ds.shuffle(buffer_size=5, reshuffle_each_iteration=False)"
   ]
  },
  {
   "cell_type": "code",
   "execution_count": null,
   "metadata": {},
   "outputs": [],
   "source": [
    "for x in datasets[\"train_eval_final\"].as_numpy_iterator():\n",
    "    mask = jraph.get_graph_padding_mask(x)\n",
    "    print(x.n_node[mask].sum())"
   ]
  },
  {
   "cell_type": "code",
   "execution_count": null,
   "metadata": {},
   "outputs": [],
   "source": [
    "import tensorflow as tf\n",
    "ds = tf.data.Dataset.from_tensor_slices([0, 1, 2, 3, 4, 5, 6, 7, 8, 9])\n",
    "ds = ds.shuffle(buffer_size=5, reshuffle_each_iteration=False)"
   ]
  },
  {
   "cell_type": "code",
   "execution_count": null,
   "metadata": {},
   "outputs": [],
   "source": [
    "for x in ds.as_numpy_iterator():\n",
    "    print(x)"
   ]
  },
  {
   "cell_type": "code",
   "execution_count": null,
   "metadata": {},
   "outputs": [],
   "source": [
    "print(\"padding\")\n",
    "print(\"nodes\", config.max_n_nodes)\n",
    "print(\"edges\", config.max_n_edges)\n",
    "print(\"graphs\", config.max_n_graphs)"
   ]
  },
  {
   "cell_type": "code",
   "execution_count": null,
   "metadata": {},
   "outputs": [],
   "source": [
    "count = 0\n",
    "for step, graphs in enumerate(datasets[\"train\"].as_numpy_iterator()):\n",
    "    if step % 1000 == 1:\n",
    "        print(step, count / step)\n",
    "    if step == 10000:\n",
    "        break\n",
    "\n",
    "    graphs = jax.tree_map(jnp.array, graphs)\n",
    "    graphs = datatypes.Fragments.from_graphstuple(graphs)\n",
    "    count += jraph.get_graph_padding_mask(graphs).sum()\n",
    "\n",
    "print(count / step)\n"
   ]
  },
  {
   "cell_type": "code",
   "execution_count": null,
   "metadata": {},
   "outputs": [],
   "source": [
    "graphs = jraph.GraphsTuple(\n",
    "    nodes=jnp.array([[1, 2, 3], [1, 2, 3], [4, 5, 6], [7, 8, 9]]),\n",
    "    edges=jnp.array([[1, 2, 3], [4, 5, 6], [7, 8, 9]]),\n",
    "    globals=jnp.array([[1, 2, 3], [4, 5, 6], [7, 8, 9]]),\n",
    "    n_node=jnp.array([2, 1, 1]),\n",
    "    n_edge=jnp.array([1, 1, 1]),\n",
    "    senders=jnp.array([0, 0, 0]),\n",
    "    receivers=jnp.array([0, 0, 0]),\n",
    ")"
   ]
  },
  {
   "cell_type": "code",
   "execution_count": null,
   "metadata": {},
   "outputs": [],
   "source": [
    "num_graphs = 4\n",
    "rng, *species_rngs = jax.random.split(jax.random.PRNGKey(0), num_graphs + 1)\n",
    "\n",
    "target_species_probs = jnp.ones((num_graphs, models.NUM_ELEMENTS)) / models.NUM_ELEMENTS\n",
    "target_species = jax.vmap(lambda key, p: jax.random.choice(\n",
    "    key, models.NUM_ELEMENTS, p=p))((species_rngs,), target_species_probs)\n"
   ]
  },
  {
   "cell_type": "code",
   "execution_count": null,
   "metadata": {},
   "outputs": [],
   "source": [
    "e3nn.IrrepsArray(\"10x0e\", jnp.arange(10))"
   ]
  },
  {
   "cell_type": "code",
   "execution_count": null,
   "metadata": {},
   "outputs": [],
   "source": [
    "\n",
    "myhost"
   ]
  },
  {
   "cell_type": "code",
   "execution_count": null,
   "metadata": {},
   "outputs": [],
   "source": [
    "# Get results.\n",
    "results = analysis.get_results_as_dataframe(generate_plots.ALL_MODELS, generate_plots.ALL_METRICS, \"../potato_workdirs/v4/\")"
   ]
  },
  {
   "cell_type": "code",
   "execution_count": null,
   "metadata": {},
   "outputs": [],
   "source": [
    "results['val'].sort_values('total_loss')"
   ]
  },
  {
   "cell_type": "code",
   "execution_count": null,
   "metadata": {},
   "outputs": [],
   "source": [
    "import re\n",
    "seed, start, end = [int(val) for val in re.findall(r'\\d+', \"fragments_seed01_from130944_to133920\")]\n",
    "start, end"
   ]
  },
  {
   "cell_type": "code",
   "execution_count": null,
   "metadata": {},
   "outputs": [],
   "source": [
    "def segment_sample(probabilities, segment_ids, num_segments, rng):\n",
    "    \"\"\"Sample from a categorical distribution across each segment.\n",
    "    Args:\n",
    "        segment_ids: A 1D array of segment ids.\n",
    "        probs: A 1D array of probabilities.\n",
    "    Returns:\n",
    "        A 1D array of samples.\n",
    "    \"\"\"\n",
    "    def sample_for_segment(rng, i):\n",
    "        return jax.random.choice(rng, node_indices, p=jnp.where(i == segment_ids, probabilities, 0.))\n",
    "    \n",
    "    node_indices = jnp.arange(len(segment_ids))\n",
    "    rngs = jax.random.split(rng, num_segments)\n",
    "    return jax.vmap(sample_for_segment)(rngs, jnp.arange(num_segments))"
   ]
  },
  {
   "cell_type": "code",
   "execution_count": null,
   "metadata": {},
   "outputs": [],
   "source": [
    "focus_logits = graphs.nodes.sum(axis=1)\n",
    "probs = jraph.partition_softmax(focus_logits, graphs.n_node)\n",
    "print(probs)\n",
    "for seed in range(100):\n",
    "    print(segment_sample(probs, jnp.asarray([0, 0, 1, 2]), 3, jax.random.PRNGKey(seed)))"
   ]
  },
  {
   "cell_type": "code",
   "execution_count": null,
   "metadata": {},
   "outputs": [],
   "source": [
    "nodes = jnp.asarray([2, 3, 1, 4])\n",
    "segment_max = e3nn.scatter_max(nodes, nel=graphs.n_node)\n",
    "segment_max_expanded = e3nn.scatter_max(nodes, map_back=True, nel=graphs.n_node)\n",
    "print(segment_max_expanded)\n",
    "# segment_max_expanded = jnp.asarray([segment_max[0], segment_max[0], segment_max[1], segment_max[2]])\n",
    "\n",
    "expected = 0 + jnp.log(1 + e3nn.scatter_sum(jnp.exp(nodes - 0), nel=graphs.n_node))\n",
    "computed = segment_max + jnp.log(jnp.exp(-segment_max) + e3nn.scatter_sum(jnp.exp(nodes - segment_max_expanded), nel=graphs.n_node))\n",
    "\n",
    "expected, computed"
   ]
  },
  {
   "cell_type": "code",
   "execution_count": null,
   "metadata": {},
   "outputs": [],
   "source": [
    "import analysis\n"
   ]
  },
  {
   "cell_type": "code",
   "execution_count": null,
   "metadata": {},
   "outputs": [],
   "source": [
    "analysis.load_from_workdir(\"/Users/ameyad/Documents/spherical-harmonic-net/potato_workdirs/workdirs/mace/interactions=1/l=0/channels=32\")"
   ]
  },
  {
   "cell_type": "code",
   "execution_count": null,
   "metadata": {},
   "outputs": [],
   "source": [
    "lmax = 3\n",
    "irreps = e3nn.Irreps(e3nn.Irrep.iterator(lmax))\n",
    "e3nn.IrrepsArray(irreps=irreps, array=jnp.ones((10, irreps.dim)))"
   ]
  },
  {
   "cell_type": "code",
   "execution_count": null,
   "metadata": {},
   "outputs": [],
   "source": [
    "e3nn.scatter_sum(data=graphs.nodes, nel=graphs.n_node)"
   ]
  }
 ],
 "metadata": {
  "kernelspec": {
   "display_name": ".venv",
   "language": "python",
   "name": "python3"
  },
  "language_info": {
   "codemirror_mode": {
    "name": "ipython",
    "version": 3
   },
   "file_extension": ".py",
   "mimetype": "text/x-python",
   "name": "python",
   "nbconvert_exporter": "python",
   "pygments_lexer": "ipython3",
   "version": "3.10.12"
  },
  "orig_nbformat": 4,
  "vscode": {
   "interpreter": {
    "hash": "c45d96c58491a395ddcd8e473c3845279123da787cb66983d65c138d89f394de"
   }
  }
 },
 "nbformat": 4,
 "nbformat_minor": 2
}
