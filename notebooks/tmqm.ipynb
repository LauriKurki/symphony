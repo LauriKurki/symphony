{
 "cells": [
  {
   "cell_type": "code",
   "execution_count": 1,
   "metadata": {},
   "outputs": [],
   "source": [
    "import ase\n",
    "import ase.io\n",
    "import bokeh\n",
    "from bokeh.io import show\n",
    "import functools\n",
    "import jax\n",
    "import jax.numpy as jnp\n",
    "import matscipy.neighbours\n",
    "import numpy as np\n",
    "import pandas as pd\n",
    "import pcax\n",
    "import pickle\n",
    "import pymatgen\n",
    "from pymatgen.core import Lattice, Molecule, Structure\n",
    "import matplotlib.colors as mcolors\n",
    "import matplotlib.cm as cm\n",
    "import matplotlib.pyplot as plt\n",
    "import os\n",
    "import random\n",
    "import tqdm\n",
    "import sys\n",
    "\n",
    "from analyses.nearest_neighbors import CrystalNN, VoronoiNN\n",
    "from analyses import metrics\n",
    "import symphony.models.ptable as ptable\n",
    "sys.path.append('/home/songk/pyspectra/')\n",
    "import pyspectra\n",
    "import pyspectra.spectra\n",
    "import pyspectra.utils\n",
    "import pyspectra.visualize\n",
    "\n",
    "sys.path.append('/home/songk/cmap_periodictable/')\n",
    "from ptable_trends import ptable_plotter"
   ]
  },
  {
   "cell_type": "markdown",
   "metadata": {},
   "source": [
    "## Bispectra"
   ]
  },
  {
   "cell_type": "markdown",
   "metadata": {},
   "source": [
    "### Get data"
   ]
  },
  {
   "cell_type": "code",
   "execution_count": 2,
   "metadata": {},
   "outputs": [
    {
     "name": "stderr",
     "output_type": "stream",
     "text": [
      "  0%|          | 0/86665 [00:00<?, ?it/s]"
     ]
    },
    {
     "name": "stderr",
     "output_type": "stream",
     "text": [
      "100%|██████████| 86665/86665 [00:15<00:00, 5589.74it/s]\n"
     ]
    }
   ],
   "source": [
    "xyzs_path = \"../tmqm_data/xyz\"\n",
    "mols_tmqm_ase = []\n",
    "for mol_file in tqdm.tqdm(os.listdir(xyzs_path)):\n",
    "    mol_as_ase = ase.io.read(os.path.join(xyzs_path, mol_file), format=\"xyz\")\n",
    "    if mol_as_ase is None:\n",
    "        continue\n",
    "    mols_tmqm_ase.append(mol_as_ase)"
   ]
  },
  {
   "cell_type": "code",
   "execution_count": 3,
   "metadata": {},
   "outputs": [],
   "source": [
    "def is_transition_metal(z):\n",
    "    return 2 <= ptable.groups[z-1] <= 11"
   ]
  },
  {
   "cell_type": "code",
   "execution_count": 4,
   "metadata": {},
   "outputs": [
    {
     "name": "stderr",
     "output_type": "stream",
     "text": [
      "100%|██████████| 86665/86665 [00:49<00:00, 1758.50it/s]\n"
     ]
    }
   ],
   "source": [
    "mols_tmqm = []\n",
    "for mol in tqdm.tqdm(mols_tmqm_ase):\n",
    "    struct = Molecule(mol.get_chemical_symbols(), mol.get_positions())\n",
    "    mols_tmqm.append(struct)"
   ]
  },
  {
   "cell_type": "code",
   "execution_count": null,
   "metadata": {},
   "outputs": [
    {
     "name": "stderr",
     "output_type": "stream",
     "text": [
      "100%|██████████| 86665/86665 [16:14<00:00, 88.95it/s]  \n"
     ]
    }
   ],
   "source": [
    "mols_by_el = {}\n",
    "\n",
    "for mol in tqdm.tqdm(mols_tmqm):\n",
    "    el = \"\"\n",
    "    for i in range(len(mol.numbers)):\n",
    "        if is_transition_metal(mol.numbers[i]):\n",
    "            el = mol.get_chemical_symbols()[i]\n",
    "            break\n",
    "    if el == \"\": continue\n",
    "    struct = Molecule(mol.get_chemical_symbols(), mol.get_positions())\n",
    "    mols_by_el[el] = mols_by_el.get(el, []) + [(struct, i)]"
   ]
  },
  {
   "cell_type": "code",
   "execution_count": 5,
   "metadata": {},
   "outputs": [
    {
     "name": "stderr",
     "output_type": "stream",
     "text": [
      "100%|██████████| 500/500 [00:00<00:00, 1313.91it/s]\n",
      "100%|██████████| 500/500 [00:00<00:00, 1526.37it/s]\n"
     ]
    }
   ],
   "source": [
    "generated_dirs = [\"../analyses/analysed_workdirs/tmqmg_apr10_500k/Ni\", \"../analyses/analysed_workdirs/tmqmg_apr10_500k/W\"]\n",
    "mols_generated = []\n",
    "for generated_dir in generated_dirs:\n",
    "    for mol_file in tqdm.tqdm(os.listdir(generated_dir)):\n",
    "        if mol_file.endswith(\".xyz\"):\n",
    "            mol_as_ase = ase.io.read(os.path.join(generated_dir, mol_file), format=\"xyz\")\n",
    "            if mol_as_ase is None:\n",
    "                continue\n",
    "            mols_generated.append(Molecule(mol_as_ase.get_chemical_symbols(), mol_as_ase.get_positions()))"
   ]
  },
  {
   "cell_type": "code",
   "execution_count": 6,
   "metadata": {},
   "outputs": [],
   "source": [
    "import pickle\n",
    "# with open(\"mols_by_el.pkl\", \"wb\") as f:\n",
    "#     pickle.dump(mols_by_el, f)\n",
    "\n",
    "with open(\"mols_by_el.pkl\", \"rb\") as f:\n",
    "    mols_by_el = pickle.load(f)"
   ]
  },
  {
   "cell_type": "markdown",
   "metadata": {},
   "source": [
    "### Get bispectra"
   ]
  },
  {
   "cell_type": "code",
   "execution_count": 7,
   "metadata": {},
   "outputs": [],
   "source": [
    "def cutoff(mol, site_index, cutoff=3.):\n",
    "    return mol.get_neighbors(mol[site_index], cutoff)\n",
    "\n",
    "def cutoff_constructor(c):\n",
    "    return functools.partial(cutoff, cutoff=c)\n",
    "\n",
    "def get_chemical_symbols(mol):\n",
    "    return [el.label for el in mol]\n",
    "\n",
    "def get_neighbors(mol, site_index, cutoff=3.):\n",
    "    return [x.label for x in mol.get_neighbors(mol[site_index], cutoff)]"
   ]
  },
  {
   "cell_type": "code",
   "execution_count": 8,
   "metadata": {},
   "outputs": [],
   "source": [
    "def get_bispectrum_by_el(mol, el, cutoff=3.):\n",
    "    spectra_comp = pyspectra.spectra.Spectra()\n",
    "    spectra_comp.set_cutoff(cutoff_constructor(cutoff))\n",
    "    spectra_comp.load_structure(mol)\n",
    "    bispectrum = spectra_comp.compute_element_spectra(el)\n",
    "    return jnp.array(list(bispectrum.values())), list(bispectrum.keys())\n",
    "\n",
    "def get_bispectra_by_el_pair(mols, center_el, neighbor_el, cutoff=3.):\n",
    "    bispectra = []\n",
    "    for mol in tqdm.tqdm(mols):\n",
    "        if center_el in get_chemical_symbols(mol):\n",
    "            spectra, sites = get_bispectrum_by_el(mol, center_el, cutoff)\n",
    "            for s, i in zip(spectra, sites):\n",
    "                if neighbor_el in get_neighbors(mol, i, cutoff):\n",
    "                    bispectra.append(s)\n",
    "    return jnp.array(bispectra)"
   ]
  },
  {
   "cell_type": "markdown",
   "metadata": {},
   "source": [
    "### Get MMD"
   ]
  },
  {
   "cell_type": "code",
   "execution_count": 9,
   "metadata": {},
   "outputs": [
    {
     "name": "stderr",
     "output_type": "stream",
     "text": [
      "  0%|          | 0/1000 [00:00<?, ?it/s]2024-04-13 13:16:59.164653: W external/tsl/tsl/framework/bfc_allocator.cc:296] Allocator (GPU_0_bfc) ran out of memory trying to allocate 16.00MiB with freed_by_count=0. The caller indicates that this is not a failure, but this may mean that there could be performance gains if more memory were available.\n",
      "  0%|          | 0/1000 [00:00<?, ?it/s]\n"
     ]
    },
    {
     "ename": "XlaRuntimeError",
     "evalue": "RESOURCE_EXHAUSTED: Out of memory while trying to allocate 16777828 bytes.",
     "output_type": "error",
     "traceback": [
      "\u001b[0;31m---------------------------------------------------------------------------\u001b[0m",
      "\u001b[0;31mXlaRuntimeError\u001b[0m                           Traceback (most recent call last)",
      "Cell \u001b[0;32mIn[9], line 4\u001b[0m\n\u001b[1;32m      1\u001b[0m center_el \u001b[38;5;241m=\u001b[39m \u001b[38;5;124m'\u001b[39m\u001b[38;5;124mC\u001b[39m\u001b[38;5;124m'\u001b[39m\n\u001b[1;32m      2\u001b[0m neighbor_el \u001b[38;5;241m=\u001b[39m \u001b[38;5;124m'\u001b[39m\u001b[38;5;124mC\u001b[39m\u001b[38;5;124m'\u001b[39m\n\u001b[0;32m----> 4\u001b[0m bispectra_generated \u001b[38;5;241m=\u001b[39m \u001b[43mget_bispectra_by_el_pair\u001b[49m\u001b[43m(\u001b[49m\u001b[43mmols_generated\u001b[49m\u001b[43m,\u001b[49m\u001b[43m \u001b[49m\u001b[43mcenter_el\u001b[49m\u001b[43m,\u001b[49m\u001b[43m \u001b[49m\u001b[43mneighbor_el\u001b[49m\u001b[43m)\u001b[49m\n\u001b[1;32m      5\u001b[0m bispectra_tmqm \u001b[38;5;241m=\u001b[39m []\n\u001b[1;32m      6\u001b[0m \u001b[38;5;28;01mfor\u001b[39;00m i \u001b[38;5;129;01min\u001b[39;00m jax\u001b[38;5;241m.\u001b[39mrandom\u001b[38;5;241m.\u001b[39mpermutation(jax\u001b[38;5;241m.\u001b[39mrandom\u001b[38;5;241m.\u001b[39mPRNGKey(\u001b[38;5;241m0\u001b[39m), jnp\u001b[38;5;241m.\u001b[39marange(\u001b[38;5;28mlen\u001b[39m(mols_tmqm)))[:\u001b[38;5;241m1000\u001b[39m]:\n",
      "Cell \u001b[0;32mIn[8], line 12\u001b[0m, in \u001b[0;36mget_bispectra_by_el_pair\u001b[0;34m(mols, center_el, neighbor_el, cutoff)\u001b[0m\n\u001b[1;32m     10\u001b[0m \u001b[38;5;28;01mfor\u001b[39;00m mol \u001b[38;5;129;01min\u001b[39;00m tqdm\u001b[38;5;241m.\u001b[39mtqdm(mols):\n\u001b[1;32m     11\u001b[0m     \u001b[38;5;28;01mif\u001b[39;00m center_el \u001b[38;5;129;01min\u001b[39;00m get_chemical_symbols(mol):\n\u001b[0;32m---> 12\u001b[0m         spectra, sites \u001b[38;5;241m=\u001b[39m \u001b[43mget_bispectrum_by_el\u001b[49m\u001b[43m(\u001b[49m\u001b[43mmol\u001b[49m\u001b[43m,\u001b[49m\u001b[43m \u001b[49m\u001b[43mcenter_el\u001b[49m\u001b[43m,\u001b[49m\u001b[43m \u001b[49m\u001b[43mcutoff\u001b[49m\u001b[43m)\u001b[49m\n\u001b[1;32m     13\u001b[0m         \u001b[38;5;28;01mfor\u001b[39;00m s, i \u001b[38;5;129;01min\u001b[39;00m \u001b[38;5;28mzip\u001b[39m(spectra, sites):\n\u001b[1;32m     14\u001b[0m             \u001b[38;5;28;01mif\u001b[39;00m neighbor_el \u001b[38;5;129;01min\u001b[39;00m get_neighbors(mol, i, cutoff):\n",
      "Cell \u001b[0;32mIn[8], line 5\u001b[0m, in \u001b[0;36mget_bispectrum_by_el\u001b[0;34m(mol, el, cutoff)\u001b[0m\n\u001b[1;32m      3\u001b[0m spectra_comp\u001b[38;5;241m.\u001b[39mset_cutoff(cutoff_constructor(cutoff))\n\u001b[1;32m      4\u001b[0m spectra_comp\u001b[38;5;241m.\u001b[39mload_structure(mol)\n\u001b[0;32m----> 5\u001b[0m bispectrum \u001b[38;5;241m=\u001b[39m \u001b[43mspectra_comp\u001b[49m\u001b[38;5;241;43m.\u001b[39;49m\u001b[43mcompute_element_spectra\u001b[49m\u001b[43m(\u001b[49m\u001b[43mel\u001b[49m\u001b[43m)\u001b[49m\n\u001b[1;32m      6\u001b[0m \u001b[38;5;28;01mreturn\u001b[39;00m jnp\u001b[38;5;241m.\u001b[39marray(\u001b[38;5;28mlist\u001b[39m(bispectrum\u001b[38;5;241m.\u001b[39mvalues())), \u001b[38;5;28mlist\u001b[39m(bispectrum\u001b[38;5;241m.\u001b[39mkeys())\n",
      "File \u001b[0;32m~/pyspectra/pyspectra/spectra.py:254\u001b[0m, in \u001b[0;36mSpectra.compute_element_spectra\u001b[0;34m(self, element)\u001b[0m\n\u001b[1;32m    244\u001b[0m \u001b[38;5;28;01mdef\u001b[39;00m \u001b[38;5;21mcompute_element_spectra\u001b[39m(\u001b[38;5;28mself\u001b[39m, element):\n\u001b[1;32m    245\u001b[0m \u001b[38;5;250m    \u001b[39m\u001b[38;5;124;03m\"\"\"\u001b[39;00m\n\u001b[1;32m    246\u001b[0m \u001b[38;5;124;03m    Computes the spectra of all atoms of a given element in a structure.\u001b[39;00m\n\u001b[1;32m    247\u001b[0m \n\u001b[0;32m   (...)\u001b[0m\n\u001b[1;32m    252\u001b[0m \u001b[38;5;124;03m        dict: A dictionary mapping atom site number to the spectrum of that atom's local environment.\u001b[39;00m\n\u001b[1;32m    253\u001b[0m \u001b[38;5;124;03m    \"\"\"\u001b[39;00m\n\u001b[0;32m--> 254\u001b[0m     \u001b[38;5;28;01mreturn\u001b[39;00m {\n\u001b[1;32m    255\u001b[0m         site_index: \u001b[38;5;28mself\u001b[39m\u001b[38;5;241m.\u001b[39mcompute_atom_spectra(site_index)\n\u001b[1;32m    256\u001b[0m         \u001b[38;5;28;01mfor\u001b[39;00m site_index, atom \u001b[38;5;129;01min\u001b[39;00m \u001b[38;5;28menumerate\u001b[39m(\u001b[38;5;28mself\u001b[39m\u001b[38;5;241m.\u001b[39mstructure)\n\u001b[1;32m    257\u001b[0m         \u001b[38;5;28;01mif\u001b[39;00m get_element(atom) \u001b[38;5;241m==\u001b[39m element\n\u001b[1;32m    258\u001b[0m     }\n",
      "File \u001b[0;32m~/pyspectra/pyspectra/spectra.py:255\u001b[0m, in \u001b[0;36m<dictcomp>\u001b[0;34m(.0)\u001b[0m\n\u001b[1;32m    244\u001b[0m \u001b[38;5;28;01mdef\u001b[39;00m \u001b[38;5;21mcompute_element_spectra\u001b[39m(\u001b[38;5;28mself\u001b[39m, element):\n\u001b[1;32m    245\u001b[0m \u001b[38;5;250m    \u001b[39m\u001b[38;5;124;03m\"\"\"\u001b[39;00m\n\u001b[1;32m    246\u001b[0m \u001b[38;5;124;03m    Computes the spectra of all atoms of a given element in a structure.\u001b[39;00m\n\u001b[1;32m    247\u001b[0m \n\u001b[0;32m   (...)\u001b[0m\n\u001b[1;32m    252\u001b[0m \u001b[38;5;124;03m        dict: A dictionary mapping atom site number to the spectrum of that atom's local environment.\u001b[39;00m\n\u001b[1;32m    253\u001b[0m \u001b[38;5;124;03m    \"\"\"\u001b[39;00m\n\u001b[1;32m    254\u001b[0m     \u001b[38;5;28;01mreturn\u001b[39;00m {\n\u001b[0;32m--> 255\u001b[0m         site_index: \u001b[38;5;28;43mself\u001b[39;49m\u001b[38;5;241;43m.\u001b[39;49m\u001b[43mcompute_atom_spectra\u001b[49m\u001b[43m(\u001b[49m\u001b[43msite_index\u001b[49m\u001b[43m)\u001b[49m\n\u001b[1;32m    256\u001b[0m         \u001b[38;5;28;01mfor\u001b[39;00m site_index, atom \u001b[38;5;129;01min\u001b[39;00m \u001b[38;5;28menumerate\u001b[39m(\u001b[38;5;28mself\u001b[39m\u001b[38;5;241m.\u001b[39mstructure)\n\u001b[1;32m    257\u001b[0m         \u001b[38;5;28;01mif\u001b[39;00m get_element(atom) \u001b[38;5;241m==\u001b[39m element\n\u001b[1;32m    258\u001b[0m     }\n",
      "File \u001b[0;32m~/pyspectra/pyspectra/spectra.py:240\u001b[0m, in \u001b[0;36mSpectra.compute_atom_spectra\u001b[0;34m(self, site_index)\u001b[0m\n\u001b[1;32m    238\u001b[0m local_env \u001b[38;5;241m=\u001b[39m \u001b[38;5;28mself\u001b[39m\u001b[38;5;241m.\u001b[39mget_local_geometry(site_index)\n\u001b[1;32m    239\u001b[0m \u001b[38;5;28;01mif\u001b[39;00m local_env \u001b[38;5;129;01mis\u001b[39;00m \u001b[38;5;129;01mnot\u001b[39;00m \u001b[38;5;28;01mNone\u001b[39;00m:\n\u001b[0;32m--> 240\u001b[0m     sh_expansion \u001b[38;5;241m=\u001b[39m \u001b[43msum_of_diracs\u001b[49m\u001b[43m(\u001b[49m\u001b[43mlocal_env\u001b[49m\u001b[43m,\u001b[49m\u001b[43m \u001b[49m\u001b[38;5;28;43mself\u001b[39;49m\u001b[38;5;241;43m.\u001b[39;49m\u001b[43mlmax\u001b[49m\u001b[43m)\u001b[49m\n\u001b[1;32m    241\u001b[0m     \u001b[38;5;28;01mreturn\u001b[39;00m \u001b[38;5;28mself\u001b[39m\u001b[38;5;241m.\u001b[39mspectrum_function(sh_expansion)\n\u001b[1;32m    242\u001b[0m \u001b[38;5;28;01mreturn\u001b[39;00m \u001b[38;5;28;01mNone\u001b[39;00m\n",
      "File \u001b[0;32m~/pyspectra/pyspectra/utils.py:39\u001b[0m, in \u001b[0;36msum_of_diracs\u001b[0;34m(vectors, lmax, values)\u001b[0m\n\u001b[1;32m     36\u001b[0m \u001b[38;5;28;01mif\u001b[39;00m values \u001b[38;5;129;01mis\u001b[39;00m \u001b[38;5;28;01mNone\u001b[39;00m:\n\u001b[1;32m     37\u001b[0m     values \u001b[38;5;241m=\u001b[39m jnp\u001b[38;5;241m.\u001b[39mlinalg\u001b[38;5;241m.\u001b[39mnorm(vectors, axis\u001b[38;5;241m=\u001b[39m\u001b[38;5;241m1\u001b[39m)\n\u001b[1;32m     38\u001b[0m \u001b[38;5;28;01mreturn\u001b[39;00m e3nn\u001b[38;5;241m.\u001b[39msum(\n\u001b[0;32m---> 39\u001b[0m     \u001b[43me3nn\u001b[49m\u001b[38;5;241;43m.\u001b[39;49m\u001b[43ms2_dirac\u001b[49m\u001b[43m(\u001b[49m\u001b[43mvectors\u001b[49m\u001b[43m,\u001b[49m\u001b[43m \u001b[49m\u001b[43mlmax\u001b[49m\u001b[43m,\u001b[49m\u001b[43m \u001b[49m\u001b[43mp_val\u001b[49m\u001b[38;5;241;43m=\u001b[39;49m\u001b[38;5;241;43m1\u001b[39;49m\u001b[43m,\u001b[49m\u001b[43m \u001b[49m\u001b[43mp_arg\u001b[49m\u001b[38;5;241;43m=\u001b[39;49m\u001b[38;5;241;43m-\u001b[39;49m\u001b[38;5;241;43m1\u001b[39;49m\u001b[43m)\u001b[49m \u001b[38;5;241m*\u001b[39m values[:, \u001b[38;5;28;01mNone\u001b[39;00m], axis\u001b[38;5;241m=\u001b[39m\u001b[38;5;241m0\u001b[39m\n\u001b[1;32m     40\u001b[0m )\n",
      "File \u001b[0;32m~/miniforge3/envs/sh-net/lib/python3.10/site-packages/e3nn_jax/_src/s2grid.py:771\u001b[0m, in \u001b[0;36ms2_dirac\u001b[0;34m(position, lmax, p_val, p_arg)\u001b[0m\n\u001b[1;32m    692\u001b[0m \u001b[38;5;250m\u001b[39m\u001b[38;5;124mr\u001b[39m\u001b[38;5;124;03m\"\"\"Spherical harmonics expansion of a Dirac delta on the sphere.\u001b[39;00m\n\u001b[1;32m    693\u001b[0m \n\u001b[1;32m    694\u001b[0m \u001b[38;5;124;03mThe integral of the Dirac delta is 1.\u001b[39;00m\n\u001b[0;32m   (...)\u001b[0m\n\u001b[1;32m    768\u001b[0m \u001b[38;5;124;03m        e3nn.sum(e3nn.s2_dirac(positions, 4, p_val=1, p_arg=-1) * weights[:, None], axis=0)\u001b[39;00m\n\u001b[1;32m    769\u001b[0m \u001b[38;5;124;03m\"\"\"\u001b[39;00m\n\u001b[1;32m    770\u001b[0m irreps \u001b[38;5;241m=\u001b[39m s2_irreps(lmax, p_val, p_arg)\n\u001b[0;32m--> 771\u001b[0m coeffs \u001b[38;5;241m=\u001b[39m \u001b[43me3nn\u001b[49m\u001b[38;5;241;43m.\u001b[39;49m\u001b[43mspherical_harmonics\u001b[49m\u001b[43m(\u001b[49m\n\u001b[1;32m    772\u001b[0m \u001b[43m    \u001b[49m\u001b[43mirreps\u001b[49m\u001b[43m,\u001b[49m\u001b[43m \u001b[49m\u001b[43mposition\u001b[49m\u001b[43m,\u001b[49m\u001b[43m \u001b[49m\u001b[43mnormalize\u001b[49m\u001b[38;5;241;43m=\u001b[39;49m\u001b[38;5;28;43;01mTrue\u001b[39;49;00m\u001b[43m,\u001b[49m\u001b[43m \u001b[49m\u001b[43mnormalization\u001b[49m\u001b[38;5;241;43m=\u001b[39;49m\u001b[38;5;124;43m\"\u001b[39;49m\u001b[38;5;124;43mintegral\u001b[39;49m\u001b[38;5;124;43m\"\u001b[39;49m\n\u001b[1;32m    773\u001b[0m \u001b[43m\u001b[49m\u001b[43m)\u001b[49m  \u001b[38;5;66;03m# [dim]\u001b[39;00m\n\u001b[1;32m    774\u001b[0m \u001b[38;5;28;01mreturn\u001b[39;00m coeffs \u001b[38;5;241m/\u001b[39m jnp\u001b[38;5;241m.\u001b[39msqrt(\u001b[38;5;241m4\u001b[39m \u001b[38;5;241m*\u001b[39m jnp\u001b[38;5;241m.\u001b[39mpi)\n",
      "File \u001b[0;32m~/miniforge3/envs/sh-net/lib/python3.10/site-packages/e3nn_jax/_src/spherical_harmonics/__init__.py:168\u001b[0m, in \u001b[0;36mspherical_harmonics\u001b[0;34m(irreps_out, input, normalize, normalization, algorithm)\u001b[0m\n\u001b[1;32m    165\u001b[0m     r2 \u001b[38;5;241m=\u001b[39m jnp\u001b[38;5;241m.\u001b[39mwhere(r2 \u001b[38;5;241m==\u001b[39m \u001b[38;5;241m0.0\u001b[39m, \u001b[38;5;241m1.0\u001b[39m, r2)\n\u001b[1;32m    166\u001b[0m     x \u001b[38;5;241m=\u001b[39m x \u001b[38;5;241m/\u001b[39m jnp\u001b[38;5;241m.\u001b[39msqrt(r2)\n\u001b[0;32m--> 168\u001b[0m sh \u001b[38;5;241m=\u001b[39m \u001b[43m_jited_spherical_harmonics\u001b[49m\u001b[43m(\u001b[49m\n\u001b[1;32m    169\u001b[0m \u001b[43m    \u001b[49m\u001b[38;5;28;43mtuple\u001b[39;49m\u001b[43m(\u001b[49m\u001b[43mir\u001b[49m\u001b[38;5;241;43m.\u001b[39;49m\u001b[43ml\u001b[49m\u001b[43m \u001b[49m\u001b[38;5;28;43;01mfor\u001b[39;49;00m\u001b[43m \u001b[49m\u001b[43m_\u001b[49m\u001b[43m,\u001b[49m\u001b[43m \u001b[49m\u001b[43mir\u001b[49m\u001b[43m \u001b[49m\u001b[38;5;129;43;01min\u001b[39;49;00m\u001b[43m \u001b[49m\u001b[43mirreps_out\u001b[49m\u001b[43m)\u001b[49m\u001b[43m,\u001b[49m\u001b[43m \u001b[49m\u001b[43mx\u001b[49m\u001b[43m,\u001b[49m\u001b[43m \u001b[49m\u001b[43mnormalization\u001b[49m\u001b[43m,\u001b[49m\u001b[43m \u001b[49m\u001b[43malgorithm\u001b[49m\n\u001b[1;32m    170\u001b[0m \u001b[43m\u001b[49m\u001b[43m)\u001b[49m\n\u001b[1;32m    171\u001b[0m sh \u001b[38;5;241m=\u001b[39m [\n\u001b[1;32m    172\u001b[0m     jnp\u001b[38;5;241m.\u001b[39mrepeat(y[\u001b[38;5;241m.\u001b[39m\u001b[38;5;241m.\u001b[39m\u001b[38;5;241m.\u001b[39m, \u001b[38;5;28;01mNone\u001b[39;00m, :], mul, \u001b[38;5;241m-\u001b[39m\u001b[38;5;241m2\u001b[39m) \u001b[38;5;28;01mif\u001b[39;00m mul \u001b[38;5;241m!=\u001b[39m \u001b[38;5;241m1\u001b[39m \u001b[38;5;28;01melse\u001b[39;00m y[\u001b[38;5;241m.\u001b[39m\u001b[38;5;241m.\u001b[39m\u001b[38;5;241m.\u001b[39m, \u001b[38;5;28;01mNone\u001b[39;00m, :]\n\u001b[1;32m    173\u001b[0m     \u001b[38;5;28;01mfor\u001b[39;00m (mul, ir), y \u001b[38;5;129;01min\u001b[39;00m \u001b[38;5;28mzip\u001b[39m(irreps_out, sh)\n\u001b[1;32m    174\u001b[0m ]\n\u001b[1;32m    175\u001b[0m \u001b[38;5;28;01mreturn\u001b[39;00m e3nn\u001b[38;5;241m.\u001b[39mfrom_chunks(irreps_out, sh, x\u001b[38;5;241m.\u001b[39mshape[:\u001b[38;5;241m-\u001b[39m\u001b[38;5;241m1\u001b[39m], x\u001b[38;5;241m.\u001b[39mdtype)\n",
      "    \u001b[0;31m[... skipping hidden 14 frame]\u001b[0m\n",
      "File \u001b[0;32m~/miniforge3/envs/sh-net/lib/python3.10/site-packages/jax/_src/compiler.py:256\u001b[0m, in \u001b[0;36mbackend_compile\u001b[0;34m(backend, module, options, host_callbacks)\u001b[0m\n\u001b[1;32m    251\u001b[0m   \u001b[38;5;28;01mreturn\u001b[39;00m backend\u001b[38;5;241m.\u001b[39mcompile(built_c, compile_options\u001b[38;5;241m=\u001b[39moptions,\n\u001b[1;32m    252\u001b[0m                          host_callbacks\u001b[38;5;241m=\u001b[39mhost_callbacks)\n\u001b[1;32m    253\u001b[0m \u001b[38;5;66;03m# Some backends don't have `host_callbacks` option yet\u001b[39;00m\n\u001b[1;32m    254\u001b[0m \u001b[38;5;66;03m# TODO(sharadmv): remove this fallback when all backends allow `compile`\u001b[39;00m\n\u001b[1;32m    255\u001b[0m \u001b[38;5;66;03m# to take in `host_callbacks`\u001b[39;00m\n\u001b[0;32m--> 256\u001b[0m \u001b[38;5;28;01mreturn\u001b[39;00m \u001b[43mbackend\u001b[49m\u001b[38;5;241;43m.\u001b[39;49m\u001b[43mcompile\u001b[49m\u001b[43m(\u001b[49m\u001b[43mbuilt_c\u001b[49m\u001b[43m,\u001b[49m\u001b[43m \u001b[49m\u001b[43mcompile_options\u001b[49m\u001b[38;5;241;43m=\u001b[39;49m\u001b[43moptions\u001b[49m\u001b[43m)\u001b[49m\n",
      "\u001b[0;31mXlaRuntimeError\u001b[0m: RESOURCE_EXHAUSTED: Out of memory while trying to allocate 16777828 bytes."
     ]
    }
   ],
   "source": [
    "center_el = 'C'\n",
    "neighbor_el = 'C'\n",
    "\n",
    "bispectra_generated = get_bispectra_by_el_pair(mols_generated, center_el, neighbor_el)\n",
    "bispectra_tmqm = []\n",
    "for i in jax.random.permutation(jax.random.PRNGKey(0), jnp.arange(len(mols_tmqm)))[:1000]:\n",
    "    bispectra_tmqm.append(get_bispectra_by_el_pair([mols_tmqm[i]], center_el, neighbor_el))\n",
    "# bispectra_tmqm = get_bispectra_by_el_pair(\n",
    "#     mols_tmqm[jax.random.permutation(jax.random.PRNGKey(0), jnp.arange(len(mols_tmqm)))[:1000]],\n",
    "#     center_el, neighbor_el)\n",
    "# bispectra_tmqm = get_bispectra_by_el_pair([m for m, _ in mols_by_el[center_el]], center_el, neighbor_el)"
   ]
  },
  {
   "cell_type": "code",
   "execution_count": null,
   "metadata": {},
   "outputs": [
    {
     "ename": "ValueError",
     "evalue": "Cannot take a larger sample than population when 'replace=False'",
     "output_type": "error",
     "traceback": [
      "\u001b[0;31m---------------------------------------------------------------------------\u001b[0m",
      "\u001b[0;31mValueError\u001b[0m                                Traceback (most recent call last)",
      "Cell \u001b[0;32mIn[4], line 4\u001b[0m\n\u001b[1;32m      1\u001b[0m key_1, key_2 \u001b[38;5;241m=\u001b[39m jax\u001b[38;5;241m.\u001b[39mrandom\u001b[38;5;241m.\u001b[39msplit(jax\u001b[38;5;241m.\u001b[39mrandom\u001b[38;5;241m.\u001b[39mPRNGKey(\u001b[38;5;241m0\u001b[39m))\n\u001b[1;32m      3\u001b[0m n_samples \u001b[38;5;241m=\u001b[39m \u001b[38;5;241m25\u001b[39m\n\u001b[0;32m----> 4\u001b[0m sampled_bispectra_generated \u001b[38;5;241m=\u001b[39m \u001b[43mjax\u001b[49m\u001b[38;5;241;43m.\u001b[39;49m\u001b[43mrandom\u001b[49m\u001b[38;5;241;43m.\u001b[39;49m\u001b[43mchoice\u001b[49m\u001b[43m(\u001b[49m\u001b[43mkey_1\u001b[49m\u001b[43m,\u001b[49m\u001b[43m \u001b[49m\u001b[43mbispectra_generated\u001b[49m\u001b[43m,\u001b[49m\u001b[43m \u001b[49m\u001b[43mshape\u001b[49m\u001b[38;5;241;43m=\u001b[39;49m\u001b[43m(\u001b[49m\u001b[43mn_samples\u001b[49m\u001b[43m,\u001b[49m\u001b[43m)\u001b[49m\u001b[43m,\u001b[49m\u001b[43m \u001b[49m\u001b[43mreplace\u001b[49m\u001b[38;5;241;43m=\u001b[39;49m\u001b[38;5;28;43;01mFalse\u001b[39;49;00m\u001b[43m)\u001b[49m\n\u001b[1;32m      5\u001b[0m sampled_bispectra_tmqm \u001b[38;5;241m=\u001b[39m jax\u001b[38;5;241m.\u001b[39mrandom\u001b[38;5;241m.\u001b[39mchoice(key_2, bispectra_tmqm, shape\u001b[38;5;241m=\u001b[39m(n_samples,), replace\u001b[38;5;241m=\u001b[39m\u001b[38;5;28;01mFalse\u001b[39;00m)\n",
      "File \u001b[0;32m~/miniforge3/envs/sh-net/lib/python3.10/site-packages/jax/_src/random.py:671\u001b[0m, in \u001b[0;36mchoice\u001b[0;34m(key, a, shape, replace, p, axis)\u001b[0m\n\u001b[1;32m    669\u001b[0m   \u001b[38;5;28;01mraise\u001b[39;00m \u001b[38;5;167;01mValueError\u001b[39;00m(\u001b[38;5;124m\"\u001b[39m\u001b[38;5;124ma must be greater than 0 unless no samples are taken\u001b[39m\u001b[38;5;124m\"\u001b[39m)\n\u001b[1;32m    670\u001b[0m \u001b[38;5;28;01mif\u001b[39;00m \u001b[38;5;129;01mnot\u001b[39;00m replace \u001b[38;5;129;01mand\u001b[39;00m n_draws \u001b[38;5;241m>\u001b[39m n_inputs:\n\u001b[0;32m--> 671\u001b[0m   \u001b[38;5;28;01mraise\u001b[39;00m \u001b[38;5;167;01mValueError\u001b[39;00m(\u001b[38;5;124m\"\u001b[39m\u001b[38;5;124mCannot take a larger sample than population when \u001b[39m\u001b[38;5;124m'\u001b[39m\u001b[38;5;124mreplace=False\u001b[39m\u001b[38;5;124m'\u001b[39m\u001b[38;5;124m\"\u001b[39m)\n\u001b[1;32m    673\u001b[0m \u001b[38;5;28;01mif\u001b[39;00m p \u001b[38;5;129;01mis\u001b[39;00m \u001b[38;5;28;01mNone\u001b[39;00m:\n\u001b[1;32m    674\u001b[0m   \u001b[38;5;28;01mif\u001b[39;00m replace:\n",
      "\u001b[0;31mValueError\u001b[0m: Cannot take a larger sample than population when 'replace=False'"
     ]
    }
   ],
   "source": [
    "key_1, key_2 = jax.random.split(jax.random.PRNGKey(0))\n",
    "\n",
    "n_samples = 25\n",
    "sampled_bispectra_generated = jax.random.choice(key_1, bispectra_generated, shape=(n_samples,), replace=False)\n",
    "sampled_bispectra_tmqm = jax.random.choice(key_2, bispectra_tmqm, shape=(n_samples,), replace=False)"
   ]
  },
  {
   "cell_type": "code",
   "execution_count": null,
   "metadata": {},
   "outputs": [
    {
     "data": {
      "image/png": "[encoded data removed]",
      "text/plain": [
       "<Figure size 1000x600 with 3 Axes>"
      ]
     },
     "metadata": {},
     "output_type": "display_data"
    }
   ],
   "source": [
    "fig, ax = plt.subplots(1, 2, figsize=(10, 6))\n",
    "vmin = min(sampled_bispectra_generated.min(), sampled_bispectra_tmqm.min())\n",
    "vmax = max(sampled_bispectra_generated.max(), sampled_bispectra_tmqm.max())\n",
    "ax[0].imshow(\n",
    "    sampled_bispectra_generated, cmap=\"PRGn\", vmin=vmin, vmax=vmax\n",
    ")\n",
    "ax[0].set_xlabel(\"Symphony\")\n",
    "ax[0].set_ylabel(\"Local Environment #\")\n",
    "\n",
    "im = ax[1].imshow(\n",
    "    sampled_bispectra_tmqm, cmap=\"PRGn\", vmin=vmin, vmax=vmax\n",
    ")\n",
    "ax[1].set_xlabel(\"TMQM\")\n",
    "ax[1].set_ylabel(\"Local Environment #\")\n",
    "\n",
    "fig.colorbar(im, ax=ax[1])\n",
    "fig.suptitle(f\"{center_el}-{neighbor_el} Bispectra\")\n",
    "\n",
    "fig.show()\n",
    "fig.savefig(f\"plots/tmqm_bispectra/{center_el}_{neighbor_el}_bispectra.png\")"
   ]
  },
  {
   "cell_type": "code",
   "execution_count": 66,
   "metadata": {},
   "outputs": [
    {
     "ename": "ModuleNotFoundError",
     "evalue": "No module named 'openbabel'",
     "output_type": "error",
     "traceback": [
      "\u001b[0;31m---------------------------------------------------------------------------\u001b[0m",
      "\u001b[0;31mModuleNotFoundError\u001b[0m                       Traceback (most recent call last)",
      "Cell \u001b[0;32mIn[66], line 2\u001b[0m\n\u001b[1;32m      1\u001b[0m \u001b[38;5;28;01mimport\u001b[39;00m \u001b[38;5;21;01mrdkit\u001b[39;00m\u001b[38;5;21;01m.\u001b[39;00m\u001b[38;5;21;01mChem\u001b[39;00m \u001b[38;5;28;01mas\u001b[39;00m \u001b[38;5;21;01mChem\u001b[39;00m\n\u001b[0;32m----> 2\u001b[0m \u001b[38;5;28;01mfrom\u001b[39;00m \u001b[38;5;21;01mopenbabel\u001b[39;00m \u001b[38;5;28;01mimport\u001b[39;00m openbabel\n\u001b[1;32m      3\u001b[0m \u001b[38;5;28mcomplex\u001b[39m \u001b[38;5;241m=\u001b[39m Chem\u001b[38;5;241m.\u001b[39mMolFromSmiles(\u001b[38;5;124m\"\u001b[39m\u001b[38;5;124m[Zn--]([NH3+])([NH3+])([NH3+])N1C=C(Cl)N=C1\u001b[39m\u001b[38;5;124m\"\u001b[39m)\n",
      "\u001b[0;31mModuleNotFoundError\u001b[0m: No module named 'openbabel'"
     ]
    }
   ],
   "source": [
    "import rdkit.Chem as Chem\n",
    "from openbabel import openbabel\n",
    "complex = Chem.MolFromSmiles(\"[Zn--]([NH3+])([NH3+])([NH3+])N1C=C(Cl)N=C1\")"
   ]
  },
  {
   "cell_type": "code",
   "execution_count": 65,
   "metadata": {},
   "outputs": [
    {
     "data": {
      "text/plain": [
       "<rdkit.Chem._GetAtomsIterator at 0x7fbad9435c90>"
      ]
     },
     "execution_count": 65,
     "metadata": {},
     "output_type": "execute_result"
    }
   ],
   "source": [
    "for atom in openbabel.OBMolAtomIter(mol):\n",
    "        atomic_num = atom.GetAtomicNum()\n",
    "        atomic_symbol = openbabel.GetSymbol(atomic_num)\n",
    "        atom_valency = atom.GetExplicitValence()\n",
    "        if atom_valency != expected_valences[atomic_symbol]:\n",
    "            invalid = True\n",
    "            break"
   ]
  },
  {
   "cell_type": "code",
   "execution_count": 61,
   "metadata": {},
   "outputs": [
    {
     "ename": "ValueError",
     "evalue": "determineBondOrdering() does not work with element Zn",
     "output_type": "error",
     "traceback": [
      "\u001b[0;31m---------------------------------------------------------------------------\u001b[0m",
      "\u001b[0;31mValueError\u001b[0m                                Traceback (most recent call last)",
      "Cell \u001b[0;32mIn[61], line 1\u001b[0m\n\u001b[0;32m----> 1\u001b[0m \u001b[43mChem\u001b[49m\u001b[38;5;241;43m.\u001b[39;49m\u001b[43mrdDetermineBonds\u001b[49m\u001b[38;5;241;43m.\u001b[39;49m\u001b[43mDetermineBonds\u001b[49m\u001b[43m(\u001b[49m\u001b[38;5;28;43mcomplex\u001b[39;49m\u001b[43m,\u001b[49m\u001b[43m \u001b[49m\u001b[43mcharge\u001b[49m\u001b[38;5;241;43m=\u001b[39;49m\u001b[38;5;241;43m0\u001b[39;49m\u001b[43m)\u001b[49m\n",
      "\u001b[0;31mValueError\u001b[0m: determineBondOrdering() does not work with element Zn"
     ]
    }
   ],
   "source": [
    "Chem.rdDetermineBonds.DetermineBonds(complex, charge=0)"
   ]
  },
  {
   "cell_type": "code",
   "execution_count": null,
   "metadata": {},
   "outputs": [],
   "source": []
  }
 ],
 "metadata": {
  "kernelspec": {
   "display_name": "sh-net",
   "language": "python",
   "name": "python3"
  },
  "language_info": {
   "codemirror_mode": {
    "name": "ipython",
    "version": 3
   },
   "file_extension": ".py",
   "mimetype": "text/x-python",
   "name": "python",
   "nbconvert_exporter": "python",
   "pygments_lexer": "ipython3",
   "version": "3.10.13"
  }
 },
 "nbformat": 4,
 "nbformat_minor": 2
}
