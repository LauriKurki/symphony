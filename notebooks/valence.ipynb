{
 "cells": [
  {
   "cell_type": "code",
   "execution_count": 3,
   "metadata": {},
   "outputs": [],
   "source": [
    "import sys\n",
    "\n",
    "import ase.build\n",
    "import ase.data\n",
    "import ase.visualize\n",
    "import e3nn_jax as e3nn\n",
    "import jax\n",
    "import jax.numpy as jnp\n",
    "import jraph\n",
    "import numpy as np\n",
    "from tqdm import tqdm\n",
    "\n",
    "sys.path.append(\"..\")\n",
    "\n",
    "\n",
    "from symphony.data.input_pipeline import ase_atoms_to_jraph_graph\n",
    "from symphony.data.qm9 import load_qm9"
   ]
  },
  {
   "cell_type": "code",
   "execution_count": 4,
   "metadata": {},
   "outputs": [],
   "source": [
    "# Bond lengths from:\n",
    "# http://www.wiredchemist.com/chemistry/data/bond_energies_lengths.html\n",
    "# And:\n",
    "# http://chemistry-reference.com/tables/Bond%20Lengths%20and%20Enthalpies.pdf\n",
    "dict_bonds1 = {\n",
    "    \"H\": {\n",
    "        \"H\": 74,\n",
    "        \"C\": 109,\n",
    "        \"N\": 101,\n",
    "        \"O\": 96,\n",
    "        \"F\": 92,\n",
    "        \"B\": 119,\n",
    "        \"Si\": 148,\n",
    "        \"P\": 144,\n",
    "        \"As\": 152,\n",
    "        \"S\": 134,\n",
    "        \"Cl\": 127,\n",
    "        \"Br\": 141,\n",
    "        \"I\": 161,\n",
    "    },\n",
    "    \"C\": {\n",
    "        \"H\": 109,\n",
    "        \"C\": 154,\n",
    "        \"N\": 147,\n",
    "        \"O\": 143,\n",
    "        \"F\": 135,\n",
    "        \"Si\": 185,\n",
    "        \"P\": 184,\n",
    "        \"S\": 182,\n",
    "        \"Cl\": 177,\n",
    "        \"Br\": 194,\n",
    "        \"I\": 214,\n",
    "    },\n",
    "    \"N\": {\n",
    "        \"H\": 101,\n",
    "        \"C\": 147,\n",
    "        \"N\": 145,\n",
    "        \"O\": 140,\n",
    "        \"F\": 136,\n",
    "        \"Cl\": 175,\n",
    "        \"Br\": 214,\n",
    "        \"S\": 168,\n",
    "        \"I\": 222,\n",
    "        \"P\": 177,\n",
    "    },\n",
    "    \"O\": {\n",
    "        \"H\": 96,\n",
    "        \"C\": 143,\n",
    "        \"N\": 140,\n",
    "        \"O\": 148,\n",
    "        \"F\": 142,\n",
    "        \"Br\": 172,\n",
    "        \"S\": 151,\n",
    "        \"P\": 163,\n",
    "        \"Si\": 163,\n",
    "        \"Cl\": 164,\n",
    "        \"I\": 194,\n",
    "    },\n",
    "    \"F\": {\n",
    "        \"H\": 92,\n",
    "        \"C\": 135,\n",
    "        \"N\": 136,\n",
    "        \"O\": 142,\n",
    "        \"F\": 142,\n",
    "        \"S\": 158,\n",
    "        \"Si\": 160,\n",
    "        \"Cl\": 166,\n",
    "        \"Br\": 178,\n",
    "        \"P\": 156,\n",
    "        \"I\": 187,\n",
    "    },\n",
    "    \"B\": {\"H\": 119, \"Cl\": 175},\n",
    "    \"Si\": {\n",
    "        \"Si\": 233,\n",
    "        \"H\": 148,\n",
    "        \"C\": 185,\n",
    "        \"O\": 163,\n",
    "        \"S\": 200,\n",
    "        \"F\": 160,\n",
    "        \"Cl\": 202,\n",
    "        \"Br\": 215,\n",
    "        \"I\": 243,\n",
    "    },\n",
    "    \"Cl\": {\n",
    "        \"Cl\": 199,\n",
    "        \"H\": 127,\n",
    "        \"C\": 177,\n",
    "        \"N\": 175,\n",
    "        \"O\": 164,\n",
    "        \"P\": 203,\n",
    "        \"S\": 207,\n",
    "        \"B\": 175,\n",
    "        \"Si\": 202,\n",
    "        \"F\": 166,\n",
    "        \"Br\": 214,\n",
    "    },\n",
    "    \"S\": {\n",
    "        \"H\": 134,\n",
    "        \"C\": 182,\n",
    "        \"N\": 168,\n",
    "        \"O\": 151,\n",
    "        \"S\": 204,\n",
    "        \"F\": 158,\n",
    "        \"Cl\": 207,\n",
    "        \"Br\": 225,\n",
    "        \"Si\": 200,\n",
    "        \"P\": 210,\n",
    "        \"I\": 234,\n",
    "    },\n",
    "    \"Br\": {\n",
    "        \"Br\": 228,\n",
    "        \"H\": 141,\n",
    "        \"C\": 194,\n",
    "        \"O\": 172,\n",
    "        \"N\": 214,\n",
    "        \"Si\": 215,\n",
    "        \"S\": 225,\n",
    "        \"F\": 178,\n",
    "        \"Cl\": 214,\n",
    "        \"P\": 222,\n",
    "    },\n",
    "    \"P\": {\n",
    "        \"P\": 221,\n",
    "        \"H\": 144,\n",
    "        \"C\": 184,\n",
    "        \"O\": 163,\n",
    "        \"Cl\": 203,\n",
    "        \"S\": 210,\n",
    "        \"F\": 156,\n",
    "        \"N\": 177,\n",
    "        \"Br\": 222,\n",
    "    },\n",
    "    \"I\": {\n",
    "        \"H\": 161,\n",
    "        \"C\": 214,\n",
    "        \"Si\": 243,\n",
    "        \"N\": 222,\n",
    "        \"O\": 194,\n",
    "        \"S\": 234,\n",
    "        \"F\": 187,\n",
    "        \"I\": 266,\n",
    "    },\n",
    "    \"As\": {\"H\": 152},\n",
    "}\n",
    "\n",
    "dict_bonds2 = {\n",
    "    \"C\": {\"C\": 134, \"N\": 129, \"O\": 120, \"S\": 160},\n",
    "    \"N\": {\"C\": 129, \"N\": 125, \"O\": 121},\n",
    "    \"O\": {\"C\": 120, \"N\": 121, \"O\": 121, \"P\": 150},\n",
    "    \"P\": {\"O\": 150, \"S\": 186},\n",
    "    \"S\": {\"P\": 186},\n",
    "}\n",
    "\n",
    "\n",
    "dict_bonds3 = {\n",
    "    \"C\": {\"C\": 120, \"N\": 116, \"O\": 113},\n",
    "    \"N\": {\"C\": 116, \"N\": 110},\n",
    "    \"O\": {\"C\": 113},\n",
    "}\n",
    "\n",
    "\n",
    "def into_matrix(dict, atomic_numbers):\n",
    "    out = np.zeros((len(atomic_numbers), len(atomic_numbers)))\n",
    "    for i, zi in enumerate(atomic_numbers):\n",
    "        for j, zj in enumerate(atomic_numbers):\n",
    "            xi = ase.data.chemical_symbols[zi]\n",
    "            xj = ase.data.chemical_symbols[zj]\n",
    "            if xi in dict and xj in dict[xi]:\n",
    "                d = dict[xi][xj] / 100\n",
    "                out[i, j] = d\n",
    "                out[j, i] = d\n",
    "\n",
    "    return jnp.asarray(out)"
   ]
  },
  {
   "cell_type": "code",
   "execution_count": null,
   "metadata": {},
   "outputs": [],
   "source": []
  },
  {
   "cell_type": "code",
   "execution_count": 5,
   "metadata": {},
   "outputs": [],
   "source": [
    "def allocate(graph, per_edge):\n",
    "    \"\"\"Allocate electrons to bonds.\n",
    "\n",
    "    Args:\n",
    "        graph: undirected graph\n",
    "        graph.nodes: electrons needing to be shared\n",
    "        graph.edges: number of electrons shared via bond\n",
    "        per_edge: number of electrons to add per edge\n",
    "\n",
    "    Returns: graph with updated edges and nodes\n",
    "    \"\"\"\n",
    "    e = graph.edges\n",
    "    n = graph.nodes\n",
    "    s, r = graph.senders, graph.receivers\n",
    "\n",
    "    # update valence values per edge/node\n",
    "    e = e + per_edge\n",
    "    n = n.at[s].add(-per_edge)\n",
    "    n = n.at[r].add(-per_edge)\n",
    "\n",
    "    return graph._replace(edges=e, nodes=n)\n",
    "\n",
    "\n",
    "def allocation_imposed(graph, edge_min, edge_max):\n",
    "    \"\"\"Find electrons that absolutely need to be shared.\n",
    "\n",
    "    Args:\n",
    "        graph: undirected graph\n",
    "        graph.nodes: electrons needing to be shared\n",
    "        graph.edges: number of electrons shared via bond\n",
    "        edge_min: minimum number of electrons at each edge\n",
    "        edge_max: maximum number of electrons at each edge\n",
    "\n",
    "    Returns: number of electrons to add per edge\n",
    "    \"\"\"\n",
    "    num_nodes = graph.nodes.shape[0]\n",
    "    e = graph.edges\n",
    "    n = graph.nodes\n",
    "    s, r = graph.senders, graph.receivers\n",
    "    min, max = edge_min, edge_max\n",
    "\n",
    "    ## Situation 1: Share electrons between nodes that have electrons to share\n",
    "    # a: how many neighbors have electrons to share\n",
    "    a = jnp.zeros(num_nodes, dtype=jnp.int32)\n",
    "    a = a.at[s].add((e < max) & (n[r] > 0))\n",
    "    a = a.at[r].add((e < max) & (n[s] > 0))\n",
    "\n",
    "    # a: only one neighbor has electrons to share AND I have electrons to share\n",
    "    a = (a == 1) & (n > 0)\n",
    "\n",
    "    # edge_alloc1: when one of the two sides NEED to share\n",
    "    edge_alloc1 = jnp.where(a[s] | a[r], jnp.minimum(n[s], n[r]), 0)\n",
    "\n",
    "    ## Situation 2: If edge needs more electrons\n",
    "    edge_alloc2 = jnp.maximum(0, min - e)\n",
    "\n",
    "    edge_alloc = jnp.maximum(edge_alloc1, edge_alloc2)\n",
    "    ## Situation 3: If edge_alloc has no electrons being distributed, but some node has electrons to give,\n",
    "    # choose a conformation in which to distribute electrons.\n",
    "    # Not Implemented!!\n",
    "\n",
    "    max_alloc = jnp.maximum(0, max - e)\n",
    "    edge_alloc = jnp.clip(edge_alloc, 0, max_alloc)\n",
    "\n",
    "    return edge_alloc\n",
    "\n",
    "\n",
    "def allocate_while_you_have_to(graph, edge_min, edge_max):\n",
    "    \"\"\"Allocate electrons to bonds until we are stuck.\"\"\"\n",
    "\n",
    "    def cond(graph):\n",
    "        a = allocation_imposed(graph, edge_min, edge_max)\n",
    "        return jnp.any(a > 0)\n",
    "\n",
    "    def body(graph):\n",
    "        a = allocation_imposed(graph, edge_min, edge_max)\n",
    "        return allocate(graph, a)\n",
    "\n",
    "    return jax.lax.while_loop(cond, body, graph)\n",
    "\n",
    "\n",
    "def _check_valence(graph, edge_min=None, edge_max=None):\n",
    "    \"\"\"Checks if the graph satisfies the valence rules.\n",
    "\n",
    "    Args:\n",
    "        graph: undirected graph\n",
    "        graph.nodes: electrons needing to be shared\n",
    "        edge_min: minimum number of electrons at each edge\n",
    "        edge_max: maximum number of electrons at each edge\n",
    "\n",
    "    Returns: A code per graph\n",
    "        0 = valence OK\n",
    "        1 = Algorithm not finished\n",
    "        2 = Impossible to satisfy valence\n",
    "    \"\"\"\n",
    "    if edge_min is None:\n",
    "        edge_min = jnp.ones(len(graph.senders), dtype=jnp.int32)\n",
    "    if edge_max is None:\n",
    "        edge_max = jnp.ones(len(graph.senders), dtype=jnp.int32) * 3\n",
    "\n",
    "    graph = graph._replace(edges=jnp.zeros_like(graph.senders))\n",
    "\n",
    "    graph = allocate_while_you_have_to(graph, edge_min, edge_max)\n",
    "\n",
    "    # def f(e, emin, emax, n, s, r):\n",
    "    #     m = emax > 0\n",
    "    #     print(\"senders:   \", s[m])\n",
    "    #     print(\"receivers: \", r[m])\n",
    "    #     print(\"edge: min, val, max\")\n",
    "    #     print(\n",
    "    #         np.stack(\n",
    "    #             [emin[m], e[m], emax[m]],\n",
    "    #         )\n",
    "    #     )\n",
    "    #     print(\"node: val\")\n",
    "    #     print(n)\n",
    "\n",
    "    # jax.debug.callback(\n",
    "    #     f, graph.edges, edge_min, edge_max, graph.nodes, graph.senders, graph.receivers\n",
    "    # )\n",
    "\n",
    "    edge_mistakes = (graph.edges < edge_min) | (edge_max < graph.edges)\n",
    "    node_mistakes = graph.nodes < 0\n",
    "    node_incomplete = graph.nodes > 0\n",
    "\n",
    "    m = e3nn.scatter_sum(node_mistakes, nel=graph.n_node)\n",
    "    m += e3nn.scatter_sum(edge_mistakes, nel=graph.n_edge)\n",
    "    i = e3nn.scatter_sum(node_incomplete, nel=graph.n_node)\n",
    "\n",
    "    return jnp.where(m == 0, jnp.where(i == 0, 0, 1), 2)\n",
    "\n",
    "\n",
    "@jax.jit\n",
    "def check_valence(graph, bonds1, bonds2, bonds3, valence):\n",
    "    \"\"\"\n",
    "    Args:\n",
    "        graph: bidirectional graph\n",
    "        graph.nodes.positions: (n_nodes, 3)\n",
    "        graph.nodes.species: (n_nodes,)\n",
    "        bonds1: (n_species, n_species)\n",
    "        bonds2: (n_species, n_species)\n",
    "        bonds3: (n_species, n_species)\n",
    "        valence: (n_species,)\n",
    "\n",
    "    Returns: A code per graph\n",
    "        0 = valence OK\n",
    "        1 = Algorithm not finished\n",
    "        2 = Impossible to satisfy valence\n",
    "    \"\"\"\n",
    "\n",
    "    d = jnp.linalg.norm(\n",
    "        graph.nodes.positions[graph.senders] - graph.nodes.positions[graph.receivers],\n",
    "        axis=-1,\n",
    "    )\n",
    "    si = graph.nodes.species[graph.senders]\n",
    "    sj = graph.nodes.species[graph.receivers]\n",
    "\n",
    "    # min-max based on distance and typical bond lengths\n",
    "    b1 = bonds1[si, sj] + 0.01\n",
    "    b2 = bonds2[si, sj] - 0.01\n",
    "    b3 = bonds3[si, sj]\n",
    "    # With those settings on QM9: 14% pass, 86% not finished, 1 impossible\n",
    "\n",
    "    edge_min = jnp.where(d < b1, jnp.where(d < b2, jnp.where(d < b3, 3, 2), 1), 0)\n",
    "    edge_max = jnp.where(d < b1, jnp.where(d < b2, 3, 2), 1)\n",
    "\n",
    "    # bidirectional into unidirectional:\n",
    "    edge_min = jnp.where(graph.senders < graph.receivers, edge_min, 0)\n",
    "    edge_max = jnp.where(graph.senders < graph.receivers, edge_max, 0)\n",
    "\n",
    "    return _check_valence(\n",
    "        graph._replace(nodes=valence[graph.nodes.species]), edge_min, edge_max\n",
    "    )"
   ]
  },
  {
   "cell_type": "code",
   "execution_count": 6,
   "metadata": {},
   "outputs": [
    {
     "data": {
      "text/plain": [
       "Array([1], dtype=int32, weak_type=True)"
      ]
     },
     "execution_count": 6,
     "metadata": {},
     "output_type": "execute_result"
    }
   ],
   "source": [
    "mol = ase.build.molecule(\"CH3ONO\")\n",
    "nn_cutoff = 5.0\n",
    "\n",
    "atomic_numbers = jnp.array([1, 6, 7, 8, 9])\n",
    "valence = jnp.array([1, 4, 3, 2, 1])\n",
    "\n",
    "bonds1 = into_matrix(dict_bonds1, atomic_numbers)\n",
    "bonds2 = into_matrix(dict_bonds2, atomic_numbers)\n",
    "bonds3 = into_matrix(dict_bonds3, atomic_numbers)\n",
    "\n",
    "graph = ase_atoms_to_jraph_graph(mol, atomic_numbers, nn_cutoff)\n",
    "\n",
    "check_valence(graph, bonds1, bonds2, bonds3, valence)"
   ]
  },
  {
   "cell_type": "code",
   "execution_count": 7,
   "metadata": {},
   "outputs": [],
   "source": [
    "# ase.visualize.view(mol, viewer=\"x3d\")"
   ]
  },
  {
   "cell_type": "code",
   "execution_count": null,
   "metadata": {},
   "outputs": [],
   "source": []
  },
  {
   "cell_type": "code",
   "execution_count": 8,
   "metadata": {},
   "outputs": [
    {
     "name": "stderr",
     "output_type": "stream",
     "text": [
      "44827648it [04:19, 173075.63it/s]                               \n",
      "100%|██████████| 133885/133885 [00:05<00:00, 23538.75it/s]\n"
     ]
    }
   ],
   "source": [
    "dataset = load_qm9(\"./qm9_data/\")\n",
    "graphs = [\n",
    "    ase_atoms_to_jraph_graph(mol, atomic_numbers, nn_cutoff) for mol in tqdm(dataset)\n",
    "]"
   ]
  },
  {
   "cell_type": "code",
   "execution_count": 9,
   "metadata": {},
   "outputs": [
    {
     "data": {
      "text/plain": [
       "29"
      ]
     },
     "execution_count": 9,
     "metadata": {},
     "output_type": "execute_result"
    }
   ],
   "source": [
    "max([g.nodes.positions.shape[0] for g in graphs])"
   ]
  },
  {
   "cell_type": "code",
   "execution_count": 10,
   "metadata": {},
   "outputs": [
    {
     "name": "stderr",
     "output_type": "stream",
     "text": [
      "100%|██████████| 133885/133885 [00:30<00:00, 4353.88it/s]\n"
     ]
    }
   ],
   "source": [
    "valence_check = []\n",
    "\n",
    "for graph in tqdm(graphs):\n",
    "    graph = jraph.pad_with_graphs(graph, 32, 740)\n",
    "    out = check_valence(graph, bonds1, bonds2, bonds3, valence)\n",
    "    valence_check.append(out[0])"
   ]
  },
  {
   "cell_type": "code",
   "execution_count": 11,
   "metadata": {},
   "outputs": [
    {
     "data": {
      "text/plain": [
       "array([1.44400045e-01, 8.55592486e-01, 7.46909661e-06])"
      ]
     },
     "execution_count": 11,
     "metadata": {},
     "output_type": "execute_result"
    }
   ],
   "source": [
    "np.bincount(valence_check) / len(valence_check)"
   ]
  },
  {
   "cell_type": "code",
   "execution_count": 12,
   "metadata": {},
   "outputs": [
    {
     "data": {
      "text/plain": [
       "array([ 19333, 114551,      1])"
      ]
     },
     "execution_count": 12,
     "metadata": {},
     "output_type": "execute_result"
    }
   ],
   "source": [
    "np.bincount(valence_check)"
   ]
  },
  {
   "cell_type": "code",
   "execution_count": null,
   "metadata": {},
   "outputs": [],
   "source": []
  },
  {
   "cell_type": "code",
   "execution_count": 13,
   "metadata": {},
   "outputs": [],
   "source": [
    "indices = np.where(np.array(valence_check) == 2)[0]"
   ]
  },
  {
   "cell_type": "code",
   "execution_count": 14,
   "metadata": {},
   "outputs": [
    {
     "name": "stdout",
     "output_type": "stream",
     "text": [
      "130666\n",
      "[4 4 1 4 3 3 4 2 4 3]\n"
     ]
    },
    {
     "data": {
      "text/html": [
       "<html>\n",
       "\n",
       " <head>\n",
       "\n",
       "  <title>ASE atomic visualization</title>\n",
       "\n",
       "  <link rel=\"stylesheet\" type=\"text/css\"\n",
       "\n",
       "   href=\"https://www.x3dom.org/x3dom/release/x3dom.css\">\n",
       "\n",
       "  </link>\n",
       "\n",
       "  <script type=\"text/javascript\"\n",
       "\n",
       "   src=\"https://www.x3dom.org/x3dom/release/x3dom.js\">\n",
       "\n",
       "  </script>\n",
       "\n",
       " </head>\n",
       "\n",
       " <body>\n",
       "\n",
       "  <X3D>\n",
       "\n",
       "   <Scene>\n",
       "\n",
       "    <Transform translation=\"-0.01 0.00 0.09\">\n",
       "\n",
       "     <Shape>\n",
       "\n",
       "      <Appearance>\n",
       "\n",
       "       <Material diffuseColor=\"0.565 0.565 0.565\" specularColor=\"0.5 0.5 0.5\">\n",
       "\n",
       "       </Material>\n",
       "\n",
       "      </Appearance>\n",
       "\n",
       "      <Sphere radius=\"0.76\">\n",
       "\n",
       "      </Sphere>\n",
       "\n",
       "     </Shape>\n",
       "\n",
       "    </Transform>\n",
       "\n",
       "    <Transform translation=\"0.07 0.00 1.46\">\n",
       "\n",
       "     <Shape>\n",
       "\n",
       "      <Appearance>\n",
       "\n",
       "       <Material diffuseColor=\"0.565 0.565 0.565\" specularColor=\"0.5 0.5 0.5\">\n",
       "\n",
       "       </Material>\n",
       "\n",
       "      </Appearance>\n",
       "\n",
       "      <Sphere radius=\"0.76\">\n",
       "\n",
       "      </Sphere>\n",
       "\n",
       "     </Shape>\n",
       "\n",
       "    </Transform>\n",
       "\n",
       "    <Transform translation=\"1.00 0.00 2.00\">\n",
       "\n",
       "     <Shape>\n",
       "\n",
       "      <Appearance>\n",
       "\n",
       "       <Material diffuseColor=\"1.000 1.000 1.000\" specularColor=\"0.5 0.5 0.5\">\n",
       "\n",
       "       </Material>\n",
       "\n",
       "      </Appearance>\n",
       "\n",
       "      <Sphere radius=\"0.31\">\n",
       "\n",
       "      </Sphere>\n",
       "\n",
       "     </Shape>\n",
       "\n",
       "    </Transform>\n",
       "\n",
       "    <Transform translation=\"-1.22 0.00 2.13\">\n",
       "\n",
       "     <Shape>\n",
       "\n",
       "      <Appearance>\n",
       "\n",
       "       <Material diffuseColor=\"0.565 0.565 0.565\" specularColor=\"0.5 0.5 0.5\">\n",
       "\n",
       "       </Material>\n",
       "\n",
       "      </Appearance>\n",
       "\n",
       "      <Sphere radius=\"0.76\">\n",
       "\n",
       "      </Sphere>\n",
       "\n",
       "     </Shape>\n",
       "\n",
       "    </Transform>\n",
       "\n",
       "    <Transform translation=\"-2.10 0.00 1.32\">\n",
       "\n",
       "     <Shape>\n",
       "\n",
       "      <Appearance>\n",
       "\n",
       "       <Material diffuseColor=\"0.188 0.314 0.973\" specularColor=\"0.5 0.5 0.5\">\n",
       "\n",
       "       </Material>\n",
       "\n",
       "      </Appearance>\n",
       "\n",
       "      <Sphere radius=\"0.71\">\n",
       "\n",
       "      </Sphere>\n",
       "\n",
       "     </Shape>\n",
       "\n",
       "    </Transform>\n",
       "\n",
       "    <Transform translation=\"-2.51 0.00 0.17\">\n",
       "\n",
       "     <Shape>\n",
       "\n",
       "      <Appearance>\n",
       "\n",
       "       <Material diffuseColor=\"0.188 0.314 0.973\" specularColor=\"0.5 0.5 0.5\">\n",
       "\n",
       "       </Material>\n",
       "\n",
       "      </Appearance>\n",
       "\n",
       "      <Sphere radius=\"0.71\">\n",
       "\n",
       "      </Sphere>\n",
       "\n",
       "     </Shape>\n",
       "\n",
       "    </Transform>\n",
       "\n",
       "    <Transform translation=\"-1.28 0.00 -0.71\">\n",
       "\n",
       "     <Shape>\n",
       "\n",
       "      <Appearance>\n",
       "\n",
       "       <Material diffuseColor=\"0.565 0.565 0.565\" specularColor=\"0.5 0.5 0.5\">\n",
       "\n",
       "       </Material>\n",
       "\n",
       "      </Appearance>\n",
       "\n",
       "      <Sphere radius=\"0.76\">\n",
       "\n",
       "      </Sphere>\n",
       "\n",
       "     </Shape>\n",
       "\n",
       "    </Transform>\n",
       "\n",
       "    <Transform translation=\"-1.40 0.00 -1.89\">\n",
       "\n",
       "     <Shape>\n",
       "\n",
       "      <Appearance>\n",
       "\n",
       "       <Material diffuseColor=\"1.000 0.051 0.051\" specularColor=\"0.5 0.5 0.5\">\n",
       "\n",
       "       </Material>\n",
       "\n",
       "      </Appearance>\n",
       "\n",
       "      <Sphere radius=\"0.66\">\n",
       "\n",
       "      </Sphere>\n",
       "\n",
       "     </Shape>\n",
       "\n",
       "    </Transform>\n",
       "\n",
       "    <Transform translation=\"1.18 0.00 -0.69\">\n",
       "\n",
       "     <Shape>\n",
       "\n",
       "      <Appearance>\n",
       "\n",
       "       <Material diffuseColor=\"0.565 0.565 0.565\" specularColor=\"0.5 0.5 0.5\">\n",
       "\n",
       "       </Material>\n",
       "\n",
       "      </Appearance>\n",
       "\n",
       "      <Sphere radius=\"0.76\">\n",
       "\n",
       "      </Sphere>\n",
       "\n",
       "     </Shape>\n",
       "\n",
       "    </Transform>\n",
       "\n",
       "    <Transform translation=\"2.17 0.00 -1.30\">\n",
       "\n",
       "     <Shape>\n",
       "\n",
       "      <Appearance>\n",
       "\n",
       "       <Material diffuseColor=\"0.188 0.314 0.973\" specularColor=\"0.5 0.5 0.5\">\n",
       "\n",
       "       </Material>\n",
       "\n",
       "      </Appearance>\n",
       "\n",
       "      <Sphere radius=\"0.71\">\n",
       "\n",
       "      </Sphere>\n",
       "\n",
       "     </Shape>\n",
       "\n",
       "    </Transform>\n",
       "\n",
       "   </Scene>\n",
       "\n",
       "  </X3D>\n",
       "\n",
       " </body>\n",
       "\n",
       "</html>\n",
       "\n"
      ],
      "text/plain": [
       "<IPython.core.display.HTML object>"
      ]
     },
     "execution_count": 14,
     "metadata": {},
     "output_type": "execute_result"
    }
   ],
   "source": [
    "i = indices[0]\n",
    "mol = dataset[i]\n",
    "print(i)\n",
    "graph = ase_atoms_to_jraph_graph(mol, atomic_numbers, nn_cutoff)\n",
    "print(valence[graph.nodes.species])\n",
    "ase.visualize.view(mol, viewer=\"x3d\")"
   ]
  },
  {
   "cell_type": "code",
   "execution_count": 15,
   "metadata": {},
   "outputs": [],
   "source": [
    "jnp.set_printoptions(precision=2, suppress=True)"
   ]
  },
  {
   "cell_type": "code",
   "execution_count": 16,
   "metadata": {},
   "outputs": [
    {
     "data": {
      "text/plain": [
       "Array([2], dtype=int32, weak_type=True)"
      ]
     },
     "execution_count": 16,
     "metadata": {},
     "output_type": "execute_result"
    }
   ],
   "source": [
    "check_valence(graph, bonds1, bonds2, bonds3, valence)"
   ]
  },
  {
   "cell_type": "code",
   "execution_count": 17,
   "metadata": {},
   "outputs": [
    {
     "data": {
      "text/plain": [
       "Array([1.37, 2.16, 2.38, 2.43, 2.51, 1.5 , 2.42, 1.42, 2.58, 1.37, 1.08,\n",
       "       1.45, 2.17, 2.88, 2.55, 3.65, 2.42, 3.47, 2.16, 1.08, 2.22, 3.17,\n",
       "       3.96, 3.54, 4.57, 2.7 , 3.51, 2.38, 1.45, 2.22, 1.2 , 2.35, 2.84,\n",
       "       4.03, 3.7 , 4.82, 2.43, 2.17, 3.17, 1.2 , 1.22, 2.19, 3.29, 3.85,\n",
       "       2.51, 2.88, 3.96, 2.35, 1.22, 1.52, 2.35, 3.8 , 4.91, 1.5 , 2.55,\n",
       "       3.54, 2.84, 2.19, 1.52, 1.19, 2.46, 3.49, 2.42, 3.65, 4.57, 4.03,\n",
       "       3.29, 2.35, 1.19, 2.85, 3.61, 1.42, 2.42, 2.7 , 3.7 , 3.85, 3.8 ,\n",
       "       2.46, 2.85, 1.16, 2.58, 3.47, 3.51, 4.82, 4.91, 3.49, 3.61, 1.16],      dtype=float32)"
      ]
     },
     "execution_count": 17,
     "metadata": {},
     "output_type": "execute_result"
    }
   ],
   "source": [
    "d = jnp.linalg.norm(\n",
    "    graph.nodes.positions[graph.senders] - graph.nodes.positions[graph.receivers],\n",
    "    axis=-1,\n",
    ")\n",
    "d"
   ]
  },
  {
   "cell_type": "code",
   "execution_count": 18,
   "metadata": {},
   "outputs": [
    {
     "data": {
      "text/plain": [
       "array([[-0.01,  0.  ,  0.09],\n",
       "       [ 0.07,  0.  ,  1.46],\n",
       "       [ 1.  ,  0.  ,  2.  ],\n",
       "       [-1.22,  0.  ,  2.13],\n",
       "       [-2.1 ,  0.  ,  1.32],\n",
       "       [-2.51,  0.  ,  0.17],\n",
       "       [-1.28,  0.  , -0.71],\n",
       "       [-1.4 ,  0.  , -1.89],\n",
       "       [ 1.18,  0.  , -0.69],\n",
       "       [ 2.17,  0.  , -1.3 ]])"
      ]
     },
     "execution_count": 18,
     "metadata": {},
     "output_type": "execute_result"
    }
   ],
   "source": [
    "graph.nodes.positions"
   ]
  },
  {
   "cell_type": "code",
   "execution_count": 19,
   "metadata": {},
   "outputs": [
    {
     "data": {
      "text/plain": [
       "Array([4, 4, 1, 4, 3, 3, 4, 2, 4, 3], dtype=int32)"
      ]
     },
     "execution_count": 19,
     "metadata": {},
     "output_type": "execute_result"
    }
   ],
   "source": [
    "valence[graph.nodes.species]"
   ]
  },
  {
   "cell_type": "code",
   "execution_count": 20,
   "metadata": {},
   "outputs": [
    {
     "data": {
      "text/plain": [
       "Array([1, 4, 3, 2, 1], dtype=int32)"
      ]
     },
     "execution_count": 20,
     "metadata": {},
     "output_type": "execute_result"
    }
   ],
   "source": [
    "valence"
   ]
  },
  {
   "cell_type": "code",
   "execution_count": 21,
   "metadata": {},
   "outputs": [],
   "source": [
    "import matplotlib.pyplot as plt"
   ]
  },
  {
   "cell_type": "code",
   "execution_count": 22,
   "metadata": {},
   "outputs": [
    {
     "data": {
      "image/png": "[encoded data removed]",
      "text/plain": [
       "<Figure size 910x390 with 1 Axes>"
      ]
     },
     "metadata": {},
     "output_type": "display_data"
    }
   ],
   "source": [
    "x = [0, 1, 1, 2, 2, 3, 3, 6]\n",
    "y1 = [3, 3, 2, 2, 1, 1, 0, 0]\n",
    "y2 = [3, 3, 3, 3, 2, 2, 1, 1]\n",
    "\n",
    "plt.figure(figsize=(7, 3), dpi=130)\n",
    "plt.plot(x, y1, \"-\", label=\"min\")\n",
    "plt.plot(x, y2, \"-\", label=\"max\")\n",
    "plt.fill_between(x, y1, y2, color=\"gray\", alpha=0.2)\n",
    "plt.legend()\n",
    "plt.xlim(0, 5)\n",
    "plt.xticks([1, 2, 3], [\"bond3\", \"bond2-1pm\", \"bond1+1pm\"])\n",
    "plt.yticks([0, 1, 2, 3])\n",
    "plt.ylabel(\"Electrons per edge\")\n",
    "plt.xlabel(\"Edge distance\")\n",
    "plt.tight_layout()"
   ]
  },
  {
   "cell_type": "code",
   "execution_count": null,
   "metadata": {},
   "outputs": [],
   "source": []
  }
 ],
 "metadata": {
  "kernelspec": {
   "display_name": "base3.10b",
   "language": "python",
   "name": "python3"
  },
  "language_info": {
   "codemirror_mode": {
    "name": "ipython",
    "version": 3
   },
   "file_extension": ".py",
   "mimetype": "text/x-python",
   "name": "python",
   "nbconvert_exporter": "python",
   "pygments_lexer": "ipython3",
   "version": "3.10.12"
  },
  "orig_nbformat": 4
 },
 "nbformat": 4,
 "nbformat_minor": 2
}
