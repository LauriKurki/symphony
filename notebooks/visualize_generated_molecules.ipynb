{
 "cells": [
  {
   "cell_type": "code",
   "execution_count": 13,
   "metadata": {},
   "outputs": [],
   "source": [
    "import rdkit\n",
    "import rdkit.Chem.PyMol\n",
    "\n",
    "import os\n",
    "import time\n",
    "\n",
    "from PIL import ImageFile\n",
    "\n",
    "ImageFile.LOAD_TRUNCATED_IMAGES = True"
   ]
  },
  {
   "cell_type": "code",
   "execution_count": 14,
   "metadata": {},
   "outputs": [],
   "source": [
    "molecules_dir = \"/Users/ameyad/Documents/spherical-harmonic-net/analyses/analysed_workdirs/qm9_bessel_embedding_attempt6_edm_splits/e3schnet_and_nequip/interactions=3/l=5/position_channels=2/channels=64/fait=1.0/pit=1.0/step=7530000/bonded_molecules\""
   ]
  },
  {
   "cell_type": "code",
   "execution_count": 15,
   "metadata": {},
   "outputs": [],
   "source": [
    "viewer = rdkit.Chem.PyMol.MolViewer()"
   ]
  },
  {
   "cell_type": "code",
   "execution_count": 17,
   "metadata": {},
   "outputs": [],
   "source": [
    "os.makedirs(\"plots/latest_symphony\", exist_ok=True)\n",
    "\n",
    "count = 0\n",
    "seed = 0\n",
    "while count < 25:\n",
    "    time.sleep(1)\n",
    "\n",
    "\n",
    "    molecules_file = os.path.join(molecules_dir, f\"H_seed={seed}.sdf\")\n",
    "    if not os.path.exists(molecules_file):\n",
    "        seed += 1\n",
    "        continue\n",
    "\n",
    "    viewer.DeleteAll()\n",
    "    viewer.server.do(\"reset\")\n",
    "    viewer.LoadFile(molecules_file, f\"H_seed={seed}\")\n",
    "    viewer.Zoom(f\"H_seed={seed}\")\n",
    "    viewer.server.do(\"orient\")\n",
    "    viewer.server.do(\"bg_color white\")\n",
    "    viewer.server.do(\"util.cbaw\")\n",
    "    viewer.server.do(\"color gray, (name C*)\")\n",
    "    viewer.server.do(\"center\")\n",
    "    viewer.server.do(\"zoom center, 4\")\n",
    "    viewer.server.do(\"hide lines\")\n",
    "    viewer.server.do(\"show sticks\")\n",
    "    viewer.server.do(\"show spheres\")\n",
    "    viewer.server.do(\"set stick_radius, 0.1, (all)\")\n",
    "    viewer.server.do(\"set sphere_scale, 0.25, (all)\")\n",
    "\n",
    "    image = viewer.GetPNG(3000, 2000)\n",
    "    image.save(f\"plots/latest_symphony/H_seed={seed}.png\")\n",
    "    image.close()\n",
    "\n",
    "    seed += 1\n",
    "    count += 1"
   ]
  },
  {
   "cell_type": "code",
   "execution_count": null,
   "metadata": {},
   "outputs": [
    {
     "ename": "ValueError",
     "evalue": "Operation on closed image",
     "output_type": "error",
     "traceback": [
      "\u001b[0;31m---------------------------------------------------------------------------\u001b[0m",
      "\u001b[0;31mValueError\u001b[0m                                Traceback (most recent call last)",
      "File \u001b[0;32m~/Documents/spherical-harmonic-net/.venv/lib/python3.10/site-packages/IPython/core/formatters.py:342\u001b[0m, in \u001b[0;36mBaseFormatter.__call__\u001b[0;34m(self, obj)\u001b[0m\n\u001b[1;32m    340\u001b[0m     method \u001b[39m=\u001b[39m get_real_method(obj, \u001b[39mself\u001b[39m\u001b[39m.\u001b[39mprint_method)\n\u001b[1;32m    341\u001b[0m     \u001b[39mif\u001b[39;00m method \u001b[39mis\u001b[39;00m \u001b[39mnot\u001b[39;00m \u001b[39mNone\u001b[39;00m:\n\u001b[0;32m--> 342\u001b[0m         \u001b[39mreturn\u001b[39;00m method()\n\u001b[1;32m    343\u001b[0m     \u001b[39mreturn\u001b[39;00m \u001b[39mNone\u001b[39;00m\n\u001b[1;32m    344\u001b[0m \u001b[39melse\u001b[39;00m:\n",
      "File \u001b[0;32m~/Documents/spherical-harmonic-net/.venv/lib/python3.10/site-packages/rdkit/Chem/Draw/IPythonConsole.py:238\u001b[0m, in \u001b[0;36mdisplay_pil_image\u001b[0;34m(img)\u001b[0m\n\u001b[1;32m    236\u001b[0m   metadata\u001b[39m.\u001b[39madd_text(k, v)\n\u001b[1;32m    237\u001b[0m bio \u001b[39m=\u001b[39m BytesIO()\n\u001b[0;32m--> 238\u001b[0m img\u001b[39m.\u001b[39;49msave(bio, \u001b[39mformat\u001b[39;49m\u001b[39m=\u001b[39;49m\u001b[39m'\u001b[39;49m\u001b[39mPNG\u001b[39;49m\u001b[39m'\u001b[39;49m, pnginfo\u001b[39m=\u001b[39;49mmetadata)\n\u001b[1;32m    239\u001b[0m \u001b[39mreturn\u001b[39;00m bio\u001b[39m.\u001b[39mgetvalue()\n",
      "File \u001b[0;32m~/Documents/spherical-harmonic-net/.venv/lib/python3.10/site-packages/PIL/Image.py:2394\u001b[0m, in \u001b[0;36mImage.save\u001b[0;34m(self, fp, format, **params)\u001b[0m\n\u001b[1;32m   2391\u001b[0m     filename \u001b[39m=\u001b[39m fp\u001b[39m.\u001b[39mname\n\u001b[1;32m   2393\u001b[0m \u001b[39m# may mutate self!\u001b[39;00m\n\u001b[0;32m-> 2394\u001b[0m \u001b[39mself\u001b[39;49m\u001b[39m.\u001b[39;49m_ensure_mutable()\n\u001b[1;32m   2396\u001b[0m save_all \u001b[39m=\u001b[39m params\u001b[39m.\u001b[39mpop(\u001b[39m\"\u001b[39m\u001b[39msave_all\u001b[39m\u001b[39m\"\u001b[39m, \u001b[39mFalse\u001b[39;00m)\n\u001b[1;32m   2397\u001b[0m \u001b[39mself\u001b[39m\u001b[39m.\u001b[39mencoderinfo \u001b[39m=\u001b[39m params\n",
      "File \u001b[0;32m~/Documents/spherical-harmonic-net/.venv/lib/python3.10/site-packages/PIL/Image.py:613\u001b[0m, in \u001b[0;36mImage._ensure_mutable\u001b[0;34m(self)\u001b[0m\n\u001b[1;32m    611\u001b[0m     \u001b[39mself\u001b[39m\u001b[39m.\u001b[39m_copy()\n\u001b[1;32m    612\u001b[0m \u001b[39melse\u001b[39;00m:\n\u001b[0;32m--> 613\u001b[0m     \u001b[39mself\u001b[39;49m\u001b[39m.\u001b[39;49mload()\n",
      "File \u001b[0;32m~/Documents/spherical-harmonic-net/.venv/lib/python3.10/site-packages/PIL/ImageFile.py:162\u001b[0m, in \u001b[0;36mImageFile.load\u001b[0;34m(self)\u001b[0m\n\u001b[1;32m    159\u001b[0m     msg \u001b[39m=\u001b[39m \u001b[39m\"\u001b[39m\u001b[39mcannot load this image\u001b[39m\u001b[39m\"\u001b[39m\n\u001b[1;32m    160\u001b[0m     \u001b[39mraise\u001b[39;00m \u001b[39mOSError\u001b[39;00m(msg)\n\u001b[0;32m--> 162\u001b[0m pixel \u001b[39m=\u001b[39m Image\u001b[39m.\u001b[39;49mImage\u001b[39m.\u001b[39;49mload(\u001b[39mself\u001b[39;49m)\n\u001b[1;32m    163\u001b[0m \u001b[39mif\u001b[39;00m \u001b[39mnot\u001b[39;00m \u001b[39mself\u001b[39m\u001b[39m.\u001b[39mtile:\n\u001b[1;32m    164\u001b[0m     \u001b[39mreturn\u001b[39;00m pixel\n",
      "File \u001b[0;32m~/Documents/spherical-harmonic-net/.venv/lib/python3.10/site-packages/PIL/Image.py:876\u001b[0m, in \u001b[0;36mImage.load\u001b[0;34m(self)\u001b[0m\n\u001b[1;32m    874\u001b[0m     \u001b[39mif\u001b[39;00m \u001b[39mself\u001b[39m\u001b[39m.\u001b[39mpyaccess:\n\u001b[1;32m    875\u001b[0m         \u001b[39mreturn\u001b[39;00m \u001b[39mself\u001b[39m\u001b[39m.\u001b[39mpyaccess\n\u001b[0;32m--> 876\u001b[0m \u001b[39mreturn\u001b[39;00m \u001b[39mself\u001b[39;49m\u001b[39m.\u001b[39;49mim\u001b[39m.\u001b[39;49mpixel_access(\u001b[39mself\u001b[39m\u001b[39m.\u001b[39mreadonly)\n",
      "File \u001b[0;32m~/Documents/spherical-harmonic-net/.venv/lib/python3.10/site-packages/PIL/_util.py:19\u001b[0m, in \u001b[0;36mDeferredError.__getattr__\u001b[0;34m(self, elt)\u001b[0m\n\u001b[1;32m     18\u001b[0m \u001b[39mdef\u001b[39;00m \u001b[39m__getattr__\u001b[39m(\u001b[39mself\u001b[39m, elt):\n\u001b[0;32m---> 19\u001b[0m     \u001b[39mraise\u001b[39;00m \u001b[39mself\u001b[39m\u001b[39m.\u001b[39mex\n",
      "\u001b[0;31mValueError\u001b[0m: Operation on closed image"
     ]
    },
    {
     "data": {
      "text/plain": [
       "<PIL.PngImagePlugin.PngImageFile image mode=RGBA size=1280x960>"
      ]
     },
     "execution_count": 15,
     "metadata": {},
     "output_type": "execute_result"
    }
   ],
   "source": [
    "image"
   ]
  },
  {
   "cell_type": "code",
   "execution_count": null,
   "metadata": {},
   "outputs": [],
   "source": []
  }
 ],
 "metadata": {
  "kernelspec": {
   "display_name": ".venv",
   "language": "python",
   "name": "python3"
  },
  "language_info": {
   "codemirror_mode": {
    "name": "ipython",
    "version": 3
   },
   "file_extension": ".py",
   "mimetype": "text/x-python",
   "name": "python",
   "nbconvert_exporter": "python",
   "pygments_lexer": "ipython3",
   "version": "3.10.12"
  },
  "orig_nbformat": 4
 },
 "nbformat": 4,
 "nbformat_minor": 2
}
