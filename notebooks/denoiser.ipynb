{
 "cells": [
  {
   "cell_type": "code",
   "execution_count": null,
   "metadata": {},
   "outputs": [],
   "source": [
    "import jax\n",
    "import jraph\n",
    "import ase\n",
    "import sys\n",
    "import nglview as nv\n",
    "sys.path.append('../')"
   ]
  },
  {
   "cell_type": "code",
   "execution_count": null,
   "metadata": {},
   "outputs": [],
   "source": [
    "%load_ext autoreload"
   ]
  },
  {
   "cell_type": "code",
   "execution_count": null,
   "metadata": {},
   "outputs": [],
   "source": [
    "%autoreload 2\n",
    "import analyses.analysis as analysis\n",
    "from symphony.data import input_pipeline\n",
    "from symphony import models\n",
    "from symphony import datatypes"
   ]
  },
  {
   "cell_type": "code",
   "execution_count": null,
   "metadata": {},
   "outputs": [],
   "source": [
    "workdir = \"/Users/ameyad/Documents/spherical-harmonic-net/potato_workdirs/qm9_8SEP_position_denoiser/position_updater/interactions=3/l=5/position_channels=2/channels=32/\"\n",
    "model, params, config = analysis.load_model_at_step(workdir, step=\"best\", run_in_evaluation_mode=True)"
   ]
  },
  {
   "cell_type": "code",
   "execution_count": null,
   "metadata": {},
   "outputs": [],
   "source": [
    "init_molecule, init_molecule_name = analysis.construct_molecule(\"2\")\n",
    "init_fragment = input_pipeline.ase_atoms_to_jraph_graph(\n",
    "    init_molecule, models.ATOMIC_NUMBERS, config.nn_cutoff\n",
    ")\n",
    "\n",
    "def add_noise_to_positions(rng, fragment: jraph.GraphsTuple, noise_std: float = 0.05):\n",
    "    nodes = fragment.nodes\n",
    "    noise = noise_std * jax.random.normal(rng, nodes.positions.shape)\n",
    "    return fragment._replace(nodes=nodes._replace(positions=nodes.positions + noise))\n",
    "\n",
    "rngs = jax.random.split(jax.random.PRNGKey(0), 10)\n",
    "noisy_fragments = jax.vmap(add_noise_to_positions, in_axes=(0, None))(rngs, init_fragment)"
   ]
  },
  {
   "cell_type": "code",
   "execution_count": null,
   "metadata": {},
   "outputs": [],
   "source": [
    "def fragments_to_ase_atoms(fragments: datatypes.Fragments):\n",
    "    num_fragments = fragments.n_node.shape[0]\n",
    "    return [\n",
    "        ase.Atoms(\n",
    "        symbols=models.get_atomic_numbers(fragments.nodes.species[index]),\n",
    "        positions=fragments.nodes.positions[index],\n",
    "    ) for index in range(num_fragments)]"
   ]
  },
  {
   "cell_type": "code",
   "execution_count": null,
   "metadata": {},
   "outputs": [],
   "source": [
    "print(jax.tree_map(lambda x: x.shape, noisy_fragments))"
   ]
  },
  {
   "cell_type": "code",
   "execution_count": null,
   "metadata": {},
   "outputs": [],
   "source": [
    "v = nv.show_asetraj(fragments_to_ase_atoms(noisy_fragments), gui=True)\n",
    "v.add_representation(\"ball+stick\")\n",
    "v"
   ]
  },
  {
   "cell_type": "code",
   "execution_count": null,
   "metadata": {},
   "outputs": [],
   "source": [
    "@jax.jit\n",
    "def denoise_positions(fragment: jraph.GraphsTuple):\n",
    "    position_updates = model.apply(params, None, fragment)\n",
    "    return fragment._replace(nodes=fragment.nodes._replace(positions=fragment.nodes.positions + position_updates))\n",
    "\n",
    "\n",
    "denoised_fragments = jax.vmap(denoise_positions)(noisy_fragments)\n",
    "\n"
   ]
  },
  {
   "cell_type": "code",
   "execution_count": null,
   "metadata": {},
   "outputs": [],
   "source": [
    "v = nv.show_asetraj(fragments_to_ase_atoms(denoised_fragments), gui=True)\n",
    "v.add_representation(\"ball+stick\")\n",
    "v"
   ]
  },
  {
   "cell_type": "code",
   "execution_count": null,
   "metadata": {},
   "outputs": [],
   "source": [
    "\n"
   ]
  }
 ],
 "metadata": {
  "kernelspec": {
   "display_name": ".venv",
   "language": "python",
   "name": "python3"
  },
  "language_info": {
   "codemirror_mode": {
    "name": "ipython",
    "version": 3
   },
   "file_extension": ".py",
   "mimetype": "text/x-python",
   "name": "python",
   "nbconvert_exporter": "python",
   "pygments_lexer": "ipython3",
   "version": "3.10.12"
  },
  "orig_nbformat": 4
 },
 "nbformat": 4,
 "nbformat_minor": 2
}
