{
   "cells": [
      {
         "cell_type": "code",
         "execution_count": 9,
         "metadata": {},
         "outputs": [],
         "source": [
            "import e3nn_jax as e3nn\n",
            "import haiku as hk\n",
            "import jax\n",
            "import jax.numpy as jnp\n",
            "import jraph\n",
            "import mace_jax\n",
            "from mace_jax.data import GraphNodes, GraphEdges, GraphGlobals\n",
            "from mace_jax.modules import GeneralMACE"
         ]
      },
      {
         "cell_type": "code",
         "execution_count": 2,
         "metadata": {},
         "outputs": [],
         "source": [
            "@hk.without_apply_rng\n",
            "@hk.transform\n",
            "def mace_fn(vectors, atom_type, senders, receivers):\n",
            "    return GeneralMACE(\n",
            "        output_irreps=\"128x0e + 32x1o + 32x2e + 32x3o + 32x4e + 32x5o\",\n",
            "        r_max=5,\n",
            "        num_interactions=2,\n",
            "        hidden_irreps=\"128x0e + 128x1o + 128x2e\",\n",
            "        readout_mlp_irreps=\"128x0e + 128x1o + 128x2e\",\n",
            "        avg_num_neighbors=3, # idk\n",
            "        num_species=5,\n",
            "        radial_basis=lambda x, x_max: e3nn.bessel(x, 8, x_max),\n",
            "        radial_envelope=e3nn.soft_envelope,\n",
            "        max_ell=3\n",
            "    )(vectors, atom_type, senders, receivers)\n",
            "\n",
            "mace_apply = jax.jit(mace_fn.apply)"
         ]
      },
      {
         "cell_type": "code",
         "execution_count": 3,
         "metadata": {},
         "outputs": [],
         "source": [
            "g = jraph.GraphsTuple(\n",
            "    nodes=GraphNodes(jnp.asarray([[0.0, 0, 0], [1.0, 2, 0]]), None, jnp.asarray([1, 4])),\n",
            "    edges=GraphEdges(None),\n",
            "    globals=GraphGlobals(None, None, None, None),\n",
            "    receivers=jnp.asarray([0, 1]),\n",
            "    senders=jnp.asarray([1, 0]),\n",
            "    n_node=jnp.asarray([2]),\n",
            "    n_edge=jnp.asarray([2])\n",
            ")"
         ]
      },
      {
         "cell_type": "code",
         "execution_count": 4,
         "metadata": {},
         "outputs": [],
         "source": [
            "vectors = g.nodes.positions[g.receivers] - g.nodes.positions[g.senders]\n",
            "atom_types = g.nodes.species\n",
            "\n",
            "w = mace_fn.init(jax.random.PRNGKey(0), vectors, atom_types, g.senders, g.receivers)"
         ]
      },
      {
         "cell_type": "code",
         "execution_count": 5,
         "metadata": {},
         "outputs": [],
         "source": [
            "output = mace_apply(w, vectors, atom_types, g.senders, g.receivers)"
         ]
      },
      {
         "cell_type": "code",
         "execution_count": 6,
         "metadata": {},
         "outputs": [
            {
               "data": {
                  "text/plain": [
                     "(2, 2, 1248)"
                  ]
               },
               "execution_count": 6,
               "metadata": {},
               "output_type": "execute_result"
            }
         ],
         "source": [
            "output.shape"
         ]
      },
      {
         "cell_type": "code",
         "execution_count": 13,
         "metadata": {},
         "outputs": [
            {
               "name": "stderr",
               "output_type": "stream",
               "text": [
                  "DEBUG:root:test\n"
               ]
            }
         ],
         "source": [
            "import logging\n",
            "logger = logging.getLogger()\n",
            "logger.setLevel(logging.DEBUG)\n",
            "logging.debug(\"test\")"
         ]
      },
      {
         "cell_type": "code",
         "execution_count": 14,
         "metadata": {},
         "outputs": [
            {
               "name": "stderr",
               "output_type": "stream",
               "text": [
                  "INFO:absl:\n",
                  "+------------------------------------------------------------------------------------------------------+---------------+---------+-----------+-------+\n",
                  "| Name                                                                                                 | Shape         | Size    | Mean      | Std   |\n",
                  "+------------------------------------------------------------------------------------------------------+---------------+---------+-----------+-------+\n",
                  "| general_mace/layer_0/equivariant_product_basis_block/linear/w[0,0] 128x0e,128x0e                     | (128, 128)    | 16,384  | -0.00984  | 1.01  |\n",
                  "| general_mace/layer_0/equivariant_product_basis_block/linear/w[1,1] 128x1o,128x1o                     | (128, 128)    | 16,384  | -0.0188   | 1.01  |\n",
                  "| general_mace/layer_0/equivariant_product_basis_block/linear/w[2,2] 128x2e,128x2e                     | (128, 128)    | 16,384  | -0.0159   | 1.01  |\n",
                  "| general_mace/layer_0/equivariant_product_basis_block/~/symmetric_contraction/w1_0e                   | (5, 1, 128)   | 640     | 0.0105    | 1.02  |\n",
                  "| general_mace/layer_0/equivariant_product_basis_block/~/symmetric_contraction/w1_1o                   | (5, 1, 128)   | 640     | -0.0154   | 0.961 |\n",
                  "| general_mace/layer_0/equivariant_product_basis_block/~/symmetric_contraction/w1_2e                   | (5, 1, 128)   | 640     | -0.0231   | 0.969 |\n",
                  "| general_mace/layer_0/equivariant_product_basis_block/~/symmetric_contraction/w2_0e                   | (5, 4, 128)   | 2,560   | 0.0017    | 0.493 |\n",
                  "| general_mace/layer_0/equivariant_product_basis_block/~/symmetric_contraction/w2_1o                   | (5, 3, 128)   | 1,920   | 0.0122    | 0.59  |\n",
                  "| general_mace/layer_0/equivariant_product_basis_block/~/symmetric_contraction/w2_2e                   | (5, 5, 128)   | 3,200   | 0.0156    | 0.449 |\n",
                  "| general_mace/layer_0/equivariant_product_basis_block/~/symmetric_contraction/w3_0e                   | (5, 8, 128)   | 5,120   | -0.00422  | 0.348 |\n",
                  "| general_mace/layer_0/equivariant_product_basis_block/~/symmetric_contraction/w3_1o                   | (5, 12, 128)  | 7,680   | -0.00282  | 0.287 |\n",
                  "| general_mace/layer_0/equivariant_product_basis_block/~/symmetric_contraction/w3_2e                   | (5, 14, 128)  | 8,960   | 0.00412   | 0.268 |\n",
                  "| general_mace/layer_0/interaction_block/linear_down/w[0,0] 128x0e,128x0e                              | (128, 128)    | 16,384  | 0.00254   | 1.0   |\n",
                  "| general_mace/layer_0/interaction_block/linear_down/w[1,1] 128x1o,128x1o                              | (128, 128)    | 16,384  | 0.0121    | 1.01  |\n",
                  "| general_mace/layer_0/interaction_block/linear_down/w[2,2] 128x2e,128x2e                              | (128, 128)    | 16,384  | -0.0032   | 1.0   |\n",
                  "| general_mace/layer_0/interaction_block/linear_down/w[3,3] 128x3o,128x3o                              | (128, 128)    | 16,384  | 0.00531   | 1.0   |\n",
                  "| general_mace/layer_0/interaction_block/linear_up/w[0,0] 128x0e,128x0e                                | (128, 128)    | 16,384  | -0.0125   | 0.991 |\n",
                  "| general_mace/layer_0/interaction_block/message_passing_convolution/multi_layer_perceptron/linear_0/w | (8, 64)       | 512     | 0.0617    | 1.02  |\n",
                  "| general_mace/layer_0/interaction_block/message_passing_convolution/multi_layer_perceptron/linear_1/w | (64, 64)      | 4,096   | -0.00598  | 1.0   |\n",
                  "| general_mace/layer_0/interaction_block/message_passing_convolution/multi_layer_perceptron/linear_2/w | (64, 64)      | 4,096   | -0.0102   | 0.999 |\n",
                  "| general_mace/layer_0/interaction_block/message_passing_convolution/multi_layer_perceptron/linear_3/w | (64, 512)     | 32,768  | -0.00237  | 1.0   |\n",
                  "| general_mace/layer_0/linear_readout_block/linear/w[0,0] 128x0e,128x0e                                | (128, 128)    | 16,384  | 0.0107    | 1.0   |\n",
                  "| general_mace/layer_0/linear_readout_block/linear/w[1,1] 128x1o,32x1o                                 | (128, 32)     | 4,096   | 0.0263    | 1.02  |\n",
                  "| general_mace/layer_0/linear_readout_block/linear/w[2,2] 128x2e,32x2e                                 | (128, 32)     | 4,096   | -0.0115   | 0.988 |\n",
                  "| general_mace/layer_0/skip_tp_first/w[0,0] 128x0e,128x0e                                              | (5, 128, 128) | 81,920  | -0.00458  | 0.998 |\n",
                  "| general_mace/layer_0/skip_tp_first/w[1,1] 128x1o,128x1o                                              | (5, 128, 128) | 81,920  | -0.00131  | 0.996 |\n",
                  "| general_mace/layer_0/skip_tp_first/w[2,2] 128x2e,128x2e                                              | (5, 128, 128) | 81,920  | -0.000897 | 0.999 |\n",
                  "| general_mace/layer_0/skip_tp_first/w[3,3] 128x3o,128x3o                                              | (5, 128, 128) | 81,920  | 0.00198   | 1.0   |\n",
                  "| general_mace/layer_1/equivariant_product_basis_block/linear/w[0,0] 128x0e,128x0e                     | (128, 128)    | 16,384  | -0.00617  | 0.996 |\n",
                  "| general_mace/layer_1/equivariant_product_basis_block/linear/w[1,1] 128x1o,128x1o                     | (128, 128)    | 16,384  | -0.00213  | 0.992 |\n",
                  "| general_mace/layer_1/equivariant_product_basis_block/linear/w[2,2] 128x2e,128x2e                     | (128, 128)    | 16,384  | -0.00237  | 0.993 |\n",
                  "| general_mace/layer_1/equivariant_product_basis_block/~/symmetric_contraction/w1_0e                   | (5, 1, 128)   | 640     | -0.0447   | 0.964 |\n",
                  "| general_mace/layer_1/equivariant_product_basis_block/~/symmetric_contraction/w1_1o                   | (5, 1, 128)   | 640     | -0.0355   | 0.986 |\n",
                  "| general_mace/layer_1/equivariant_product_basis_block/~/symmetric_contraction/w1_2e                   | (5, 1, 128)   | 640     | 0.00573   | 0.981 |\n",
                  "| general_mace/layer_1/equivariant_product_basis_block/~/symmetric_contraction/w2_0e                   | (5, 4, 128)   | 2,560   | 0.00238   | 0.506 |\n",
                  "| general_mace/layer_1/equivariant_product_basis_block/~/symmetric_contraction/w2_1o                   | (5, 3, 128)   | 1,920   | 0.0133    | 0.565 |\n",
                  "| general_mace/layer_1/equivariant_product_basis_block/~/symmetric_contraction/w2_2e                   | (5, 5, 128)   | 3,200   | 0.0062    | 0.442 |\n",
                  "| general_mace/layer_1/equivariant_product_basis_block/~/symmetric_contraction/w3_0e                   | (5, 8, 128)   | 5,120   | 0.00346   | 0.356 |\n",
                  "| general_mace/layer_1/equivariant_product_basis_block/~/symmetric_contraction/w3_1o                   | (5, 12, 128)  | 7,680   | 0.00162   | 0.291 |\n",
                  "| general_mace/layer_1/equivariant_product_basis_block/~/symmetric_contraction/w3_2e                   | (5, 14, 128)  | 8,960   | -0.00646  | 0.265 |\n",
                  "| general_mace/layer_1/interaction_block/linear_down/w[0,0] 384x0e,128x0e                              | (384, 128)    | 49,152  | -0.000224 | 0.992 |\n",
                  "| general_mace/layer_1/interaction_block/linear_down/w[1,1] 640x1o,128x1o                              | (640, 128)    | 81,920  | 0.00457   | 0.998 |\n",
                  "| general_mace/layer_1/interaction_block/linear_down/w[2,2] 640x2e,128x2e                              | (640, 128)    | 81,920  | 0.00208   | 0.997 |\n",
                  "| general_mace/layer_1/interaction_block/linear_down/w[3,3] 512x3o,128x3o                              | (512, 128)    | 65,536  | -0.00459  | 1.0   |\n",
                  "| general_mace/layer_1/interaction_block/linear_up/w[0,0] 128x0e,128x0e                                | (128, 128)    | 16,384  | -0.00778  | 1.01  |\n",
                  "| general_mace/layer_1/interaction_block/linear_up/w[1,1] 128x1o,128x1o                                | (128, 128)    | 16,384  | -0.00775  | 1.0   |\n",
                  "| general_mace/layer_1/interaction_block/linear_up/w[2,2] 128x2e,128x2e                                | (128, 128)    | 16,384  | 0.00975   | 1.01  |\n",
                  "| general_mace/layer_1/interaction_block/message_passing_convolution/multi_layer_perceptron/linear_0/w | (8, 64)       | 512     | 0.0626    | 1.03  |\n",
                  "| general_mace/layer_1/interaction_block/message_passing_convolution/multi_layer_perceptron/linear_1/w | (64, 64)      | 4,096   | 0.00988   | 1.01  |\n",
                  "| general_mace/layer_1/interaction_block/message_passing_convolution/multi_layer_perceptron/linear_2/w | (64, 64)      | 4,096   | 0.0168    | 0.997 |\n",
                  "| general_mace/layer_1/interaction_block/message_passing_convolution/multi_layer_perceptron/linear_3/w | (64, 2176)    | 139,264 | 0.000821  | 1.0   |\n",
                  "| general_mace/layer_1/non_linear_readout_block/linear/w[0,0] 128x0e,128x0e                            | (128, 128)    | 16,384  | -0.00893  | 1.0   |\n",
                  "| general_mace/layer_1/non_linear_readout_block/linear/w[0,3] 128x0e,256x0e                            | (128, 256)    | 32,768  | -0.00064  | 1.0   |\n",
                  "| general_mace/layer_1/non_linear_readout_block/linear/w[1,1] 128x1o,128x1o                            | (128, 128)    | 16,384  | 0.00509   | 1.0   |\n",
                  "| general_mace/layer_1/non_linear_readout_block/linear/w[2,2] 128x2e,128x2e                            | (128, 128)    | 16,384  | -0.0139   | 0.995 |\n",
                  "| general_mace/layer_1/non_linear_readout_block/linear_1/w[0,0] 128x0e,128x0e                          | (128, 128)    | 16,384  | 0.00843   | 1.01  |\n",
                  "| general_mace/layer_1/non_linear_readout_block/linear_1/w[1,1] 128x1o,32x1o                           | (128, 32)     | 4,096   | -0.032    | 0.998 |\n",
                  "| general_mace/layer_1/non_linear_readout_block/linear_1/w[2,2] 128x2e,32x2e                           | (128, 32)     | 4,096   | -0.00777  | 0.992 |\n",
                  "| general_mace/layer_1/skip_tp/w[0,0] 128x0e,128x0e                                                    | (5, 128, 128) | 81,920  | 0.000403  | 0.995 |\n",
                  "| general_mace/layer_1/skip_tp/w[1,1] 128x1o,128x1o                                                    | (5, 128, 128) | 81,920  | 0.00252   | 1.0   |\n",
                  "| general_mace/layer_1/skip_tp/w[2,2] 128x2e,128x2e                                                    | (5, 128, 128) | 81,920  | 0.000535  | 0.999 |\n",
                  "| general_mace/~/linear_node_embedding_block/embeddings                                                | (5, 128)      | 640     | 0.00635   | 1.0   |\n",
                  "+------------------------------------------------------------------------------------------------------+---------------+---------+-----------+-------+\n",
                  "Total: 1,465,216\n"
               ]
            }
         ],
         "source": [
            "from clu import parameter_overview\n",
            "parameter_overview.log_parameter_overview(w)"
         ]
      },
      {
         "cell_type": "code",
         "execution_count": 19,
         "metadata": {},
         "outputs": [
            {
               "name": "stderr",
               "output_type": "stream",
               "text": [
                  "DEBUG:jax._src.dispatch:Finished tracing + transforming jit(_cumulative_reduction) in 0.0003020763397216797 sec\n",
                  "DEBUG:jax._src.interpreters.pxla:Compiling _cumulative_reduction (11869827888) for with global shapes and types (ShapedArray(int32[5]),). Argument mapping: (OpShardingSharding({replicated}),).\n",
                  "DEBUG:jax._src.lib.xla_bridge:get_compile_options: num_replicas=1 num_partitions=1 device_assignment=[[CpuDevice(id=0)]]\n",
                  "DEBUG:jax._src.dispatch:Finished XLA compilation of jit(_cumulative_reduction) in 0.012703895568847656 sec\n"
               ]
            },
            {
               "data": {
                  "text/plain": [
                     "Array([ 1,  3,  6, 10, 15], dtype=int32)"
                  ]
               },
               "execution_count": 19,
               "metadata": {},
               "output_type": "execute_result"
            }
         ],
         "source": [
            "arr = jnp.asarray([1, 2, 3, 4, 5])\n",
            "jnp.cumsum(arr)"
         ]
      }
   ],
   "metadata": {
      "kernelspec": {
         "display_name": ".venv",
         "language": "python",
         "name": "python3"
      },
      "language_info": {
         "codemirror_mode": {
            "name": "ipython",
            "version": 3
         },
         "file_extension": ".py",
         "mimetype": "text/x-python",
         "name": "python",
         "nbconvert_exporter": "python",
         "pygments_lexer": "ipython3",
         "version": "3.10.12"
      },
      "orig_nbformat": 4,
      "vscode": {
         "interpreter": {
            "hash": "c45d96c58491a395ddcd8e473c3845279123da787cb66983d65c138d89f394de"
         }
      }
   },
   "nbformat": 4,
   "nbformat_minor": 2
}
