{
 "cells": [
  {
   "cell_type": "code",
   "execution_count": null,
   "metadata": {},
   "outputs": [],
   "source": [
    "import flax\n",
    "from flax import linen as nn\n",
    "import jax\n",
    "import jax.numpy as jnp\n",
    "import e3nn_jax as e3nn"
   ]
  },
  {
   "cell_type": "code",
   "execution_count": null,
   "metadata": {},
   "outputs": [],
   "source": [
    "class WrappedFCTensorProduct(nn.Module):\n",
    "\n",
    "    irreps_out: e3nn.Irreps\n",
    "\n",
    "    @nn.compact\n",
    "    def __call__(self, input_1: e3nn.IrrepsArray, input_2: e3nn.IrrepsArray) -> e3nn.IrrepsArray:\n",
    "        output = e3nn.tensor_product(input_1, input_2)\n",
    "        output = e3nn.flax.Linear(irreps_out=self.irreps_out)(output)\n",
    "        return output"
   ]
  },
  {
   "cell_type": "code",
   "execution_count": null,
   "metadata": {},
   "outputs": [],
   "source": [
    "input_1 = e3nn.IrrepsArray(\"0e + 1e + 2e + 3e\", jnp.ones(16))\n",
    "input_2 = e3nn.IrrepsArray(\"0e + 1e + 2e + 3e\", jnp.ones(16))\n",
    "tp = WrappedFCTensorProduct(irreps_out=\"2x0e + 5x1e + 8x2e + 11x3e\")\n",
    "params = tp.init(jax.random.PRNGKey(0), input_1, input_2)\n",
    "output = tp.apply(params, input_1, input_2)\n",
    "output"
   ]
  },
  {
   "cell_type": "code",
   "execution_count": null,
   "metadata": {},
   "outputs": [],
   "source": [
    "class WrappedFCTensorProductWithSetup(nn.Module):\n",
    "\n",
    "    irreps_out: e3nn.Irreps\n",
    "\n",
    "    def setup(self):\n",
    "        self.linear = e3nn.flax.Linear(irreps_out=self.irreps_out)\n",
    "    \n",
    "    def __call__(self, input_1: e3nn.IrrepsArray, input_2: e3nn.IrrepsArray) -> e3nn.IrrepsArray:\n",
    "        output = e3nn.tensor_product(input_1, input_2)\n",
    "        output = self.linear(output)\n",
    "        return output"
   ]
  },
  {
   "cell_type": "code",
   "execution_count": null,
   "metadata": {},
   "outputs": [],
   "source": [
    "input_1 = e3nn.IrrepsArray(\"0e + 1e + 2e + 3e\", jnp.ones(16))\n",
    "input_2 = e3nn.IrrepsArray(\"0e + 1e + 2e + 3e\", jnp.ones(16))\n",
    "tp = WrappedFCTensorProductWithSetup(irreps_out=\"2x0e + 5x1e + 8x2e + 11x3e\")\n",
    "params = tp.init(jax.random.PRNGKey(0), input_1, input_2)\n",
    "output = tp.apply(params, input_1, input_2)\n",
    "output"
   ]
  }
 ],
 "metadata": {
  "kernelspec": {
   "display_name": ".venv",
   "language": "python",
   "name": "python3"
  },
  "language_info": {
   "codemirror_mode": {
    "name": "ipython",
    "version": 3
   },
   "file_extension": ".py",
   "mimetype": "text/x-python",
   "name": "python",
   "nbconvert_exporter": "python",
   "pygments_lexer": "ipython3",
   "version": "3.10.12"
  }
 },
 "nbformat": 4,
 "nbformat_minor": 2
}
