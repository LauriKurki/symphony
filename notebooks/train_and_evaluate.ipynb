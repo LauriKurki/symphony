{
 "cells": [
  {
   "cell_type": "code",
   "execution_count": 1,
   "metadata": {},
   "outputs": [
    {
     "name": "stderr",
     "output_type": "stream",
     "text": [
      "WARNING:absl:No GPU/TPU found, falling back to CPU. (Set TF_CPP_MIN_LOG_LEVEL=0 and rerun for more info.)\n",
      "2023-02-16 01:59:32.147680: W tensorflow/compiler/xla/stream_executor/platform/default/dso_loader.cc:64] Could not load dynamic library 'libcudart.so.11.0'; dlerror: libcudart.so.11.0: cannot open shared object file: No such file or directory\n",
      "2023-02-16 01:59:33.646360: W tensorflow/compiler/xla/stream_executor/platform/default/dso_loader.cc:64] Could not load dynamic library 'libnvinfer.so.7'; dlerror: libnvinfer.so.7: cannot open shared object file: No such file or directory\n",
      "2023-02-16 01:59:33.646517: W tensorflow/compiler/xla/stream_executor/platform/default/dso_loader.cc:64] Could not load dynamic library 'libnvinfer_plugin.so.7'; dlerror: libnvinfer_plugin.so.7: cannot open shared object file: No such file or directory\n",
      "2023-02-16 01:59:33.646525: W tensorflow/compiler/tf2tensorrt/utils/py_utils.cc:38] TF-TRT Warning: Cannot dlopen some TensorRT libraries. If you would like to use Nvidia GPU with TensorRT, please make sure the missing libraries mentioned above are installed properly.\n"
     ]
    }
   ],
   "source": [
    "import e3nn_jax as e3nn\n",
    "import flax\n",
    "import flax.core\n",
    "import flax.linen as nn\n",
    "from flax.training import train_state\n",
    "import jax\n",
    "import jax.numpy as jnp\n",
    "import jraph\n",
    "import sys\n",
    "\n",
    "sys.path.append(\"..\")\n",
    "\n",
    "from configs import graphmlp, graphnet\n",
    "from dataloader import dataloader\n",
    "from model import TYPES\n",
    "from qm9 import load_qm9\n",
    "from train import train_and_evaluate"
   ]
  },
  {
   "cell_type": "code",
   "execution_count": 2,
   "metadata": {},
   "outputs": [],
   "source": [
    "config = graphmlp.get_config()"
   ]
  },
  {
   "cell_type": "code",
   "execution_count": 3,
   "metadata": {},
   "outputs": [
    {
     "name": "stderr",
     "output_type": "stream",
     "text": [
      "2023-02-16 01:39:00.148430: E tensorflow/compiler/xla/stream_executor/cuda/cuda_driver.cc:267] failed call to cuInit: CUDA_ERROR_UNKNOWN: unknown error\n"
     ]
    },
    {
     "ename": "AttributeError",
     "evalue": "'ShapedArray' object has no attribute 'target_species'",
     "output_type": "error",
     "traceback": [
      "\u001b[0;31m---------------------------------------------------------------------------\u001b[0m",
      "\u001b[0;31mAttributeError\u001b[0m                            Traceback (most recent call last)",
      "Cell \u001b[0;32mIn [3], line 1\u001b[0m\n\u001b[0;32m----> 1\u001b[0m train_and_evaluate(config, \u001b[39m\"\u001b[39;49m\u001b[39mgraphmlp\u001b[39;49m\u001b[39m\"\u001b[39;49m)\n",
      "File \u001b[0;32m~/atomicarchitects/spherical_harmonic_net/notebooks/../train.py:356\u001b[0m, in \u001b[0;36mtrain_and_evaluate\u001b[0;34m(config, workdir)\u001b[0m\n\u001b[1;32m    354\u001b[0m init_graphs \u001b[39m=\u001b[39m replace_globals(init_graphs)\n\u001b[1;32m    355\u001b[0m init_net \u001b[39m=\u001b[39m create_model(config, deterministic\u001b[39m=\u001b[39m\u001b[39mTrue\u001b[39;00m)\n\u001b[0;32m--> 356\u001b[0m params \u001b[39m=\u001b[39m jax\u001b[39m.\u001b[39;49mjit(init_net\u001b[39m.\u001b[39;49minit)(init_rng, init_graphs)\n\u001b[1;32m    357\u001b[0m parameter_overview\u001b[39m.\u001b[39mlog_parameter_overview(params)\n\u001b[1;32m    359\u001b[0m \u001b[39m# Create the optimizer.\u001b[39;00m\n",
      "    \u001b[0;31m[... skipping hidden 23 frame]\u001b[0m\n",
      "File \u001b[0;32m~/atomicarchitects/spherical_harmonic_net/notebooks/../models.py:216\u001b[0m, in \u001b[0;36mGraphMLP.__call__\u001b[0;34m(self, graphs)\u001b[0m\n\u001b[1;32m    214\u001b[0m node_embeddings \u001b[39m=\u001b[39m processed_graphs\u001b[39m.\u001b[39mnodes\n\u001b[1;32m    215\u001b[0m true_focus_node_embeddings \u001b[39m=\u001b[39m node_embeddings[get_focus_node_indices(graphs)]\n\u001b[0;32m--> 216\u001b[0m target_species_embeddings \u001b[39m=\u001b[39m species_embedder(graphs\u001b[39m.\u001b[39;49mglobals\u001b[39m.\u001b[39;49mtarget_species)\n\u001b[1;32m    218\u001b[0m focus_logits \u001b[39m=\u001b[39m nn\u001b[39m.\u001b[39mDense(\u001b[39m1\u001b[39m)(node_embeddings)\u001b[39m.\u001b[39msqueeze(axis\u001b[39m=\u001b[39m\u001b[39m-\u001b[39m\u001b[39m1\u001b[39m)\n\u001b[1;32m    219\u001b[0m atom_type_logits \u001b[39m=\u001b[39m nn\u001b[39m.\u001b[39mDense(NUM_ELEMENTS)(true_focus_node_embeddings)\n",
      "File \u001b[0;32m~/.local/lib/python3.10/site-packages/jax/core.py:636\u001b[0m, in \u001b[0;36mTracer.__getattr__\u001b[0;34m(self, name)\u001b[0m\n\u001b[1;32m    633\u001b[0m \u001b[39massert\u001b[39;00m \u001b[39mnot\u001b[39;00m config\u001b[39m.\u001b[39mjax_enable_checks \u001b[39mor\u001b[39;00m name \u001b[39m!=\u001b[39m \u001b[39m\"\u001b[39m\u001b[39maval\u001b[39m\u001b[39m\"\u001b[39m\n\u001b[1;32m    635\u001b[0m \u001b[39mtry\u001b[39;00m:\n\u001b[0;32m--> 636\u001b[0m   attr \u001b[39m=\u001b[39m \u001b[39mgetattr\u001b[39;49m(\u001b[39mself\u001b[39;49m\u001b[39m.\u001b[39;49maval, name)\n\u001b[1;32m    637\u001b[0m \u001b[39mexcept\u001b[39;00m \u001b[39mKeyError\u001b[39;00m \u001b[39mas\u001b[39;00m err:\n\u001b[1;32m    638\u001b[0m   \u001b[39mraise\u001b[39;00m \u001b[39mAttributeError\u001b[39;00m(\n\u001b[1;32m    639\u001b[0m       \u001b[39mf\u001b[39m\u001b[39m\"\u001b[39m\u001b[39m{\u001b[39;00m\u001b[39mself\u001b[39m\u001b[39m.\u001b[39m\u001b[39m__class__\u001b[39m\u001b[39m.\u001b[39m\u001b[39m__name__\u001b[39m\u001b[39m}\u001b[39;00m\u001b[39m has no attribute \u001b[39m\u001b[39m{\u001b[39;00mname\u001b[39m}\u001b[39;00m\u001b[39m\"\u001b[39m\n\u001b[1;32m    640\u001b[0m   ) \u001b[39mfrom\u001b[39;00m \u001b[39merr\u001b[39;00m\n",
      "\u001b[0;31mAttributeError\u001b[0m: 'ShapedArray' object has no attribute 'target_species'"
     ]
    }
   ],
   "source": [
    "train_and_evaluate(config, \"graphmlp\")"
   ]
  },
  {
   "cell_type": "code",
   "execution_count": null,
   "metadata": {},
   "outputs": [],
   "source": []
  }
 ],
 "metadata": {
  "kernelspec": {
   "display_name": ".venv",
   "language": "python",
   "name": "python3"
  },
  "language_info": {
   "codemirror_mode": {
    "name": "ipython",
    "version": 3
   },
   "file_extension": ".py",
   "mimetype": "text/x-python",
   "name": "python",
   "nbconvert_exporter": "python",
   "pygments_lexer": "ipython3",
   "version": "3.10.8"
  },
  "orig_nbformat": 4,
  "vscode": {
   "interpreter": {
    "hash": "c45d96c58491a395ddcd8e473c3845279123da787cb66983d65c138d89f394de"
   }
  }
 },
 "nbformat": 4,
 "nbformat_minor": 2
}
