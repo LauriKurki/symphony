{
 "cells": [
  {
   "cell_type": "code",
   "execution_count": 12,
   "metadata": {},
   "outputs": [],
   "source": [
    "import functools\n",
    "import jax\n",
    "import jax.numpy as jnp\n",
    "import jraph\n",
    "import optax\n",
    "import sys\n",
    "import ml_collections\n",
    "import e3nn_jax as e3nn\n",
    "import ml_collections\n",
    "\n",
    "sys.path.append('..')\n",
    "sys.path.append('../analyses')\n",
    "import analyses.analysis as analysis\n",
    "from symphony.data import input_pipeline_tf, input_pipeline, matproj, fragments\n",
    "from symphony import loss, train"
   ]
  },
  {
   "cell_type": "code",
   "execution_count": 9,
   "metadata": {},
   "outputs": [
    {
     "name": "stderr",
     "output_type": "stream",
     "text": [
      "Retrieving SummaryDoc documents: 100%|██████████| 343/343 [00:00<00:00, 4910055.54it/s]\n"
     ]
    }
   ],
   "source": [
    "structs = matproj.get_materials({\"elements\": [\"O\", \"Si\"], \"num_elements\": (2, 2)})\n",
    "graphs = [input_pipeline.material_to_jraph_graph(struct.structure, [8, 14], (0.5, 1.5)) for struct in structs[:10]]"
   ]
  },
  {
   "cell_type": "code",
   "execution_count": 23,
   "metadata": {},
   "outputs": [],
   "source": [
    "graph = graphs[0]\n",
    "rng = jax.random.PRNGKey(0)\n",
    "frag_rng, rng = jax.random.split(rng)\n",
    "frags = list(fragments.generate_fragments(\n",
    "    frag_rng,\n",
    "    graph,\n",
    "    2,\n",
    "    max_targets_per_graph = 4,\n",
    "    periodic = True\n",
    "))"
   ]
  },
  {
   "cell_type": "code",
   "execution_count": 24,
   "metadata": {},
   "outputs": [
    {
     "data": {
      "text/plain": [
       "array([[[-1.48560643, -0.6553905 ,  0.        ],\n",
       "        [ 1.48561549, -0.6553905 ,  0.        ],\n",
       "        [ 0.        ,  0.        ,  0.        ],\n",
       "        [ 0.        ,  0.        ,  0.        ]]])"
      ]
     },
     "execution_count": 24,
     "metadata": {},
     "output_type": "execute_result"
    }
   ],
   "source": [
    "frags[0].globals.target_positions"
   ]
  },
  {
   "cell_type": "code",
   "execution_count": null,
   "metadata": {},
   "outputs": [],
   "source": []
  }
 ],
 "metadata": {
  "kernelspec": {
   "display_name": ".venv",
   "language": "python",
   "name": "python3"
  },
  "language_info": {
   "codemirror_mode": {
    "name": "ipython",
    "version": 3
   },
   "file_extension": ".py",
   "mimetype": "text/x-python",
   "name": "python",
   "nbconvert_exporter": "python",
   "pygments_lexer": "ipython3",
   "version": "3.10.13"
  },
  "orig_nbformat": 4
 },
 "nbformat": 4,
 "nbformat_minor": 2
}
