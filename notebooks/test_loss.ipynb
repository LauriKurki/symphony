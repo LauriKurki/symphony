{
 "cells": [
  {
   "cell_type": "code",
   "execution_count": 2,
   "metadata": {},
   "outputs": [],
   "source": [
    "import e3nn_jax as e3nn\n",
    "import jax\n",
    "import jax.numpy as jnp\n",
    "\n",
    "import sys\n",
    "sys.path.append('../')\n",
    "from symphony import models"
   ]
  },
  {
   "cell_type": "code",
   "execution_count": 12,
   "metadata": {},
   "outputs": [],
   "source": [
    "def kl_divergence_on_sphere(\n",
    "    log_true_angular_coeffs: e3nn.IrrepsArray,\n",
    "    log_predicted_dist: e3nn.SphericalSignal,\n",
    ") -> jnp.ndarray:\n",
    "    \"\"\"Compute the KL divergence between two distributions on a sphere.\"\"\"\n",
    "    # Convert coefficients to a distribution on the sphere.\n",
    "    log_true_angular_dist = e3nn.to_s2grid(\n",
    "        log_true_angular_coeffs,\n",
    "        log_predicted_dist.res_beta,\n",
    "        log_predicted_dist.res_alpha,\n",
    "        quadrature=log_predicted_dist.quadrature,\n",
    "        p_val=1,\n",
    "        p_arg=-1,\n",
    "    )\n",
    "\n",
    "    # Subtract the maximum value for numerical stability.\n",
    "    log_true_angular_dist_max = jnp.max(\n",
    "        log_true_angular_dist.grid_values, axis=(-2, -1), keepdims=True\n",
    "    )\n",
    "    log_true_angular_dist_max = jax.lax.stop_gradient(log_true_angular_dist_max)\n",
    "    log_true_angular_dist = log_true_angular_dist.apply(\n",
    "        lambda x: x - log_true_angular_dist_max\n",
    "    )\n",
    "\n",
    "    # Convert to a probability distribution, by taking the exponential and normalizing.\n",
    "    true_angular_dist = log_true_angular_dist.apply(jnp.exp)\n",
    "    true_angular_dist = true_angular_dist / true_angular_dist.integrate()\n",
    "    true_dist = true_angular_dist\n",
    "\n",
    "    # Check that shapes are correct.\n",
    "    assert true_dist.grid_values.shape == (\n",
    "        log_predicted_dist.res_beta,\n",
    "        log_predicted_dist.res_alpha,\n",
    "    ), true_dist.grid_values.shape\n",
    "\n",
    "    # Now, compute the unnormalized predicted distribution over all spheres.\n",
    "    # Subtract the maximum value for numerical stability.\n",
    "    log_predicted_dist_max = jnp.max(log_predicted_dist.grid_values)\n",
    "    log_predicted_dist_max = jax.lax.stop_gradient(log_predicted_dist_max)\n",
    "    log_predicted_dist = log_predicted_dist.apply(\n",
    "        lambda x: x - log_predicted_dist_max\n",
    "    )\n",
    "\n",
    "    # Compute the cross-entropy including a normalizing factor to account for the fact that the predicted distribution is not normalized.\n",
    "    cross_entropy = -(true_dist * log_predicted_dist).integrate().array.sum()\n",
    "    normalizing_factor = jnp.log(\n",
    "        log_predicted_dist.apply(jnp.exp).integrate().array.sum()\n",
    "    )\n",
    "\n",
    "    # Compute the self-entropy of the true distribution.\n",
    "    self_entropy = (\n",
    "        -(true_dist * true_dist.apply(models.safe_log)).integrate().array.sum()\n",
    "    )\n",
    "\n",
    "    # This should be non-negative, upto numerical precision.\n",
    "    return cross_entropy + normalizing_factor - self_entropy\n",
    "\n"
   ]
  },
  {
   "cell_type": "code",
   "execution_count": null,
   "metadata": {},
   "outputs": [],
   "source": [
    "position_logits = \n",
    "log_predicted_angular_dist = position_logits\n",
    "log_predicted_angular_dist.grid_values = jax.vmap(\n",
    "    lambda probs, radial_weights: (probs * radial_weights[:, None, None]).sum(\n",
    "        axis=0\n",
    "    )\n",
    ")(position_probs.grid_values, true_radius_weights)\n",
    "log_predicted_angular_dist.grid_values = jnp.log(log_predicted_angular_dist.grid_values)\n",
    "\n"
   ]
  },
  {
   "cell_type": "code",
   "execution_count": 23,
   "metadata": {},
   "outputs": [
    {
     "data": {
      "text/plain": [
       "Array(0.84398484, dtype=float32)"
      ]
     },
     "execution_count": 23,
     "metadata": {},
     "output_type": "execute_result"
    }
   ],
   "source": [
    "log_true_angular_coeffs = e3nn.IrrepsArray(\"1o\", jnp.asarray([1.0, 0.0, 0.0]))\n",
    "log_predicted_angular_coeffs = e3nn.IrrepsArray(\"1o\", jnp.asarray([0.0, 1.0, 0.0]))\n",
    "log_predicted_dist = e3nn.to_s2grid(log_predicted_angular_coeffs, res_beta=100, res_alpha=99, quadrature=\"soft\", p_val=1, p_arg=-1)\n",
    "kl_divergence_on_sphere(log_true_angular_coeffs, log_predicted_dist)"
   ]
  }
 ],
 "metadata": {
  "kernelspec": {
   "display_name": ".venv",
   "language": "python",
   "name": "python3"
  },
  "language_info": {
   "codemirror_mode": {
    "name": "ipython",
    "version": 3
   },
   "file_extension": ".py",
   "mimetype": "text/x-python",
   "name": "python",
   "nbconvert_exporter": "python",
   "pygments_lexer": "ipython3",
   "version": "3.10.12"
  },
  "orig_nbformat": 4
 },
 "nbformat": 4,
 "nbformat_minor": 2
}
