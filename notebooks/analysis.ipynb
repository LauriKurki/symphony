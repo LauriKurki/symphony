{
 "cells": [
  {
   "cell_type": "code",
   "execution_count": 1,
   "metadata": {},
   "outputs": [
    {
     "name": "stderr",
     "output_type": "stream",
     "text": [
      "/Users/songk/miniconda3/envs/sh-net/lib/python3.10/site-packages/flax/struct.py:136: FutureWarning: jax.tree_util.register_keypaths is deprecated, and will be removed in a future release. Please use `register_pytree_with_keys()` instead.\n",
      "  jax.tree_util.register_keypaths(data_clz, keypaths)\n",
      "/Users/songk/miniconda3/envs/sh-net/lib/python3.10/site-packages/flax/struct.py:136: FutureWarning: jax.tree_util.register_keypaths is deprecated, and will be removed in a future release. Please use `register_pytree_with_keys()` instead.\n",
      "  jax.tree_util.register_keypaths(data_clz, keypaths)\n",
      "/Users/songk/miniconda3/envs/sh-net/lib/python3.10/site-packages/flax/struct.py:136: FutureWarning: jax.tree_util.register_keypaths is deprecated, and will be removed in a future release. Please use `register_pytree_with_keys()` instead.\n",
      "  jax.tree_util.register_keypaths(data_clz, keypaths)\n"
     ]
    }
   ],
   "source": [
    "import ase\n",
    "import ase.build\n",
    "from ase.db import connect\n",
    "import itertools\n",
    "from matplotlib import pyplot as plt\n",
    "import numpy as np\n",
    "from openbabel import openbabel as ob\n",
    "import os\n",
    "import pickle\n",
    "import pandas as pd\n",
    "import plotly.express as px\n",
    "import plotly.graph_objects as go\n",
    "from schnetpack import Properties\n",
    "import sys\n",
    "from typing import Tuple\n",
    "\n",
    "sys.path.append('..')\n",
    "sys.path.append('../analyses')\n",
    "import analyses.analysis as analysis"
   ]
  },
  {
   "cell_type": "code",
   "execution_count": null,
   "metadata": {},
   "outputs": [],
   "source": [
    "with open('../analyses/molecules/generated/v6/nequip/interactions=4/')"
   ]
  },
  {
   "cell_type": "code",
   "execution_count": 4,
   "metadata": {},
   "outputs": [],
   "source": [
    "generated_db = '../analyses/molecules/generated/v5/nequip/interactions=4/l=5/channels=32/beta=1.0/step=best/generated_molecules.db'\n",
    "generated_dists = []\n",
    "\n",
    "with connect(generated_db) as conn:\n",
    "    for row in conn.select():\n",
    "        mol = row.toatoms()\n",
    "        for atom1, atom2 in itertools.combinations(mol.positions, 2):\n",
    "            generated_dists.append(np.linalg.norm(atom1 - atom2))\n",
    "\n",
    "training_dists = []\n",
    "\n",
    "model, params, config = analysis.load_model_at_step(\n",
    "    '../workdirs/v6/nequip/interactions=4/l=5/channels=32', -1, run_in_evaluation_mode=True\n",
    ")\n",
    "\n",
    "with connect('../qm9_data/qm9-all.db') as conn:\n",
    "    i = 0\n",
    "    for row in conn.select():\n",
    "        mol = row.toatoms()\n",
    "        for atom1, atom2 in itertools.combinations(mol.positions, 2):\n",
    "            training_dists.append(np.linalg.norm(atom1 - atom2))\n",
    "        if i > 100:\n",
    "            break"
   ]
  },
  {
   "cell_type": "code",
   "execution_count": null,
   "metadata": {},
   "outputs": [],
   "source": []
  }
 ],
 "metadata": {
  "kernelspec": {
   "display_name": "sh-net",
   "language": "python",
   "name": "python3"
  },
  "language_info": {
   "codemirror_mode": {
    "name": "ipython",
    "version": 3
   },
   "file_extension": ".py",
   "mimetype": "text/x-python",
   "name": "python",
   "nbconvert_exporter": "python",
   "pygments_lexer": "ipython3",
   "version": "3.10.12"
  },
  "orig_nbformat": 4
 },
 "nbformat": 4,
 "nbformat_minor": 2
}
