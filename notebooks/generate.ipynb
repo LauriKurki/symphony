{
 "cells": [
  {
   "cell_type": "code",
   "execution_count": 1,
   "metadata": {},
   "outputs": [],
   "source": [
    "import os\n",
    "import pickle\n",
    "import sys\n",
    "\n",
    "import ase\n",
    "import ase.data\n",
    "import ase.io\n",
    "import ase.visualize\n",
    "import jax\n",
    "import jax.numpy as jnp\n",
    "import jraph\n",
    "import ml_collections\n",
    "import tqdm\n",
    "import yaml\n",
    "\n",
    "os.environ[\"CUDA_VISIBLE_DEVICES\"] = \"4\"\n",
    "\n",
    "sys.path.append(\"..\")\n"
   ]
  },
  {
   "cell_type": "code",
   "execution_count": 2,
   "metadata": {},
   "outputs": [],
   "source": [
    "import datatypes\n",
    "import input_pipeline\n",
    "import qm9\n",
    "from models import ATOMIC_NUMBERS, RADII, create_model"
   ]
  },
  {
   "cell_type": "code",
   "execution_count": 3,
   "metadata": {},
   "outputs": [],
   "source": [
    "# path = \"/home/ameyad/spherical-harmonic-net/workdirs/v3/mace/interactions=3/l=2/channels=32\"\n",
    "path = \"/home/ameyad/spherical-harmonic-net/workdirs/v3/e3schnet/interactions=4/l=3/channels=32\"\n",
    "# path = \"/home/ameyad/spherical-harmonic-net/workdirs/v3/mace/interactions=4/l=3/channels=32\"\n",
    "# path = \"/home/ameyad/spherical-harmonic-net/workdirs/v3/mace/interactions=4/l=5/channels=32\"\n",
    "# path = \"/home/ameyad/spherical-harmonic-net/workdirs/v4/mace/interactions=6/l=4/channels=32\"\n",
    "# path = \"/home/ameyad/spherical-harmonic-net/workdirs/v4/mace/interactions=2/l=4/channels=32\"\n",
    "# path = \"/home/ameyad/spherical-harmonic-net/workdirs/v4/mace/interactions=5/l=5/channels=32\"\n",
    "# path = \"/home/ameyad/spherical-harmonic-net/workdirs/extras/num_layers/mace/interactions=4/l=5/channels=32/num_layers=4\"\n",
    "path = \"/home/ameyad/spherical-harmonic-net/workdirs/v4/mace/interactions=4/l=4/channels=32\"\n",
    "\n",
    "with open(path + \"/checkpoints/params.pkl\", \"rb\") as f:\n",
    "    params = pickle.load(f)\n",
    "with open(path + \"/config.yml\", \"rt\") as config_file:\n",
    "    config = yaml.unsafe_load(config_file)\n",
    "\n",
    "assert config is not None\n",
    "config = ml_collections.ConfigDict(config)\n"
   ]
  },
  {
   "cell_type": "code",
   "execution_count": 4,
   "metadata": {},
   "outputs": [],
   "source": [
    "config.target_position_predictor.res_alpha = 359\n",
    "config.target_position_predictor.res_beta = 180\n",
    "\n",
    "config.target_position_predictor.res_alpha = 181\n",
    "config.target_position_predictor.res_beta = 90\n"
   ]
  },
  {
   "cell_type": "code",
   "execution_count": 5,
   "metadata": {},
   "outputs": [],
   "source": [
    "model = create_model(config, run_in_evaluation_mode=True, beamlined=True)\n",
    "apply_fn = jax.jit(model.apply)\n",
    "\n",
    "\n",
    "def apply(frag, seed, beta):\n",
    "    frags = jraph.pad_with_graphs(frag, 32, 1024, 2)\n",
    "    preds = apply_fn(params, seed, frags, beta)\n",
    "    pred = jraph.unpad_with_graphs(preds)\n",
    "    return pred\n"
   ]
  },
  {
   "cell_type": "code",
   "execution_count": 6,
   "metadata": {},
   "outputs": [],
   "source": [
    "def append_pred_to_ase_atoms(\n",
    "    molecule: ase.Atoms, pred: datatypes.Predictions\n",
    ") -> ase.Atoms:\n",
    "    focus = pred.globals.focus_indices.squeeze(0)\n",
    "    pos_focus = molecule.positions[focus]\n",
    "    pos_rel = pred.globals.position_vectors.squeeze(0)\n",
    "\n",
    "    new_specie = jnp.array(\n",
    "        ATOMIC_NUMBERS[pred.globals.target_species.squeeze(0).item()]\n",
    "    )\n",
    "    new_position = pos_focus + pos_rel\n",
    "\n",
    "    return ase.Atoms(\n",
    "        positions=jnp.concatenate([molecule.positions, new_position[None, :]], axis=0),\n",
    "        numbers=jnp.concatenate([molecule.numbers, new_specie[None]], axis=0),\n",
    "    )\n"
   ]
  },
  {
   "cell_type": "code",
   "execution_count": 7,
   "metadata": {},
   "outputs": [
    {
     "name": "stdout",
     "output_type": "stream",
     "text": [
      "v4_mace_interactions=4_l=4_channels=32_beta=1\n"
     ]
    }
   ],
   "source": [
    "name = path.split(\"/\")[-5:]\n",
    "name = \"_\".join(name)\n",
    "\n",
    "beta = 1\n",
    "\n",
    "name = f\"{name}_beta={beta}\"\n",
    "\n",
    "print(name)"
   ]
  },
  {
   "cell_type": "code",
   "execution_count": 8,
   "metadata": {},
   "outputs": [
    {
     "name": "stdout",
     "output_type": "stream",
     "text": [
      "NaNs detected\n",
      "NaNs detected\n",
      "NaNs detected\n",
      "NaNs detected\n",
      "NaNs detected\n",
      "NaNs detected\n",
      "NaNs detected\n",
      "NaNs detected\n",
      "NaNs detected\n",
      "Seed 9 Step 3 stop prob 1.00\n",
      "Generated molecule 9 of 4 atoms\n",
      "NaNs detected\n",
      "NaNs detected\n",
      "NaNs detected\n",
      "NaNs detected\n",
      "NaNs detected\n",
      "NaNs detected\n",
      "Seed 16 Step 3 stop prob 1.00\n",
      "Generated molecule 16 of 4 atoms\n",
      "NaNs detected\n",
      "NaNs detected\n",
      "NaNs detected\n",
      "NaNs detected\n",
      "NaNs detected\n",
      "Seed 22 Step 3 stop prob 1.00\n",
      "Generated molecule 22 of 4 atoms\n",
      "NaNs detected\n",
      "NaNs detected\n",
      "NaNs detected\n",
      "NaNs detected\n",
      "NaNs detected\n",
      "NaNs detected\n",
      "NaNs detected\n",
      "NaNs detected\n",
      "NaNs detected\n",
      "NaNs detected\n",
      "NaNs detected\n",
      "NaNs detected\n",
      "NaNs detected\n",
      "NaNs detected\n",
      "NaNs detected\n",
      "NaNs detected\n",
      "NaNs detected\n",
      "NaNs detected\n",
      "NaNs detected\n",
      "NaNs detected\n",
      "NaNs detected\n",
      "NaNs detected\n",
      "NaNs detected\n",
      "NaNs detected\n",
      "NaNs detected\n",
      "NaNs detected\n",
      "NaNs detected\n",
      "NaNs detected\n",
      "NaNs detected\n",
      "NaNs detected\n",
      "NaNs detected\n",
      "NaNs detected\n",
      "NaNs detected\n",
      "NaNs detected\n",
      "NaNs detected\n",
      "NaNs detected\n",
      "NaNs detected\n",
      "NaNs detected\n",
      "NaNs detected\n",
      "NaNs detected\n",
      "NaNs detected\n"
     ]
    }
   ],
   "source": [
    "molecules = []\n",
    "\n",
    "if not os.path.exists(f\"gen/{name}\"):\n",
    "    os.mkdir(f\"gen/{name}\")\n",
    "\n",
    "for seed in range(64):\n",
    "    molecule = ase.Atoms(\n",
    "        positions=jnp.array([[0, 0, 0.0]]),\n",
    "        numbers=jnp.array([6]),\n",
    "    )\n",
    "\n",
    "    rng = jax.random.PRNGKey(seed)\n",
    "    for step in range(31):\n",
    "        k, rng = jax.random.split(rng)\n",
    "        frag = input_pipeline.ase_atoms_to_jraph_graph(\n",
    "            molecule, ATOMIC_NUMBERS, config.nn_cutoff\n",
    "        )\n",
    "        pred = apply(frag, k, beta)\n",
    "\n",
    "        if any(jnp.isnan(x).any() for x in jax.tree_util.tree_leaves(pred)):\n",
    "            print(\"NaNs detected\")\n",
    "            break\n",
    "\n",
    "        stop_prob = pred.globals.stop_probs.squeeze(0).item()\n",
    "        if stop_prob > 0.01:\n",
    "            print(f\"Seed {seed} Step {step} stop prob {stop_prob:.2f}\")\n",
    "\n",
    "        stop = pred.globals.stop.squeeze(0).item()\n",
    "        if stop:\n",
    "            molecules.append(molecule)\n",
    "\n",
    "            ase.io.write(f\"gen/{name}/molecule_{seed}.xyz\", molecule)\n",
    "\n",
    "            print(f\"Generated molecule {seed} of {len(molecule)} atoms\")\n",
    "            break\n",
    "\n",
    "        molecule = append_pred_to_ase_atoms(molecule, pred)"
   ]
  },
  {
   "cell_type": "code",
   "execution_count": null,
   "metadata": {},
   "outputs": [],
   "source": []
  },
  {
   "cell_type": "code",
   "execution_count": 9,
   "metadata": {},
   "outputs": [
    {
     "data": {
      "text/plain": [
       "GraphsTuple(nodes=NodePredictions(embeddings=128x0e+128x1o+128x2e+128x3o+128x4e True, focus_logits=Array(False, dtype=bool), focus_probs=Array(True, dtype=bool)), edges=None, receivers=Array(False, dtype=bool), senders=Array(False, dtype=bool), globals=GlobalPredictions(stop_probs=Array(True, dtype=bool), stop=Array(False, dtype=bool), focus_indices=Array(False, dtype=bool), target_species_logits=Array(False, dtype=bool), target_species_probs=None, target_species=Array(False, dtype=bool), position_coeffs=None, position_logits=SphericalSignal(True), position_probs=None, position_vectors=Array(False, dtype=bool)), n_node=Array(False, dtype=bool), n_edge=Array(False, dtype=bool))"
      ]
     },
     "execution_count": 9,
     "metadata": {},
     "output_type": "execute_result"
    }
   ],
   "source": [
    "jax.tree_util.tree_map(lambda x: jnp.isnan(x).any(), pred)"
   ]
  },
  {
   "cell_type": "code",
   "execution_count": 10,
   "metadata": {},
   "outputs": [],
   "source": [
    "import matplotlib.pyplot as plt\n"
   ]
  },
  {
   "cell_type": "code",
   "execution_count": 11,
   "metadata": {},
   "outputs": [
    {
     "data": {
      "text/plain": [
       "<matplotlib.image.AxesImage at 0x7f7ba8028cd0>"
      ]
     },
     "execution_count": 11,
     "metadata": {},
     "output_type": "execute_result"
    },
    {
     "data": {
      "image/png": "[encoded data removed]",
      "text/plain": [
       "<Figure size 640x480 with 1 Axes>"
      ]
     },
     "metadata": {},
     "output_type": "display_data"
    }
   ],
   "source": [
    "x = pred.nodes.embeddings\n",
    "\n",
    "plt.imshow(x.array)\n"
   ]
  },
  {
   "cell_type": "code",
   "execution_count": 12,
   "metadata": {},
   "outputs": [
    {
     "data": {
      "text/plain": [
       "(0.0, 10000.0)"
      ]
     },
     "execution_count": 12,
     "metadata": {},
     "output_type": "execute_result"
    },
    {
     "data": {
      "image/png": "[encoded data removed]",
      "text/plain": [
       "<Figure size 640x480 with 1 Axes>"
      ]
     },
     "metadata": {},
     "output_type": "display_data"
    }
   ],
   "source": [
    "plt.plot(jnp.max(x.array, axis=0))\n",
    "plt.ylim(0.0, 10000)\n"
   ]
  },
  {
   "cell_type": "code",
   "execution_count": 13,
   "metadata": {},
   "outputs": [
    {
     "data": {
      "text/plain": [
       "3200"
      ]
     },
     "execution_count": 13,
     "metadata": {},
     "output_type": "execute_result"
    }
   ],
   "source": [
    "x.irreps.dim\n"
   ]
  },
  {
   "cell_type": "code",
   "execution_count": null,
   "metadata": {},
   "outputs": [],
   "source": []
  }
 ],
 "metadata": {
  "kernelspec": {
   "display_name": ".venv",
   "language": "python",
   "name": "python3"
  },
  "language_info": {
   "codemirror_mode": {
    "name": "ipython",
    "version": 3
   },
   "file_extension": ".py",
   "mimetype": "text/x-python",
   "name": "python",
   "nbconvert_exporter": "python",
   "pygments_lexer": "ipython3",
   "version": "3.10.9"
  },
  "orig_nbformat": 4,
  "vscode": {
   "interpreter": {
    "hash": "c45d96c58491a395ddcd8e473c3845279123da787cb66983d65c138d89f394de"
   }
  }
 },
 "nbformat": 4,
 "nbformat_minor": 2
}
