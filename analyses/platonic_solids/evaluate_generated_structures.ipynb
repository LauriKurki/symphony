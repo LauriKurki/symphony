{
 "cells": [
  {
   "cell_type": "code",
   "execution_count": 1,
   "metadata": {},
   "outputs": [],
   "source": [
    "from typing import *\n",
    "import os\n",
    "\n",
    "import tqdm\n",
    "import ase\n",
    "import ase.io\n",
    "import jax\n",
    "import jax.numpy as jnp\n",
    "import jraph\n",
    "import pickle\n",
    "import yaml\n",
    "import seaborn as sns\n",
    "import pandas as pd\n",
    "import matplotlib.pyplot as plt\n",
    "\n",
    "import sys\n",
    "sys.path.append(\"../..\")\n",
    "\n",
    "from analyses import generate_molecules, analysis\n",
    "from analyses.platonic_solids import train_classifier\n",
    "from symphony.data import input_pipeline"
   ]
  },
  {
   "cell_type": "markdown",
   "metadata": {},
   "source": [
    "Load classifier model."
   ]
  },
  {
   "cell_type": "code",
   "execution_count": 2,
   "metadata": {},
   "outputs": [],
   "source": [
    "model_dir = '/Users/ameyad/Documents/spherical-harmonic-net/analyses/platonic_solids/classifiers/nequip'\n",
    "with open(os.path.join(model_dir, 'params.pkl'), \"rb\") as f:\n",
    "    params = pickle.load(f)\n",
    "\n",
    "classifier = train_classifier.create_model()\n"
   ]
  },
  {
   "cell_type": "markdown",
   "metadata": {},
   "source": [
    "Generate structures."
   ]
  },
  {
   "cell_type": "code",
   "execution_count": 3,
   "metadata": {},
   "outputs": [],
   "source": [
    "def read_structures(structures_dir: str) -> List[ase.Atoms]:\n",
    "    \"\"\"Reads structures from the given directory.\"\"\"\n",
    "    structures = []\n",
    "    for filename in os.listdir(structures_dir):\n",
    "        filename = os.path.join(structures_dir, filename)\n",
    "        structure = ase.io.read(filename)\n",
    "        structures.append(structure)\n",
    "    return structures\n",
    "\n",
    "\n",
    "def generate_structures(workdir: str) -> List[ase.Atoms]:\n",
    "    \"\"\"Generates structures for the given workdir.\"\"\"\n",
    "    outputdir = '/Users/ameyad/Documents/spherical-harmonic-net/analyses/platonic_solids/structures'\n",
    "    structures_dir = os.path.join(\n",
    "        outputdir,\n",
    "        analysis.name_from_workdir(workdir),\n",
    "        \"fait=1.0\",\n",
    "        \"pit=1.0\",\n",
    "        \"step=best\",\n",
    "        \"molecules\",\n",
    "    )\n",
    "    if not os.path.exists(structures_dir):\n",
    "        generate_molecules.generate_molecules(workdir, outputdir, focus_and_atom_type_inverse_temperature=1., position_inverse_temperature=1., step=\"best\", num_seeds=100, num_seeds_per_chunk=10, init_molecules=\"H\", max_num_atoms=20, visualize=False)\n",
    "    \n",
    "    assert os.path.exists(structures_dir)\n",
    "    return read_structures(structures_dir)\n",
    "        "
   ]
  },
  {
   "cell_type": "code",
   "execution_count": 4,
   "metadata": {},
   "outputs": [
    {
     "name": "stderr",
     "output_type": "stream",
     "text": [
      "  0%|          | 0/5 [00:00<?, ?it/s]"
     ]
    },
    {
     "name": "stderr",
     "output_type": "stream",
     "text": [
      "Visualizing molecules: 100%|██████████| 100/100 [00:01<00:00, 88.99it/s]\n",
      "Visualizing molecules: 100%|██████████| 100/100 [00:00<00:00, 159.24it/s]\n",
      "Visualizing molecules: 100%|██████████| 100/100 [00:00<00:00, 161.84it/s]\n",
      "Visualizing molecules: 100%|██████████| 100/100 [00:00<00:00, 269.81it/s]\n",
      "Visualizing molecules: 100%|██████████| 100/100 [00:00<00:00, 231.55it/s]\n",
      "100%|██████████| 5/5 [09:39<00:00, 115.98s/it]\n"
     ]
    }
   ],
   "source": [
    "workdirs = {\n",
    "    (piece, l, targets): f'/Users/ameyad/Documents/spherical-harmonic-net/potato_workdirs/platonic_solids_by_piece_meanangular_fixedcutoff/nequip/interactions=3/l={l}/lfocus=2/position_channels=2/channels=32/apply_gate=/square_logits=/piece={piece}/targets={targets}'\n",
    "    for piece in [2]\n",
    "    for l in [4]\n",
    "    for targets in [1, 2, 3, 4, 5]\n",
    "}\n",
    "\n",
    "structures = {}\n",
    "for key in tqdm.tqdm(workdirs):\n",
    "    structures[key] = generate_structures(workdirs[key])"
   ]
  },
  {
   "cell_type": "markdown",
   "metadata": {},
   "source": [
    "Run on generated structures."
   ]
  },
  {
   "cell_type": "code",
   "execution_count": 5,
   "metadata": {},
   "outputs": [],
   "source": [
    "def prepare_structures(structures: Sequence[ase.Atoms]):\n",
    "    \"\"\"Converts a sequence of ase.Atoms to a batched jraph.GraphsTuple.\"\"\"\n",
    "    # Convert the list of ase.Atoms to a list of jraph.GraphsTuple.\n",
    "    graphs = [input_pipeline.ase_atoms_to_jraph_graph(structure, atomic_numbers=[1, 6, 7, 8, 9], nn_cutoff=1.05) for structure in structures]\n",
    "    # Batch the list of jraph.GraphsTuple.\n",
    "    return jraph.batch(graphs)"
   ]
  },
  {
   "cell_type": "code",
   "execution_count": 6,
   "metadata": {},
   "outputs": [],
   "source": [
    "results = {}\n",
    "for key in workdirs:\n",
    "    piece, l, targets = key\n",
    "    structures_for_workdir = structures[key]\n",
    "    graphs = prepare_structures(structures_for_workdir) \n",
    "    preds = classifier.apply(params, graphs)\n",
    "    labels = jnp.ones_like(preds[:, 0], dtype=jnp.int32) * piece\n",
    "    accuracy = jnp.mean(jnp.argmax(preds, axis=1) == labels)\n",
    "    results[key] = accuracy"
   ]
  },
  {
   "cell_type": "code",
   "execution_count": 7,
   "metadata": {},
   "outputs": [
    {
     "data": {
      "text/html": [
       "<div>\n",
       "<style scoped>\n",
       "    .dataframe tbody tr th:only-of-type {\n",
       "        vertical-align: middle;\n",
       "    }\n",
       "\n",
       "    .dataframe tbody tr th {\n",
       "        vertical-align: top;\n",
       "    }\n",
       "\n",
       "    .dataframe thead th {\n",
       "        text-align: right;\n",
       "    }\n",
       "</style>\n",
       "<table border=\"1\" class=\"dataframe\">\n",
       "  <thead>\n",
       "    <tr style=\"text-align: right;\">\n",
       "      <th></th>\n",
       "      <th>piece</th>\n",
       "      <th>l</th>\n",
       "      <th>targets</th>\n",
       "      <th>accuracy</th>\n",
       "    </tr>\n",
       "  </thead>\n",
       "  <tbody>\n",
       "    <tr>\n",
       "      <th>0</th>\n",
       "      <td>2</td>\n",
       "      <td>4</td>\n",
       "      <td>1</td>\n",
       "      <td>0.930693</td>\n",
       "    </tr>\n",
       "    <tr>\n",
       "      <th>0</th>\n",
       "      <td>2</td>\n",
       "      <td>4</td>\n",
       "      <td>2</td>\n",
       "      <td>0.950495</td>\n",
       "    </tr>\n",
       "    <tr>\n",
       "      <th>0</th>\n",
       "      <td>2</td>\n",
       "      <td>4</td>\n",
       "      <td>3</td>\n",
       "      <td>0.960396</td>\n",
       "    </tr>\n",
       "    <tr>\n",
       "      <th>0</th>\n",
       "      <td>2</td>\n",
       "      <td>4</td>\n",
       "      <td>4</td>\n",
       "      <td>0.950495</td>\n",
       "    </tr>\n",
       "    <tr>\n",
       "      <th>0</th>\n",
       "      <td>2</td>\n",
       "      <td>4</td>\n",
       "      <td>5</td>\n",
       "      <td>0.950495</td>\n",
       "    </tr>\n",
       "  </tbody>\n",
       "</table>\n",
       "</div>"
      ],
      "text/plain": [
       "   piece  l  targets  accuracy\n",
       "0      2  4        1  0.930693\n",
       "0      2  4        2  0.950495\n",
       "0      2  4        3  0.960396\n",
       "0      2  4        4  0.950495\n",
       "0      2  4        5  0.950495"
      ]
     },
     "execution_count": 7,
     "metadata": {},
     "output_type": "execute_result"
    }
   ],
   "source": [
    "results_df = pd.DataFrame(columns=[\"piece\", \"l\", \"targets\", \"accuracy\"])\n",
    "for key in results:\n",
    "    piece, l, targets = key\n",
    "    results_df = pd.concat([results_df, pd.DataFrame([[piece, l, targets, results[key]]], columns=[\"piece\", \"l\", \"targets\", \"accuracy\"])])\n",
    "results_df = results_df.astype({\"piece\": int, \"l\": int, \"targets\": int, \"accuracy\": float})\n",
    "results_df"
   ]
  },
  {
   "cell_type": "code",
   "execution_count": 9,
   "metadata": {},
   "outputs": [
    {
     "data": {
      "image/png": "[encoded data removed]",
      "text/plain": [
       "<Figure size 640x480 with 1 Axes>"
      ]
     },
     "metadata": {},
     "output_type": "display_data"
    }
   ],
   "source": [
    "sns.set_style(\"darkgrid\")\n",
    "sns.lineplot(results_df, x=\"targets\", y=\"accuracy\", hue=\"l\", marker=\"o\")\n",
    "plt.xticks(range(1, 6))\n",
    "plt.xlabel(\"Number of Targets\")\n",
    "plt.ylabel(\"Accuracy\")\n",
    "plt.title(\"Accuracy of Classifier for Generated Cubes\")\n",
    "plt.show()"
   ]
  }
 ],
 "metadata": {
  "kernelspec": {
   "display_name": ".venv",
   "language": "python",
   "name": "python3"
  },
  "language_info": {
   "codemirror_mode": {
    "name": "ipython",
    "version": 3
   },
   "file_extension": ".py",
   "mimetype": "text/x-python",
   "name": "python",
   "nbconvert_exporter": "python",
   "pygments_lexer": "ipython3",
   "version": "3.10.12"
  }
 },
 "nbformat": 4,
 "nbformat_minor": 2
}
