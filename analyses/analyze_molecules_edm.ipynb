{
 "cells": [
  {
   "cell_type": "code",
   "execution_count": 26,
   "metadata": {},
   "outputs": [],
   "source": [
    "import sys\n",
    "sys.path.append('../')"
   ]
  },
  {
   "cell_type": "code",
   "execution_count": 27,
   "metadata": {},
   "outputs": [
    {
     "name": "stdout",
     "output_type": "stream",
     "text": [
      "The autoreload extension is already loaded. To reload it, use:\n",
      "  %reload_ext autoreload\n"
     ]
    }
   ],
   "source": [
    "%load_ext autoreload"
   ]
  },
  {
   "cell_type": "code",
   "execution_count": 28,
   "metadata": {},
   "outputs": [],
   "source": [
    "%autoreload 2\n",
    "from analyses.metrics import *"
   ]
  },
  {
   "cell_type": "code",
   "execution_count": 29,
   "metadata": {},
   "outputs": [],
   "source": [
    "generated_paths = {\n",
    "    \"QM9\": \"/Users/ameyad/Documents/spherical-harmonic-net/others/qm9_xyz\",\n",
    "    # \"Symphony_v3_132k\": \"/Users/ameyad/Documents/spherical-harmonic-net/analyses/analysed_workdirs/qm9_bessel_embedding_attempt3_radius_fixed/e3schnet_and_nequip/interactions=3/l=5/position_channels=2/channels=64/fait=1.0/pit=1.0/step=1320000/molecules\",\n",
    "    # \"Symphony_v3_330k\": \"/Users/ameyad/Documents/spherical-harmonic-net/analyses/analysed_workdirs/qm9_bessel_embedding_attempt3_radius_fixed/e3schnet_and_nequip/interactions=3/l=5/position_channels=2/channels=64/fait=1.0/pit=1.0/step=3300000/molecules\",\n",
    "    # \"Symphony_v5_132k\": \"/Users/ameyad/Documents/spherical-harmonic-net/analyses/analysed_workdirs/qm9_bessel_embedding_attempt5_lower_lr_0.05noise/e3schnet_and_nequip/interactions=3/l=5/position_channels=2/channels=64/fait=1.0/pit=1.0/step=1320000/molecules\",\n",
    "    # \"Symphony_v5_249k\": \"/Users/ameyad/Documents/spherical-harmonic-net/analyses/analysed_workdirs/qm9_bessel_embedding_attempt5_lower_lr_0.05noise/e3schnet_and_nequip/interactions=3/l=5/position_channels=2/channels=64/fait=1.0/pit=1.0/step=2490000/molecules\",\n",
    "    \"Symphony\": \"/Users/ameyad/Documents/spherical-harmonic-net/analyses/analysed_workdirs/qm9_bessel_embedding_attempt6_edm_splits/e3schnet_and_nequip/interactions=3/l=5/position_channels=2/channels=64/fait=1.0/pit=1.0/step=7530000/molecules\",\n",
    "    \"EDM\": \"/Users/ameyad/Documents/spherical-harmonic-net/others/edm-resampled/samples_edm_xyz\",\n",
    "    \"GSchNet\": \"/Users/ameyad/Documents/spherical-harmonic-net/others/gschnet-edm-retrained/molecules\",\n",
    "    \"GSphereNet\": \"/Users/ameyad/Documents/spherical-harmonic-net/others/gspherenet/molecules\",\n",
    "}"
   ]
  },
  {
   "cell_type": "code",
   "execution_count": 30,
   "metadata": {},
   "outputs": [],
   "source": [
    "# qm9_results = get_edm_analyses_results(generated_paths[\"QM9\"], read_as_sdf=False)\n",
    "# qm9_results"
   ]
  },
  {
   "cell_type": "code",
   "execution_count": 31,
   "metadata": {},
   "outputs": [
    {
     "name": "stdout",
     "output_type": "stream",
     "text": [
      "Symphony"
     ]
    },
    {
     "name": "stdout",
     "output_type": "stream",
     "text": [
      "\n",
      "Validity over 10000 molecules: 68.11%\n",
      "Uniqueness over 6811 valid molecules: 97.68%\n",
      "Novelty over 6653 unique valid molecules: 58.32%\n"
     ]
    },
    {
     "data": {
      "text/html": [
       "<div>\n",
       "<style scoped>\n",
       "    .dataframe tbody tr th:only-of-type {\n",
       "        vertical-align: middle;\n",
       "    }\n",
       "\n",
       "    .dataframe tbody tr th {\n",
       "        vertical-align: top;\n",
       "    }\n",
       "\n",
       "    .dataframe thead th {\n",
       "        text-align: right;\n",
       "    }\n",
       "</style>\n",
       "<table border=\"1\" class=\"dataframe\">\n",
       "  <thead>\n",
       "    <tr style=\"text-align: right;\">\n",
       "      <th></th>\n",
       "      <th>path</th>\n",
       "      <th>fraction_molecules_stable</th>\n",
       "      <th>fraction_atoms_stable</th>\n",
       "      <th>num_generated</th>\n",
       "      <th>num_valid_generated</th>\n",
       "      <th>num_valid_and_unique_generated</th>\n",
       "      <th>num_valid_and_unique_and_novel_generated</th>\n",
       "      <th>fraction_valid</th>\n",
       "      <th>fraction_unique_of_valid</th>\n",
       "      <th>fraction_valid_and_unique</th>\n",
       "      <th>fraction_novel_of_valid_and_unique</th>\n",
       "      <th>fraction_valid_and_unique_and_novel</th>\n",
       "    </tr>\n",
       "  </thead>\n",
       "  <tbody>\n",
       "    <tr>\n",
       "      <th>0</th>\n",
       "      <td>/Users/ameyad/Documents/spherical-harmonic-net...</td>\n",
       "      <td>0.4391</td>\n",
       "      <td>0.907482</td>\n",
       "      <td>10000</td>\n",
       "      <td>6811.0</td>\n",
       "      <td>6653.0</td>\n",
       "      <td>3880.0</td>\n",
       "      <td>0.6811</td>\n",
       "      <td>0.976802</td>\n",
       "      <td>0.6653</td>\n",
       "      <td>0.583196</td>\n",
       "      <td>0.388</td>\n",
       "    </tr>\n",
       "  </tbody>\n",
       "</table>\n",
       "</div>"
      ],
      "text/plain": [
       "                                                path  \\\n",
       "0  /Users/ameyad/Documents/spherical-harmonic-net...   \n",
       "\n",
       "   fraction_molecules_stable  fraction_atoms_stable  num_generated  \\\n",
       "0                     0.4391               0.907482          10000   \n",
       "\n",
       "   num_valid_generated  num_valid_and_unique_generated  \\\n",
       "0               6811.0                          6653.0   \n",
       "\n",
       "   num_valid_and_unique_and_novel_generated  fraction_valid  \\\n",
       "0                                    3880.0          0.6811   \n",
       "\n",
       "   fraction_unique_of_valid  fraction_valid_and_unique  \\\n",
       "0                  0.976802                     0.6653   \n",
       "\n",
       "   fraction_novel_of_valid_and_unique  fraction_valid_and_unique_and_novel  \n",
       "0                            0.583196                                0.388  "
      ]
     },
     "execution_count": 31,
     "metadata": {},
     "output_type": "execute_result"
    }
   ],
   "source": [
    "all_results = pd.DataFrame()\n",
    "for model, molecules_dir in generated_paths.items():\n",
    "    if model != \"Symphony\":\n",
    "        continue\n",
    "    print(model)\n",
    "    results = get_edm_analyses_results(molecules_dir, read_as_sdf=False)\n",
    "    all_results = pd.concat([all_results, results], ignore_index=True)\n",
    "all_results"
   ]
  },
  {
   "cell_type": "code",
   "execution_count": 32,
   "metadata": {},
   "outputs": [
    {
     "name": "stdout",
     "output_type": "stream",
     "text": [
      "\\begin{tabular}{llrr}\n",
      "\\toprule\n",
      "{} &                                               path &  fraction\\_valid &  fraction\\_unique\\_of\\_valid \\\\\n",
      "\\midrule\n",
      "0 &  /Users/ameyad/Documents/spherical-harmonic-net... &          0.6811 &                  0.976802 \\\\\n",
      "\\bottomrule\n",
      "\\end{tabular}\n",
      "\n"
     ]
    },
    {
     "name": "stderr",
     "output_type": "stream",
     "text": [
      "/var/folders/rf/gl_bs24d2sg1ptcd__f19_pw0000gn/T/ipykernel_36496/558310366.py:1: FutureWarning: In future versions `DataFrame.to_latex` is expected to utilise the base implementation of `Styler.to_latex` for formatting and rendering. The arguments signature may therefore change. It is recommended instead to use `DataFrame.style.to_latex` which also contains additional functionality.\n",
      "  print(all_results[[\"path\", \"fraction_valid\", \"fraction_unique_of_valid\"]].to_latex())\n"
     ]
    }
   ],
   "source": [
    "print(all_results[[\"path\", \"fraction_valid\", \"fraction_unique_of_valid\"]].to_latex())"
   ]
  }
 ],
 "metadata": {
  "kernelspec": {
   "display_name": "openbabel",
   "language": "python",
   "name": "python3"
  },
  "language_info": {
   "codemirror_mode": {
    "name": "ipython",
    "version": 3
   },
   "file_extension": ".py",
   "mimetype": "text/x-python",
   "name": "python",
   "nbconvert_exporter": "python",
   "pygments_lexer": "ipython3",
   "version": "3.10.12"
  },
  "orig_nbformat": 4
 },
 "nbformat": 4,
 "nbformat_minor": 2
}
