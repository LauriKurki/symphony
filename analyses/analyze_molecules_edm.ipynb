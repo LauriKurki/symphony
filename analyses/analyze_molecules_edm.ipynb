{
 "cells": [
  {
   "cell_type": "code",
   "execution_count": 1,
   "metadata": {},
   "outputs": [],
   "source": [
    "import sys\n",
    "sys.path.append('../')"
   ]
  },
  {
   "cell_type": "code",
   "execution_count": 2,
   "metadata": {},
   "outputs": [],
   "source": [
    "%load_ext autoreload"
   ]
  },
  {
   "cell_type": "code",
   "execution_count": 4,
   "metadata": {},
   "outputs": [],
   "source": [
    "%autoreload 2\n",
    "from analyses.metrics import *"
   ]
  },
  {
   "cell_type": "code",
   "execution_count": null,
   "metadata": {},
   "outputs": [],
   "source": [
    "generated_paths = {\n",
    "    \"nn_edm\": \"/home/songk/symphony/conditional_generation/analysed_workdirs/test/\"\n",
    "    # \"QM9\": \"/Users/ameyad/Documents/spherical-harmonic-net/others/qm9_xyz\",\n",
    "    # \"Symphony\": \"/Users/ameyad/Documents/spherical-harmonic-net/analyses/analysed_workdirs/qm9_bessel_embedding_attempt6_edm_splits/e3schnet_and_nequip/interactions=3/l=5/position_channels=2/channels=64/fait=1.0/pit=1.0/step=7530000/molecules\",\n",
    "    # \"EDM\": \"/Users/ameyad/Documents/spherical-harmonic-net/others/edm-resampled/samples_edm_xyz\",\n",
    "    # \"GSchNet\": \"/Users/ameyad/Documents/spherical-harmonic-net/others/gschnet-edm-retrained/molecules\",\n",
    "    # \"GSphereNet\": \"/Users/ameyad/Documents/spherical-harmonic-net/others/gspherenet/molecules\",\n",
    "}"
   ]
  },
  {
   "cell_type": "code",
   "execution_count": null,
   "metadata": {},
   "outputs": [],
   "source": [
    "# qm9_results = get_edm_analyses_results(generated_paths[\"QM9\"], read_as_sdf=False)\n",
    "# qm9_results"
   ]
  },
  {
   "cell_type": "code",
   "execution_count": null,
   "metadata": {},
   "outputs": [],
   "source": [
    "all_results = pd.DataFrame()\n",
    "for model, molecules_dir in generated_paths.items():\n",
    "    if model != \"Symphony\":\n",
    "        continue\n",
    "    print(model)\n",
    "    results = get_edm_analyses_results(molecules_dir, read_as_sdf=False)\n",
    "    all_results = pd.concat([all_results, results], ignore_index=True)\n",
    "all_results"
   ]
  },
  {
   "cell_type": "code",
   "execution_count": null,
   "metadata": {},
   "outputs": [],
   "source": [
    "print(all_results[[\"path\", \"fraction_valid\", \"fraction_unique_of_valid\"]].to_latex())"
   ]
  }
 ],
 "metadata": {
  "kernelspec": {
   "display_name": "openbabel",
   "language": "python",
   "name": "python3"
  },
  "language_info": {
   "codemirror_mode": {
    "name": "ipython",
    "version": 3
   },
   "file_extension": ".py",
   "mimetype": "text/x-python",
   "name": "python",
   "nbconvert_exporter": "python",
   "pygments_lexer": "ipython3",
   "version": "3.10.13"
  },
  "orig_nbformat": 4
 },
 "nbformat": 4,
 "nbformat_minor": 2
}
