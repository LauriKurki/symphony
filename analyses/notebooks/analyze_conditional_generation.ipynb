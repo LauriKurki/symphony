{
 "cells": [
  {
   "cell_type": "code",
   "execution_count": 44,
   "metadata": {},
   "outputs": [
    {
     "data": {
      "application/vnd.jupyter.widget-view+json": {
       "model_id": "c154f82997784a88afedee39cbf41685",
       "version_major": 2,
       "version_minor": 0
      },
      "text/plain": []
     },
     "metadata": {},
     "output_type": "display_data"
    }
   ],
   "source": [
    "import sys\n",
    "import ase\n",
    "import nglview as nv\n",
    "import numpy as np\n",
    "\n",
    "sys.path.append('../')\n"
   ]
  },
  {
   "cell_type": "code",
   "execution_count": 32,
   "metadata": {},
   "outputs": [],
   "source": [
    "generated_paths = {\n",
    "    \"Symphony (train)\": \"/Users/ameyad/Documents/spherical-harmonic-net/conditional_generation/train/qm9_bessel_embedding_attempt6_edm_splits/e3schnet_and_nequip/interactions=3/l=5/position_channels=2/channels=64/fait=1.0/pit=1.0/step=4950000/molecules/\",\n",
    "    \"Symphony (test)\": \"/Users/ameyad/Documents/spherical-harmonic-net/conditional_generation/test/qm9_bessel_embedding_attempt6_edm_splits/e3schnet_and_nequip/interactions=3/l=5/position_channels=2/channels=64/fait=1.0/pit=1.0/step=4950000/molecules/\",\n",
    "    \"GSchNet (train)\": \"/Users/ameyad/Documents/spherical-harmonic-net/others/gschnet-edm-retrained/train_conditional/molecules\",\n",
    "    \"GSchNet (test)\": \"/Users/ameyad/Documents/spherical-harmonic-net/others/gschnet-edm-retrained/test_conditional/molecules\",\n",
    "}"
   ]
  },
  {
   "cell_type": "code",
   "execution_count": 29,
   "metadata": {},
   "outputs": [],
   "source": [
    "from analyses.metrics import *"
   ]
  },
  {
   "cell_type": "code",
   "execution_count": 61,
   "metadata": {},
   "outputs": [
    {
     "name": "stderr",
     "output_type": "stream",
     "text": [
      "[11:58:12] Warning: molecule is tagged as 3D, but all Z coords are zero\n",
      "[11:58:13] Warning: molecule is tagged as 3D, but all Z coords are zero\n"
     ]
    },
    {
     "name": "stdout",
     "output_type": "stream",
     "text": [
      "../qm9_data/edm_splits.npz\n"
     ]
    }
   ],
   "source": [
    "from symphony.data import qm9\n",
    "all_mols = qm9.load_qm9(\"../qm9_data\", use_edm_splits=True, check_molecule_sanity=False)\n",
    "num_mols = 1000\n",
    "test_mols = all_mols[-num_mols:]\n",
    "train_mols = all_mols[:num_mols]\n",
    "\n",
    "def get_fragment_list(mols: Sequence[ase.Atoms], num_mols: int):\n",
    "    fragments = []\n",
    "    H_removed = []\n",
    "    for i in range(num_mols):\n",
    "        mol = mols[i]\n",
    "        num_atoms = len(mol)\n",
    "        for j in range(num_atoms):\n",
    "            fragment = ase.Atoms(\n",
    "                positions=np.vstack([mol.positions[:j], mol.positions[j + 1 :]]),\n",
    "                numbers=np.concatenate([mol.numbers[:j], mol.numbers[j + 1 :]]),\n",
    "            )\n",
    "            fragments.append(fragment)\n",
    "            H_removed.append(mol.numbers[j] == 1)\n",
    "    return fragments, H_removed\n",
    "\n",
    "# Ensure that the number of molecules is a multiple of num_seeds_per_chunk.\n",
    "train_mol_list, train_H_removed = get_fragment_list(train_mols, num_mols)\n",
    "test_mol_list, test_H_removed = get_fragment_list(test_mols, num_mols)"
   ]
  },
  {
   "cell_type": "code",
   "execution_count": 85,
   "metadata": {},
   "outputs": [],
   "source": [
    "def key_fn(x):\n",
    "    return int(x.removesuffix(\".xyz\").split(\"=\")[-1])\n",
    "\n",
    "\n",
    "def get_all_molecules(molecules_dir: str) -> List[Chem.Mol]:\n",
    "    \"\"\"Returns all molecules in a directory.\"\"\"\n",
    "    molecules = []\n",
    "    for molecules_file in sorted([f for f in os.listdir(molecules_dir) if f.endswith(\".xyz\")], key=key_fn):\n",
    "        if not molecules_file.endswith(\".xyz\"):\n",
    "            continue\n",
    "\n",
    "        molecules_file = os.path.join(molecules_dir, molecules_file)\n",
    "        mol = xyz_to_rdkit_molecule(molecules_file)\n",
    "        molecules.append(mol)\n",
    "\n",
    "    return molecules\n",
    "\n",
    "\n",
    "all_generated_molecules = {\n",
    "    model: get_all_molecules(molecules_dir) for model, molecules_dir in generated_paths.items()\n",
    "}"
   ]
  },
  {
   "cell_type": "code",
   "execution_count": 66,
   "metadata": {},
   "outputs": [
    {
     "name": "stdout",
     "output_type": "stream",
     "text": [
      "0.5127637189213134\n"
     ]
    }
   ],
   "source": [
    "print(np.mean(train_H_removed))"
   ]
  },
  {
   "cell_type": "code",
   "execution_count": 102,
   "metadata": {},
   "outputs": [
    {
     "name": "stdout",
     "output_type": "stream",
     "text": [
      "Symphony (train): 98.53\n",
      "Symphony (test): 98.66\n",
      "GSchNet (train): 95.38\n",
      "GSchNet (test): 95.22\n"
     ]
    }
   ],
   "source": [
    "for model, generated_molecules in all_generated_molecules.items():\n",
    "    if \"train\" in model:\n",
    "        H_removed = train_H_removed\n",
    "    else:\n",
    "        H_removed = test_H_removed\n",
    "\n",
    "    generated_molecules_with_H_removed = []\n",
    "    for molecule, H_removed in zip(generated_molecules, H_removed):\n",
    "        if H_removed:\n",
    "            generated_molecules_with_H_removed.append(molecule)\n",
    "    \n",
    "    validity_fraction = compute_validity(generated_molecules_with_H_removed, get_all_valid_molecules(generated_molecules_with_H_removed))\n",
    "    print(f\"{model}: {100 * validity_fraction:0.2f}\")"
   ]
  },
  {
   "cell_type": "code",
   "execution_count": 99,
   "metadata": {},
   "outputs": [
    {
     "data": {
      "text/plain": [
       "<rdkit.Chem.rdchem.Mol at 0x17db2f3d0>"
      ]
     },
     "execution_count": 99,
     "metadata": {},
     "output_type": "execute_result"
    }
   ],
   "source": [
    "all_generated_molecules[\"Symphony (train)\"][0]"
   ]
  },
  {
   "cell_type": "code",
   "execution_count": 100,
   "metadata": {},
   "outputs": [
    {
     "name": "stdout",
     "output_type": "stream",
     "text": [
      "<rdkit.Chem.rdchem.Mol object at 0x336685df0> Atoms(symbols='C3FN2OCNH3', pbc=False)\n"
     ]
    },
    {
     "data": {
      "application/vnd.jupyter.widget-view+json": {
       "model_id": "1d3d7c6c65114cd7b9c83cb779d34905",
       "version_major": 2,
       "version_minor": 0
      },
      "text/plain": [
       "NGLWidget()"
      ]
     },
     "metadata": {},
     "output_type": "display_data"
    }
   ],
   "source": [
    "generated_molecules_with_H_removed = []\n",
    "true_molecules_with_H_removed = []\n",
    "for generated_molecule, true_molecule, H_removed in zip(all_generated_molecules[\"Symphony (train)\"], train_mol_list, train_H_removed):\n",
    "    if H_removed:\n",
    "        generated_molecules_with_H_removed.append(generated_molecule)\n",
    "        true_molecules_with_H_removed.append(true_molecule)\n",
    "\n",
    "print(generated_molecules_with_H_removed[0], true_molecules_with_H_removed[0])\n",
    "ase_mols = [\n",
    "    ase.Atoms(\n",
    "        symbols=[atom.GetSymbol() for atom in generated_molecules_with_H_removed[0].GetAtoms()],\n",
    "        positions=generated_molecules_with_H_removed[0].GetConformer().GetPositions(),\n",
    "    ),\n",
    "    true_molecules_with_H_removed[0]]\n",
    "\n",
    "nv.show_ase(ase_mols[0])\n"
   ]
  },
  {
   "cell_type": "code",
   "execution_count": 101,
   "metadata": {},
   "outputs": [
    {
     "data": {
      "application/vnd.jupyter.widget-view+json": {
       "model_id": "cedf034ad0fc4f4ca7ee6ae164d552b1",
       "version_major": 2,
       "version_minor": 0
      },
      "text/plain": [
       "NGLWidget()"
      ]
     },
     "metadata": {},
     "output_type": "display_data"
    }
   ],
   "source": [
    "nv.show_ase(ase_mols[1])"
   ]
  },
  {
   "cell_type": "code",
   "execution_count": 57,
   "metadata": {},
   "outputs": [],
   "source": [
    "invalid_molecules_symphony = [mol for mol in all_generated_molecules[\"Symphony (train)\"][:100] if not check_molecule_validity(mol)]\n",
    "invalid_molecules_gschnet = [mol for mol in all_generated_molecules[\"GSchNet (train)\"][:100] if not check_molecule_validity(mol)]"
   ]
  },
  {
   "cell_type": "code",
   "execution_count": 58,
   "metadata": {},
   "outputs": [
    {
     "data": {
      "application/vnd.jupyter.widget-view+json": {
       "model_id": "3488f42ebe3142f6b63a415e2a16bd80",
       "version_major": 2,
       "version_minor": 0
      },
      "text/plain": [
       "NGLWidget()"
      ]
     },
     "metadata": {},
     "output_type": "display_data"
    },
    {
     "data": {
      "application/vnd.jupyter.widget-view+json": {
       "model_id": "a8908567076f4ba4949795b829f01c06",
       "version_major": 2,
       "version_minor": 0
      },
      "text/plain": [
       "Tab(children=(Box(children=(Box(children=(Box(children=(Label(value='step'), IntSlider(value=1, min=-100)), la…"
      ]
     },
     "metadata": {},
     "output_type": "display_data"
    }
   ],
   "source": [
    "invalid_molecules_ase = [\n",
    "    ase.Atoms(\n",
    "        symbols=[atom.GetSymbol() for atom in mol.GetAtoms()],\n",
    "        positions=mol.GetConformer().GetPositions(),\n",
    "    )\n",
    "    for mol in invalid_molecules_symphony\n",
    "]\n",
    "nv.show_ase(invalid_molecules_ase[2], gui=True)        "
   ]
  }
 ],
 "metadata": {
  "kernelspec": {
   "display_name": ".venv",
   "language": "python",
   "name": "python3"
  },
  "language_info": {
   "codemirror_mode": {
    "name": "ipython",
    "version": 3
   },
   "file_extension": ".py",
   "mimetype": "text/x-python",
   "name": "python",
   "nbconvert_exporter": "python",
   "pygments_lexer": "ipython3",
   "version": "3.10.12"
  },
  "orig_nbformat": 4
 },
 "nbformat": 4,
 "nbformat_minor": 2
}
