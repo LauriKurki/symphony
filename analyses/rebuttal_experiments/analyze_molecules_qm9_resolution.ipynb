{
 "cells": [
  {
   "attachments": {},
   "cell_type": "markdown",
   "metadata": {},
   "source": [
    "Ablation for Symphony resolution on QM9!"
   ]
  },
  {
   "cell_type": "code",
   "execution_count": null,
   "metadata": {},
   "outputs": [],
   "source": [
    "from typing import *\n",
    "import matplotlib.pyplot as plt\n",
    "import seaborn as sns\n",
    "import jax\n",
    "import jax.numpy as jnp\n",
    "import chex\n",
    "import functools\n",
    "import pandas as pd\n",
    "import e3nn_jax as e3nn\n",
    "import posebusters\n",
    "import sys\n",
    "import os\n",
    "import ase\n",
    "import ase.io\n",
    "import rdkit.Chem as Chem\n",
    "import nglview as nv\n",
    "sys.path.append(\"../..\")"
   ]
  },
  {
   "cell_type": "code",
   "execution_count": null,
   "metadata": {},
   "outputs": [],
   "source": [
    "%load_ext autoreload"
   ]
  },
  {
   "cell_type": "code",
   "execution_count": null,
   "metadata": {},
   "outputs": [],
   "source": [
    "%autoreload 2\n",
    "import sys\n",
    "sys.path.append(\"..\")\n",
    "from analyses.metrics import *"
   ]
  },
  {
   "attachments": {},
   "cell_type": "markdown",
   "metadata": {},
   "source": [
    "Paths:"
   ]
  },
  {
   "cell_type": "code",
   "execution_count": null,
   "metadata": {},
   "outputs": [],
   "source": [
    "generated_paths = {}\n",
    "template = \"/Users/ameyad/Documents/spherical-harmonic-net/analyses/analysed_workdirs/qm9_bessel_embedding_attempt6_edm_splits_iclr2024_submission/e3schnet_and_nequip/interactions=3/l=5/position_channels=2/channels=64/fait=1.0/pit=1.0/step=9930000_res_alpha={res_alpha}_res_beta={res_beta}/molecules\"\n",
    "for res_alpha in [89, 179, 359, 719]:\n",
    "    for res_beta in [45, 90, 180, 360]:\n",
    "            path = template.format(res_alpha=res_alpha, res_beta=res_beta)\n",
    "            assert os.path.exists(path)\n",
    "            generated_paths[(res_alpha, res_beta)] = path"
   ]
  },
  {
   "attachments": {},
   "cell_type": "markdown",
   "metadata": {},
   "source": [
    "Corresponding molecules:"
   ]
  },
  {
   "cell_type": "code",
   "execution_count": null,
   "metadata": {},
   "outputs": [],
   "source": [
    "all_generated_molecules = {\n",
    "    model: get_all_molecules(path) for model, path in generated_paths.items()\n",
    "}\n",
    "\n",
    "valid_molecules = {\n",
    "    model: get_all_valid_molecules(molecules) for model, molecules in all_generated_molecules.items()\n",
    "}"
   ]
  },
  {
   "cell_type": "code",
   "execution_count": null,
   "metadata": {},
   "outputs": [],
   "source": [
    "# Make a dataframe for each model for the validity of the molecules.\n",
    "validity_df = pd.DataFrame(columns=[\"res_alpha\", \"res_beta\", \"validity\"])\n",
    "\n",
    "for model, molecules in valid_molecules.items():\n",
    "    if len(molecules) == 0:\n",
    "        continue\n",
    "    validity_fraction = compute_validity(all_generated_molecules[model], molecules)\n",
    "    print(f\"Validity for model {model}: {validity_fraction}\")\n",
    "    res_alpha, res_beta = model\n",
    "\n",
    "    validity_df = pd.concat(\n",
    "        [\n",
    "            validity_df,\n",
    "            pd.DataFrame.from_records(\n",
    "                [\n",
    "                    {\n",
    "                        \"res_alpha\": res_alpha,\n",
    "                        \"res_beta\": res_beta,\n",
    "                        \"validity\": validity_fraction,\n",
    "                    }\n",
    "                ]\n",
    "            ),\n",
    "        ],\n",
    "        ignore_index=True,\n",
    "    )\n",
    "\n",
    "# Plot the validity of the molecules for each resolution.\n",
    "# Let the legend column be the product of the res_alpha and res_beta.\n",
    "validity_df['legend'] = validity_df['res_alpha'] * validity_df['res_beta']\n",
    "validity_df['validity_percent'] = validity_df['validity'] * 100.\n",
    "\n",
    "plt.figure(figsize=(7.5, 4))\n",
    "sns.set_theme(style=\"darkgrid\")\n",
    "sns.scatterplot(\n",
    "    data=validity_df, x=\"legend\", y=\"validity_percent\",\n",
    "    hue=\"legend\",\n",
    "    palette=\"Blues_d\",\n",
    ")\n",
    "plt.title(r\"Validity of Molecules for Different Resolutions $(r_\\theta, r_\\phi)$\")\n",
    "plt.xlabel(r\"Total Resolution ($r_\\theta \\times r_\\phi$)\")\n",
    "plt.ylabel(\"Validity %\")\n",
    "# Remove legend\n",
    "plt.legend([],[], frameon=False)\n",
    "#  # plt.legend(bbox_to_anchor=(1.05, 0.5), loc=\"center left\", borderaxespad=0., title=r\"Total Resolution ($r_\\theta \\times r_\\phi$)\")\n",
    "# Add a text annotation for each point, indicating (res_alpha, res_beta).\n",
    "for _, row in validity_df.iterrows():\n",
    "    plt.text(\n",
    "        row['legend'] * 1.05,\n",
    "        row['validity_percent'],\n",
    "        f\"({row['res_beta']}, {row['res_alpha']})\",\n",
    "        horizontalalignment='left',\n",
    "        size='x-small',\n",
    "        color='black',\n",
    "    )\n",
    "plt.xscale('log')\n",
    "plt.savefig(\"pdfs/validity_vs_resolution.pdf\", dpi=500, bbox_inches='tight')\n",
    "plt.show()"
   ]
  },
  {
   "cell_type": "code",
   "execution_count": null,
   "metadata": {},
   "outputs": [],
   "source": [
    "formatted_validity_df = validity_df.transpose()\n",
    "formatted_validity_df.columns = formatted_validity_df.iloc[0]\n",
    "formatted_validity_df *= 100\n",
    "formatted_validity_df = formatted_validity_df.drop(\"model\")\n",
    "formatted_validity_df = formatted_validity_df.astype(float)\n",
    "formatted_validity_df = formatted_validity_df.round(2)\n",
    "formatted_validity_df = formatted_validity_df.astype(str)\n",
    "print(formatted_validity_df.style.to_latex())"
   ]
  }
 ],
 "metadata": {
  "kernelspec": {
   "display_name": ".venv",
   "language": "python",
   "name": "python3"
  },
  "language_info": {
   "codemirror_mode": {
    "name": "ipython",
    "version": 3
   },
   "file_extension": ".py",
   "mimetype": "text/x-python",
   "name": "python",
   "nbconvert_exporter": "python",
   "pygments_lexer": "ipython3",
   "version": "3.10.12"
  },
  "orig_nbformat": 4
 },
 "nbformat": 4,
 "nbformat_minor": 2
}
