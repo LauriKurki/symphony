{
 "cells": [
  {
   "attachments": {},
   "cell_type": "markdown",
   "metadata": {},
   "source": [
    "Ablation for Symphony on QM9!"
   ]
  },
  {
   "cell_type": "code",
   "execution_count": null,
   "metadata": {},
   "outputs": [],
   "source": [
    "from typing import *\n",
    "import matplotlib.pyplot as plt\n",
    "import seaborn as sns\n",
    "import jax\n",
    "import jax.numpy as jnp\n",
    "import chex\n",
    "import functools\n",
    "import pandas as pd\n",
    "import e3nn_jax as e3nn\n",
    "import posebusters\n",
    "import sys\n",
    "import os\n",
    "import ase\n",
    "import ase.io\n",
    "import rdkit.Chem as Chem\n",
    "import nglview as nv\n",
    "sys.path.append(\"..\")"
   ]
  },
  {
   "cell_type": "code",
   "execution_count": null,
   "metadata": {},
   "outputs": [],
   "source": [
    "%load_ext autoreload"
   ]
  },
  {
   "cell_type": "code",
   "execution_count": null,
   "metadata": {},
   "outputs": [],
   "source": [
    "%autoreload 2\n",
    "import sys\n",
    "sys.path.append(\"../..\")\n",
    "from analyses.metrics import *"
   ]
  },
  {
   "attachments": {},
   "cell_type": "markdown",
   "metadata": {},
   "source": [
    "Paths:"
   ]
  },
  {
   "cell_type": "code",
   "execution_count": null,
   "metadata": {},
   "outputs": [],
   "source": [
    "generated_paths = {}\n",
    "template = \"/Users/ameyad/Documents/spherical-harmonic-net/analyses/analysed_workdirs/qm9_ablation/e3schnet_and_nequip/interactions=3/l={lposition}/lfocus={lfocus}/position_channels={pc}/channels=64/fait=1.0/pit=1.0/step=best/molecules\"\n",
    "for lposition in range(1, 6):\n",
    "    for lfocus in range(1, 3):\n",
    "        for pc in range(1, 5):\n",
    "            path = template.format(lposition=lposition, lfocus=lfocus, pc=pc)\n",
    "            assert os.path.exists(path)\n",
    "            generated_paths[(lposition, lfocus, pc)] = path"
   ]
  },
  {
   "attachments": {},
   "cell_type": "markdown",
   "metadata": {},
   "source": [
    "Corresponding molecules:"
   ]
  },
  {
   "cell_type": "code",
   "execution_count": null,
   "metadata": {},
   "outputs": [],
   "source": [
    "all_generated_molecules = {\n",
    "    model: get_all_molecules(path) for model, path in generated_paths.items()\n",
    "}\n",
    "\n",
    "valid_molecules = {\n",
    "    model: get_all_valid_molecules(molecules) for model, molecules in all_generated_molecules.items()\n",
    "}"
   ]
  },
  {
   "cell_type": "code",
   "execution_count": null,
   "metadata": {},
   "outputs": [],
   "source": [
    "# Make a dataframe for each model for the validity of the molecules.\n",
    "validity_df = pd.DataFrame(columns=[\"lposition\", \"lfocus\", \"pc\", \"validity\"])\n",
    "\n",
    "for model, molecules in valid_molecules.items():\n",
    "    validity_fraction = compute_validity(all_generated_molecules[model], molecules)\n",
    "    lposition, lfocus, pc = model\n",
    "\n",
    "    validity_df = pd.concat(\n",
    "        [\n",
    "            validity_df,\n",
    "            pd.DataFrame.from_records(\n",
    "                [\n",
    "                    {\n",
    "                        \"lposition\": lposition,\n",
    "                        \"lfocus\": lfocus,\n",
    "                        \"pc\": pc,\n",
    "                        \"validity\": validity_fraction,\n",
    "                    }\n",
    "                ]\n",
    "            ),\n",
    "        ],\n",
    "        ignore_index=True,\n",
    "    )\n",
    "\n",
    "# Plot the validity of the molecules for each value of lposition.\n",
    "validity_df['legend'] = validity_df['lfocus'].apply(lambda x: \"Max L for Focus = {}\".format(x)) + \", Position Channels = \" + validity_df['pc'].apply(lambda x: str(x))\n",
    "validity_df['validity_percent'] = validity_df['validity'] * 100.\n",
    "\n",
    "my_palette = sns.color_palette(\"Blues\", n_colors=4) + sns.color_palette(\"Reds\", n_colors=4)\n",
    "\n",
    "plt.figure(figsize=(4.5, 2.5))\n",
    "sns.set_theme(style=\"darkgrid\")\n",
    "sns.barplot(\n",
    "    data=validity_df, x=\"lposition\", y=\"validity_percent\",\n",
    "    hue=\"legend\", palette=my_palette\n",
    ")\n",
    "plt.title(\"Ablation Study: Validity of Molecules\")\n",
    "plt.xlabel(\"Max L for Position\")\n",
    "plt.ylabel(\"Validity %\")\n",
    "# Place legend outside the figure/plot, centered vertically.\n",
    "plt.legend(bbox_to_anchor=(1.05, 0.5), loc=\"center left\", borderaxespad=0.)\n",
    "plt.savefig(\"validity_ablation.pdf\", dpi=500, bbox_inches=\"tight\")\n",
    "plt.show()"
   ]
  },
  {
   "cell_type": "code",
   "execution_count": null,
   "metadata": {},
   "outputs": [],
   "source": [
    "formatted_validity_df = validity_df.transpose()\n",
    "formatted_validity_df.columns = formatted_validity_df.iloc[0]\n",
    "formatted_validity_df *= 100\n",
    "formatted_validity_df = formatted_validity_df.drop(\"model\")\n",
    "formatted_validity_df = formatted_validity_df.astype(float)\n",
    "formatted_validity_df = formatted_validity_df.round(2)\n",
    "formatted_validity_df = formatted_validity_df.astype(str)\n",
    "print(formatted_validity_df.style.to_latex())"
   ]
  }
 ],
 "metadata": {
  "kernelspec": {
   "display_name": ".venv",
   "language": "python",
   "name": "python3"
  },
  "language_info": {
   "codemirror_mode": {
    "name": "ipython",
    "version": 3
   },
   "file_extension": ".py",
   "mimetype": "text/x-python",
   "name": "python",
   "nbconvert_exporter": "python",
   "pygments_lexer": "ipython3",
   "version": "3.10.12"
  },
  "orig_nbformat": 4
 },
 "nbformat": 4,
 "nbformat_minor": 2
}
