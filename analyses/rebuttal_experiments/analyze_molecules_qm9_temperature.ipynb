{
 "cells": [
  {
   "attachments": {},
   "cell_type": "markdown",
   "metadata": {},
   "source": [
    "Ablation for Symphony temperatures on QM9!"
   ]
  },
  {
   "cell_type": "code",
   "execution_count": null,
   "metadata": {},
   "outputs": [],
   "source": [
    "from typing import *\n",
    "import matplotlib.pyplot as plt\n",
    "import seaborn as sns\n",
    "import jax\n",
    "import jax.numpy as jnp\n",
    "import chex\n",
    "import functools\n",
    "import pandas as pd\n",
    "import e3nn_jax as e3nn\n",
    "import posebusters\n",
    "import sys\n",
    "import os\n",
    "import ase\n",
    "import ase.io\n",
    "import rdkit.Chem as Chem\n",
    "import nglview as nv\n",
    "sys.path.append(\"../..\")"
   ]
  },
  {
   "cell_type": "code",
   "execution_count": null,
   "metadata": {},
   "outputs": [],
   "source": [
    "%load_ext autoreload"
   ]
  },
  {
   "cell_type": "code",
   "execution_count": null,
   "metadata": {},
   "outputs": [],
   "source": [
    "%autoreload 2\n",
    "import sys\n",
    "sys.path.append(\"..\")\n",
    "from analyses.metrics import *"
   ]
  },
  {
   "attachments": {},
   "cell_type": "markdown",
   "metadata": {},
   "source": [
    "Paths:"
   ]
  },
  {
   "cell_type": "code",
   "execution_count": null,
   "metadata": {},
   "outputs": [],
   "source": [
    "generated_paths = {}\n",
    "template = \"/Users/ameyad/Documents/spherical-harmonic-net/analyses/analysed_workdirs/qm9_bessel_embedding_attempt6_edm_splits_iclr2024_submission/e3schnet_and_nequip/interactions=3/l=5/position_channels=2/channels=64/fait={fait}/pit={pit}/step=9930000_res_alpha=359_res_beta=180/molecules\"\n",
    "for pit in [\"0.01\", \"0.1\", \"1.0\", \"10.0\", \"100.0\"]:\n",
    "    for fait in [\"0.01\", \"0.1\", \"1.0\", \"10.0\", \"100.0\"]:\n",
    "        path = template.format(pit=pit, fait=fait)\n",
    "        if not os.path.exists(path):\n",
    "            continue\n",
    "        generated_paths[(pit, fait)] = path"
   ]
  },
  {
   "attachments": {},
   "cell_type": "markdown",
   "metadata": {},
   "source": [
    "Corresponding molecules:"
   ]
  },
  {
   "cell_type": "code",
   "execution_count": null,
   "metadata": {},
   "outputs": [],
   "source": [
    "all_generated_molecules = {\n",
    "    model: get_all_molecules(path) for model, path in generated_paths.items()\n",
    "}\n",
    "\n",
    "valid_molecules = {\n",
    "    model: get_all_valid_molecules(molecules) for model, molecules in all_generated_molecules.items()\n",
    "}"
   ]
  },
  {
   "cell_type": "code",
   "execution_count": null,
   "metadata": {},
   "outputs": [],
   "source": [
    "# Make a dataframe for each model for the validity of the molecules.\n",
    "all_results_df = pd.DataFrame(columns=[\"pit\", \"fait\", \"validity\"])\n",
    "\n",
    "for model, molecules in valid_molecules.items():\n",
    "    if len(molecules) == 0:\n",
    "        continue\n",
    "    validity_fraction = compute_validity(all_generated_molecules[model], molecules)\n",
    "    uniqueness_fraction = compute_uniqueness(molecules)\n",
    "    pit, fait = model\n",
    "\n",
    "    all_results_df = pd.concat(\n",
    "        [\n",
    "            all_results_df,\n",
    "            pd.DataFrame.from_records(\n",
    "                [\n",
    "                    {\n",
    "                        \"pit\": pit,\n",
    "                        \"fait\": fait,\n",
    "                        \"validity\": validity_fraction,\n",
    "                        \"uniqueness\": uniqueness_fraction,\n",
    "                    }\n",
    "                ]\n",
    "            ),\n",
    "        ],\n",
    "        ignore_index=True,\n",
    "    )\n",
    "all_results_df"
   ]
  },
  {
   "cell_type": "code",
   "execution_count": null,
   "metadata": {},
   "outputs": [],
   "source": [
    "# Plot the validity of the molecules for each model.\n",
    "results_df = all_results_df.copy()[all_results_df[\"fait\"] == \"1.0\"]\n",
    "results_df[\"pit\"] = results_df[\"pit\"].astype(float)\n",
    "results_df[\"temperature\"] = 1. / results_df[\"pit\"]\n",
    "results_df[\"log_temperature\"] = results_df[\"temperature\"].apply(np.log10)\n",
    "results_df[\"validity\"] = results_df[\"validity\"] * 100\n",
    "results_df[\"uniqueness\"] = results_df[\"uniqueness\"] * 100\n",
    "\n",
    "plt.figure(figsize=(7, 5))\n",
    "sns.set_theme(style=\"darkgrid\")\n",
    "sns.scatterplot(\n",
    "    data=results_df, x=\"uniqueness\", y=\"validity\",\n",
    "    hue=\"log_temperature\",\n",
    "    palette=\"Blues_d\",\n",
    ")\n",
    "plt.title(r\"Validity of Molecules for Different Temperatures $T_{position}$\")\n",
    "plt.xlim(30, 100)\n",
    "plt.xlabel(\"Uniqueness %\")\n",
    "plt.ylabel(\"Validity %\")\n",
    "# Show temperature instead of log_temperature in legend.\n",
    "handles, labels = plt.gca().get_legend_handles_labels()\n",
    "labels = [f\"$T={10**float(label):.2f}$\" for label in labels]\n",
    "plt.legend(handles, labels)\n",
    "# Hide legend.\n",
    "plt.gca().get_legend().remove()\n",
    "\n",
    "\n",
    "for i, row in results_df.iterrows():\n",
    "    plt.text(\n",
    "        row['uniqueness'] + 1.01 * jax.random.uniform(jax.random.PRNGKey(i + 1),  minval=-1, maxval=1),\n",
    "        row['validity'] + 2,\n",
    "        f\"{str(row['temperature']).rstrip('0').rstrip('.')}\",\n",
    "        horizontalalignment='center',\n",
    "        size='small',\n",
    "        color='black',\n",
    "    )\n",
    "plt.savefig(\"pdfs/validity_vs_position_temperatures.pdf\", dpi=500, bbox_inches='tight')\n",
    "plt.show()"
   ]
  },
  {
   "cell_type": "code",
   "execution_count": null,
   "metadata": {},
   "outputs": [],
   "source": [
    "# Plot the validity of the molecules for each model.\n",
    "results_df = all_results_df.copy()[all_results_df[\"pit\"] == \"1.0\"]\n",
    "results_df[\"fait\"] = results_df[\"fait\"].astype(float)\n",
    "results_df[\"temperature\"] = 1. / results_df[\"fait\"]\n",
    "results_df[\"log_temperature\"] = results_df[\"temperature\"].apply(np.log10)\n",
    "results_df[\"validity\"] = results_df[\"validity\"] * 100\n",
    "results_df[\"uniqueness\"] = results_df[\"uniqueness\"] * 100\n",
    "\n",
    "plt.figure(figsize=(7, 5))\n",
    "sns.set_theme(style=\"darkgrid\")\n",
    "sns.scatterplot(\n",
    "    data=results_df, x=\"uniqueness\", y=\"validity\",\n",
    "    hue=\"log_temperature\",\n",
    "    palette=\"Blues_d\",\n",
    ")\n",
    "plt.title(r\"Validity of Molecules for Different Temperatures $T_{focus}$\")\n",
    "plt.xlim(30, 100)\n",
    "plt.xlabel(\"Uniqueness %\")\n",
    "plt.ylabel(\"Validity %\")\n",
    "# Show temperature instead of log_temperature in legend.\n",
    "handles, labels = plt.gca().get_legend_handles_labels()\n",
    "labels = [f\"$T={10**float(label):.2f}$\" for label in labels]\n",
    "plt.legend(handles, labels)\n",
    "# Hide legend.\n",
    "plt.gca().get_legend().remove()\n",
    "\n",
    "\n",
    "for i, row in results_df.iterrows():\n",
    "    plt.text(\n",
    "        row['uniqueness'] + jax.random.uniform(jax.random.PRNGKey(i + 8),  minval=-1, maxval=1),\n",
    "        row['validity'] + 2,\n",
    "        f\"{str(row['temperature']).rstrip('0').rstrip('.')}\",\n",
    "        horizontalalignment='center',\n",
    "        size='small',\n",
    "        color='black',\n",
    "    )\n",
    "plt.savefig(\"pdfs/validity_vs_focus_temperatures.pdf\", dpi=500, bbox_inches='tight')\n",
    "plt.show()\n",
    "\n",
    "results_df"
   ]
  },
  {
   "cell_type": "code",
   "execution_count": null,
   "metadata": {},
   "outputs": [],
   "source": [
    "results_df"
   ]
  },
  {
   "cell_type": "code",
   "execution_count": null,
   "metadata": {},
   "outputs": [],
   "source": [
    "formatted_validity_df = validity_df.transpose()\n",
    "formatted_validity_df.columns = formatted_validity_df.iloc[0]\n",
    "formatted_validity_df *= 100\n",
    "formatted_validity_df = formatted_validity_df.drop(\"model\")\n",
    "formatted_validity_df = formatted_validity_df.astype(float)\n",
    "formatted_validity_df = formatted_validity_df.round(2)\n",
    "formatted_validity_df = formatted_validity_df.astype(str)\n",
    "print(formatted_validity_df.style.to_latex())"
   ]
  }
 ],
 "metadata": {
  "kernelspec": {
   "display_name": ".venv",
   "language": "python",
   "name": "python3"
  },
  "language_info": {
   "codemirror_mode": {
    "name": "ipython",
    "version": 3
   },
   "file_extension": ".py",
   "mimetype": "text/x-python",
   "name": "python",
   "nbconvert_exporter": "python",
   "pygments_lexer": "ipython3",
   "version": "3.10.12"
  },
  "orig_nbformat": 4
 },
 "nbformat": 4,
 "nbformat_minor": 2
}
