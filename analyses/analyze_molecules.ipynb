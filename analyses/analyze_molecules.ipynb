{
 "cells": [
  {
   "attachments": {},
   "cell_type": "markdown",
   "metadata": {},
   "source": [
    "Our implementation (no moldicts):"
   ]
  },
  {
   "cell_type": "code",
   "execution_count": 1,
   "metadata": {},
   "outputs": [
    {
     "data": {
      "application/vnd.jupyter.widget-view+json": {
       "model_id": "c2d1416da76f4aed93acabc5ba5c398c",
       "version_major": 2,
       "version_minor": 0
      },
      "text/plain": []
     },
     "metadata": {},
     "output_type": "display_data"
    }
   ],
   "source": [
    "from typing import *\n",
    "import matplotlib.pyplot as plt\n",
    "import seaborn as sns\n",
    "import jax\n",
    "import jax.numpy as jnp\n",
    "import chex\n",
    "import functools\n",
    "import pandas as pd\n",
    "import e3nn_jax as e3nn\n",
    "import posebusters\n",
    "import sys\n",
    "import os\n",
    "import ase\n",
    "import ase.io\n",
    "import rdkit.Chem as Chem\n",
    "import nglview as nv\n",
    "sys.path.append(\"..\")"
   ]
  },
  {
   "cell_type": "code",
   "execution_count": 2,
   "metadata": {},
   "outputs": [],
   "source": [
    "import sys\n",
    "sys.path.append(\"..\")\n",
    "from analyses.metrics import *"
   ]
  },
  {
   "attachments": {},
   "cell_type": "markdown",
   "metadata": {},
   "source": [
    "Paths:"
   ]
  },
  {
   "cell_type": "code",
   "execution_count": 3,
   "metadata": {},
   "outputs": [],
   "source": [
    "generated_paths = {\n",
    "    \"200k\": \"/home/songk/spherical-harmonic-net/analyses/molecules/generated/silica-allegro-200k-train-steps-all-nov25/fait=1.0/pit=1.0/step=best/molecules\",\n",
    "    \"500k\": \"/home/songk/spherical-harmonic-net/analyses/molecules/generated/silica-allegro-500k-train-steps-all-nov25/fait=1.0/pit=1.0/step=best/molecules\",\n",
    "    \"1m\": \"/home/songk/spherical-harmonic-net/analyses/molecules/generated/silica-allegro-1m-train-steps-all-nov25/fait=1.0/pit=1.0/step=best/molecules\",\n",
    "    \"nequip\": \"/home/songk/spherical-harmonic-net/analyses/molecules/generated/silica-nequip-max-35/fait=1.0/pit=1.0/step=best/molecules\",\n",
    "}"
   ]
  },
  {
   "attachments": {},
   "cell_type": "markdown",
   "metadata": {},
   "source": [
    "Corresponding molecules:"
   ]
  },
  {
   "cell_type": "code",
   "execution_count": 4,
   "metadata": {},
   "outputs": [
    {
     "name": "stderr",
     "output_type": "stream",
     "text": [
      "100%|██████████| 129/129 [00:00<00:00, 18094.62it/s]\n",
      "100%|██████████| 129/129 [00:00<00:00, 15799.37it/s]\n",
      "100%|██████████| 129/129 [00:00<00:00, 16187.44it/s]\n",
      "100%|██████████| 129/129 [00:00<00:00, 29008.43it/s]"
     ]
    }
   ],
   "source": [
    "all_generated_molecules = {\n",
    "    model: get_all_molecules(path) for model, path in generated_paths.items()\n",
    "}\n",
    "\n",
    "valid_molecules = {\n",
    "    model: get_all_valid_molecules(molecules) for model, molecules in all_generated_molecules.items()\n",
    "}"
   ]
  },
  {
   "attachments": {},
   "cell_type": "markdown",
   "metadata": {},
   "source": [
    "Validity:"
   ]
  },
  {
   "cell_type": "code",
   "execution_count": null,
   "metadata": {},
   "outputs": [
    {
     "name": "stdout",
     "output_type": "stream",
     "text": [
      "200k: 17.97\n",
      "200k: 18.07 +/- 3.44\n",
      "500k: 20.31\n"
     ]
    },
    {
     "name": "stderr",
     "output_type": "stream",
     "text": [
      "/tmp/ipykernel_1909351/1147234286.py:18: FutureWarning: The behavior of DataFrame concatenation with empty or all-NA entries is deprecated. In a future version, this will no longer exclude empty or all-NA columns when determining the result dtypes. To retain the old behavior, exclude the relevant entries before the concat operation.\n",
      "  validity_df = pd.concat(\n"
     ]
    },
    {
     "name": "stdout",
     "output_type": "stream",
     "text": [
      "500k: 20.13 +/- 3.54\n",
      "1m: 21.09\n",
      "1m: 21.15 +/- 3.57\n"
     ]
    },
    {
     "data": {
      "image/png": "[encoded data removed]",
      "text/plain": [
       "<Figure size 640x480 with 1 Axes>"
      ]
     },
     "metadata": {},
     "output_type": "display_data"
    }
   ],
   "source": [
    "# Make a dataframe for each model for the validity of the molecules.\n",
    "validity_df = pd.DataFrame(columns=[\"model\", \"validity\"])\n",
    "\n",
    "for model, molecules in valid_molecules.items():\n",
    "    validity_fraction = compute_validity(all_generated_molecules[model], molecules)\n",
    "    print(f\"{model}: {100 * validity_fraction:0.2f}\")\n",
    "\n",
    "    # Compute bootstrap CI for validity\n",
    "    all_valid_list = jnp.asarray([check_molecule_validity(molecule) for molecule in all_generated_molecules[model]])\n",
    "    bootstrap_validity_fractions = []\n",
    "    for rng_seed in range(1000):\n",
    "        indices = jax.random.choice(jax.random.PRNGKey(rng_seed), len(all_generated_molecules[model]), shape=(len(all_generated_molecules[model]),), replace=True)\n",
    "        valid = all_valid_list[indices]\n",
    "        bootstrap_validity_fractions.append(valid.mean())    \n",
    "    bootstrap_validity_fractions = jnp.array(bootstrap_validity_fractions)\n",
    "    print(f\"{model}: {100 * bootstrap_validity_fractions.mean():0.2f} +/- {100 * bootstrap_validity_fractions.std():0.2f}\")\n",
    "    \n",
    "    validity_df = pd.concat(\n",
    "        [\n",
    "            validity_df,\n",
    "            pd.DataFrame.from_records(\n",
    "                {\"model\": model, \"validity\": [validity_fraction]}\n",
    "            ),\n",
    "        ],\n",
    "        ignore_index=True,\n",
    "    )\n",
    "\n",
    "sns.barplot(data=validity_df, x=\"model\", y=\"validity\")\n",
    "plt.title(\"Validity of Generated Molecules\")\n",
    "plt.xlabel(\"Model\")\n",
    "plt.ylabel(\"Validity\")\n",
    "plt.show();"
   ]
  },
  {
   "cell_type": "code",
   "execution_count": null,
   "metadata": {},
   "outputs": [],
   "source": [
    "model = 'nequip'\n",
    "molecules = valid_molecules['nequip']\n",
    "validity_fraction = compute_validity(all_generated_molecules[model], molecules)\n",
    "print(f\"{model}: {100 * validity_fraction:0.2f}\")\n",
    "\n",
    "# Compute bootstrap CI for validity\n",
    "all_valid_list = jnp.asarray([check_molecule_validity(molecule) for molecule in all_generated_molecules[model]])\n",
    "bootstrap_validity_fractions = []\n",
    "for rng_seed in range(1000):\n",
    "    indices = jax.random.choice(jax.random.PRNGKey(rng_seed), len(all_generated_molecules[model]), shape=(len(all_generated_molecules[model]),), replace=True)\n",
    "    valid = all_valid_list[indices]\n",
    "    bootstrap_validity_fractions.append(valid.mean())    \n",
    "bootstrap_validity_fractions = jnp.array(bootstrap_validity_fractions)\n",
    "print(f\"{model}: {100 * bootstrap_validity_fractions.mean():0.2f} +/- {100 * bootstrap_validity_fractions.std():0.2f}\")\n",
    "\n",
    "validity_df = pd.concat(\n",
    "    [\n",
    "        validity_df,\n",
    "        pd.DataFrame.from_records(\n",
    "            {\"model\": model, \"validity\": [validity_fraction]}\n",
    "        ),\n",
    "    ],\n",
    "    ignore_index=True,\n",
    ")\n",
    "\n",
    "sns.barplot(data=validity_df, x=\"model\", y=\"validity\")\n",
    "plt.title(\"Validity of Generated Molecules\")\n",
    "plt.xlabel(\"Model\")\n",
    "plt.ylabel(\"Validity\")\n",
    "plt.show();"
   ]
  },
  {
   "cell_type": "code",
   "execution_count": 9,
   "metadata": {},
   "outputs": [],
   "source": [
    "def format_dataframe_and_highlight_minimum(df):\n",
    "    df_as_str = df.applymap(lambda x: f\"{x:.4f}\")\n",
    "    df_with_min = df.applymap(lambda x: f\"min{x:.4f}\")\n",
    "    df_formatted = df_with_min.where(df.rank(axis=1, method='min', ascending=True) == 1, df_as_str)\n",
    "    return df_formatted.applymap(lambda x: \"\\\\textbf{\" + f\"{x.removeprefix('min')}\" + \"}\" if x.startswith(\"min\") else f\"{x}\").to_latex(escape=False)\n",
    "\n",
    "def format_dataframe_and_highlight_maximum(df):\n",
    "    df_as_str = df.applymap(lambda x: f\"{x:.2f}\")\n",
    "    df_with_max = df.applymap(lambda x: f\"max{x:.2f}\")\n",
    "    df_formatted = df_with_max.where(df.rank(axis=1, method='max', ascending=False) == 1, df_as_str)\n",
    "    return df_formatted.applymap(lambda x: \"\\\\textbf{\" + f\"{x.removeprefix('max')}\" + \"}\" if x.startswith(\"max\") else f\"{x}\").to_latex(escape=False)"
   ]
  },
  {
   "cell_type": "code",
   "execution_count": 10,
   "metadata": {},
   "outputs": [
    {
     "name": "stdout",
     "output_type": "stream",
     "text": [
      "\\begin{tabular}{lllllll}\n",
      "\\toprule\n",
      "model & Symphony v1 (train) & Symphony v1 (test) & Nearest neighbors (train) & Nearest neighbors (test) & Radius cutoff (train) & Radius cutoff (test) \\\\\n",
      "\\midrule\n",
      "Validity via \texttt{xyz2mol} & 98.20 & \\textbf{98.80} & 98.00 & 98.00 & 98.30 & 98.70 \\\\\n",
      "\\bottomrule\n",
      "\\end{tabular}\n",
      "\n"
     ]
    },
    {
     "name": "stderr",
     "output_type": "stream",
     "text": [
      "/tmp/ipykernel_548052/1733903135.py:8: FutureWarning: DataFrame.applymap has been deprecated. Use DataFrame.map instead.\n",
      "  df_as_str = df.applymap(lambda x: f\"{x:.2f}\")\n",
      "/tmp/ipykernel_548052/1733903135.py:9: FutureWarning: DataFrame.applymap has been deprecated. Use DataFrame.map instead.\n",
      "  df_with_max = df.applymap(lambda x: f\"max{x:.2f}\")\n",
      "/tmp/ipykernel_548052/1733903135.py:11: FutureWarning: DataFrame.applymap has been deprecated. Use DataFrame.map instead.\n",
      "  return df_formatted.applymap(lambda x: \"\\\\textbf{\" + f\"{x.removeprefix('max')}\" + \"}\" if x.startswith(\"max\") else f\"{x}\").to_latex(escape=False)\n"
     ]
    }
   ],
   "source": [
    "formatted_validity_df = validity_df.transpose()\n",
    "formatted_validity_df.columns = formatted_validity_df.iloc[0]\n",
    "formatted_validity_df *= 100\n",
    "formatted_validity_df = formatted_validity_df.drop(\"model\")\n",
    "formatted_validity_df.index = [\"Validity via \\texttt{xyz2mol}\"]\n",
    "formatted_validity_df = formatted_validity_df.astype(float)\n",
    "formatted_validity_df = formatted_validity_df.round(2)\n",
    "print(format_dataframe_and_highlight_maximum(formatted_validity_df))"
   ]
  },
  {
   "attachments": {},
   "cell_type": "markdown",
   "metadata": {},
   "source": [
    "Uniqueness:"
   ]
  },
  {
   "cell_type": "code",
   "execution_count": 11,
   "metadata": {},
   "outputs": [
    {
     "name": "stderr",
     "output_type": "stream",
     "text": [
      "/tmp/ipykernel_548052/3130527910.py:8: FutureWarning: The behavior of DataFrame concatenation with empty or all-NA entries is deprecated. In a future version, this will no longer exclude empty or all-NA columns when determining the result dtypes. To retain the old behavior, exclude the relevant entries before the concat operation.\n",
      "  uniqueness_df = pd.concat(\n"
     ]
    },
    {
     "name": "stdout",
     "output_type": "stream",
     "text": [
      "Symphony v1 (train): 100.00\n",
      "Symphony v1 (test): 100.00\n",
      "Nearest neighbors (train): 100.00\n",
      "Nearest neighbors (test): 100.00\n",
      "Radius cutoff (train): 100.00\n",
      "Radius cutoff (test): 100.00\n"
     ]
    },
    {
     "name": "stderr",
     "output_type": "stream",
     "text": [
      "/tmp/ipykernel_548052/3130527910.py:18: FutureWarning: \n",
      "\n",
      "Passing `palette` without assigning `hue` is deprecated and will be removed in v0.14.0. Assign the `x` variable to `hue` and set `legend=False` for the same effect.\n",
      "\n",
      "  sns.barplot(data=uniqueness_df, x=\"model\", y=\"uniqueness\", palette=model_palette)\n"
     ]
    },
    {
     "data": {
      "image/png": "[encoded data removed]",
      "text/plain": [
       "<Figure size 640x480 with 1 Axes>"
      ]
     },
     "metadata": {},
     "output_type": "display_data"
    }
   ],
   "source": [
    "# Make a dataframe for each model for the uniqueness of the molecules.\n",
    "uniqueness_df = pd.DataFrame(columns=[\"model\", \"uniqueness\"])\n",
    "\n",
    "for model, molecules in valid_molecules.items():\n",
    "    uniqueness_fraction = compute_uniqueness(molecules)\n",
    "    print(f\"{model}: {100 * uniqueness_fraction:0.2f}\")\n",
    "    \n",
    "    uniqueness_df = pd.concat(\n",
    "        [\n",
    "            uniqueness_df,\n",
    "            pd.DataFrame.from_records(\n",
    "                {\"model\": model, \"uniqueness\": [uniqueness_fraction]}\n",
    "            ),\n",
    "        ],\n",
    "        ignore_index=True,\n",
    "    )\n",
    "\n",
    "sns.barplot(data=uniqueness_df, x=\"model\", y=\"uniqueness\", palette=model_palette)\n",
    "plt.title(\"Uniqueness of Valid Generated Molecules\")\n",
    "plt.xlabel(\"Model\")\n",
    "plt.ylabel(\"Uniqueness\")\n",
    "plt.show();"
   ]
  },
  {
   "cell_type": "code",
   "execution_count": 12,
   "metadata": {},
   "outputs": [
    {
     "name": "stdout",
     "output_type": "stream",
     "text": [
      "\\begin{tabular}{lllllll}\n",
      "\\toprule\n",
      "model & Symphony v1 (train) & Symphony v1 (test) & Nearest neighbors (train) & Nearest neighbors (test) & Radius cutoff (train) & Radius cutoff (test) \\\\\n",
      "\\midrule\n",
      "Uniqueness via \texttt{xyz2mol} & 100.00 & 100.00 & 100.00 & 100.00 & 100.00 & 100.00 \\\\\n",
      "\\bottomrule\n",
      "\\end{tabular}\n",
      "\n"
     ]
    },
    {
     "name": "stderr",
     "output_type": "stream",
     "text": [
      "/tmp/ipykernel_548052/1733903135.py:8: FutureWarning: DataFrame.applymap has been deprecated. Use DataFrame.map instead.\n",
      "  df_as_str = df.applymap(lambda x: f\"{x:.2f}\")\n",
      "/tmp/ipykernel_548052/1733903135.py:9: FutureWarning: DataFrame.applymap has been deprecated. Use DataFrame.map instead.\n",
      "  df_with_max = df.applymap(lambda x: f\"max{x:.2f}\")\n",
      "/tmp/ipykernel_548052/1733903135.py:11: FutureWarning: DataFrame.applymap has been deprecated. Use DataFrame.map instead.\n",
      "  return df_formatted.applymap(lambda x: \"\\\\textbf{\" + f\"{x.removeprefix('max')}\" + \"}\" if x.startswith(\"max\") else f\"{x}\").to_latex(escape=False)\n"
     ]
    }
   ],
   "source": [
    "formatted_uniqueness_df = uniqueness_df.transpose()\n",
    "formatted_uniqueness_df.columns = formatted_uniqueness_df.iloc[0]\n",
    "formatted_uniqueness_df *= 100\n",
    "formatted_uniqueness_df = formatted_uniqueness_df.drop(\"model\")\n",
    "formatted_uniqueness_df.index = [\"Uniqueness via \\texttt{xyz2mol}\"]\n",
    "formatted_uniqueness_df = formatted_uniqueness_df.astype(float)\n",
    "formatted_uniqueness_df = formatted_uniqueness_df.round(2)\n",
    "print(format_dataframe_and_highlight_maximum(formatted_uniqueness_df))"
   ]
  },
  {
   "cell_type": "code",
   "execution_count": 13,
   "metadata": {},
   "outputs": [],
   "source": [
    "# print(\"Symphony:\")\n",
    "# for step in [100000, 200000, 500000, 1000000, 2000000, 5000000, \"best\"]:\n",
    "#     symphony_molecules_dir_step = generated_paths[\"Symphony\"].replace(\n",
    "#         \"step=best\", f\"step={step}\"\n",
    "#     )\n",
    "#     validity_fraction = compute_validity(symphony_molecules_dir_step)\n",
    "#     print(f\" Step {step}: {100 * validity_fraction:0.2f}\")"
   ]
  },
  {
   "attachments": {},
   "cell_type": "markdown",
   "metadata": {},
   "source": [
    "Number of Atoms Per Molecule"
   ]
  },
  {
   "cell_type": "code",
   "execution_count": 14,
   "metadata": {},
   "outputs": [],
   "source": [
    "molecule_sizes = {\n",
    "    model: compute_molecule_sizes(molecules) for model, molecules in valid_molecules.items()\n",
    "}"
   ]
  },
  {
   "cell_type": "code",
   "execution_count": 15,
   "metadata": {},
   "outputs": [
    {
     "data": {
      "image/png": "[encoded data removed]",
      "text/plain": [
       "<Figure size 1000x500 with 1 Axes>"
      ]
     },
     "metadata": {},
     "output_type": "display_data"
    }
   ],
   "source": [
    "sns.set_style(\"darkgrid\")\n",
    "fig, ax = plt.subplots(figsize=(10, 5))\n",
    "for model in molecule_sizes:\n",
    "    sns.ecdfplot(data=molecule_sizes[model], label=model, color=model_palette[model], linewidth=2.5, ax=ax)\n",
    "plt.title(f\"Molecule Sizes\")\n",
    "plt.legend()\n",
    "plt.xlabel(\"Size\")\n",
    "plt.ylabel(\"Fraction\")\n",
    "plt.show()"
   ]
  },
  {
   "attachments": {},
   "cell_type": "markdown",
   "metadata": {},
   "source": [
    "Atom type counts!"
   ]
  },
  {
   "cell_type": "code",
   "execution_count": 16,
   "metadata": {},
   "outputs": [],
   "source": [
    "atom_type_counts = {\n",
    "    model: count_atom_types(molecules, normalize=True) for model, molecules in valid_molecules.items()\n",
    "}"
   ]
  },
  {
   "cell_type": "code",
   "execution_count": 17,
   "metadata": {},
   "outputs": [
    {
     "name": "stderr",
     "output_type": "stream",
     "text": [
      "/tmp/ipykernel_548052/2653526394.py:6: FutureWarning: The behavior of DataFrame concatenation with empty or all-NA entries is deprecated. In a future version, this will no longer exclude empty or all-NA columns when determining the result dtypes. To retain the old behavior, exclude the relevant entries before the concat operation.\n",
      "  df = pd.concat(\n"
     ]
    },
    {
     "data": {
      "image/png": "[encoded data removed]",
      "text/plain": [
       "<Figure size 1000x500 with 1 Axes>"
      ]
     },
     "metadata": {},
     "output_type": "display_data"
    }
   ],
   "source": [
    "# Make a dataframe of all molecule sizes.\n",
    "def make_atom_type_counts_df(atom_type_counts) -> pd.DataFrame:\n",
    "    atom_types = ['H', 'C', 'N', 'O', 'F']\n",
    "    df = pd.DataFrame(columns=[\"model\", \"atom_type\", \"count\"])\n",
    "    for model in atom_type_counts:\n",
    "        df = pd.concat(\n",
    "            [\n",
    "                df,\n",
    "                pd.DataFrame.from_records(\n",
    "                    {\n",
    "                        \"model\": model,\n",
    "                        \"atom_type\": atom_type,\n",
    "                        \"count\": atom_type_counts[model].get(atom_type, 0),\n",
    "                    }\n",
    "                    for atom_type in atom_types\n",
    "                ),\n",
    "            ],\n",
    "            ignore_index=True,\n",
    "        )\n",
    "    return df\n",
    "\n",
    "atom_type_counts_df = make_atom_type_counts_df(atom_type_counts)\n",
    "sns.set_style(\"darkgrid\")\n",
    "fig, ax = plt.subplots(figsize=(10, 5))\n",
    "sns.barplot(data=atom_type_counts_df, x=\"atom_type\", y=\"count\", hue=\"model\", width=0.5, ax=ax, palette=model_palette)\n",
    "plt.title(f\"Atom Type Counts\")\n",
    "plt.legend(title=\"Model\")\n",
    "plt.xlabel(\"Atom Type\")\n",
    "plt.ylabel(\"Fraction\")\n",
    "plt.yscale(\"log\")\n",
    "plt.savefig(\"../figures/iclr2024/pngs/atom_type_counts.png\", dpi=700, bbox_inches=\"tight\")\n",
    "plt.show()"
   ]
  },
  {
   "attachments": {},
   "cell_type": "markdown",
   "metadata": {},
   "source": [
    "Local environments:"
   ]
  },
  {
   "cell_type": "code",
   "execution_count": 18,
   "metadata": {},
   "outputs": [],
   "source": [
    "local_environments = {\n",
    "    model: compute_local_environments(molecules, max_num_molecules=1000)\n",
    "    for model, molecules in valid_molecules.items()\n",
    "}"
   ]
  },
  {
   "cell_type": "code",
   "execution_count": 19,
   "metadata": {},
   "outputs": [
    {
     "ename": "KeyError",
     "evalue": "'QM9'",
     "output_type": "error",
     "traceback": [
      "\u001b[0;31m---------------------------------------------------------------------------\u001b[0m",
      "\u001b[0;31mKeyError\u001b[0m                                  Traceback (most recent call last)",
      "Cell \u001b[0;32mIn[19], line 23\u001b[0m\n\u001b[1;32m      6\u001b[0m         df \u001b[38;5;241m=\u001b[39m pd\u001b[38;5;241m.\u001b[39mconcat(\n\u001b[1;32m      7\u001b[0m             [\n\u001b[1;32m      8\u001b[0m                 df,\n\u001b[0;32m   (...)\u001b[0m\n\u001b[1;32m     18\u001b[0m             ignore_index\u001b[38;5;241m=\u001b[39m\u001b[38;5;28;01mTrue\u001b[39;00m,\n\u001b[1;32m     19\u001b[0m         )\n\u001b[1;32m     20\u001b[0m     \u001b[38;5;28;01mreturn\u001b[39;00m df\n\u001b[0;32m---> 23\u001b[0m \u001b[38;5;28;01mfor\u001b[39;00m central_atom_type \u001b[38;5;129;01min\u001b[39;00m \u001b[38;5;28msorted\u001b[39m(\u001b[43mlocal_environments\u001b[49m\u001b[43m[\u001b[49m\u001b[38;5;124;43m\"\u001b[39;49m\u001b[38;5;124;43mQM9\u001b[39;49m\u001b[38;5;124;43m\"\u001b[39;49m\u001b[43m]\u001b[49m):\n\u001b[1;32m     24\u001b[0m     local_environments_df \u001b[38;5;241m=\u001b[39m make_local_environments_dataframe(central_atom_type, max_unique_environments\u001b[38;5;241m=\u001b[39m\u001b[38;5;241m10\u001b[39m)\n\u001b[1;32m     26\u001b[0m     fig, ax \u001b[38;5;241m=\u001b[39m plt\u001b[38;5;241m.\u001b[39msubplots(figsize\u001b[38;5;241m=\u001b[39m(\u001b[38;5;241m12\u001b[39m, \u001b[38;5;241m5\u001b[39m))\n",
      "\u001b[0;31mKeyError\u001b[0m: 'QM9'"
     ]
    }
   ],
   "source": [
    "def make_local_environments_dataframe(central_atom_type: str, max_unique_environments: int) -> pd.DataFrame:\n",
    "    \"\"\"Make a dataframe of counts for each of QM9, Symphony and EDM.\"\"\"\n",
    "    neighbors = dict(sorted(local_environments[\"QM9\"][central_atom_type].items(), key=lambda x: x[1], reverse=True)[:max_unique_environments])\n",
    "    df = pd.DataFrame(columns=[\"model\", \"neighbors\", \"count\"])\n",
    "    for model in generated_paths:\n",
    "        df = pd.concat(\n",
    "            [\n",
    "                df,\n",
    "                pd.DataFrame.from_records(\n",
    "                    {\n",
    "                        \"model\": model,\n",
    "                        \"neighbors\": neighbor,\n",
    "                        \"count\": local_environments[model].get(central_atom_type, {}).get(neighbor, 0),\n",
    "                    }\n",
    "                    for neighbor in neighbors\n",
    "                ),\n",
    "            ],\n",
    "            ignore_index=True,\n",
    "        )\n",
    "    return df\n",
    "\n",
    "\n",
    "for central_atom_type in sorted(local_environments[\"QM9\"]):\n",
    "    local_environments_df = make_local_environments_dataframe(central_atom_type, max_unique_environments=10)\n",
    "\n",
    "    fig, ax = plt.subplots(figsize=(12, 5))\n",
    "    sns.barplot(data=local_environments_df, x=\"neighbors\", y=\"count\", hue=\"model\", width=0.5, ax=ax, palette=model_palette)\n",
    "    plt.title(f\"Local Environments of {central_atom_type}\")\n",
    "    plt.xlabel(\"Local Environment\")\n",
    "    plt.ylabel(\"Count\")\n",
    "    plt.yscale(\"log\")\n",
    "    plt.show()"
   ]
  },
  {
   "attachments": {},
   "cell_type": "markdown",
   "metadata": {},
   "source": [
    "Bispectra of local environments:"
   ]
  },
  {
   "cell_type": "code",
   "execution_count": null,
   "metadata": {},
   "outputs": [],
   "source": [
    "lmax = 4\n",
    "max_num_molecules = 1000\n",
    "\n",
    "bispectra = {}\n",
    "relative_positions = {}\n",
    "for model, molecules in valid_molecules.items():\n",
    "    model_bispectra, model_relative_positions = compute_bispectra_of_local_environments(molecules, lmax, max_num_molecules)\n",
    "    bispectra[model] = model_bispectra\n",
    "    relative_positions[model] = model_relative_positions"
   ]
  },
  {
   "cell_type": "code",
   "execution_count": null,
   "metadata": {},
   "outputs": [],
   "source": [
    "# environments = relative_positions[\"Symphony\"][('C', 'C1,H1')]\n",
    "# bispectra_for_environment = bispectra[\"Symphony\"][('C', 'C1,H1')]\n",
    "\n",
    "# sort_indices = np.lexsort(np.round(bispectra_for_environment / 0.0001).T)\n",
    "# bispectra_for_environment = bispectra_for_environment[sort_indices]\n",
    "# environments = environments[sort_indices]\n",
    "# # environments = np.take_along_axis(environments, sort_indices, axis=0)\n",
    "# # bispectra_for_environment = np.take_along_axis(bispectra_for_environment, sort_indices, axis=0)\n",
    "# plt.imshow(bispectra_for_environment, cmap=\"plasma\", aspect=\"auto\", interpolation=None, vmin=bispectra_for_environment.min(), vmax=bispectra_for_environment.max())"
   ]
  },
  {
   "cell_type": "code",
   "execution_count": null,
   "metadata": {},
   "outputs": [],
   "source": [
    "# environments_as_ase = [ase.Atoms(\n",
    "#     positions=np.concatenate([env, np.zeros((1, 3))], axis=0),\n",
    "#     symbols=['C', 'H', 'C'],\n",
    "# ) for env in environments]\n",
    "\n",
    "# plt.imshow(bispectra_for_environment[np.asarray([5, -1])],  vmin=bispectra_for_environment.min(), vmax=bispectra_for_environment.max())"
   ]
  },
  {
   "cell_type": "code",
   "execution_count": null,
   "metadata": {},
   "outputs": [],
   "source": [
    "# nv.show_ase(environments_as_ase[5], gui=True)"
   ]
  },
  {
   "cell_type": "code",
   "execution_count": null,
   "metadata": {},
   "outputs": [],
   "source": [
    "# nv.show_ase(environments_as_ase[-1], gui=True)\n",
    "# ase.io.write(\"C:C1,H1-first-environment.xyz\", environments_as_ase[0])\n",
    "# ase.io.write(\"C:C1,H1-last-environment.xyz\", environments_as_ase[-1])"
   ]
  },
  {
   "cell_type": "code",
   "execution_count": null,
   "metadata": {},
   "outputs": [],
   "source": [
    "import matplotlib.colors as mcolors\n",
    "from mpl_toolkits.axes_grid1 import make_axes_locatable\n",
    "\n",
    "\n",
    "for environment_index, (environment, _) in enumerate(list(sorted_qm9_valid_local_environments_counts.items())[:2]):\n",
    "    num_models = len(bispectra)\n",
    "    fig, axs = plt.subplots(ncols=num_models, figsize=(13, 4), sharey=True)\n",
    "\n",
    "    vmin = np.min(bispectra[\"QM9\"][environment])\n",
    "    vmax = np.max(bispectra[\"QM9\"][environment])\n",
    "    norm = mcolors.TwoSlopeNorm(vmin=vmin, vmax=vmax, vcenter=0)\n",
    "\n",
    "    for index, (model, model_bispectra) in enumerate(bispectra.items()):\n",
    "        try:\n",
    "            sort_indices = np.linalg.norm(model_bispectra[environment], axis=-1).argsort()\n",
    "            model_bispectra_for_environment = model_bispectra[environment][sort_indices]\n",
    "            mappable = axs[index].imshow(model_bispectra_for_environment, aspect='auto', cmap=\"RdBu\", interpolation=None, norm=norm)\n",
    "            axs[index].set_xlabel(model)\n",
    "            axs[index].patch.set_linewidth(2)\n",
    "            axs[index].patch.set_edgecolor('black')\n",
    "            # Show colorbar for the last model\n",
    "            if index == num_models - 1:\n",
    "                cax = fig.add_axes([.91,.11,.01,.76])\n",
    "                fig.colorbar(mappable, cax=cax)\n",
    "                \n",
    "        except KeyError:\n",
    "            pass\n",
    "\n",
    "    central_atom_type, neighbors = environment\n",
    "    fig.suptitle(f\"Central Atom Type: {central_atom_type} | Neighbors: {neighbors}\")\n",
    "    axs[0].set_ylabel(\"Local Environment #\")\n",
    "    plt.savefig(f\"../figures/iclr2024/pngs/bispectra/index={environment_index}-bispectra-{central_atom_type}-{neighbors}.png\", dpi=700, bbox_inches=\"tight\")\n",
    "    plt.show()"
   ]
  },
  {
   "attachments": {},
   "cell_type": "markdown",
   "metadata": {},
   "source": [
    "MMD (Maximum Mean Discrepancy) of Bispectra:"
   ]
  },
  {
   "cell_type": "code",
   "execution_count": null,
   "metadata": {},
   "outputs": [],
   "source": [
    "rng = jax.random.PRNGKey(0)\n",
    "batch_size = 1000\n",
    "num_batches = 10\n",
    "\n",
    "mmd_bispectra = {\n",
    "    model: compute_maximum_mean_discrepancies(bispectra[\"QM9\"], model_bispectra, rng, batch_size, num_batches)\n",
    "    for model, model_bispectra in bispectra.items()\n",
    "    if model != \"QM9\"\n",
    "}"
   ]
  },
  {
   "cell_type": "code",
   "execution_count": null,
   "metadata": {},
   "outputs": [],
   "source": [
    "qm9_local_environments_count = {environment: len(bispectra[\"QM9\"][environment]) for environment in bispectra[\"QM9\"]}\n",
    "qm9_local_environments_count = dict(sorted(qm9_local_environments_count.items(), key=lambda x: qm9_local_environments_count[x[0]], reverse=True))\n",
    "sorted_qm9_valid_local_environments_counts = {environment: count for environment, count in qm9_local_environments_count.items() if \",\" in environment[-1]}\n",
    "sorted_qm9_valid_local_environments_counts"
   ]
  },
  {
   "cell_type": "code",
   "execution_count": null,
   "metadata": {},
   "outputs": [],
   "source": [
    "# Make a dataframe for each model, indicating the bond type and the MMD.\n",
    "def environment_as_string(environment: Tuple[str, str]) -> str:\n",
    "    \"\"\"Converts an environment to a string.\"\"\"\n",
    "    return f\"{environment[0]}: {environment[1]}\"\n",
    "\n",
    "mmd_bispectra_df = pd.DataFrame(columns=[\"model\", \"environment\", \"mmd\"])\n",
    "for environment, _ in list(sorted_qm9_valid_local_environments_counts.items())[:10]:\n",
    "    for model in mmd_bispectra:\n",
    "        mmd_bispectra_df = pd.concat(\n",
    "            [\n",
    "                mmd_bispectra_df,\n",
    "                pd.DataFrame.from_records(\n",
    "                    {\"model\": model, \"environment\": [environment_as_string(environment)], \"mmd\": mmd_bispectra[model][environment]}\n",
    "                ),\n",
    "            ],\n",
    "            ignore_index=True,\n",
    "        )\n",
    "        \n",
    "mmd_bispectra_df[\"mmd\"] = mmd_bispectra_df[\"mmd\"].astype(float)"
   ]
  },
  {
   "cell_type": "code",
   "execution_count": null,
   "metadata": {},
   "outputs": [],
   "source": [
    "# Make a bar plot of the MMD values for each model, by bond_key.\n",
    "fig, ax = plt.subplots(figsize=(20, 5))\n",
    "sns.set_style(\"darkgrid\")\n",
    "sns.barplot(x=\"environment\", y=\"mmd\", hue=\"model\", data=mmd_bispectra_df, ax=ax, palette=model_palette)\n",
    "plt.xlabel(\"Environment\")\n",
    "plt.ylabel(\"Maximum Mean Discrepancy\")\n",
    "plt.yscale(\"log\")\n",
    "plt.legend(title=\"Model\", loc=\"upper left\")\n",
    "plt.title(\"Maximum Mean Discrepancy of Bispectra by Local Environment\")\n",
    "plt.show()"
   ]
  },
  {
   "attachments": {},
   "cell_type": "markdown",
   "metadata": {},
   "source": [
    "Compute all bond lengths:"
   ]
  },
  {
   "cell_type": "code",
   "execution_count": null,
   "metadata": {},
   "outputs": [],
   "source": [
    "bond_dists = {\n",
    "    model: compute_bond_lengths(molecules)\n",
    "    for model, molecules in valid_molecules.items()\n",
    "}"
   ]
  },
  {
   "attachments": {},
   "cell_type": "markdown",
   "metadata": {},
   "source": [
    "Distribution of Bond Lengths:"
   ]
  },
  {
   "cell_type": "code",
   "execution_count": null,
   "metadata": {},
   "outputs": [],
   "source": [
    "qm9_bond_counts = jax.tree_map(np.size, bond_dists[\"QM9\"])\n",
    "sorted_qm9_bond_counts = dict(sorted(\n",
    "    qm9_bond_counts.items(), key=lambda x: x[1], reverse=True\n",
    "))\n",
    "\n",
    "print(\"Bond counts in QM9:\")\n",
    "total_counts = sum(qm9_bond_counts.values())\n",
    "sum_counts_so_far = 0\n",
    "for bond_key, count in sorted_qm9_bond_counts.items():\n",
    "    sum_counts_so_far += count\n",
    "    print(f\"{bond_key }: {count} (cdf: {sum_counts_so_far / total_counts:.3f})\")"
   ]
  },
  {
   "attachments": {},
   "cell_type": "markdown",
   "metadata": {},
   "source": [
    "Maximum Mean Discrepancy of Bond Lengths:"
   ]
  },
  {
   "cell_type": "code",
   "execution_count": null,
   "metadata": {},
   "outputs": [],
   "source": [
    "rng = jax.random.PRNGKey(0)\n",
    "batch_size = 1000\n",
    "num_batches = 10\n",
    "\n",
    "mmd_bond_lengths = {\n",
    "    model: compute_maximum_mean_discrepancies(bond_dists[\"QM9\"], model_bond_dists, rng, batch_size, num_batches)\n",
    "    for model, model_bond_dists in bond_dists.items()\n",
    "    if model != \"QM9\"\n",
    "}"
   ]
  },
  {
   "cell_type": "code",
   "execution_count": null,
   "metadata": {},
   "outputs": [],
   "source": [
    "# Make a dataframe for each model, indicating the bond type and the MMD.\n",
    "def bond_key_as_string(bond_key: Tuple[int, int, int]) -> str:\n",
    "    return f\"{bond_key[0]}-{bond_key[1]}: {bond_key[2]}\"\n",
    "\n",
    "mmd_bond_lengths_df = pd.DataFrame(columns=[\"model\", \"bond_key\", \"mmd\"])\n",
    "for bond_key, _ in list(sorted_qm9_bond_counts.items())[:10]:\n",
    "    for model in mmd_bond_lengths:\n",
    "        mmd_bond_lengths_df = pd.concat(\n",
    "            [\n",
    "                mmd_bond_lengths_df,\n",
    "                pd.DataFrame.from_records(\n",
    "                    {\"model\": model, \"bond_key\": [bond_key_as_string(bond_key)], \"mmd\": mmd_bond_lengths[model].get(bond_key, 1e9)}\n",
    "                ),\n",
    "            ],\n",
    "            ignore_index=True,\n",
    "        )\n",
    "\n",
    "mmd_bond_lengths_df[\"mmd\"] = mmd_bond_lengths_df[\"mmd\"].astype(float)\n"
   ]
  },
  {
   "attachments": {},
   "cell_type": "markdown",
   "metadata": {},
   "source": [
    "We have everything we need for the tables:"
   ]
  },
  {
   "cell_type": "code",
   "execution_count": null,
   "metadata": {},
   "outputs": [],
   "source": [
    "def flatten_dict(d: Dict) -> Dict:\n",
    "    return {\n",
    "        (key, subkey): value\n",
    "        for key in d\n",
    "        for subkey, value in d[key].items()\n",
    "    }\n",
    "\n",
    "local_environments_flattened = {\n",
    "    model: flatten_dict(local_environments[model])\n",
    "    for model in local_environments\n",
    "}\n",
    "\n",
    "\n",
    "def make_jsd_df(counts, index: str) -> pd.DataFrame:\n",
    "    def normalize_sum(counts):\n",
    "        return {key: value / sum(counts.values()) for key, value in counts.items()}\n",
    "\n",
    "    jsd = {}\n",
    "    for model in counts:\n",
    "        if model == \"QM9\":\n",
    "            continue\n",
    "        jsd[model] = [compute_jensen_shannon_divergence(normalize_sum(counts[\"QM9\"]), normalize_sum(counts[model]))]\n",
    "    return pd.DataFrame.from_records(jsd, columns=[\"Symphony\", \"EDM\", \"GSchNet\", \"GSphereNet\"], index=[index])\n",
    "\n",
    "\n",
    "def reshape_mmd_bond_lengths_df(mmd_bond_lengths_df):\n",
    "    mmd_bond_lengths_df = mmd_bond_lengths_df.pivot(index=\"bond_key\", columns=\"model\", values=\"mmd\")\n",
    "    sorted_qm9_bond_counts_formatted = {bond_key_as_string(key): value for key, value in sorted_qm9_bond_counts.items()}\n",
    "    mmd_bond_lengths_df = mmd_bond_lengths_df.sort_index(ascending=False, key=lambda keys: [sorted_qm9_bond_counts_formatted[key] for key in keys])\n",
    "    mmd_bond_lengths_df = mmd_bond_lengths_df[[model for model in valid_molecules if model != \"QM9\"]]\n",
    "    return mmd_bond_lengths_df\n",
    "\n",
    "\n",
    "def reshape_mmd_bispectra_df(mmd_bispectra_df):\n",
    "    mmd_bispectra_df = mmd_bispectra_df.pivot(index=\"environment\", columns=\"model\", values=\"mmd\")\n",
    "    sorted_qm9_local_environments_formatted = {environment_as_string(key): value for key, value in sorted_qm9_valid_local_environments_counts.items()}\n",
    "    mmd_bispectra_df = mmd_bispectra_df.sort_index(ascending=False, key=lambda keys: [sorted_qm9_local_environments_formatted[key] for key in keys])\n",
    "    mmd_bispectra_df = mmd_bispectra_df[[model for model in valid_molecules if model != \"QM9\"]]\n",
    "    mmd_bispectra_df.index = mmd_bispectra_df.index.map(lambda x: f\"{x}\")\n",
    "    return mmd_bispectra_df\n",
    "\n",
    "dfs = [\n",
    "    make_jsd_df(atom_type_counts, \"JSD of Atom Type Counts\"),\n",
    "    make_jsd_df(local_environments_flattened, \"JSD of Local Environment Counts\"),\n",
    "    reshape_mmd_bond_lengths_df(mmd_bond_lengths_df),\n",
    "    reshape_mmd_bispectra_df(mmd_bispectra_df),\n",
    "]\n",
    "for df in dfs:\n",
    "    # Highlight the minimum value in each row.\n",
    "    print(format_dataframe_and_highlight_minimum(df))\n",
    "\n",
    "# print(mmd_and_jsd_df)\n",
    "# # Print the best 2 models for each metric.\n",
    "# print(mmd_and_jsd_df.apply(lambda x: x.nsmallest(2).index.tolist(), axis=1))\n",
    "# print(mmd_and_jsd_df.apply(lambda x: x.nsmallest(2).tolist(), axis=1))"
   ]
  },
  {
   "cell_type": "code",
   "execution_count": null,
   "metadata": {},
   "outputs": [],
   "source": [
    "# Make a bar plot of the MMD values for each model, by bond_key.\n",
    "fig, ax = plt.subplots(figsize=(20, 5))\n",
    "sns.set_style(\"darkgrid\")\n",
    "sns.barplot(x=\"bond_key\", y=\"mmd\", hue=\"model\", data=mmd_bond_lengths_df, ax=ax,\n",
    "            palette=model_palette)\n",
    "plt.xlabel(\"Bond Type\")\n",
    "plt.ylabel(\"Maximum Mean Discrepancy\")\n",
    "plt.yscale(\"log\")\n",
    "plt.legend(title=\"Model\", loc=\"upper left\")\n",
    "plt.title(\"Maximum Mean Discrepancy of Bond Lengths\")\n",
    "plt.show()"
   ]
  },
  {
   "cell_type": "code",
   "execution_count": null,
   "metadata": {},
   "outputs": [],
   "source": [
    "sns.set_theme(style=\"darkgrid\")\n",
    "for bond_index, (bond_key, _) in enumerate(list(sorted_qm9_bond_counts.items())[:10]):\n",
    "    num_models = len(bond_dists)\n",
    "    fig, axs = plt.subplots(nrows=1, ncols=num_models, figsize=(13, 3), sharex=True, sharey=True)\n",
    "    for index, model in enumerate(bond_dists):\n",
    "        try:\n",
    "            sns.histplot(\n",
    "                bond_dists[model][bond_key],\n",
    "                label=model,\n",
    "                stat=\"density\",\n",
    "                color=model_palette[model],\n",
    "                bins=25,\n",
    "                binrange=(0.9, 2.0),\n",
    "                ax=axs[index],\n",
    "                alpha=1,\n",
    "            )\n",
    "        except KeyError:\n",
    "            pass\n",
    "        axs[index].set_xlabel(\"Bond Length (Å)\")\n",
    "\n",
    "    atom_type_1, atom_type_2, bond_type = bond_key\n",
    "    if atom_type_1 == \"H\":\n",
    "        atom_type_1, atom_type_2 = atom_type_2, atom_type_1\n",
    "    fig.suptitle(\n",
    "        f\"Histogram of Bond Lengths for {atom_type_1}-{atom_type_2} (Bond Type {bond_type})\"\n",
    "    )\n",
    "    fig.legend(loc=\"center right\")\n",
    "    plt.savefig(f\"../figures/iclr2024/pngs/bond_lengths/index={bond_index}-bond-lengths-{atom_type_1}-{atom_type_2}-{bond_type}.png\", dpi=700, bbox_inches=\"tight\")\n",
    "    plt.show()"
   ]
  },
  {
   "cell_type": "code",
   "execution_count": null,
   "metadata": {},
   "outputs": [],
   "source": [
    "sns.set_theme(style=\"darkgrid\")\n",
    "for bond_key, _ in sorted_qm9_bond_counts.items():\n",
    "    num_models = len(bond_dists)\n",
    "    for model in generated_paths:\n",
    "        try:\n",
    "            if model == \"QM9\":\n",
    "                sns.ecdfplot(bond_dists[\"QM9\"][bond_key], label=\"QM9\", color=model_palette[model], linewidth=2.5)\n",
    "                continue\n",
    "\n",
    "            sns.ecdfplot(\n",
    "                bond_dists[model][bond_key],\n",
    "                label=model,\n",
    "                linestyle=\"--\",\n",
    "                color=model_palette[model],\n",
    "            )\n",
    "        except KeyError:\n",
    "            pass\n",
    "\n",
    "    atom_type_1, atom_type_2, bond_type = bond_key\n",
    "    plt.title(\n",
    "        f\"Empirical CDF of bond lengths for {atom_type_1}-{atom_type_2} (bond type {bond_type})\"\n",
    "    )\n",
    "    plt.legend()\n",
    "    plt.show()"
   ]
  },
  {
   "attachments": {},
   "cell_type": "markdown",
   "metadata": {},
   "source": [
    "Posebusters!"
   ]
  },
  {
   "cell_type": "code",
   "execution_count": null,
   "metadata": {},
   "outputs": [],
   "source": [
    "posebuster_results = {\n",
    "    model: get_posebusters_results(molecules)\n",
    "    for model, molecules in valid_molecules.items()\n",
    "    if model != \"QM9\"\n",
    "}"
   ]
  },
  {
   "cell_type": "code",
   "execution_count": null,
   "metadata": {},
   "outputs": [],
   "source": [
    "posebuster_results_df = pd.DataFrame(columns=[\"model\", \"test\", \"fraction_passed\"])\n",
    "for model in posebuster_results:\n",
    "    model_results_df = posebuster_results[model].mean()\n",
    "\n",
    "    # Add a column for the model.\n",
    "    posebuster_results_df = pd.concat(\n",
    "        [\n",
    "            posebuster_results_df,\n",
    "            pd.DataFrame.from_records(\n",
    "                {\"model\": model, \"test\": model_results_df.index, \"fraction_passed\": model_results_df.values}\n",
    "            ),\n",
    "        ],\n",
    "        ignore_index=True,\n",
    "    )\n",
    "\n",
    "formatted_df = posebuster_results_df.pivot(index=\"test\", columns=\"model\", values=\"fraction_passed\")[list(posebuster_results.keys())]\n",
    "# Rename index.\n",
    "def format_index(index: str) -> str:\n",
    "    index = index.replace(\"_\", \" \").title()\n",
    "    if index == \"Bond Angles\":\n",
    "        index = \"Reasonable Bond Angles\"\n",
    "    elif index == \"Bond Lengths\":\n",
    "        index = \"Reasonable Bond Lengths\"\n",
    "    if index == \"Internal Steric Clash\":\n",
    "        index = \"No Internal Steric Clash\"\n",
    "    if index == \"Internal Energy\":\n",
    "        index = \"Reasonable Internal Energy\"\n",
    "    return index\n",
    "\n",
    "formatted_df.index = [\n",
    "    format_index(index) for index in formatted_df.index\n",
    "]\n",
    "formatted_df *= 100\n",
    "print(format_dataframe_and_highlight_maximum(formatted_df))"
   ]
  },
  {
   "cell_type": "code",
   "execution_count": null,
   "metadata": {},
   "outputs": [],
   "source": [
    "# Plot each row.\n",
    "fig, ax = plt.subplots(figsize=(20, 5))\n",
    "sns.set_style(\"darkgrid\")\n",
    "sns.barplot(x=\"test\", y=\"fraction_passed\", hue=\"model\", data=posebuster_results_df, palette=model_palette, ax=ax)\n",
    "plt.xlabel(\"Test Name\")\n",
    "plt.ylabel(\"Fraction Passed\")\n",
    "plt.legend(title=\"Model\", loc=\"upper left\")\n",
    "plt.title(\"Posebusters Results\")\n",
    "plt.show()"
   ]
  },
  {
   "cell_type": "code",
   "execution_count": null,
   "metadata": {},
   "outputs": [],
   "source": [
    "# Print out the best models for each test.\n",
    "for test in posebuster_results_df[\"test\"].unique():\n",
    "    print(f\"{test}:\")\n",
    "    print(posebuster_results_df[posebuster_results_df[\"test\"] == test].sort_values(by=\"fraction_passed\", ascending=False).head(3))\n",
    "    print(\"\")"
   ]
  },
  {
   "attachments": {},
   "cell_type": "markdown",
   "metadata": {},
   "source": [
    "Lipinski Parameters:"
   ]
  },
  {
   "cell_type": "code",
   "execution_count": null,
   "metadata": {},
   "outputs": [],
   "source": [
    "def get_ring_counts(molecules: Sequence[Chem.Mol]) -> Dict[int, int]:\n",
    "    \"\"\"Get the counts of rings of each size.\"\"\"\n",
    "    counts = collections.defaultdict(int) \n",
    "    for mol in molecules:\n",
    "        for ring in Chem.GetSSSR(mol):\n",
    "            counts[len(ring)] += 1\n",
    "    return counts\n",
    "\n",
    "ring_counts = {\n",
    "    model: get_ring_counts(molecules)\n",
    "    for model, molecules in valid_molecules.items()\n",
    "}\n",
    "ring_counts\n"
   ]
  },
  {
   "cell_type": "code",
   "execution_count": null,
   "metadata": {},
   "outputs": [],
   "source": [
    "# Make a dataframe of all ring sizes.\n",
    "def make_ring_counts_df(ring_counts) -> pd.DataFrame:\n",
    "    # Normalize the counts for each model.\n",
    "    normalized_ring_counts = {\n",
    "        model: {ring: count / sum(counts.values()) for ring, count in counts.items()}\n",
    "        for model, counts in ring_counts.items()\n",
    "    }\n",
    "\n",
    "    # Union of all counts in ring_counts.\n",
    "    rings = set(key for counts in normalized_ring_counts.values() for key in counts.keys())\n",
    "    df = pd.DataFrame(columns=[\"model\", \"ring\", \"count\"])\n",
    "    for model in normalized_ring_counts:\n",
    "        df = pd.concat(\n",
    "            [\n",
    "                df,\n",
    "                pd.DataFrame.from_records(\n",
    "                    {\n",
    "                        \"model\": model,\n",
    "                        \"ring\": ring,\n",
    "                        \"count\": normalized_ring_counts[model].get(ring, 0),\n",
    "                    }\n",
    "                    for ring in rings\n",
    "                ),\n",
    "            ],\n",
    "            ignore_index=True,\n",
    "        )\n",
    "    return df\n",
    "\n",
    "ring_counts_df = make_ring_counts_df(ring_counts)\n",
    "sns.set_style(\"darkgrid\")\n",
    "fig, ax = plt.subplots(figsize=(10, 5))\n",
    "sns.barplot(data=ring_counts_df, x=\"ring\", y=\"count\", hue=\"model\", width=0.5, ax=ax, palette=model_palette)\n",
    "plt.title(\"Frequency of Ring Sizes\")\n",
    "plt.yscale(\"log\")\n",
    "plt.legend(title=\"Model\")\n",
    "plt.xlabel(\"Ring Size\")\n",
    "plt.ylabel(\"Fraction\")\n",
    "plt.savefig(\"../figures/iclr2024/pngs/ring_sizes.png\", dpi=700, bbox_inches=\"tight\")\n",
    "plt.show()"
   ]
  },
  {
   "attachments": {},
   "cell_type": "markdown",
   "metadata": {},
   "source": [
    "Some other stuff..."
   ]
  },
  {
   "cell_type": "code",
   "execution_count": null,
   "metadata": {},
   "outputs": [],
   "source": [
    "molecule_dir1 = generated_paths[\"Symphony\"]\n",
    "molecule_dir2 = generated_paths[\"Symphony (UFF relaxed)\"]\n",
    "print(compute_validity(molecule_dir1))\n",
    "print(compute_validity(molecule_dir2))\n",
    "\n",
    "validity_sum_1 = 0\n",
    "for molecule_file in os.listdir(molecule_dir1):\n",
    "    if not molecule_file.endswith(\".xyz\"):\n",
    "        continue\n",
    "    if check_molecule_validity(os.path.join(molecule_dir1, molecule_file)):\n",
    "        validity_sum_1 += 1\n",
    "        if not check_molecule_validity(os.path.join(molecule_dir2, molecule_file)):\n",
    "            print(f\"{molecule_file} is valid in {molecule_dir1} but not in {molecule_dir2}\")\n",
    "\n",
    "print(\"done\")\n",
    "validity_sum_2 = 0\n",
    "for molecule_file in os.listdir(molecule_dir2):\n",
    "    if not molecule_file.endswith(\".xyz\"):\n",
    "        continue\n",
    "    # print(molecule_file, check_molecule_validity(os.path.join(molecule_dir2, molecule_file)), check_molecule_validity(os.path.join(molecule_dir1, molecule_file)))\n",
    "    if check_molecule_validity(os.path.join(molecule_dir2, molecule_file)):\n",
    "        validity_sum_2 += 1\n",
    "        if not check_molecule_validity(os.path.join(molecule_dir1, molecule_file)):\n",
    "            print(f\"{molecule_file} is valid in {molecule_dir2} but not in {molecule_dir1}\")\n",
    "\n",
    "validity_sum_1, validity_sum_2"
   ]
  },
  {
   "attachments": {},
   "cell_type": "markdown",
   "metadata": {},
   "source": [
    "Seeing invalid molecules in QM9:"
   ]
  },
  {
   "cell_type": "code",
   "execution_count": null,
   "metadata": {},
   "outputs": [],
   "source": [
    "import ase\n",
    "import ase.io\n",
    "import ase.visualize\n",
    "\n",
    "invalid_mols = []\n",
    "for molecules_file in os.listdir(qm9_molecules_dir):\n",
    "    if not molecules_file.endswith(\".xyz\"):\n",
    "        continue\n",
    "\n",
    "    \n",
    "    molecules_file = os.path.join(qm9_molecules_dir, molecules_file)\n",
    "    if check_molecule_validity(molecules_file):\n",
    "        continue\n",
    "\n",
    "    print(f\"{molecules_file} is invalid\")\n",
    "    mol = xyz_to_rdkit_molecule(molecules_file)\n",
    "\n",
    "    mol = ase.Atoms(\n",
    "        symbols=[atom.GetSymbol() for atom in mol.GetAtoms()],\n",
    "        positions=mol.GetConformer().GetPositions(),\n",
    "    )\n",
    "    invalid_mols.append(mol)\n",
    "        "
   ]
  },
  {
   "cell_type": "code",
   "execution_count": null,
   "metadata": {},
   "outputs": [],
   "source": [
    "import nglview as nv\n",
    "v = nv.show_asetraj(invalid_mols, gui=True)\n",
    "v.add_representation(\"ball+stick\")\n",
    "v"
   ]
  },
  {
   "cell_type": "code",
   "execution_count": null,
   "metadata": {},
   "outputs": [],
   "source": [
    "suppl = Chem.SDMolSupplier('/Users/ameyad/Documents/spherical-harmonic-net/symphony/data/qm9_data/gdb9.sdf', sanitize=False, removeHs=False)\n",
    "invalid_sdf_mols = []\n",
    "for mol in suppl:\n",
    "    if mol is None:\n",
    "        continue\n",
    "\n",
    "    # Try to sanitize molecule.\n",
    "    # If we could not sanitize, then save the molecules as an ase.Atoms object.\n",
    "    try:\n",
    "        Chem.SanitizeMol(mol)\n",
    "    except ValueError:\n",
    "        mol = ase.Atoms(\n",
    "            symbols=[atom.GetSymbol() for atom in mol.GetAtoms()],\n",
    "            positions=mol.GetConformer().GetPositions(),\n",
    "        )\n",
    "        invalid_sdf_mols.append(mol)\n",
    "        continue"
   ]
  },
  {
   "cell_type": "code",
   "execution_count": null,
   "metadata": {},
   "outputs": [],
   "source": [
    "v = nv.show_asetraj(invalid_sdf_mols[:50], gui=True)\n",
    "v.add_representation(\"ball+stick\")\n",
    "v"
   ]
  },
  {
   "attachments": {},
   "cell_type": "markdown",
   "metadata": {},
   "source": [
    "# OpenBabel"
   ]
  }
 ],
 "metadata": {
  "kernelspec": {
   "display_name": ".venv",
   "language": "python",
   "name": "python3"
  },
  "language_info": {
   "codemirror_mode": {
    "name": "ipython",
    "version": 3
   },
   "file_extension": ".py",
   "mimetype": "text/x-python",
   "name": "python",
   "nbconvert_exporter": "python",
   "pygments_lexer": "ipython3",
   "version": "3.10.13"
  },
  "orig_nbformat": 4
 },
 "nbformat": 4,
 "nbformat_minor": 2
}
