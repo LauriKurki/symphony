{
 "cells": [
  {
   "cell_type": "code",
   "execution_count": null,
   "metadata": {},
   "outputs": [],
   "source": [
    "import sys\n",
    "sys.path.append('../')"
   ]
  },
  {
   "cell_type": "code",
   "execution_count": null,
   "metadata": {},
   "outputs": [],
   "source": [
    "%load_ext autoreload"
   ]
  },
  {
   "cell_type": "code",
   "execution_count": null,
   "metadata": {},
   "outputs": [],
   "source": [
    "%autoreload 2\n",
    "from analyses.metrics import *"
   ]
  },
  {
   "cell_type": "code",
   "execution_count": null,
   "metadata": {},
   "outputs": [],
   "source": [
    "generated_paths = {\n",
    "    \"QM9\": \"/Users/ameyad/Documents/spherical-harmonic-net/others/qm9_xyz\",\n",
    "    # \"Symphony_v3_132k\": \"/Users/ameyad/Documents/spherical-harmonic-net/analyses/analysed_workdirs/qm9_bessel_embedding_attempt3_radius_fixed/e3schnet_and_nequip/interactions=3/l=5/position_channels=2/channels=64/fait=1.0/pit=1.0/step=1320000/molecules\",\n",
    "    # \"Symphony_v3_330k\": \"/Users/ameyad/Documents/spherical-harmonic-net/analyses/analysed_workdirs/qm9_bessel_embedding_attempt3_radius_fixed/e3schnet_and_nequip/interactions=3/l=5/position_channels=2/channels=64/fait=1.0/pit=1.0/step=3300000/molecules\",\n",
    "    # \"Symphony_v5_132k\": \"/Users/ameyad/Documents/spherical-harmonic-net/analyses/analysed_workdirs/qm9_bessel_embedding_attempt5_lower_lr_0.05noise/e3schnet_and_nequip/interactions=3/l=5/position_channels=2/channels=64/fait=1.0/pit=1.0/step=1320000/molecules\",\n",
    "    # \"Symphony_v5_249k\": \"/Users/ameyad/Documents/spherical-harmonic-net/analyses/analysed_workdirs/qm9_bessel_embedding_attempt5_lower_lr_0.05noise/e3schnet_and_nequip/interactions=3/l=5/position_channels=2/channels=64/fait=1.0/pit=1.0/step=2490000/molecules\",\n",
    "    \"Symphony\": \"/Users/ameyad/Documents/spherical-harmonic-net/analyses/analysed_workdirs/qm9_bessel_embedding_attempt6_edm_splits/e3schnet_and_nequip/interactions=3/l=5/position_channels=2/channels=64/fait=1.0/pit=1.0/step=7530000/molecules\",\n",
    "    \"EDM\": \"/Users/ameyad/Documents/spherical-harmonic-net/others/edm-resampled/samples_edm_xyz\",\n",
    "    \"GSchNet\": \"/Users/ameyad/Documents/spherical-harmonic-net/others/gschnet-edm-retrained/molecules\",\n",
    "    \"GSphereNet\": \"/Users/ameyad/Documents/spherical-harmonic-net/others/gspherenet/molecules\",\n",
    "}"
   ]
  },
  {
   "attachments": {},
   "cell_type": "markdown",
   "metadata": {},
   "source": [
    "Corresponding molecules in OpenBabel:"
   ]
  },
  {
   "cell_type": "code",
   "execution_count": null,
   "metadata": {},
   "outputs": [],
   "source": [
    "all_generated_molecules_openbabel = {\n",
    "    model: get_all_molecules_with_openbabel(path) for model, path in generated_paths.items()\n",
    "}\n",
    "\n",
    "valid_molecules_openbabel = {\n",
    "    model: get_all_valid_molecules_with_openbabel(molecules) for model, molecules in all_generated_molecules_openbabel.items()\n",
    "}"
   ]
  },
  {
   "attachments": {},
   "cell_type": "markdown",
   "metadata": {},
   "source": [
    "Validity (OpenBabel):"
   ]
  },
  {
   "cell_type": "code",
   "execution_count": null,
   "metadata": {},
   "outputs": [],
   "source": [
    "# Make a dataframe for each model for the validity of the molecules.\n",
    "validity_openbabel_df = pd.DataFrame(columns=[\"model\", \"validity\"])\n",
    "\n",
    "for model, molecules in valid_molecules_openbabel.items():\n",
    "    validity_fraction = compute_validity(all_generated_molecules_openbabel[model], molecules)    \n",
    "    validity_openbabel_df = pd.concat(\n",
    "        [\n",
    "            validity_openbabel_df,\n",
    "            pd.DataFrame.from_records(\n",
    "                {\"model\": model, \"validity\": [validity_fraction]}\n",
    "            ),\n",
    "        ],\n",
    "        ignore_index=True,\n",
    "    )\n",
    "\n",
    "formatted_validity_df = validity_openbabel_df.transpose()\n",
    "formatted_validity_df.columns = formatted_validity_df.iloc[0]\n",
    "formatted_validity_df *= 100\n",
    "formatted_validity_df = formatted_validity_df.drop(\"model\")\n",
    "formatted_validity_df.index = [\"Validity via OpenBabel\"]\n",
    "formatted_validity_df = formatted_validity_df.astype(float)\n",
    "formatted_validity_df = formatted_validity_df.applymap(lambda x: f\"{x:.2f}\")\n",
    "print(formatted_validity_df.style.to_latex())"
   ]
  },
  {
   "cell_type": "code",
   "execution_count": null,
   "metadata": {},
   "outputs": [],
   "source": [
    "# Make a dataframe for each model for the uniqueness of the molecules.\n",
    "uniqueness_openbabel_df = pd.DataFrame(columns=[\"model\", \"uniqueness\"])\n",
    "\n",
    "for model, molecules in valid_molecules_openbabel.items():\n",
    "    uniqueness_fraction = compute_uniqueness_with_openbabel(molecules)    \n",
    "    uniqueness_openbabel_df = pd.concat(\n",
    "        [\n",
    "            uniqueness_openbabel_df,\n",
    "            pd.DataFrame.from_records(\n",
    "                {\"model\": model, \"uniqueness\": [uniqueness_fraction]}\n",
    "            ),\n",
    "        ],\n",
    "        ignore_index=True,\n",
    "    )\n",
    "\n",
    "formatted_uniqueness_df = uniqueness_openbabel_df.transpose()\n",
    "formatted_uniqueness_df.columns = formatted_uniqueness_df.iloc[0]\n",
    "formatted_uniqueness_df *= 100\n",
    "formatted_uniqueness_df = formatted_uniqueness_df.drop(\"model\")\n",
    "formatted_uniqueness_df = formatted_uniqueness_df.astype(float)\n",
    "formatted_uniqueness_df.index = [\"Uniqueness via OpenBabel\"]\n",
    "formatted_uniqueness_df = formatted_uniqueness_df.round(2)\n",
    "formatted_uniqueness_df = formatted_uniqueness_df.applymap(lambda x: f\"{x:.2f}\")\n",
    "print(formatted_uniqueness_df.style.to_latex())"
   ]
  }
 ],
 "metadata": {
  "kernelspec": {
   "display_name": "openbabel",
   "language": "python",
   "name": "python3"
  },
  "language_info": {
   "codemirror_mode": {
    "name": "ipython",
    "version": 3
   },
   "file_extension": ".py",
   "mimetype": "text/x-python",
   "name": "python",
   "nbconvert_exporter": "python",
   "pygments_lexer": "ipython3",
   "version": "3.11.5"
  },
  "orig_nbformat": 4
 },
 "nbformat": 4,
 "nbformat_minor": 2
}
