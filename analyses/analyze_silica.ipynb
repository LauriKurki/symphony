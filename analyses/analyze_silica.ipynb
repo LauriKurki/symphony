{
 "cells": [
  {
   "cell_type": "code",
   "execution_count": 2,
   "metadata": {},
   "outputs": [
    {
     "data": {
      "application/vnd.jupyter.widget-view+json": {
       "model_id": "e12bd1f8c91249218768f9333dfaecb9",
       "version_major": 2,
       "version_minor": 0
      },
      "text/plain": []
     },
     "metadata": {},
     "output_type": "display_data"
    }
   ],
   "source": [
    "import sys\n",
    "import ase\n",
    "import nglview as nv\n",
    "import numpy as np\n",
    "\n",
    "sys.path.append('../')\n"
   ]
  },
  {
   "cell_type": "code",
   "execution_count": 3,
   "metadata": {},
   "outputs": [
    {
     "name": "stderr",
     "output_type": "stream",
     "text": [
      "/Users/songk/miniconda3/envs/sh-net/lib/python3.10/site-packages/flax/struct.py:136: FutureWarning: jax.tree_util.register_keypaths is deprecated, and will be removed in a future release. Please use `register_pytree_with_keys()` instead.\n",
      "  jax.tree_util.register_keypaths(data_clz, keypaths)\n",
      "/Users/songk/miniconda3/envs/sh-net/lib/python3.10/site-packages/flax/struct.py:136: FutureWarning: jax.tree_util.register_keypaths is deprecated, and will be removed in a future release. Please use `register_pytree_with_keys()` instead.\n",
      "  jax.tree_util.register_keypaths(data_clz, keypaths)\n",
      "/Users/songk/miniconda3/envs/sh-net/lib/python3.10/site-packages/flax/struct.py:136: FutureWarning: jax.tree_util.register_keypaths is deprecated, and will be removed in a future release. Please use `register_pytree_with_keys()` instead.\n",
      "  jax.tree_util.register_keypaths(data_clz, keypaths)\n"
     ]
    }
   ],
   "source": [
    "from analyses.metrics import *"
   ]
  },
  {
   "cell_type": "code",
   "execution_count": 13,
   "metadata": {},
   "outputs": [],
   "source": [
    "generated_paths = {\n",
    "    \"Symphony\": \"/Users/songk/atomicarchitects/generated_mols_200k_steps/\",\n",
    "    # silica-allegro-200k-train-steps-all-nov17\n",
    "}"
   ]
  },
  {
   "cell_type": "code",
   "execution_count": 14,
   "metadata": {},
   "outputs": [],
   "source": [
    "def get_all_molecules(molecules_dir: str) -> List[Chem.Mol]:\n",
    "    \"\"\"Returns all molecules in a directory.\"\"\"\n",
    "    molecules = []\n",
    "    for molecules_file in [f for f in os.listdir(molecules_dir) if f.endswith(\".xyz\")]:\n",
    "    # for molecules_file in sorted([f for f in os.listdir(molecules_dir) if f.endswith(\".xyz\")], key=key_fn):\n",
    "        if not molecules_file.endswith(\".xyz\"):\n",
    "            continue\n",
    "\n",
    "        molecules_file = os.path.join(molecules_dir, molecules_file)\n",
    "        mol = xyz_to_rdkit_molecule(molecules_file)\n",
    "        molecules.append(mol)\n",
    "\n",
    "    return molecules\n",
    "\n",
    "\n",
    "all_generated_molecules = {\n",
    "    model: get_all_molecules(molecules_dir) for model, molecules_dir in generated_paths.items()\n",
    "}"
   ]
  },
  {
   "cell_type": "code",
   "execution_count": 15,
   "metadata": {},
   "outputs": [
    {
     "data": {
      "text/plain": [
       "{'Symphony': [<rdkit.Chem.rdchem.Mol at 0x2caacae80>,\n",
       "  <rdkit.Chem.rdchem.Mol at 0x2caacaf20>,\n",
       "  <rdkit.Chem.rdchem.Mol at 0x2caacafc0>,\n",
       "  <rdkit.Chem.rdchem.Mol at 0x2caacb060>,\n",
       "  <rdkit.Chem.rdchem.Mol at 0x2caacb100>,\n",
       "  <rdkit.Chem.rdchem.Mol at 0x2caacb150>,\n",
       "  <rdkit.Chem.rdchem.Mol at 0x2caacb1a0>,\n",
       "  <rdkit.Chem.rdchem.Mol at 0x2caacb1f0>,\n",
       "  <rdkit.Chem.rdchem.Mol at 0x2caacb240>,\n",
       "  <rdkit.Chem.rdchem.Mol at 0x2caacb290>,\n",
       "  <rdkit.Chem.rdchem.Mol at 0x2caacb2e0>,\n",
       "  <rdkit.Chem.rdchem.Mol at 0x2caacb330>,\n",
       "  <rdkit.Chem.rdchem.Mol at 0x2caacb380>,\n",
       "  <rdkit.Chem.rdchem.Mol at 0x2caacb3d0>,\n",
       "  <rdkit.Chem.rdchem.Mol at 0x2caacb420>,\n",
       "  <rdkit.Chem.rdchem.Mol at 0x2caacb470>,\n",
       "  <rdkit.Chem.rdchem.Mol at 0x2caacb4c0>,\n",
       "  <rdkit.Chem.rdchem.Mol at 0x2caacb510>,\n",
       "  <rdkit.Chem.rdchem.Mol at 0x2caacb560>,\n",
       "  <rdkit.Chem.rdchem.Mol at 0x2caacb5b0>,\n",
       "  <rdkit.Chem.rdchem.Mol at 0x2caacb600>,\n",
       "  <rdkit.Chem.rdchem.Mol at 0x2caacb650>,\n",
       "  <rdkit.Chem.rdchem.Mol at 0x2caacb6a0>,\n",
       "  <rdkit.Chem.rdchem.Mol at 0x2caacb6f0>,\n",
       "  <rdkit.Chem.rdchem.Mol at 0x2caacb740>,\n",
       "  <rdkit.Chem.rdchem.Mol at 0x2caacb790>,\n",
       "  <rdkit.Chem.rdchem.Mol at 0x2caacb7e0>,\n",
       "  <rdkit.Chem.rdchem.Mol at 0x2caacb830>,\n",
       "  <rdkit.Chem.rdchem.Mol at 0x2caacb880>,\n",
       "  <rdkit.Chem.rdchem.Mol at 0x2caacb8d0>,\n",
       "  <rdkit.Chem.rdchem.Mol at 0x2caacb920>,\n",
       "  <rdkit.Chem.rdchem.Mol at 0x2caacb970>,\n",
       "  <rdkit.Chem.rdchem.Mol at 0x2caacb9c0>,\n",
       "  <rdkit.Chem.rdchem.Mol at 0x2caacba60>,\n",
       "  <rdkit.Chem.rdchem.Mol at 0x2caacba10>,\n",
       "  <rdkit.Chem.rdchem.Mol at 0x2caacbab0>,\n",
       "  <rdkit.Chem.rdchem.Mol at 0x2caacbb00>,\n",
       "  <rdkit.Chem.rdchem.Mol at 0x2caacbbf0>,\n",
       "  <rdkit.Chem.rdchem.Mol at 0x2caacbb50>,\n",
       "  <rdkit.Chem.rdchem.Mol at 0x2caacbba0>,\n",
       "  <rdkit.Chem.rdchem.Mol at 0x2caacbc40>,\n",
       "  <rdkit.Chem.rdchem.Mol at 0x2caacbc90>,\n",
       "  <rdkit.Chem.rdchem.Mol at 0x2caacbce0>,\n",
       "  <rdkit.Chem.rdchem.Mol at 0x2caacbd30>,\n",
       "  <rdkit.Chem.rdchem.Mol at 0x2caacbd80>,\n",
       "  <rdkit.Chem.rdchem.Mol at 0x2caacbdd0>,\n",
       "  <rdkit.Chem.rdchem.Mol at 0x2caacbe20>,\n",
       "  <rdkit.Chem.rdchem.Mol at 0x2caacbe70>,\n",
       "  <rdkit.Chem.rdchem.Mol at 0x2caacbec0>,\n",
       "  <rdkit.Chem.rdchem.Mol at 0x2caacbf10>,\n",
       "  <rdkit.Chem.rdchem.Mol at 0x2caacbf60>,\n",
       "  <rdkit.Chem.rdchem.Mol at 0x2caacbfb0>,\n",
       "  <rdkit.Chem.rdchem.Mol at 0x2caadc090>,\n",
       "  <rdkit.Chem.rdchem.Mol at 0x2caadc040>,\n",
       "  <rdkit.Chem.rdchem.Mol at 0x2caadc0e0>,\n",
       "  <rdkit.Chem.rdchem.Mol at 0x2caadc270>,\n",
       "  <rdkit.Chem.rdchem.Mol at 0x2caadc220>,\n",
       "  <rdkit.Chem.rdchem.Mol at 0x2caadc2c0>,\n",
       "  <rdkit.Chem.rdchem.Mol at 0x2caadc310>,\n",
       "  <rdkit.Chem.rdchem.Mol at 0x2caadc360>,\n",
       "  <rdkit.Chem.rdchem.Mol at 0x2caadc3b0>,\n",
       "  <rdkit.Chem.rdchem.Mol at 0x2caadc400>,\n",
       "  <rdkit.Chem.rdchem.Mol at 0x2caadc450>,\n",
       "  <rdkit.Chem.rdchem.Mol at 0x2caadc4a0>,\n",
       "  <rdkit.Chem.rdchem.Mol at 0x2caadc590>,\n",
       "  <rdkit.Chem.rdchem.Mol at 0x2caadc4f0>,\n",
       "  <rdkit.Chem.rdchem.Mol at 0x2caadc720>,\n",
       "  <rdkit.Chem.rdchem.Mol at 0x2caadc680>,\n",
       "  <rdkit.Chem.rdchem.Mol at 0x2caadc6d0>,\n",
       "  <rdkit.Chem.rdchem.Mol at 0x2caadc770>,\n",
       "  <rdkit.Chem.rdchem.Mol at 0x2caadc7c0>,\n",
       "  <rdkit.Chem.rdchem.Mol at 0x2caadc810>,\n",
       "  <rdkit.Chem.rdchem.Mol at 0x2caadc860>,\n",
       "  <rdkit.Chem.rdchem.Mol at 0x2caadc8b0>,\n",
       "  <rdkit.Chem.rdchem.Mol at 0x2caadc900>,\n",
       "  <rdkit.Chem.rdchem.Mol at 0x2caadc9a0>,\n",
       "  <rdkit.Chem.rdchem.Mol at 0x2caadcae0>,\n",
       "  <rdkit.Chem.rdchem.Mol at 0x2caadca40>,\n",
       "  <rdkit.Chem.rdchem.Mol at 0x2caadca90>,\n",
       "  <rdkit.Chem.rdchem.Mol at 0x2caadcb80>,\n",
       "  <rdkit.Chem.rdchem.Mol at 0x2caadcbd0>,\n",
       "  <rdkit.Chem.rdchem.Mol at 0x2caadcb30>,\n",
       "  <rdkit.Chem.rdchem.Mol at 0x2caadcc20>,\n",
       "  <rdkit.Chem.rdchem.Mol at 0x2caadcc70>,\n",
       "  <rdkit.Chem.rdchem.Mol at 0x2caadccc0>,\n",
       "  <rdkit.Chem.rdchem.Mol at 0x2caadcd10>,\n",
       "  <rdkit.Chem.rdchem.Mol at 0x2caadcd60>,\n",
       "  <rdkit.Chem.rdchem.Mol at 0x2caadcdb0>,\n",
       "  <rdkit.Chem.rdchem.Mol at 0x2caadce00>,\n",
       "  <rdkit.Chem.rdchem.Mol at 0x2caadcf40>,\n",
       "  <rdkit.Chem.rdchem.Mol at 0x2caadd0d0>,\n",
       "  <rdkit.Chem.rdchem.Mol at 0x2caadd080>,\n",
       "  <rdkit.Chem.rdchem.Mol at 0x2caadd030>,\n",
       "  <rdkit.Chem.rdchem.Mol at 0x2caadd120>,\n",
       "  <rdkit.Chem.rdchem.Mol at 0x2caadd170>,\n",
       "  <rdkit.Chem.rdchem.Mol at 0x2caadd1c0>,\n",
       "  <rdkit.Chem.rdchem.Mol at 0x2caadd210>,\n",
       "  <rdkit.Chem.rdchem.Mol at 0x2caadd260>,\n",
       "  <rdkit.Chem.rdchem.Mol at 0x2caadd2b0>,\n",
       "  <rdkit.Chem.rdchem.Mol at 0x2caadd300>,\n",
       "  <rdkit.Chem.rdchem.Mol at 0x2caadd350>,\n",
       "  <rdkit.Chem.rdchem.Mol at 0x2caadd3a0>,\n",
       "  <rdkit.Chem.rdchem.Mol at 0x2caadd3f0>,\n",
       "  <rdkit.Chem.rdchem.Mol at 0x2caadd440>,\n",
       "  <rdkit.Chem.rdchem.Mol at 0x2caadd490>,\n",
       "  <rdkit.Chem.rdchem.Mol at 0x2caadd4e0>,\n",
       "  <rdkit.Chem.rdchem.Mol at 0x2caadd530>,\n",
       "  <rdkit.Chem.rdchem.Mol at 0x2caadd580>,\n",
       "  <rdkit.Chem.rdchem.Mol at 0x2caadd5d0>,\n",
       "  <rdkit.Chem.rdchem.Mol at 0x2caadd620>,\n",
       "  <rdkit.Chem.rdchem.Mol at 0x2caadd670>,\n",
       "  <rdkit.Chem.rdchem.Mol at 0x2caadd6c0>,\n",
       "  <rdkit.Chem.rdchem.Mol at 0x2caadd710>,\n",
       "  <rdkit.Chem.rdchem.Mol at 0x2caadd760>,\n",
       "  <rdkit.Chem.rdchem.Mol at 0x2caadd7b0>,\n",
       "  <rdkit.Chem.rdchem.Mol at 0x2caadd800>,\n",
       "  <rdkit.Chem.rdchem.Mol at 0x2caadd850>,\n",
       "  <rdkit.Chem.rdchem.Mol at 0x2caadd8a0>,\n",
       "  <rdkit.Chem.rdchem.Mol at 0x2caadd8f0>,\n",
       "  <rdkit.Chem.rdchem.Mol at 0x2caadd940>,\n",
       "  <rdkit.Chem.rdchem.Mol at 0x2caadd990>,\n",
       "  <rdkit.Chem.rdchem.Mol at 0x2caadd9e0>,\n",
       "  <rdkit.Chem.rdchem.Mol at 0x2caadda30>,\n",
       "  <rdkit.Chem.rdchem.Mol at 0x2caadda80>,\n",
       "  <rdkit.Chem.rdchem.Mol at 0x2caaddad0>,\n",
       "  <rdkit.Chem.rdchem.Mol at 0x2caaddb20>,\n",
       "  <rdkit.Chem.rdchem.Mol at 0x2caaddb70>,\n",
       "  <rdkit.Chem.rdchem.Mol at 0x2caaddbc0>]}"
      ]
     },
     "execution_count": 15,
     "metadata": {},
     "output_type": "execute_result"
    }
   ],
   "source": [
    "all_generated_molecules"
   ]
  },
  {
   "cell_type": "code",
   "execution_count": 16,
   "metadata": {},
   "outputs": [
    {
     "name": "stdout",
     "output_type": "stream",
     "text": [
      "Symphony: 1.56\n"
     ]
    }
   ],
   "source": [
    "for model, generated_molecules in all_generated_molecules.items():\n",
    "    validity_fraction = compute_validity(generated_molecules, get_all_valid_molecules(generated_molecules))\n",
    "    print(f\"{model}: {100 * validity_fraction:0.2f}\")"
   ]
  },
  {
   "cell_type": "code",
   "execution_count": 99,
   "metadata": {},
   "outputs": [
    {
     "data": {
      "text/plain": [
       "<rdkit.Chem.rdchem.Mol at 0x17db2f3d0>"
      ]
     },
     "execution_count": 99,
     "metadata": {},
     "output_type": "execute_result"
    }
   ],
   "source": [
    "all_generated_molecules[\"Symphony (train)\"][0]"
   ]
  },
  {
   "cell_type": "code",
   "execution_count": 100,
   "metadata": {},
   "outputs": [
    {
     "name": "stdout",
     "output_type": "stream",
     "text": [
      "<rdkit.Chem.rdchem.Mol object at 0x336685df0> Atoms(symbols='C3FN2OCNH3', pbc=False)\n"
     ]
    },
    {
     "data": {
      "application/vnd.jupyter.widget-view+json": {
       "model_id": "1d3d7c6c65114cd7b9c83cb779d34905",
       "version_major": 2,
       "version_minor": 0
      },
      "text/plain": [
       "NGLWidget()"
      ]
     },
     "metadata": {},
     "output_type": "display_data"
    }
   ],
   "source": [
    "generated_molecules_with_H_removed = []\n",
    "true_molecules_with_H_removed = []\n",
    "for generated_molecule, true_molecule, H_removed in zip(all_generated_molecules[\"Symphony (train)\"], train_mol_list, train_H_removed):\n",
    "    if H_removed:\n",
    "        generated_molecules_with_H_removed.append(generated_molecule)\n",
    "        true_molecules_with_H_removed.append(true_molecule)\n",
    "\n",
    "print(generated_molecules_with_H_removed[0], true_molecules_with_H_removed[0])\n",
    "ase_mols = [\n",
    "    ase.Atoms(\n",
    "        symbols=[atom.GetSymbol() for atom in generated_molecules_with_H_removed[0].GetAtoms()],\n",
    "        positions=generated_molecules_with_H_removed[0].GetConformer().GetPositions(),\n",
    "    ),\n",
    "    true_molecules_with_H_removed[0]]\n",
    "\n",
    "nv.show_ase(ase_mols[0])\n"
   ]
  },
  {
   "cell_type": "code",
   "execution_count": 101,
   "metadata": {},
   "outputs": [
    {
     "data": {
      "application/vnd.jupyter.widget-view+json": {
       "model_id": "cedf034ad0fc4f4ca7ee6ae164d552b1",
       "version_major": 2,
       "version_minor": 0
      },
      "text/plain": [
       "NGLWidget()"
      ]
     },
     "metadata": {},
     "output_type": "display_data"
    }
   ],
   "source": [
    "nv.show_ase(ase_mols[1])"
   ]
  },
  {
   "cell_type": "code",
   "execution_count": 57,
   "metadata": {},
   "outputs": [],
   "source": [
    "invalid_molecules_symphony = [mol for mol in all_generated_molecules[\"Symphony (train)\"][:100] if not check_molecule_validity(mol)]\n",
    "invalid_molecules_gschnet = [mol for mol in all_generated_molecules[\"GSchNet (train)\"][:100] if not check_molecule_validity(mol)]"
   ]
  },
  {
   "cell_type": "code",
   "execution_count": 58,
   "metadata": {},
   "outputs": [
    {
     "data": {
      "application/vnd.jupyter.widget-view+json": {
       "model_id": "3488f42ebe3142f6b63a415e2a16bd80",
       "version_major": 2,
       "version_minor": 0
      },
      "text/plain": [
       "NGLWidget()"
      ]
     },
     "metadata": {},
     "output_type": "display_data"
    },
    {
     "data": {
      "application/vnd.jupyter.widget-view+json": {
       "model_id": "a8908567076f4ba4949795b829f01c06",
       "version_major": 2,
       "version_minor": 0
      },
      "text/plain": [
       "Tab(children=(Box(children=(Box(children=(Box(children=(Label(value='step'), IntSlider(value=1, min=-100)), la…"
      ]
     },
     "metadata": {},
     "output_type": "display_data"
    }
   ],
   "source": [
    "invalid_molecules_ase = [\n",
    "    ase.Atoms(\n",
    "        symbols=[atom.GetSymbol() for atom in mol.GetAtoms()],\n",
    "        positions=mol.GetConformer().GetPositions(),\n",
    "    )\n",
    "    for mol in invalid_molecules_symphony\n",
    "]\n",
    "nv.show_ase(invalid_molecules_ase[2], gui=True)        "
   ]
  }
 ],
 "metadata": {
  "kernelspec": {
   "display_name": ".venv",
   "language": "python",
   "name": "python3"
  },
  "language_info": {
   "codemirror_mode": {
    "name": "ipython",
    "version": 3
   },
   "file_extension": ".py",
   "mimetype": "text/x-python",
   "name": "python",
   "nbconvert_exporter": "python",
   "pygments_lexer": "ipython3",
   "version": "3.10.0"
  },
  "orig_nbformat": 4
 },
 "nbformat": 4,
 "nbformat_minor": 2
}
